{
  "cells": [
    {
      "metadata": {
        "collapsed": true,
        "trusted": false
      },
      "cell_type": "markdown",
      "source": "# ASI Hunting - SecurityEvent Template"
    },
    {
      "metadata": {},
      "cell_type": "markdown",
      "source": "We would like to guide you though your threat hunting efforts:\n    1. Prepare the shell;\n    2. Enter values;\n    3. Execute queries;\n    4. Analyze data.\n"
    },
    {
      "metadata": {},
      "cell_type": "markdown",
      "source": "## 0. Retrieve Log Analytics Information"
    },
    {
      "metadata": {
        "trusted": true
      },
      "cell_type": "code",
      "source": "path = %env PATH\ndsvm = False\nif '/dsvm/' in path:\n    dsvm = True\n    \nif dsvm == False:\n    # Run this if you are using Free Compute\n    from utils import config_reader as mod\n    workspace_id = mod.read_config_values(\"config.json\")[3]\n    tenant_id = mod.read_config_values(\"config.json\")[0]\n\n    ######################################################################\n    your_workspace_name = mod.read_config_values(\"config.json\")[4]\n    print(\"Your Log Analytic Workspace: \" + your_workspace_name)\n    ######################################################################\nelse:\n    # Run this if you are using DSVM.  You need to copy the values from /config.json\n    workspace_id = input()\n    workspace_name = input()\n    tenant_id = input()",
      "execution_count": null,
      "outputs": []
    },
    {
      "metadata": {},
      "cell_type": "markdown",
      "source": "## 1. Install KQL Magic for Log Analytics"
    },
    {
      "metadata": {
        "trusted": true,
        "scrolled": true
      },
      "cell_type": "code",
      "source": "# run once unless upgrade\n!pip install Kqlmagic --upgrade",
      "execution_count": null,
      "outputs": []
    },
    {
      "metadata": {
        "trusted": true,
        "scrolled": true
      },
      "cell_type": "code",
      "source": "%reload_ext Kqlmagic",
      "execution_count": null,
      "outputs": []
    },
    {
      "metadata": {},
      "cell_type": "markdown",
      "source": "If you need any help for kql magic     --> %kql --help \"help\" -popup_window\nIf you need any help for Log Analytics --> %kql --help \"LogAnalytics\""
    },
    {
      "metadata": {},
      "cell_type": "markdown",
      "source": "## 2. Log into Log Analytics"
    },
    {
      "metadata": {
        "trusted": true
      },
      "cell_type": "code",
      "source": "%kql loganalytics://code;workspace=workspace_id;tenant=tenant_id;alias=\"asidb\"",
      "execution_count": null,
      "outputs": []
    },
    {
      "metadata": {},
      "cell_type": "markdown",
      "source": "## 3. Filter Data"
    },
    {
      "metadata": {},
      "cell_type": "markdown",
      "source": "1. Enter How many days looking back"
    },
    {
      "metadata": {
        "trusted": true
      },
      "cell_type": "code",
      "source": "enteredDaysBack = input()",
      "execution_count": null,
      "outputs": []
    },
    {
      "metadata": {},
      "cell_type": "markdown",
      "source": "2. Select one data source that you want to work on"
    },
    {
      "metadata": {
        "trusted": true,
        "scrolled": true
      },
      "cell_type": "code",
      "source": "import ipywidgets as widgets\nfrom IPython.display import display\nfrom IPython.display import HTML\ndbSchema = %kql --schema \"asidb@loganalytics\"\ntables = list(dbSchema.keys())\nselectedTable = widgets.Dropdown(options=tables, value=tables[24],description='Data Table:')\ndisplay(selectedTable)",
      "execution_count": null,
      "outputs": []
    },
    {
      "metadata": {},
      "cell_type": "markdown",
      "source": "3. Select features"
    },
    {
      "metadata": {
        "trusted": true
      },
      "cell_type": "code",
      "source": "columns = list(dbSchema[selectedTable.value])\ncolumns.sort()\nselectedFeatures = widgets.SelectMultiple(options=columns, value=[],description='Data Columns:')\ndisplay(selectedFeatures)",
      "execution_count": null,
      "outputs": []
    },
    {
      "metadata": {
        "trusted": true
      },
      "cell_type": "code",
      "source": "print(selectedFeatures.value)",
      "execution_count": null,
      "outputs": []
    },
    {
      "metadata": {},
      "cell_type": "markdown",
      "source": "4. Pick values for selected features"
    },
    {
      "metadata": {
        "trusted": true
      },
      "cell_type": "code",
      "source": "%kql {selectedTable.value} | where TimeGenerated >= ago({enteredDaysBack}d) | take 100\nif len(_kql_raw_result_) > 0:\n    df = _kql_raw_result_.to_dataframe()\nelse:\n    df = None\n    print('no data')",
      "execution_count": null,
      "outputs": []
    },
    {
      "metadata": {
        "trusted": true
      },
      "cell_type": "code",
      "source": "def select_filter_value(df, column):\n    df.columns = df.columns.str.strip()\n    columnData = df[column].drop_duplicates().sort_values()\n    selectedType = widgets.Dropdown(options=columnData, description=column)\n    display(selectedType)\n    return selectedType.value",
      "execution_count": null,
      "outputs": []
    },
    {
      "metadata": {
        "trusted": true
      },
      "cell_type": "code",
      "source": "selectedPairs = {}\nfor index, column in enumerate(selectedFeatures.value):\n    print(df[column].drop_duplicates().sort_values())\n    print(selectedFeatures.value[index] + \": \")\n    selectedPairs[selectedFeatures.value[index]] = input()",
      "execution_count": null,
      "outputs": []
    },
    {
      "metadata": {
        "trusted": true
      },
      "cell_type": "code",
      "source": "whereClause = \"\"\nfor index, column in enumerate(selectedFeatures.value):\n    whereClause += \" | where \" + selectedFeatures.value[index] + \" contains '\" + selectedPairs[selectedFeatures.value[index]].strip() + \"'\"\n\nprint(whereClause)",
      "execution_count": null,
      "outputs": []
    },
    {
      "metadata": {},
      "cell_type": "markdown",
      "source": "## 4. KQL operations, results are returned in Pandas DataFrame"
    },
    {
      "metadata": {
        "trusted": true
      },
      "cell_type": "code",
      "source": "%kql {selectedTable.value} | where TimeGenerated >= ago({enteredDaysBack}d) {whereClause} | take 100\nif len(_kql_raw_result_) > 0:\n    df = _kql_raw_result_.to_dataframe()\nelse:\n    df = None\n    print('no data')",
      "execution_count": null,
      "outputs": []
    },
    {
      "metadata": {},
      "cell_type": "markdown",
      "source": "## 5. Data Analysis"
    },
    {
      "metadata": {
        "trusted": true
      },
      "cell_type": "code",
      "source": "if df is not None:\n    dfMachine = df.groupby(['AccountType', 'Computer'])['AccountType'].count()\n    dfMachine.plot(kind='bar',x='AccountType')",
      "execution_count": null,
      "outputs": []
    },
    {
      "metadata": {
        "trusted": true
      },
      "cell_type": "code",
      "source": "df",
      "execution_count": null,
      "outputs": []
    },
    {
      "metadata": {
        "trusted": true
      },
      "cell_type": "code",
      "source": "",
      "execution_count": null,
      "outputs": []
    }
  ],
  "metadata": {
    "kernelspec": {
      "name": "python36",
      "display_name": "Python 3.6",
      "language": "python"
    },
    "language_info": {
      "pygments_lexer": "ipython3",
      "name": "python",
      "file_extension": ".py",
      "codemirror_mode": {
        "name": "ipython",
        "version": 3
      },
      "nbconvert_exporter": "python",
      "mimetype": "text/x-python",
      "version": "3.6.7"
    }
  },
  "nbformat": 4,
  "nbformat_minor": 2
}