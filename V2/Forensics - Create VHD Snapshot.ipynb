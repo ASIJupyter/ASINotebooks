{
  "cells": [
    {
      "metadata": {},
      "cell_type": "markdown",
      "source": "# Forensics - Create VHD Snapshot\n\n__Notebook Version:__ 1.0<br>\n__Python Version:__ Python 3.6 (including Python 3.6 - AzureML)<br>\n__Required Packages:__ azure 4.0.0, azure-cli-profile 2.1.4<br>\n__OS Supported:__<br>\n    -  Linux\n    -  Windows\n__Platforms Supported:__<br>\n    -  Azure Notebooks Free Compute\n    -  Azure Notebooks DSVM\n__Data Source Required:__<br>\n    -  no\n    \n### Description\nThe notebook provides sample code to create Azure IaaS virtual machine snapshots for managed disks.\n\n<font color=red>When you switch between Azure Notebooks Free Compute and Data Science Virtual Machine (DSVM), you may need to select Python version: please select Python 3.6 for Free Compute, and Python 3.6 - AzureML for DSVM.</font>"
    },
    {
      "metadata": {},
      "cell_type": "markdown",
      "source": "## Prerequisite check"
    },
    {
      "metadata": {
        "trusted": true
      },
      "cell_type": "code",
      "source": "# only run once, current version 0.1.8\n#!pip install --upgrade Sentinel-Utilities",
      "execution_count": null,
      "outputs": []
    },
    {
      "metadata": {
        "trusted": true
      },
      "cell_type": "code",
      "source": "import SentinelUtils\n# checking Python version\ncheck = SentinelUtils.version_management.ModuleVersionCheck()\npy_check = check.validate_python('3.6.0')\nif py_check.requirement_met == False:\n    print('Please select Python 3.6 or Python 3.6 - AzureML at the upper right corner')\nelse:\n    print('Please continue')",
      "execution_count": null,
      "outputs": []
    },
    {
      "metadata": {
        "trusted": true
      },
      "cell_type": "code",
      "source": "# checking required packages\nmods_check = check.validate_installed_modules(['azure>=4.0.0', 'azure-cli-profile>=2.1.4'])\nfor mod_info in mods_check:\n    if mod_info.requirement_met == False:\n        print('Please install {} {} at the following cell.'.format(mod_info.name, mod_info.required_version))",
      "execution_count": null,
      "outputs": []
    },
    {
      "metadata": {
        "trusted": true
      },
      "cell_type": "code",
      "source": "# Please install required packages based on the check at last cell\n#!pip install azure",
      "execution_count": null,
      "outputs": []
    },
    {
      "metadata": {
        "trusted": true
      },
      "cell_type": "code",
      "source": "# this is needed only if you are going to use Device authentication\n#!pip install azure-cli-profile",
      "execution_count": null,
      "outputs": []
    },
    {
      "metadata": {},
      "cell_type": "markdown",
      "source": "## Table of Contents\n\n1. Authentication to Azure Resource Management \n2. Create Snapshot and Generate SAS URL"
    },
    {
      "metadata": {},
      "cell_type": "markdown",
      "source": "## 1. Authentication to Azure Resource Management"
    },
    {
      "metadata": {},
      "cell_type": "markdown",
      "source": "1. Select Authentication Methods<br>\nIf multi-factors authentication is enabled for your tenant, you must use either Device or Service Principal to authentication to Azure resource management."
    },
    {
      "metadata": {
        "trusted": true
      },
      "cell_type": "code",
      "source": "from azure.mgmt.compute import ComputeManagementClient\nimport SentinelAzure\n# select an auth method, Device is for tenants that has MFA enabled\nimport ipywidgets as widgets\nfrom IPython.display import display\nauth_method = ['Device', 'Service Principal', 'User ID/Password']\nselected_auth = widgets.Dropdown(options=auth_method, value=auth_method[0],description='Auth Method:')\ndisplay(selected_auth)",
      "execution_count": null,
      "outputs": []
    },
    {
      "metadata": {},
      "cell_type": "markdown",
      "source": "2. User Input and Save to Environmental store"
    },
    {
      "metadata": {
        "trusted": true
      },
      "cell_type": "code",
      "source": "import os\n# Set to True if you prefer to reset the values\nreset_environment_valiables = False\nenv_dir = %env\n\nif reset_environment_valiables == False and 'SUBSCRIPTION_ID' in env_dir:\n    subscription_id = env_dir['SUBSCRIPTION_ID']\n    print('subscription_id=' + subscription_id)\nelse:\n    subscription_id = input('subscription_id:')\n    os.environ['SUBSCRIPTION_ID'] = subscription_id\n    \nif reset_environment_valiables == False and 'RESOURCE_GROUP' in env_dir:\n    resource_group = env_dir['RESOURCE_GROUP']\n    print('resource_group=' + resource_group)\nelse:\n    resource_group = input('resource_group:')\n    os.environ['RESOURCE_GROUP'] = resource_group",
      "execution_count": null,
      "outputs": []
    },
    {
      "metadata": {},
      "cell_type": "markdown",
      "source": "3. Authentication"
    },
    {
      "metadata": {
        "trusted": true
      },
      "cell_type": "code",
      "source": "auth = SentinelAzure.azure_aad_helper.AADHelper()\nif selected_auth.value == 'Device':\n    from azure.common.client_factory import get_client_from_cli_profile\n    # please enter your tenant domain below, for Microsoft, using: microsoft.onmicrosoft.com\n    !az login --tenant ''\n    compute_client = get_client_from_cli_profile(ComputeManagementClient, subscription_id = subscription_id)\nelif selected_auth.value == 'Service Principal':\n    client_id=input('client_id:')\n    secret=input('secret:')\n    tenant_id = input('tenant_id:')\n    compute_client, network_client, resource_client, storage_client = auth.authenticate('Service Principal', **{'client_id': client_id, 'secret' : secret, 'tenant_id' : tenant_id, 'subscription_id' : subscription_id})\nelse:\n    from azure.common.credentials import UserPassCredentials\n    import getpass\n    uid = input('User ID:')\n    pwd = getpass.getpass()\n    compute_client, network_client, resource_client, storage_client = auth.authenticate('User ID Password', **{'user_id': uid, 'password' : pwd, 'subscription_id' : subscription_id})\n\ncompute = SentinelAzure.azure_compute_helper.ComputeHelper(compute_client, resource_group)",
      "execution_count": null,
      "outputs": []
    },
    {
      "metadata": {},
      "cell_type": "markdown",
      "source": "## 2. Create Snapshot and Generate SAS URL"
    },
    {
      "metadata": {},
      "cell_type": "markdown",
      "source": "1. Select a VM"
    },
    {
      "metadata": {
        "trusted": true
      },
      "cell_type": "code",
      "source": "# Select a VM\nimport ipywidgets as widgets\nfrom IPython.display import display\nvm_names = sorted(list(vm.name for vm in list(compute_client.virtual_machines.list_all())))\nselected_vm = widgets.Dropdown(options=vm_names, value=vm_names[0],description='VM:')\ndisplay(selected_vm)",
      "execution_count": null,
      "outputs": []
    },
    {
      "metadata": {
        "trusted": true
      },
      "cell_type": "code",
      "source": "# User input, you may modify the default values\nsnapshot_name = selected_vm.value + 'snapshot'\nsnapshop_life_in_seconds = 3600",
      "execution_count": null,
      "outputs": []
    },
    {
      "metadata": {},
      "cell_type": "markdown",
      "source": "2. Get a Managed Disk"
    },
    {
      "metadata": {
        "trusted": true
      },
      "cell_type": "code",
      "source": "disk_list = compute.get_vm_disk_names(selected_vm.value)\nselected_disk = widgets.Dropdown(options=disk_list, value=disk_list[0],description='Disk:')\ndisplay(selected_disk)",
      "execution_count": null,
      "outputs": []
    },
    {
      "metadata": {
        "trusted": true
      },
      "cell_type": "markdown",
      "source": "3. Create Snapshot and Generate SAS URL"
    },
    {
      "metadata": {
        "trusted": true
      },
      "cell_type": "code",
      "source": "snapshot = compute.create_snapshot_async(**{'snapshot_name' : snapshot_name, 'selected_disk' : selected_disk.value})\nif snapshot is not None and snapshot.provisioning_state == 'Succeeded':\n    sas_url = compute.generate_snapshot_sas_url_async(**{'snapshot_name' : snapshot_name, 'int_seconds' : snapshop_life_in_seconds})\n    print(sas_url)",
      "execution_count": null,
      "outputs": []
    },
    {
      "metadata": {
        "trusted": true
      },
      "cell_type": "code",
      "source": "",
      "execution_count": null,
      "outputs": []
    }
  ],
  "metadata": {
    "kernelspec": {
      "name": "python3-azureml",
      "display_name": "Python 3.6 - AzureML",
      "language": "python"
    },
    "language_info": {
      "version": "3.6.8",
      "nbconvert_exporter": "python",
      "name": "python",
      "codemirror_mode": {
        "version": 3,
        "name": "ipython"
      },
      "pygments_lexer": "ipython3",
      "mimetype": "text/x-python",
      "file_extension": ".py"
    },
    "celltoolbar": "Tags"
  },
  "nbformat": 4,
  "nbformat_minor": 1
}