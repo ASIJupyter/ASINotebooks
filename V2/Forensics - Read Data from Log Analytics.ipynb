{
  "cells": [
    {
      "metadata": {
        "collapsed": true
      },
      "cell_type": "markdown",
      "source": "# Forensics - Read Data from Log Analytics\n\n__Notebook Version:__ 1.0<br>\n__Python Version:__ Python 3.6 (including Python 3.6 - AzureML)<br>\n__Required Packages:__ Kqlmagic 0.1.90<br>\n__Platforms Supported:__<br>\n    -  Azure Notebooks Free Compute\n    -  Azure Notebooks DSVM\n__Data Source Required:__<br>\n    -  Log Analytics - SecurityEvent\n    \n### Description\nThe notebook provides you basic knowledge to use load data from Azure Log Analytics.\n\n<font color=red>When you switch between Azure Notebooks Free Compute and Data Science Virtual Machine (DSVM), you may need to select Python version: please select Python 3.6 for Free Compute, and Python 3.6 - AzureML for DSVM.</font>"
    },
    {
      "metadata": {},
      "cell_type": "markdown",
      "source": "## Prerequisite check"
    },
    {
      "metadata": {
        "trusted": true
      },
      "cell_type": "code",
      "source": "# only run once, current version 0.1.2\n!pip install --upgrade Sentinel-Utilities",
      "execution_count": null,
      "outputs": []
    },
    {
      "metadata": {
        "trusted": true
      },
      "cell_type": "code",
      "source": "import SentinelUtils\n# checking Python version\ncheck = SentinelUtils.version_management.ModuleVersionCheck()\npy_check = check.validate_python('3.6.0')\nif py_check.requirement_met == False:\n    print('Please select Python 3.6 or Python 3.6 - AzureML at the upper right corner')\nelse:\n    print('Please continue')",
      "execution_count": null,
      "outputs": []
    },
    {
      "metadata": {
        "trusted": true
      },
      "cell_type": "code",
      "source": "# checking required packages\nmods_check = check.validate_installed_modules(['Kqlmagic>=0.1.90'])\nfor mod_info in mods_check:\n    if mod_info.requirement_met == False:\n        print('Please install {} {} at the following cell.'.format(mod_info.name, mod_info.required_version))",
      "execution_count": null,
      "outputs": []
    },
    {
      "metadata": {
        "trusted": true
      },
      "cell_type": "code",
      "source": "# Please install required packages based on the check at last cellp\n#!pip install Kqlmagic --upgrade",
      "execution_count": null,
      "outputs": []
    },
    {
      "metadata": {},
      "cell_type": "markdown",
      "source": "## Table of Contents\n\n1. Retrieve Log Analytics information \n2. Log into Log Analytics\n3. Check Data Availability and Query Data\n4. Retrieve KQL from Azure Sentinel GitHub\n5. Get Azure Sentinel HuntingBookmarks"
    },
    {
      "metadata": {},
      "cell_type": "markdown",
      "source": "## 1. Retrieve Log Analytics Information"
    },
    {
      "metadata": {
        "trusted": true
      },
      "cell_type": "code",
      "source": "path = %env PATH\ndsvm = False\nif '/dsvm/' in path:\n    dsvm = True\n    \nif dsvm == False:\n    # Run this if you are using Free Compute\n    tenant_id = SentinelUtils.config_reader.ConfigReader.read_config_values(\"config.json\")[0]\n    subscription_id = SentinelUtils.config_reader.ConfigReader.read_config_values(\"config.json\")[1]\n    resource_group = SentinelUtils.config_reader.ConfigReader.read_config_values(\"config.json\")[2]\n    workspace_id = SentinelUtils.config_reader.ConfigReader.read_config_values(\"config.json\")[3]\n    workspace_name = SentinelUtils.config_reader.ConfigReader.read_config_values(\"config.json\")[4]\n    print('Your Log Analytic Workspace: {}'.format(workspace_name))\nelse:\n    # Run this if you are using DSVM.  You need to copy the values from config.json, if the file has no value, then you need to go to Log Analytics Portal to get the information.\n    tenant_id = input('tenant_id:')\n    subscription_id = input('subscription_id:')\n    resource_group = input('resource_group:')\n    workspace_id = input('workspace_id:')\n    workspace_name = input('workspace_name:')",
      "execution_count": null,
      "outputs": []
    },
    {
      "metadata": {},
      "cell_type": "markdown",
      "source": "## 2. Log into Log Analytics"
    },
    {
      "metadata": {
        "trusted": true
      },
      "cell_type": "code",
      "source": "# You must run this cell to log into Log Analytics to continue\n# Make sure you have 0.1.90 or above, if not, run Kqlmagic installation again\n%reload_ext Kqlmagic\n%kql loganalytics://code;workspace=workspace_id;tenant=tenant_id;alias=\"SentinelDB\"",
      "execution_count": null,
      "outputs": []
    },
    {
      "metadata": {},
      "cell_type": "markdown",
      "source": "## 3. Check Data Availability and Query Data"
    },
    {
      "metadata": {},
      "cell_type": "markdown",
      "source": "1. Tables with records"
    },
    {
      "metadata": {
        "trusted": true
      },
      "cell_type": "code",
      "source": "%kql search * | summarize count() by Type",
      "execution_count": null,
      "outputs": []
    },
    {
      "metadata": {},
      "cell_type": "markdown",
      "source": "2. Query Security Event"
    },
    {
      "metadata": {
        "trusted": true
      },
      "cell_type": "code",
      "source": "%kql SecurityEvent | take 5 | project Account, Computer\ndf = _kql_raw_result_.to_dataframe()\ndf",
      "execution_count": null,
      "outputs": []
    },
    {
      "metadata": {},
      "cell_type": "markdown",
      "source": "## 4. Retrieve KQL from Azure Sentinel GitHub"
    },
    {
      "metadata": {
        "trusted": true
      },
      "cell_type": "code",
      "source": "# Load query from GitHub\nimport requests\nimport json\nclass GitHubHelper(object):\n    def __init__(self):\n        github_url = \"https://raw.githubusercontent.com/Azure/Azure-Sentinel/master/Hunting%20Queries/DeployedQueries.json\"\n        response = requests.get(github_url)\n        response.encoding = response.apparent_encoding\n        self.queries = json.loads(response.text)\n    \n    def get_queries(self):\n        if self.queries != None:\n            try:\n                return [query['name'] for query in self.queries]\n            except Exception as e:\n                print(e)\n                return None\n\n    def get_query(self, query_name):\n        q = None\n        if self.queries != None:\n            try:\n                entry = [query for query in self.queries if query['name'] == query_name]\n                if entry is not None:\n                    q = entry[0]['query']\n            except Exception as e:\n                print(e)\n            finally:\n                return q",
      "execution_count": null,
      "outputs": []
    },
    {
      "metadata": {
        "trusted": true
      },
      "cell_type": "code",
      "source": "# select a query to continue\ngithub_help = GitHubHelper()\nquery_list = github_help.get_queries()\nimport ipywidgets as widgets\nfrom IPython.display import display\nselected_query = widgets.Dropdown(options=query_list, value=query_list[0],description='query list:')\ndisplay(selected_query)",
      "execution_count": null,
      "outputs": []
    },
    {
      "metadata": {
        "trusted": true
      },
      "cell_type": "code",
      "source": "# Run query\nquery_text = github_help.get_query(selected_query.value)\n%kql {query_text}",
      "execution_count": null,
      "outputs": []
    },
    {
      "metadata": {
        "trusted": true
      },
      "cell_type": "markdown",
      "source": "## 5. Get Azure Sentinel HuntingBookmarks"
    },
    {
      "metadata": {
        "trusted": true
      },
      "cell_type": "code",
      "source": "%kql HuntingBookmark | take 5 \ndf = _kql_raw_result_.to_dataframe()\ndisplay(df)",
      "execution_count": null,
      "outputs": []
    },
    {
      "metadata": {
        "trusted": true
      },
      "cell_type": "code",
      "source": "",
      "execution_count": null,
      "outputs": []
    }
  ],
  "metadata": {
    "celltoolbar": "Tags",
    "hide_input": false,
    "kernelspec": {
      "name": "python3-azureml",
      "display_name": "Python 3.6 - AzureML",
      "language": "python"
    },
    "language_info": {
      "file_extension": ".py",
      "nbconvert_exporter": "python",
      "mimetype": "text/x-python",
      "version": "3.6.8",
      "name": "python",
      "codemirror_mode": {
        "version": 3,
        "name": "ipython"
      },
      "pygments_lexer": "ipython3"
    },
    "toc": {
      "base_numbering": 1,
      "nav_menu": {},
      "number_sections": false,
      "sideBar": true,
      "skip_h1_title": false,
      "title_cell": "Table of Contents",
      "title_sidebar": "Contents",
      "toc_cell": false,
      "toc_position": {},
      "toc_section_display": true,
      "toc_window_display": false
    }
  },
  "nbformat": 4,
  "nbformat_minor": 2
}