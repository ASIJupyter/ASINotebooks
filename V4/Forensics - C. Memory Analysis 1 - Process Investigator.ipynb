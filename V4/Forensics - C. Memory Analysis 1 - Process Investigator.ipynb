{
  "cells": [
    {
      "metadata": {},
      "cell_type": "markdown",
      "source": "# Forensics - C. Memory Analysis 1 - Process Investigator\n\n__Notebook Version:__ 1.0<br>\n__Python Version:__ Python 3.6 (including Python 3.6 - AzureML)<br>\n__Required Packages:__ azure 4.0.0,  azure-cli-profile 2.1.4<br>\n__OS Supported:__<br>\n    -  Linux\n    -  Windows\n__Platforms Supported:__<br>\n    -  Azure Notebooks Free Compute\n    -  Azure Notebooks DSVM\n__Data Source Required:__<br>\n    -  no\n    \n### Description\nThe notebook provides sample code to use custom script extension to run Processor Investigator (memory dump) on Linux and Windows.\n\n<font color=red>When you switch between Azure Notebooks Free Compute and Data Science Virtual Machine (DSVM), you may need to select Python version: please select Python 3.6 for Free Compute, and Python 3.6 - AzureML for DSVM.</font>"
    },
    {
      "metadata": {},
      "cell_type": "markdown",
      "source": "## Table of Contents\n\n1. Initialize Azure Resource Management Clients \n2. Manage Blob Storage\n3. Create VM Extension\n4. Read Memory Dump Data\n5. Delete VM Extension"
    },
    {
      "metadata": {},
      "cell_type": "markdown",
      "source": "## 1. Initialize Azure Resource Management Clients"
    },
    {
      "metadata": {
        "trusted": true
      },
      "cell_type": "code",
      "source": "# User Input and Save to Environmental store\nimport os\nimport ipywidgets as widgets\nfrom IPython.display import display\nfrom azure.mgmt.resource import ResourceManagementClient\nfrom azure.mgmt.compute import ComputeManagementClient\nfrom azure.mgmt.network import NetworkManagementClient\nfrom azure.mgmt.storage import StorageManagementClient\nimport SentinelAzure\nfrom SentinelWidgets import *\nfrom azure.storage.blob import BlockBlobService, PageBlobService, AppendBlobService\nfrom azure.storage.blob.models import BlobBlock, ContainerPermissions, ContentSettings\n\n# User Input and Save to Environmental store\n# Set to True if you want to reset the environmental values\nreset_environment_valiables = False\nenv_dir = %env\nenv_list = ['subscription_id', 'resource_group_for_vm', 'resource_group_for_storage']\nenvs =  {env_list[0]:'', env_list[1]:'', env_list[2]:''}\nenvs = WidgetViewHelper.set_env(reset_environment_valiables, env_dir, envs)\nsubscription_id = envs[env_list[0]]\nresource_group_for_vm = envs[env_list[1]]\nresource_group_for_storage = envs[env_list[2]]",
      "execution_count": null,
      "outputs": []
    },
    {
      "metadata": {
        "trusted": true
      },
      "cell_type": "code",
      "source": "# SKIP THIS IF YOU HAVE RUN SSO USING DEVICE in Part 0-B\n# Blank cell for select an auth method\n# Copy Code here",
      "execution_count": null,
      "outputs": []
    },
    {
      "metadata": {
        "trusted": true
      },
      "cell_type": "code",
      "source": "# SKIP THIS IF YOU HAVE RUN SSO USING DEVICE in Part 0-B\n# Blank cell for authentication\n# Copy Code here",
      "execution_count": null,
      "outputs": []
    },
    {
      "metadata": {
        "trusted": true
      },
      "cell_type": "code",
      "source": "# RUN THIS IF YOU HAVE RUN SSO DEVICE in Part 0-B\nauth = SentinelAzure.azure_aad_helper.AADHelper()\nfrom azure.common.client_factory import get_client_from_cli_profile\n# please enter your tenant domain below, for Microsoft, using: microsoft.onmicrosoft.com\n!az login --tenant 'microsoft.onmicrosoft.com'\ncompute_client = get_client_from_cli_profile(ComputeManagementClient, subscription_id = subscription_id)\nstorage_client = get_client_from_cli_profile(StorageManagementClient, subscription_id = subscription_id)\ncompute = SentinelAzure.azure_compute_helper.ComputeHelper(compute_client, resource_group_for_vm)\nstorage = SentinelAzure.azure_storage_helper.StorageHelper(storage_client)",
      "execution_count": null,
      "outputs": []
    },
    {
      "metadata": {},
      "cell_type": "markdown",
      "source": "## 2. Manage Blob Storage"
    },
    {
      "metadata": {},
      "cell_type": "markdown",
      "source": "1. Storage Account for storing results"
    },
    {
      "metadata": {
        "trusted": true
      },
      "cell_type": "code",
      "source": "# Select creating a new account or using existing one\nselected_method = WidgetViewHelper.select_account_creation()\ndisplay(selected_method)",
      "execution_count": null,
      "outputs": []
    },
    {
      "metadata": {
        "trusted": true
      },
      "cell_type": "code",
      "source": "storage_account = None\nif selected_method.value == 'Creating new account':\n    # usert input storage account name\n    storage_account_name = WidgetViewHelper.check_storage_account_name_availability(storage)\n    if storage_account_name is None:\n        print('Name is already used, please re-run this cell and provide a different name')\n    else:\n        storage_key = WidgetViewHelper.create_storage_account_and_get_key(storage, storage_account_name, resource_group_for_storage)\nelse:\n    selected_storage_account_name = WidgetViewHelper.select_storage_account(storage, resource_group_for_storage)\n    display(selected_storage_account_name)",
      "execution_count": null,
      "outputs": []
    },
    {
      "metadata": {
        "trusted": true
      },
      "cell_type": "code",
      "source": "# Get storage account for selected existing account\nif selected_method.value == 'Using exist account':\n    storage_account_name = selected_storage_account_name.value\n    storage_key = storage.get_storage_account_key(storage_account_name, resource_group_for_storage)",
      "execution_count": null,
      "outputs": []
    },
    {
      "metadata": {},
      "cell_type": "markdown",
      "source": "3. Blob Storage Container"
    },
    {
      "metadata": {
        "trusted": true
      },
      "cell_type": "code",
      "source": "# Select creating a new blob container or using existing one\nselected_blob_method = WidgetViewHelper.select_blob_container_creation()\ndisplay(selected_blob_method)",
      "execution_count": null,
      "outputs": []
    },
    {
      "metadata": {
        "trusted": true
      },
      "cell_type": "code",
      "source": "# Get blob container\nif selected_blob_method.value == 'Creating new container':\n    blob_container_name = input('blob_container_name:')\n    storage.initialize_block_blob_service(storage_account_name, storage_key, blob_container_name)\n    blob_container = storage.create_blob_container()\nelse:\n    selected_blob_container = WidgetViewHelper.select_blob_container(storage, resource_group_for_storage, storage_account_name)\n    display(selected_blob_container)",
      "execution_count": null,
      "outputs": []
    },
    {
      "metadata": {
        "trusted": true
      },
      "cell_type": "code",
      "source": "if selected_blob_method.value == 'Using exist container':\n    storage.initialize_block_blob_service(storage_account_name, storage_key, selected_blob_container.value)",
      "execution_count": null,
      "outputs": []
    },
    {
      "metadata": {
        "trusted": true
      },
      "cell_type": "code",
      "source": "# Select targeting operating system\nselected_os_type = WidgetViewHelper.select_os()\ndisplay(selected_os_type)",
      "execution_count": null,
      "outputs": []
    },
    {
      "metadata": {
        "trusted": true
      },
      "cell_type": "code",
      "source": "# generating upload path for results\nsas_expiration_in_days = 10\nupload_container_path = WidgetViewHelper.generate_upload_container_path(storage, selected_os_type.value, sas_expiration_in_days)",
      "execution_count": null,
      "outputs": []
    },
    {
      "metadata": {},
      "cell_type": "markdown",
      "source": "## 3. Create VM Extension"
    },
    {
      "metadata": {},
      "cell_type": "markdown",
      "source": "1. Initialization"
    },
    {
      "metadata": {
        "trusted": true
      },
      "cell_type": "code",
      "source": "# preparing vm_extension_properties\ncommand_to_execute, file_list = WidgetViewHelper.get_vm_extension_properties(selected_os_type.value, upload_container_path)\nif selected_os_type.value == 'Windows':\n    vm_extension_properties = SentinelAzure.WindowsVMExtensionProperties(command_to_execute, file_list)\nelif selected_os_type.value == 'Linux':\n    vm_extension_properties = SentinelAzure.LinuxVMExtensionProperties(command_to_execute, file_list)",
      "execution_count": null,
      "outputs": []
    },
    {
      "metadata": {
        "trusted": true
      },
      "cell_type": "code",
      "source": "# Select a VM\nselected_vm = WidgetViewHelper.select_vm(compute)\ndisplay(selected_vm)",
      "execution_count": null,
      "outputs": []
    },
    {
      "metadata": {
        "trusted": true
      },
      "cell_type": "code",
      "source": "# Collecting values\nvm_extension_name = 'sentinelmemoryinvestigator'\nvm_name = selected_vm.value\nvm_location = compute.get_vm(vm_name).location",
      "execution_count": null,
      "outputs": []
    },
    {
      "metadata": {},
      "cell_type": "markdown",
      "source": "2. Create VM Extension"
    },
    {
      "metadata": {
        "trusted": true
      },
      "cell_type": "code",
      "source": "vm_extension = compute.initialize_vm_extension(vm_extension_properties, vm_location)\ncreate_vm_async = compute.create_vm_extension_async(vm_name, vm_extension_name, vm_extension)\nprint(create_vm_async.provisioning_state)",
      "execution_count": null,
      "outputs": []
    },
    {
      "metadata": {},
      "cell_type": "markdown",
      "source": "## 4. Read Memory Dump Data"
    },
    {
      "metadata": {
        "trusted": true
      },
      "cell_type": "code",
      "source": "from pandas.io.json import json_normalize\nreturned_json = compute.get_uploaded_result(upload_container_path)",
      "execution_count": null,
      "outputs": []
    },
    {
      "metadata": {},
      "cell_type": "markdown",
      "source": "1. Machine Information"
    },
    {
      "metadata": {
        "trusted": true
      },
      "cell_type": "code",
      "source": "df_stats = json_normalize(returned_json['machine'])\ndisplay(df_stats)",
      "execution_count": null,
      "outputs": []
    },
    {
      "metadata": {},
      "cell_type": "markdown",
      "source": "2. Procrss List"
    },
    {
      "metadata": {
        "trusted": true
      },
      "cell_type": "code",
      "source": "df_process_list = json_normalize(returned_json['processList'])\ndisplay(df_process_list)",
      "execution_count": null,
      "outputs": []
    },
    {
      "metadata": {},
      "cell_type": "markdown",
      "source": "3. Conclusion"
    },
    {
      "metadata": {
        "trusted": true
      },
      "cell_type": "code",
      "source": "df_summary = json_normalize(returned_json['scanSummary'])\ndisplay(df_summary)",
      "execution_count": null,
      "outputs": []
    },
    {
      "metadata": {
        "trusted": true
      },
      "cell_type": "markdown",
      "source": "## 5. Delete VM Extension as a final step"
    },
    {
      "metadata": {
        "trusted": true
      },
      "cell_type": "code",
      "source": "del_result = compute.delete_vm_extension_async(vm_name, vm_extension_name)",
      "execution_count": null,
      "outputs": []
    },
    {
      "metadata": {
        "trusted": true
      },
      "cell_type": "code",
      "source": "",
      "execution_count": null,
      "outputs": []
    }
  ],
  "metadata": {
    "kernelspec": {
      "name": "python3-azureml",
      "display_name": "Python 3.6 - AzureML",
      "language": "python"
    },
    "language_info": {
      "version": "3.6.8",
      "nbconvert_exporter": "python",
      "name": "python",
      "codemirror_mode": {
        "version": 3,
        "name": "ipython"
      },
      "pygments_lexer": "ipython3",
      "mimetype": "text/x-python",
      "file_extension": ".py"
    },
    "celltoolbar": "Tags"
  },
  "nbformat": 4,
  "nbformat_minor": 1
}