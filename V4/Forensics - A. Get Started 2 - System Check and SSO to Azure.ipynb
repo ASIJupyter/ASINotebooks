{
  "cells": [
    {
      "metadata": {},
      "cell_type": "markdown",
      "source": "# Forensics - A. Get Started 2 - System Check and SSO to Azure\n\n__Notebook Version:__ 1.0<br>\n__Python Version:__ Python 3.6 (including Python 3.6 - AzureML)<br>\n__Required Packages:__ azure 4.0.0,  azure-cli-profile 2.1.4, Kqlmagic 0.1.95<br>\n__OS Supported:__<br>\n    -  Linux\n__Platforms Supported:__<br>\n    -  Azure Notebooks DSVM\n__Data Source Required:__<br>\n    -  no\n    \n### Description\nThe notebook provides code to check the common required software on the newly created DSVM and implement single sign on to Azure Resource Management for current session.\n\n<font color=red>When you switch between Azure Notebooks Free Compute and Data Science Virtual Machine (DSVM), you may need to select Python version: please select Python 3.6 for Free Compute, and Python 3.6 - AzureML for DSVM.</font>"
    },
    {
      "metadata": {},
      "cell_type": "markdown",
      "source": "## Prerequisite check"
    },
    {
      "metadata": {
        "trusted": true
      },
      "cell_type": "code",
      "source": "# only run once, current version 0.1.8\n#!pip install --upgrade Sentinel-Utilities\n!pip install --upgrade --index-url https://test.pypi.org/simple/ --extra-index-url https://pypi.org/simple Sentinel-Utilities",
      "execution_count": null,
      "outputs": []
    },
    {
      "metadata": {
        "trusted": true
      },
      "cell_type": "code",
      "source": "import SentinelUtils\n# checking Python version\ncheck = SentinelUtils.version_management.ModuleVersionCheck()\npy_check = check.validate_python('3.6.0')\nif py_check.requirement_met == False:\n    print('Please select Python 3.6 or Python 3.6 - AzureML at the upper right corner')\nelse:\n    print('Please continue')",
      "execution_count": null,
      "outputs": []
    },
    {
      "metadata": {
        "trusted": true
      },
      "cell_type": "code",
      "source": "# checking required packages\nmods_check = check.validate_installed_modules(['Azure>=4.0.0', 'azure-cli-profile>=2.1.5', 'Kqlmagic>=0.1.95'])\nfor mod_info in mods_check:\n    if mod_info.requirement_met == False:\n        print('Please install {} {} at the following cell.'.format(mod_info.name, mod_info.required_version))",
      "execution_count": null,
      "outputs": []
    },
    {
      "metadata": {
        "trusted": true
      },
      "cell_type": "code",
      "source": "# Please install required packages based on the check at last cell\n#!pip install azure",
      "execution_count": null,
      "outputs": []
    },
    {
      "metadata": {
        "trusted": true
      },
      "cell_type": "code",
      "source": "# this is needed only if you are going to use Device authentication\n#!pip install azure-cli-profile",
      "execution_count": null,
      "outputs": []
    },
    {
      "metadata": {
        "trusted": true
      },
      "cell_type": "code",
      "source": "!pip install Kqlmagic --upgrade",
      "execution_count": null,
      "outputs": []
    },
    {
      "metadata": {},
      "cell_type": "markdown",
      "source": "## SSO to Azure Resource Management"
    },
    {
      "metadata": {
        "trusted": true
      },
      "cell_type": "code",
      "source": "# Currently Device is the only authentication that allows SSO in Sentinel Notebooks\nfrom azure.common.client_factory import get_client_from_cli_profile\n# please enter your tenant domain below, for Microsoft, using: microsoft.onmicrosoft.com\n!az login --tenant ''",
      "execution_count": null,
      "outputs": []
    },
    {
      "metadata": {},
      "cell_type": "markdown",
      "source": "## Other methods to log into ARM (Copy Only)"
    },
    {
      "metadata": {
        "trusted": true
      },
      "cell_type": "code",
      "source": "# SKIP THIS IF YOU HAVE RUN SSO USING DEVICE in Part 0-B\n# As alternatives to Device, you may also use [Service principal] or [User id Password]\n# But these methods doesn't support SSO on Sentinel Notebooks, so you have to copy the code to individual notebooks to run \n# Copy this cell to 1. Initialize Azure Resource Management Clients, Blank cell for select an auth method\nimport ipywidgets as widgets\nfrom IPython.display import display\nauth_method = ['Service Principal', 'User ID/Password']\nselected_auth = widgets.Dropdown(options=auth_method, value=auth_method[0],description='Auth Method:')\ndisplay(selected_auth)",
      "execution_count": null,
      "outputs": []
    },
    {
      "metadata": {
        "trusted": true
      },
      "cell_type": "code",
      "source": "# SKIP THIS IF YOU HAVE RUN SSO USING DEVICE in Part 0-B\n# As alternatives to Device, you may also use [Service principal] or [User id Password]\n# But these methods doesn't support SSO on Sentinel Notebooks, so you have to copy the code to individual notebooks to run \n# Copy this cell to 1. Initialize Azure Resource Management Clients, Blank cell for authentication\nauth = SentinelAzure.azure_aad_helper.AADHelper()\nif selected_auth.value == 'Service Principal':\n    client_id=input('client_id:')\n    secret=input('secret:')\n    tenant_id = input('tenant_id:')\n    compute_client, network_client, resource_client, storage_client = auth.authenticate('Service Principal', **{'client_id': client_id, 'secret' : secret, 'tenant_id' : tenant_id, 'subscription_id' : subscription_id})\nelse:\n    from azure.common.credentials import UserPassCredentials\n    import getpass\n    uid = input('User ID:')\n    pwd = getpass.getpass()\n    compute_client, network_client, resource_client, storage_client = auth.authenticate('User ID Password', **{'user_id': uid, 'password' : pwd, 'subscription_id' : subscription_id})\n\ncompute = SentinelAzure.azure_compute_helper.ComputeHelper(compute_client, resource_group_for_vm)\nstorage = SentinelAzure.azure_storage_helper.StorageHelper(storage_client)",
      "execution_count": null,
      "outputs": []
    }
  ],
  "metadata": {
    "kernelspec": {
      "name": "python3-azureml",
      "display_name": "Python 3.6 - AzureML",
      "language": "python"
    },
    "language_info": {
      "version": "3.6.8",
      "nbconvert_exporter": "python",
      "name": "python",
      "codemirror_mode": {
        "version": 3,
        "name": "ipython"
      },
      "pygments_lexer": "ipython3",
      "mimetype": "text/x-python",
      "file_extension": ".py"
    }
  },
  "nbformat": 4,
  "nbformat_minor": 1
}