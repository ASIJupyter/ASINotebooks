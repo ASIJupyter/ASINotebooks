{
  "cells": [
    {
      "metadata": {},
      "cell_type": "markdown",
      "source": "# Forensics - A. Get Started 1 - Provision DSVM with Azure Forensics Tools\n\n__Notebook Version:__ 1.0<br>\n__Python Version:__ Python 3.6 (including Python 3.6 - AzureML)<br>\n__Required Packages:__ azure 4.0.0,  azure-cli-profile 2.1.4<br>\n__OS Supported:__<br>\n    -  Linux\n__Platforms Supported:__<br>\n    -  Azure Notebooks Free Compute\n    -  Azure Notebooks DSVM\n__Data Source Required:__<br>\n    -  no\n    \n### Description\nThe notebook provides sample code to use create a DSVM, install Mono and pythonnet, then use Azure custom script extension to deploy our Azure Forensics libraries on onto the newly created DSVM.\n\n<font color=red>When you switch between Azure Notebooks Free Compute and Data Science Virtual Machine (DSVM), you may need to select Python version: please select Python 3.6 for Free Compute, and Python 3.6 - AzureML for DSVM.</font>"
    },
    {
      "metadata": {},
      "cell_type": "markdown",
      "source": "## Table of Contents\n\n1. If you don't have a DSVM yet, you may use the following instructions to create one \n2. Install Mono, Pythonnet and dependency to enable Azure Forensics Functionalities\n3. Deploy Azure Forensics libraries through VM Extension"
    },
    {
      "metadata": {},
      "cell_type": "markdown",
      "source": "## 1. If you don't have a DSVM yet, you may use the following instructions to create one"
    },
    {
      "metadata": {},
      "cell_type": "markdown",
      "source": "1. Authentication"
    },
    {
      "metadata": {
        "trusted": true
      },
      "cell_type": "code",
      "source": "# please enter your tenant domain below, for Microsoft, using: microsoft.onmicrosoft.com\n!az login --tenant ''",
      "execution_count": null,
      "outputs": []
    },
    {
      "metadata": {
        "trusted": true
      },
      "cell_type": "code",
      "source": "# User Input for creating a new DSVM\nvm_size = 'Standard_DS3_v2'\n\n# replace [[your_subcription_id]] with 'real subscription id'\n!az account set --subscription [[your_subcription_id]]",
      "execution_count": null,
      "outputs": []
    },
    {
      "metadata": {
        "trusted": true
      },
      "cell_type": "code",
      "source": "# replace all [[your_stuff]] with 'real values'\n!az group deployment create \\\n    --resource-group [[your_resource_group]] \\\n    --template-uri https://raw.githubusercontent.com/Azure/DataScienceVM/master/Scripts/CreateDSVM/Ubuntu/azuredeploy.json \\\n    --parameters \\\n    '{ \\\n      \"$schema\": \"https://schema.management.azure.com/schemas/2015-01-01/deploymentParameters.json#\",\\\n      \"contentVersion\": \"1.0.0.0\",\\\n      \"parameters\": {\\\n         \"adminUsername\": { \"value\" : \"[[your_admin_user_id]]\"},\\\n         \"adminPassword\": { \"value\" : \"[[your_admin_password]]\"},\\\n         \"vmName\": { \"value\" : \"[[your_vm_name]]\"},\\\n         \"vmSize\": { \"value\" : \"Standard_DS3_v2\"}\\\n      }\\\n    }'",
      "execution_count": null,
      "outputs": []
    },
    {
      "metadata": {},
      "cell_type": "markdown",
      "source": "## *** Please go to the project page to select the VM that you just created as your new computing platform (Run on ...)  to continue ..."
    },
    {
      "metadata": {},
      "cell_type": "markdown",
      "source": "## 2. Install Mono, Pythonnet and dependencies to enable Azure Forensics Functionalities"
    },
    {
      "metadata": {
        "trusted": true
      },
      "cell_type": "code",
      "source": "# Uncomment the code, run it only once for the lifetime of the DSVM\n!sudo apt-key adv --keyserver hkp://keyserver.ubuntu.com:80 --recv-keys 3FA7E0328081BFF6A14DA29AA6A19B38D3D831EF\n!sudo apt install -y apt-transport-https ca-certificates\n!echo \"deb https://download.mono-project.com/repo/ubuntu stable-xenial main\" | sudo tee /etc/apt/sources.list.d/mono-official-stable.list\n!sudo apt update\n!sudo apt install -y mono-devel",
      "execution_count": null,
      "outputs": []
    },
    {
      "metadata": {
        "trusted": true
      },
      "cell_type": "code",
      "source": "# Uncomment the code, run it only once for the lifetime of the DSVM\n!sudo apt-get install -y clang\n!sudo apt-get install -y libglib2.0-dev\n!sudo apt-get install python-dev",
      "execution_count": null,
      "outputs": []
    },
    {
      "metadata": {
        "trusted": true
      },
      "cell_type": "code",
      "source": "# Uncomment the code, run it only once for the lifetime of the DSVM\n!git clone https://github.com/pythonnet/pythonnet\n!python pythonnet/setup.py install",
      "execution_count": null,
      "outputs": []
    },
    {
      "metadata": {
        "trusted": true
      },
      "cell_type": "markdown",
      "source": "## 3. Deploy Azure Forensics libraries through VM Extension"
    },
    {
      "metadata": {
        "trusted": true
      },
      "cell_type": "code",
      "source": "# For newly created DSVM please install required packages once\n!pip install azure",
      "execution_count": null,
      "outputs": []
    },
    {
      "metadata": {
        "trusted": true
      },
      "cell_type": "code",
      "source": "# For newly created DSVM please install required packages once\n!pip install azure-cli-profile",
      "execution_count": null,
      "outputs": []
    },
    {
      "metadata": {
        "trusted": true
      },
      "cell_type": "code",
      "source": "# For newly created DSVM please install required packages once\n!pip install --upgrade --index-url https://test.pypi.org/simple/ --extra-index-url https://pypi.org/simple Sentinel-Utilities",
      "execution_count": null,
      "outputs": []
    },
    {
      "metadata": {
        "trusted": true
      },
      "cell_type": "code",
      "source": "# Initialization\nfrom azure.mgmt.compute import ComputeManagementClient\nfrom azure.mgmt.storage import StorageManagementClient\nfrom azure.common.client_factory import get_client_from_cli_profile\nimport SentinelAzure\nfrom SentinelWidgets import *\nimport os",
      "execution_count": null,
      "outputs": []
    },
    {
      "metadata": {
        "trusted": true
      },
      "cell_type": "code",
      "source": "# User Input and Save to Environmental store\n# Set to True if you want to reset the environmental values\nreset_environment_valiables = False\nenv_dir = %env\nenv_list = ['subscription_id', 'resource_group']\nenvs =  {env_list[0]:'', env_list[1]:''}\nenvs = WidgetViewHelper.set_env(reset_environment_valiables, env_dir, envs)\nsubscription_id = envs[env_list[0]]\nresource_group = envs[env_list[1]]\n\nvm_admin_user_id = input('vm admin user id:')",
      "execution_count": null,
      "outputs": []
    },
    {
      "metadata": {
        "trusted": true
      },
      "cell_type": "code",
      "source": "# Authenticate to Azure Resource Management on the new DSVM\n# please enter your tenant domain below, for Microsoft, using: microsoft.onmicrosoft.com\n!az login --tenant ''\n\ncompute_client = get_client_from_cli_profile(ComputeManagementClient, subscription_id = subscription_id)\nstorage_client = get_client_from_cli_profile(StorageManagementClient, subscription_id = subscription_id)\ncompute = SentinelAzure.azure_compute_helper.ComputeHelper(compute_client, resource_group)\nstorage = SentinelAzure.azure_storage_helper.StorageHelper(storage_client)",
      "execution_count": null,
      "outputs": []
    },
    {
      "metadata": {
        "trusted": true
      },
      "cell_type": "code",
      "source": "# preparing vm_extension_properties\ncommand_to_execute, file_list = WidgetViewHelper.get_vm_extension_properties('DSVM', None, vm_admin_user_id)\nvm_extension_properties = SentinelAzure.LinuxVMExtensionProperties(command_to_execute, file_list)",
      "execution_count": null,
      "outputs": []
    },
    {
      "metadata": {
        "trusted": true
      },
      "cell_type": "code",
      "source": "# Select the newly created DSVM\nselected_vm = WidgetViewHelper.select_vm(compute)\ndisplay(selected_vm)",
      "execution_count": null,
      "outputs": []
    },
    {
      "metadata": {
        "trusted": true
      },
      "cell_type": "code",
      "source": "# Input for VM and new VM extension\nvm_extension_name = 'azurefoirensics'\nvm_name = selected_vm.value\nvm_location = compute.get_vm(vm_name).location",
      "execution_count": null,
      "outputs": []
    },
    {
      "metadata": {
        "trusted": true,
        "scrolled": true
      },
      "cell_type": "code",
      "source": "# Create VM Extension\nvm_extension = compute.initialize_vm_extension(vm_extension_properties, vm_location)\ncreate_vm_async = compute.create_vm_extension_async(vm_name, vm_extension_name, vm_extension)\nprint(create_vm_async.provisioning_state)",
      "execution_count": null,
      "outputs": []
    },
    {
      "metadata": {
        "trusted": true
      },
      "cell_type": "code",
      "source": "",
      "execution_count": null,
      "outputs": []
    }
  ],
  "metadata": {
    "kernelspec": {
      "name": "python3-azureml",
      "display_name": "Python 3.6 - AzureML",
      "language": "python"
    },
    "language_info": {
      "version": "3.6.8",
      "name": "python",
      "pygments_lexer": "ipython3",
      "nbconvert_exporter": "python",
      "file_extension": ".py",
      "mimetype": "text/x-python",
      "codemirror_mode": {
        "version": 3,
        "name": "ipython"
      }
    },
    "celltoolbar": "Tags"
  },
  "nbformat": 4,
  "nbformat_minor": 1
}