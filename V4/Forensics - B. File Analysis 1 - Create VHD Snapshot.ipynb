{
  "cells": [
    {
      "metadata": {},
      "cell_type": "markdown",
      "source": "# Forensics - B. File Analysis 1 - Create VHD Snapshot\n\n__Notebook Version:__ 1.0<br>\n__Python Version:__ Python 3.6 (including Python 3.6 - AzureML)<br>\n__Required Packages:__ azure 4.0.0, azure-cli-profile 2.1.4<br>\n__OS Supported:__<br>\n    -  Linux\n    -  Windows\n__Platforms Supported:__<br>\n    -  Azure Notebooks Free Compute\n    -  Azure Notebooks DSVM\n__Data Source Required:__<br>\n    -  no\n    \n### Description\nThe notebook provides sample code to create Azure IaaS virtual machine snapshots for managed disks.\n\n<font color=red>When you switch between Azure Notebooks Free Compute and Data Science Virtual Machine (DSVM), you may need to select Python version: please select Python 3.6 for Free Compute, and Python 3.6 - AzureML for DSVM.</font>"
    },
    {
      "metadata": {},
      "cell_type": "markdown",
      "source": "## Table of Contents\n\n1. Initialize Azure Resource Management Clients\n2. Create Snapshot and Generate SAS URL"
    },
    {
      "metadata": {},
      "cell_type": "markdown",
      "source": "## 1. Initialize Azure Resource Management Clients"
    },
    {
      "metadata": {
        "trusted": true
      },
      "cell_type": "code",
      "source": "# User Input and Save to Environmental store\nfrom azure.mgmt.resource import ResourceManagementClient\nfrom azure.mgmt.compute import ComputeManagementClient\nfrom azure.mgmt.network import NetworkManagementClient\nfrom azure.mgmt.storage import StorageManagementClient\nimport ipywidgets as widgets\nfrom IPython.display import display\nimport SentinelAzure\nfrom SentinelWidgets import *\n\n# User Input and Save to Environmental store\n# Set to True if you want to reset the environmental values\nreset_environment_valiables = False\nenv_dir = %env\nenv_list = ['subscription_id', 'resource_group']\nenvs =  {env_list[0]:'', env_list[1]:''}\nenvs = WidgetViewHelper.set_env(reset_environment_valiables, env_dir, envs)\nsubscription_id = envs[env_list[0]]\nresource_group = envs[env_list[1]]",
      "execution_count": null,
      "outputs": []
    },
    {
      "metadata": {
        "trusted": true
      },
      "cell_type": "code",
      "source": "# SKIP THIS IF YOU HAVE RUN SSO USING DEVICE in Part 0-B\n# Blank cell for select an auth method\n# Copy Code here",
      "execution_count": null,
      "outputs": []
    },
    {
      "metadata": {
        "trusted": true
      },
      "cell_type": "code",
      "source": "# SKIP THIS IF YOU HAVE RUN SSO USING DEVICE in Part 0-B\n# Blank cell for authentication\n# Copy Code here",
      "execution_count": null,
      "outputs": []
    },
    {
      "metadata": {
        "trusted": true
      },
      "cell_type": "code",
      "source": "# AUTHENTICATION to ARM\n# RUN THIS IF YOU HAVE RUN SSO DEVICE in Part 0-B\n# please enter your tenant domain below, for Microsoft, using: microsoft.onmicrosoft.com\nfrom azure.common.client_factory import get_client_from_cli_profile\n!az login --tenant 'microsoft.onmicrosoft.com'\ncompute_client = get_client_from_cli_profile(ComputeManagementClient, subscription_id = subscription_id)\ncompute = SentinelAzure.azure_compute_helper.ComputeHelper(compute_client, resource_group)",
      "execution_count": null,
      "outputs": []
    },
    {
      "metadata": {},
      "cell_type": "markdown",
      "source": "## 2. Create Snapshot and Generate SAS URL"
    },
    {
      "metadata": {
        "trusted": true
      },
      "cell_type": "code",
      "source": "# Select a VM\nselected_vm = WidgetViewHelper.select_vm(compute)\ndisplay(selected_vm)",
      "execution_count": null,
      "outputs": []
    },
    {
      "metadata": {
        "trusted": true
      },
      "cell_type": "code",
      "source": "# Select a managed disk\nselected_disk = WidgetViewHelper.select_managed_disk(compute, selected_vm.value)\ndisplay(selected_disk)",
      "execution_count": null,
      "outputs": []
    },
    {
      "metadata": {
        "trusted": true
      },
      "cell_type": "code",
      "source": "# User input, you may modify the default values\nsnapshot_name = selected_vm.value + 'snapshot'\nsnapshop_life_in_seconds = 3600",
      "execution_count": null,
      "outputs": []
    },
    {
      "metadata": {
        "trusted": true
      },
      "cell_type": "code",
      "source": "# Create a snapshot and generate SAS URL\nsas_url = compute.create_snapshot_and_generate_sas_url(**{'snapshot_name' : snapshot_name, 'selected_disk' : selected_disk.value, 'int_seconds' : snapshop_life_in_seconds})\nprint(sas_url)",
      "execution_count": null,
      "outputs": []
    },
    {
      "metadata": {
        "trusted": true
      },
      "cell_type": "code",
      "source": "",
      "execution_count": null,
      "outputs": []
    }
  ],
  "metadata": {
    "kernelspec": {
      "name": "python3-azureml",
      "display_name": "Python 3.6 - AzureML",
      "language": "python"
    },
    "language_info": {
      "version": "3.6.8",
      "nbconvert_exporter": "python",
      "name": "python",
      "codemirror_mode": {
        "version": 3,
        "name": "ipython"
      },
      "pygments_lexer": "ipython3",
      "mimetype": "text/x-python",
      "file_extension": ".py"
    },
    "celltoolbar": "Tags"
  },
  "nbformat": 4,
  "nbformat_minor": 1
}