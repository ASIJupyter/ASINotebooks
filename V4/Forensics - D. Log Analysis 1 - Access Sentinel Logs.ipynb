{
  "cells": [
    {
      "metadata": {
        "collapsed": true
      },
      "cell_type": "markdown",
      "source": "# Forensics - D. Log Analysis 1 - Access Sentinel Logs\n\n__Notebook Version:__ 1.0<br>\n__Python Version:__ Python 3.6 (including Python 3.6 - AzureML)<br>\n__Required Packages:__ Kqlmagic 0.1.90<br>\n__Platforms Supported:__<br>\n    -  Azure Notebooks Free Compute\n    -  Azure Notebooks DSVM\n__Data Source Required:__<br>\n    -  Log Analytics - SecurityEvent\n    \n### Description\nThe notebook provides you basic knowledge to use load data from Azure Log Analytics.  We will show you how to get Bookmark and AzureNetworkAnalytics data.\n\n<font color=red>When you switch between Azure Notebooks Free Compute and Data Science Virtual Machine (DSVM), you may need to select Python version: please select Python 3.6 for Free Compute, and Python 3.6 - AzureML for DSVM.</font>"
    },
    {
      "metadata": {},
      "cell_type": "markdown",
      "source": "## Table of Contents\n\n1. User Inputs \n2. Log into Log Analytics\n3. Check Data Availability and Query Data\n4. Get Azure Sentinel HuntingBookmarks\n5. Set up Network Security Group and Get AzureNetworkAnalytics"
    },
    {
      "metadata": {},
      "cell_type": "markdown",
      "source": "## 1. User Inputs"
    },
    {
      "metadata": {
        "trusted": true
      },
      "cell_type": "code",
      "source": "# User Input and Save to Environmental store\n# Set to True if you want to reset the environmental values\nimport os\nfrom SentinelWidgets import *\nreset_environment_valiables = False\nenv_dir = %env\nenv_list = ['tenant_id', 'subscription_id', 'resource_group', 'workspace_id']\nenvs =  {env_list[0]:'', env_list[1]:'', env_list[2]:'', env_list[3]:''}\nenvs = WidgetViewHelper.set_env(reset_environment_valiables, env_dir, envs)\ntenant_id = envs[env_list[0]]\nsubscription_id = envs[env_list[1]]\nresource_group = envs[env_list[2]]\nworkspace_id = envs[env_list[3]]",
      "execution_count": null,
      "outputs": []
    },
    {
      "metadata": {},
      "cell_type": "markdown",
      "source": "## 2. Log into Log Analytics"
    },
    {
      "metadata": {
        "trusted": true
      },
      "cell_type": "code",
      "source": "# You must run this cell to log into Log Analytics to continue\n# Make sure you have 0.1.90 or above, if not, run Kqlmagic installation again\n%reload_ext Kqlmagic\n%kql loganalytics://code;workspace=workspace_id;tenant=tenant_id;alias=\"SentinelDB\"",
      "execution_count": null,
      "outputs": []
    },
    {
      "metadata": {},
      "cell_type": "markdown",
      "source": "## 3. Check Data Availability and Query Data"
    },
    {
      "metadata": {},
      "cell_type": "markdown",
      "source": "1. Tables with records"
    },
    {
      "metadata": {
        "trusted": true
      },
      "cell_type": "code",
      "source": "%kql search * | summarize count() by Type",
      "execution_count": null,
      "outputs": []
    },
    {
      "metadata": {},
      "cell_type": "markdown",
      "source": "2. Query Security Event"
    },
    {
      "metadata": {
        "trusted": true
      },
      "cell_type": "code",
      "source": "%kql SecurityEvent | take 5 | project Account, Computer\ndf = _kql_raw_result_.to_dataframe()\ndf",
      "execution_count": null,
      "outputs": []
    },
    {
      "metadata": {
        "trusted": true
      },
      "cell_type": "markdown",
      "source": "## 4. Get Azure Sentinel HuntingBookmarks"
    },
    {
      "metadata": {
        "trusted": true
      },
      "cell_type": "code",
      "source": "%kql HuntingBookmark | take 5 \ndf = _kql_raw_result_.to_dataframe()\ndisplay(df)",
      "execution_count": null,
      "outputs": []
    },
    {
      "metadata": {
        "trusted": true
      },
      "cell_type": "markdown",
      "source": "## 5. Set up Network Security Group and Get AzureNetworkAnalytics"
    },
    {
      "metadata": {},
      "cell_type": "markdown",
      "source": "1. How to set up NSG Flow Log <br>\na. When a VM was created, a network security group was created at the same time;<br>\nb. Clicking Networking, you can find vm-nsg link; <br>\nc. Click the link, looking for NSG flow log under Monitoring section at the left menu; <br>\nd. Clicking the link, select the nsg entry, turn on the status, and save the changes."
    },
    {
      "metadata": {
        "trusted": true
      },
      "cell_type": "code",
      "source": "%kql AzureNetworkAnalytics_CL | take  5\ndf = _kql_raw_result_.to_dataframe()\ndisplay(df)",
      "execution_count": null,
      "outputs": []
    },
    {
      "metadata": {
        "trusted": true
      },
      "cell_type": "code",
      "source": "",
      "execution_count": null,
      "outputs": []
    }
  ],
  "metadata": {
    "celltoolbar": "Tags",
    "hide_input": false,
    "kernelspec": {
      "name": "python3-azureml",
      "display_name": "Python 3.6 - AzureML",
      "language": "python"
    },
    "language_info": {
      "version": "3.6.8",
      "nbconvert_exporter": "python",
      "name": "python",
      "codemirror_mode": {
        "version": 3,
        "name": "ipython"
      },
      "pygments_lexer": "ipython3",
      "mimetype": "text/x-python",
      "file_extension": ".py"
    },
    "toc": {
      "base_numbering": 1,
      "nav_menu": {},
      "number_sections": false,
      "sideBar": true,
      "skip_h1_title": false,
      "title_cell": "Table of Contents",
      "title_sidebar": "Contents",
      "toc_cell": false,
      "toc_position": {},
      "toc_section_display": true,
      "toc_window_display": false
    }
  },
  "nbformat": 4,
  "nbformat_minor": 2
}