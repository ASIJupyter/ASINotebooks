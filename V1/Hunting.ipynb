{
  "cells": [
    {
      "metadata": {
        "collapsed": true,
        "trusted": false
      },
      "cell_type": "markdown",
      "source": "# ASI Hunting - SecurityEvent Template"
    },
    {
      "metadata": {},
      "cell_type": "markdown",
      "source": "We would like to guide you though your threat hunting efforts:\n    1. Prepare the shell;\n    2. Enter values;\n    3. Execute queries;\n    4. Analyze data.\n"
    },
    {
      "metadata": {},
      "cell_type": "markdown",
      "source": "## 1. Install KQL Magic for Log Analytics "
    },
    {
      "metadata": {
        "trusted": true,
        "scrolled": true
      },
      "cell_type": "code",
      "source": "!pip install Kqlmagic --no-cache-dir --upgrade",
      "execution_count": null,
      "outputs": []
    },
    {
      "metadata": {
        "trusted": true
      },
      "cell_type": "code",
      "source": "%reload_ext Kqlmagic",
      "execution_count": null,
      "outputs": []
    },
    {
      "metadata": {},
      "cell_type": "markdown",
      "source": "If you need any help for kql magic     --> %kql --help \"help\" -popup_window\nIf you need any help for Log Analytics --> %kql --help \"LogAnalytics\""
    },
    {
      "metadata": {},
      "cell_type": "markdown",
      "source": "## 2. Log into Azure Notebooks"
    },
    {
      "metadata": {
        "trusted": true
      },
      "cell_type": "code",
      "source": "logAnalyticsWorkspaceId = input()",
      "execution_count": null,
      "outputs": []
    },
    {
      "metadata": {
        "trusted": true
      },
      "cell_type": "code",
      "source": "%kql loganalytics://code;workspace=logAnalyticsWorkspaceId",
      "execution_count": null,
      "outputs": []
    },
    {
      "metadata": {},
      "cell_type": "markdown",
      "source": "## 3. Collecting parameters"
    },
    {
      "metadata": {},
      "cell_type": "markdown",
      "source": "1. Enter How many days looking back"
    },
    {
      "metadata": {
        "trusted": true
      },
      "cell_type": "code",
      "source": "enteredDaysBack = input()",
      "execution_count": null,
      "outputs": []
    },
    {
      "metadata": {},
      "cell_type": "markdown",
      "source": "2. Select an entity type that you want to filter the data"
    },
    {
      "metadata": {
        "trusted": true,
        "scrolled": true
      },
      "cell_type": "code",
      "source": "import ipywidgets as widgets\nfrom IPython.display import display\nentityTypes = ['SourceFileName','ClientIP','UserId']\nselectedEntityType = widgets.Dropdown(options=entityTypes, value=entityTypes[0],description='Entity Type:')\ndisplay(selectedEntityType)",
      "execution_count": null,
      "outputs": []
    },
    {
      "metadata": {
        "trusted": true
      },
      "cell_type": "markdown",
      "source": "3. Enter an entity value for search"
    },
    {
      "metadata": {
        "trusted": true
      },
      "cell_type": "code",
      "source": "enteredEntityValue = input()",
      "execution_count": null,
      "outputs": []
    },
    {
      "metadata": {},
      "cell_type": "markdown",
      "source": "## 4. KQL operations, results are returned in Pandas DataFrame"
    },
    {
      "metadata": {},
      "cell_type": "markdown",
      "source": "### 4.1. SharePoint Download"
    },
    {
      "metadata": {
        "trusted": true
      },
      "cell_type": "code",
      "source": "%kql OfficeActivity | where RecordType == \"SharePointFileOperation\" | where Operation in (\"FileDownloaded\", \"FileUploaded\") | where TimeGenerated > ago({enteredDaysBack}d) | where {selectedEntityType.value} =~ '{enteredEntityValue}' \nif len(_kql_raw_result_) > 0:\n    dfSPDownload = _kql_raw_result_.to_dataframe()\nelse:\n    dfSPDownload = None\n    print('no data')",
      "execution_count": null,
      "outputs": []
    },
    {
      "metadata": {},
      "cell_type": "markdown",
      "source": "### 4.2  Office 365 Authentications"
    },
    {
      "metadata": {
        "trusted": true
      },
      "cell_type": "code",
      "source": "%kql OfficeActivity | where RecordType startswith \"Az\" | where Operation startswith \"UserLoggedIn\" | where {selectedEntityType.value} =~ '{enteredEntityValue}' | where TimeGenerated > ago({enteredDaysBack}d) | extend UserAgent = extractjson(\"$[0].Value\", ExtendedProperties, typeof(string)) | extend machineIndex=indexof(UserAgent, \"machine_id\") | extend UserAgent = substring(UserAgent, 0, machineIndex) | project Operation, UserId, TimeGenerated , UserAgent, ClientIP, LogonUserDisplayName, Client_IPAddress, SourceFileName, DestinationFileName \nif len(_kql_raw_result_) > 0:\n    dfO365Auth = _kql_raw_result_.to_dataframe()\nelse:\n    dfO365Auth = None\n    print('no data')",
      "execution_count": null,
      "outputs": []
    },
    {
      "metadata": {
        "trusted": true
      },
      "cell_type": "code",
      "source": "dfO365Auth",
      "execution_count": null,
      "outputs": []
    },
    {
      "metadata": {},
      "cell_type": "markdown",
      "source": "### 4.3 Office 365 Logons (No Parameters)"
    },
    {
      "metadata": {
        "trusted": true
      },
      "cell_type": "code",
      "source": "%%kql \nlet LogonEvents=() {\nlet logonFail=OfficeActivity\n| where RecordType in (\"AzureActiveDirectoryAccountLogon\", \"AzureActiveDirectoryStsLogon\") and ResultStatus =~ \"Failed\"\n| where TimeGenerated > ago(30d) \n| project  EventTime=TimeGenerated, AccountName=split(UserId, \"@\").[0], AccountDomain = iff(RecordType == \"AzureActiveDirectoryAccountLogon\",UserDomain,split(UserId, \"@\").[1]), UserId, IpAddress=ClientIP, OrganizationId, \nActionType=\"LogonFailure\";\nlet logonSuccess=OfficeActivity\n| where RecordType in (\"AzureActiveDirectoryAccountLogon\", \"AzureActiveDirectoryStsLogon\") and ResultStatus =~ \"Succeeded\"\n| where TimeGenerated > ago(30d) \n| project  EventTime=TimeGenerated, AccountName=split(UserId, \"@\").[0], AccountDomain = iff(RecordType == \"AzureActiveDirectoryAccountLogon\",UserDomain,split(UserId, \"@\").[1]), UserId, IpAddress=ClientIP, OrganizationId, \nActionType=\"Logon\";\n logonFail | union logonSuccess}; \nlet logonSummary =\n LogonEvents \n|summarize count() by ActionType, IpAddress, tostring(AccountName), tostring(AccountDomain), UserId, OrganizationId, bin(EventTime, 1m); \nlet logon_success = logonSummary | where ActionType == \"Logon\";\nlet logon_fail = logonSummary | where ActionType == \"LogonFailure\";\nlogon_fail | join kind = leftouter (logon_success) on  IpAddress\n| project EventTime, IpAddress, failCount=count_, AccountName, OrganizationId, UserId, successCount=count_1 \n| extend successRate = 1.0*successCount/(successCount+failCount)\n| project EventTime, IpAddress, AccountName, successRate, failCount, successCount, UserId, OrganizationId",
      "execution_count": null,
      "outputs": []
    },
    {
      "metadata": {
        "trusted": true
      },
      "cell_type": "code",
      "source": "if len(_kql_raw_result_) > 0:\n    dfO365Logons = _kql_raw_result_.to_dataframe()\nelse:\n    dfO365Logons = None\n    print('no data')",
      "execution_count": null,
      "outputs": []
    },
    {
      "metadata": {},
      "cell_type": "markdown",
      "source": "## 5. Data Analysis"
    },
    {
      "metadata": {},
      "cell_type": "markdown",
      "source": "### 5.1 SharePoint Download"
    },
    {
      "metadata": {
        "trusted": true
      },
      "cell_type": "code",
      "source": "if dfSPDownload is not None:\n    dfSPDownloadUserId = dfSPDownload.groupby(['UserId','LogonUserDisplayName'])['UserId'].count()\n    dfSPDownloadUserId.plot(kind='bar',x='UserId')",
      "execution_count": null,
      "outputs": []
    },
    {
      "metadata": {
        "trusted": true
      },
      "cell_type": "code",
      "source": "if dfSPDownload is not None:\n    dfSPDownloadClientIP = dfSPDownload.groupby(['ClientIP', 'Client_IPAddress'])['ClientIP'].count()\n    dfSPDownloadClientIP.plot(kind='bar',x='ClientIP')",
      "execution_count": null,
      "outputs": []
    },
    {
      "metadata": {
        "trusted": true
      },
      "cell_type": "code",
      "source": "if dfSPDownload is not None:\n    dfSPDownloadFile = dfSPDownload.groupby(['SourceFileName','DestinationFileName'])['DestinationFileName'].count()\n    dfSPDownloadFile.plot(kind='bar',x='SourceFileName')",
      "execution_count": null,
      "outputs": []
    },
    {
      "metadata": {
        "trusted": true
      },
      "cell_type": "markdown",
      "source": "### 5.2 Office 365 Authentications"
    },
    {
      "metadata": {
        "trusted": true
      },
      "cell_type": "code",
      "source": "if dfO365Auth is not None:\n    dfO365AuthUserId = dfO365Auth.groupby(['UserId','LogonUserDisplayName'])['UserId'].count()\n    dfO365AuthUserId.plot(kind='bar',x='UserId')",
      "execution_count": null,
      "outputs": []
    },
    {
      "metadata": {
        "trusted": true
      },
      "cell_type": "code",
      "source": "if dfO365Auth is not None:\n    dfO365AuthClientIP = dfO365Auth.groupby(['ClientIP', 'Client_IPAddress'])['ClientIP'].count()\n    dfO365AuthClientIP.plot(kind='bar',x='ClientIP')",
      "execution_count": null,
      "outputs": []
    },
    {
      "metadata": {
        "trusted": true
      },
      "cell_type": "markdown",
      "source": "### 5.3 Office 365 Logons"
    },
    {
      "metadata": {
        "trusted": true
      },
      "cell_type": "code",
      "source": "display(dfO365Logons)",
      "execution_count": null,
      "outputs": []
    },
    {
      "metadata": {},
      "cell_type": "markdown",
      "source": "## 6. Reference Data"
    },
    {
      "metadata": {
        "trusted": true,
        "scrolled": true
      },
      "cell_type": "code",
      "source": "if dfSPDownload is not None:\n    dfSPDownload.columns",
      "execution_count": null,
      "outputs": []
    },
    {
      "metadata": {
        "trusted": true
      },
      "cell_type": "code",
      "source": "",
      "execution_count": null,
      "outputs": []
    },
    {
      "metadata": {
        "trusted": true
      },
      "cell_type": "code",
      "source": "",
      "execution_count": null,
      "outputs": []
    },
    {
      "metadata": {
        "trusted": true
      },
      "cell_type": "code",
      "source": "",
      "execution_count": null,
      "outputs": []
    },
    {
      "metadata": {
        "trusted": true
      },
      "cell_type": "code",
      "source": "",
      "execution_count": null,
      "outputs": []
    }
  ],
  "metadata": {
    "kernelspec": {
      "name": "python36",
      "display_name": "Python 3.6",
      "language": "python"
    },
    "language_info": {
      "mimetype": "text/x-python",
      "nbconvert_exporter": "python",
      "name": "python",
      "pygments_lexer": "ipython3",
      "version": "3.6.6",
      "file_extension": ".py",
      "codemirror_mode": {
        "version": 3,
        "name": "ipython"
      }
    }
  },
  "nbformat": 4,
  "nbformat_minor": 2
}