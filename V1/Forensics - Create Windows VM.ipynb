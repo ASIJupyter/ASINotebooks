{
  "cells": [
    {
      "metadata": {},
      "cell_type": "markdown",
      "source": "# Forensics - Create Windows VM\n\n__Notebook Version:__ 1.0<br>\n__Python Version:__ Python 3.6 (including Python 3.6 - AzureML)<br>\n__Required Packages:__ Azure 4.0.0<br>\n__OS Supported:__<br>\n    -  Windows\n__Platforms Supported:__<br>\n    -  Azure Notebooks Free Compute\n    -  Azure Notebooks DSVM\n__Data Source Required:__<br>\n    -  no\n    \n### Description\nThe notebook provides sample code to create a Windows VM.\n\n<font color=red>When you switch between Azure Notebooks Free Compute and Data Science Virtual Machine (DSVM), you may need to select Python version: please select Python 3.6 for Free Compute, and Python 3.6 - AzureML for DSVM.</font>"
    },
    {
      "metadata": {},
      "cell_type": "markdown",
      "source": "## Prerequisite check"
    },
    {
      "metadata": {
        "trusted": true
      },
      "cell_type": "code",
      "source": "# only run once, current version 0.1.2\n!pip install --upgrade Sentinel-Utilities",
      "execution_count": null,
      "outputs": []
    },
    {
      "metadata": {
        "trusted": true
      },
      "cell_type": "code",
      "source": "import SentinelUtils\n# checking Python version\ncheck = SentinelUtils.version_management.ModuleVersionCheck()\npy_check = check.validate_python('3.6.0')\nif py_check.requirement_met == False:\n    print('Please select Python 3.6 or Python 3.6 - AzureML at the upper right corner')\nelse:\n    print('Please continue')",
      "execution_count": null,
      "outputs": []
    },
    {
      "metadata": {
        "trusted": true
      },
      "cell_type": "code",
      "source": "# checking required packages\nmods_check = check.validate_installed_modules(['Azure>=4.0.0'])\nfor mod_info in mods_check:\n    if mod_info.requirement_met == False:\n        print('Please install {} {} at the following cell.'.format(mod_info.name, mod_info.required_version))",
      "execution_count": null,
      "outputs": []
    },
    {
      "metadata": {
        "trusted": true
      },
      "cell_type": "code",
      "source": "# Please install required packages based on the check at last cell\n#!pip install azure",
      "execution_count": null,
      "outputs": []
    },
    {
      "metadata": {},
      "cell_type": "markdown",
      "source": "## Table of Contents\n\n1. Retrieve Azure Resource Information\n2. Authentication to Azure Resource Management \n3. Create Windows VM"
    },
    {
      "metadata": {},
      "cell_type": "markdown",
      "source": "## 1. Retrieve Azure Resource Information"
    },
    {
      "metadata": {
        "trusted": true
      },
      "cell_type": "code",
      "source": "path = %env PATH\ndsvm = False\nif '/dsvm/' in path:\n    dsvm = True\n\n# information from config.json\nif dsvm == False:\n    # Run this if you are using Free Compute\n    tenant_id = SentinelUtils.config_reader.ConfigReader.read_config_values(\"config.json\")[0]\n    subscription_id = SentinelUtils.config_reader.ConfigReader.read_config_values(\"config.json\")[1]\n    resource_group = SentinelUtils.config_reader.ConfigReader.read_config_values(\"config.json\")[2]\nelse:\n    # Run this if you are using DSVM.  You need to copy the values from config.json, if the file has no value, then you need to go to Log Analytics Portal to get the information.\n    tenant_id = input('tenant_id:')\n    subscription_id = input('subscription_id:')\n    resource_group = input('resource_group:')",
      "execution_count": null,
      "outputs": []
    },
    {
      "metadata": {},
      "cell_type": "markdown",
      "source": "## 2. Authentication to Azure Resource Management"
    },
    {
      "metadata": {
        "trusted": true
      },
      "cell_type": "code",
      "source": "from azure.common.credentials import ServicePrincipalCredentials\nfrom azure.mgmt.resource import ResourceManagementClient\nfrom azure.mgmt.compute import ComputeManagementClient\nfrom azure.mgmt.network import NetworkManagementClient\nfrom azure.mgmt.compute.models import DiskCreateOption",
      "execution_count": null,
      "outputs": []
    },
    {
      "metadata": {},
      "cell_type": "markdown",
      "source": "1. Select Authentication Methods<br>\nIf multi-factors authentication is enabled for your tenant, you must use Service Principal to authentication to Azure resource management.  Otherwise, you may choose either Service Principal or User ID/Password."
    },
    {
      "metadata": {
        "trusted": true
      },
      "cell_type": "code",
      "source": "import ipywidgets as widgets\nfrom IPython.display import display\nauth_method = ['Service Principal', 'User ID/Password']\nselected_auth = widgets.Dropdown(options=auth_method, value=auth_method[0],description='Auth Method:')\ndisplay(selected_auth)",
      "execution_count": null,
      "outputs": []
    },
    {
      "metadata": {},
      "cell_type": "markdown",
      "source": "2. Authentication"
    },
    {
      "metadata": {
        "trusted": true
      },
      "cell_type": "code",
      "source": "if selected_auth.value == 'Service Principal':\n    credentials = ServicePrincipalCredentials(\n        client_id=input('client_id:'), \n        secret=input('secret:'), \n        tenant=tenant_id)\nelse:\n    from azure.common.credentials import UserPassCredentials\n    import getpass\n    uid = input('User ID:')\n    pwd = getpass.getpass()\n    credentials = UserPassCredentials(uid, pwd)\n    \nclient = ResourceManagementClient(credentials, subscription_id)",
      "execution_count": null,
      "outputs": []
    },
    {
      "metadata": {
        "trusted": true
      },
      "cell_type": "markdown",
      "source": "## 3. Create Windows VM"
    },
    {
      "metadata": {
        "trusted": true
      },
      "cell_type": "code",
      "source": "resource_group_client = ResourceManagementClient(credentials, subscription_id)\ncompute_client = ComputeManagementClient(credentials, subscription_id)\nnetwork_client = NetworkManagementClient(credentials, subscription_id)",
      "execution_count": null,
      "outputs": []
    },
    {
      "metadata": {
        "trusted": true
      },
      "cell_type": "code",
      "source": "# User input\nvm_name = input('vm_name:')\nvm_location = input('vm_location:')\ngroup_name = input('resource_group_name:')",
      "execution_count": null,
      "outputs": []
    },
    {
      "metadata": {
        "trusted": true
      },
      "cell_type": "code",
      "source": "# functions for creating VM\ndef create_resource_group(resource_group_client):\n    resource_group_params = { 'location': vm_location }\n    resource_group_result = resource_group_client.resource_groups.create_or_update(\n        group_name, \n        resource_group_params\n    )\n    \ndef create_availability_set(compute_client):\n    avset_params = {\n        'location': vm_location,\n        'sku': { 'name': 'Aligned' },\n        'platform_fault_domain_count': 3\n    }\n    availability_set_result = compute_client.availability_sets.create_or_update(\n        group_name,\n        'myAVSet',\n        avset_params\n    )\n    \ndef create_public_ip_address(network_client):\n    public_ip_addess_params = {\n        'location': vm_location,\n        'public_ip_allocation_method': 'Dynamic'\n    }\n    creation_result = network_client.public_ip_addresses.create_or_update(\n        group_name,\n        'myIPAddress',\n        public_ip_addess_params\n    )\n\n    return creation_result.result()\n\ndef create_vnet(network_client):\n    vnet_params = {\n        'location': vm_location,\n        'address_space': {\n            'address_prefixes': ['10.0.0.0/16']\n        }\n    }\n    creation_result = network_client.virtual_networks.create_or_update(\n        group_name,\n        'myVNet',\n        vnet_params\n    )\n    return creation_result.result()\n\ndef create_subnet(network_client):\n    subnet_params = {\n        'address_prefix': '10.0.0.0/24'\n    }\n    creation_result = network_client.subnets.create_or_update(\n        group_name,\n        'myVNet',\n        'mySubnet',\n        subnet_params\n    )\n\n    return creation_result.result()\n\ndef create_nic(network_client):\n    subnet_info = network_client.subnets.get(\n        group_name, \n        'myVNet', \n        'mySubnet'\n    )\n    publicIPAddress = network_client.public_ip_addresses.get(\n        group_name,\n        'myIPAddress'\n    )\n    nic_params = {\n        'location': vm_location,\n        'ip_configurations': [{\n            'name': 'myIPConfig',\n            'public_ip_address': publicIPAddress,\n            'subnet': {\n                'id': subnet_info.id\n            }\n        }]\n    }\n    creation_result = network_client.network_interfaces.create_or_update(\n        group_name,\n        'myNic',\n        nic_params\n    )\n\n    return creation_result.result()",
      "execution_count": null,
      "outputs": []
    },
    {
      "metadata": {
        "trusted": true
      },
      "cell_type": "code",
      "source": "def create_vm():\n    import azure\n\n    nic = network_client.network_interfaces.get(\n            group_name, \n            'myNic'\n        )\n\n    result = compute_client.virtual_machines.create_or_update(\n        group_name,\n        vm_name,\n        azure.mgmt.compute.models.VirtualMachine(\n            location = vm_location,\n            os_profile = azure.mgmt.compute.models.OSProfile(\n                admin_username = 'xxxx',\n                admin_password = 'xxxx',\n                computer_name = vm_name,\n            ),\n            hardware_profile = azure.mgmt.compute.models.HardwareProfile(\n                vm_size = azure.mgmt.compute.models.VirtualMachineSizeTypes.standard_b2s\n            ),\n            network_profile=azure.mgmt.compute.models.NetworkProfile(\n                network_interfaces=[\n                    azure.mgmt.compute.models.NetworkInterfaceReference(\n                        id=nic.id,\n                        primary=True\n                    ),\n                ],\n            ),\n            storage_profile=azure.mgmt.compute.models.StorageProfile(\n                os_disk=azure.mgmt.compute.models.OSDisk(\n                    caching=azure.mgmt.compute.models.CachingTypes.none,\n                    create_option=azure.mgmt.compute.models.DiskCreateOptionTypes.from_image,\n                    name='vhdsnapshot',\n                ),\n                image_reference = azure.mgmt.compute.models.ImageReference(\n                    publisher='MicrosoftWindowsServer',\n                    offer='WindowsServer',\n                    sku='2012-R2-Datacenter',\n                    version='latest',\n                ),\n            ),\n        ),\n    )",
      "execution_count": null,
      "outputs": []
    },
    {
      "metadata": {
        "trusted": true
      },
      "cell_type": "code",
      "source": "# create resource group\nasync_resource_group_create = create_resource_group(resource_group_client)",
      "execution_count": null,
      "outputs": []
    },
    {
      "metadata": {
        "trusted": true
      },
      "cell_type": "code",
      "source": "# create availability set\ncreate_availability_set(compute_client)",
      "execution_count": null,
      "outputs": []
    },
    {
      "metadata": {
        "trusted": true
      },
      "cell_type": "code",
      "source": "# create public IP address\ncreation_result = create_public_ip_address(network_client)\nprint(creation_result)",
      "execution_count": null,
      "outputs": []
    },
    {
      "metadata": {
        "trusted": true
      },
      "cell_type": "code",
      "source": "# create virtual network\ncreation_result = create_vnet(network_client)\nprint(creation_result)",
      "execution_count": null,
      "outputs": []
    },
    {
      "metadata": {
        "trusted": true
      },
      "cell_type": "code",
      "source": "# create a subnet\ncreation_result = create_subnet(network_client)\nprint(creation_result)",
      "execution_count": null,
      "outputs": []
    },
    {
      "metadata": {
        "trusted": true
      },
      "cell_type": "code",
      "source": "# create ntework interface client\ncreation_result = create_nic(network_client)\nprint(creation_result)",
      "execution_count": null,
      "outputs": []
    },
    {
      "metadata": {
        "trusted": true
      },
      "cell_type": "code",
      "source": "# create VM\ncreation_result = create_vm()\nprint(creation_result)",
      "execution_count": null,
      "outputs": []
    },
    {
      "metadata": {
        "trusted": true
      },
      "cell_type": "code",
      "source": "",
      "execution_count": null,
      "outputs": []
    }
  ],
  "metadata": {
    "kernelspec": {
      "name": "python3-azureml",
      "display_name": "Python 3.6 - AzureML",
      "language": "python"
    },
    "language_info": {
      "pygments_lexer": "ipython3",
      "name": "python",
      "file_extension": ".py",
      "codemirror_mode": {
        "name": "ipython",
        "version": 3
      },
      "nbconvert_exporter": "python",
      "mimetype": "text/x-python",
      "version": "3.6.7"
    }
  },
  "nbformat": 4,
  "nbformat_minor": 1
}