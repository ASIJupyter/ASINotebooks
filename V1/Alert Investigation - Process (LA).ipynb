{
 "cells": [
  {
   "cell_type": "markdown",
   "metadata": {},
   "source": [
    "# Title: Alert Investigation (Process Alerts)\n",
    "LogAnalytics\n",
    "Version 0.3\n",
    "## Description:\n",
    "Series of modules designed to help get a better understanding of the context of a process-based alert.\n"
   ]
  },
  {
   "cell_type": "markdown",
   "metadata": {},
   "source": [
    "<a id='toc'></a>\n",
    "## Table of Contents\n",
    "- [Setup](#setup)\n",
    "\n",
    "- [Get Alerts List](#getalertslist)\n",
    "- [Choose an Alert to investigate](#selectalert)\n",
    "  - [Extract Properties and entities from alert](#extractalertproperties)\n",
    "  - [Entity Graph](#entitygraph)\n",
    "- [Get time boundaries for subsequent queries](#setquerytimeboundaries)\n",
    "- [Past Alerts](#previous_alerts)\n",
    "- [Check for IOCs in Commandline](#cmdlineiocs)\n",
    "  - [VirusTotal lookup](#virustotallookup)\n",
    "  - [Interflow lookup](#interflowlookup)\n",
    "- [Alert command line - Occurrence on other hosts in subscription](#cmdlineonotherhosts)\n",
    "- [Process Session](#process_session)\n",
    "  - [Show Session Process Tree](#processtree)\n",
    "  - [Process Timeline](#processtimeline)\n",
    "  - [Prevalence of processes in subscription compared with Alert host](#processprevalence)\n",
    "  - [Comparison of alert logon session processes with previous sessions on host](#sessioncomparison)\n",
    "- [Alert Account](#logonaccount)\n",
    "  - [Basic Logon Information](#basiclogon)\n",
    "  - [Time distribution of recent logons](#recentlogonpattern)\n",
    "  - [Logon failures](#logonfailures)\n",
    "- [Report Summary (TBD)](#reportsummary)\n",
    "- [Appendices](#appendices)\n",
    "  - [Saving data to Excel](#appendices)\n"
   ]
  },
  {
   "cell_type": "markdown",
   "metadata": {},
   "source": [
    "<a id='setup'></a>[Contents](#toc)\n",
    "# Setup\n",
    "\n",
    "1. Make sure that you have installed packages specified in the setup (uncomment the lines to execute)\n",
    "2. There are some manual steps up to selecting the alert ID. After this most of the notebook can be executed sequentially\n",
    "3. Major sections should be executable independently (e.g. Alert Account can be run skipping Process Session)\n",
    "\n",
    "## Install Packages"
   ]
  },
  {
   "cell_type": "code",
   "execution_count": null,
   "metadata": {},
   "outputs": [],
   "source": [
    "# You will need these packages - should only need to uncomment and run once.\n",
    "# !pip install msgpack\n",
    "\n",
    "# # Since this has prequent updates it might be good to leave this uncommented\n",
    "!pip install Kqlmagic --no-cache-dir  --upgrade\n",
    "\n",
    "# !pip install PyHamcrest\n",
    "# # should not need this for current notebook.\n",
    "# #!conda install -c conda-forge python-levenshtein -y\n",
    "# !pip install bokeh\n",
    "# !pip install holoviews\n",
    "# !pip install seaborn\n",
    "# !pip install pythonnet\n"
   ]
  },
  {
   "cell_type": "markdown",
   "metadata": {},
   "source": [
    "### Imports"
   ]
  },
  {
   "cell_type": "code",
   "execution_count": 2,
   "metadata": {
    "scrolled": true
   },
   "outputs": [],
   "source": [
    "#Imports\n",
    "import numpy as np\n",
    "import scipy.linalg as lin\n",
    "#import Levenshtein as leven\n",
    "from IPython import get_ipython\n",
    "from IPython.display import display\n",
    "import ipywidgets as widgets\n",
    "from ipywidgets import interactive, Layout, Select, IntSlider\n",
    "\n",
    "import matplotlib.pyplot as plt\n",
    "from sklearn.cluster import KMeans\n",
    "from sklearn.cluster import AffinityPropagation\n",
    "import itertools\n",
    "import networkx as nx\n",
    "\n",
    "import pandas as pd\n",
    "pd.set_option('display.max_rows', 200)\n",
    "pd.set_option('display.max_columns', 50)\n",
    "pd.set_option('display.max_colwidth', 200)\n"
   ]
  },
  {
   "cell_type": "code",
   "execution_count": 2,
   "metadata": {
    "scrolled": true,
    "tags": [
     "todo"
    ]
   },
   "outputs": [
    {
     "data": {
      "text/html": [
       "\n",
       "    <script>\n",
       "    function code_toggle() {\n",
       "        if ($('div.cell.code_cell.rendered.selected div.input').css('display')!='none'){\n",
       "            $('div.cell.code_cell.rendered.selected div.input').hide();\n",
       "        } else {\n",
       "            $('div.cell.code_cell.rendered.selected div.input').show();\n",
       "        }\n",
       "    }\n",
       "    </script>\n",
       "\n",
       "\n",
       "<form action=\"javascript:code_toggle()\"><input type=\"submit\" id=\"toggleButton\" value=\"Show/Hide Code\"></form>\n"
      ],
      "text/plain": [
       "<IPython.core.display.HTML object>"
      ]
     },
     "metadata": {},
     "output_type": "display_data"
    }
   ],
   "source": [
    "# TODO - add this to hide code cells\n",
    "from IPython.core.display import display, HTML\n",
    "toggle_code_str = '''\n",
    "<form action=\"javascript:code_toggle()\"><input type=\"submit\" id=\"toggleButton\" value=\"Show/Hide Code\"></form>\n",
    "'''\n",
    "\n",
    "toggle_code_prepare_str = '''\n",
    "    <script>\n",
    "    function code_toggle() {\n",
    "        if ($('div.cell.code_cell.rendered.selected div.input').css('display')!='none'){\n",
    "            $('div.cell.code_cell.rendered.selected div.input').hide();\n",
    "        } else {\n",
    "            $('div.cell.code_cell.rendered.selected div.input').show();\n",
    "        }\n",
    "    }\n",
    "    </script>\n",
    "\n",
    "'''\n",
    "\n",
    "display(HTML(toggle_code_prepare_str + toggle_code_str))\n",
    "\n",
    "def toggle_code():\n",
    "    display(HTML(toggle_code_str))"
   ]
  },
  {
   "cell_type": "markdown",
   "metadata": {},
   "source": [
    "Kusto functions setup"
   ]
  },
  {
   "cell_type": "code",
   "execution_count": 4,
   "metadata": {
    "tags": [
     "todo"
    ]
   },
   "outputs": [
    {
     "data": {
      "text/html": [
       "\n",
       "<form action=\"javascript:code_toggle()\"><input type=\"submit\" id=\"toggleButton\" value=\"Show/Hide Code\"></form>\n"
      ],
      "text/plain": [
       "<IPython.core.display.HTML object>"
      ]
     },
     "metadata": {},
     "output_type": "display_data"
    }
   ],
   "source": [
    "# Kusto utility functions\n",
    "# Allows printing of query with stripped commments and newline chars\n",
    "def print_kql(query):\n",
    "    print(clean_kql_query(query))\n",
    "\n",
    "def clean_kql_query(query_string):\n",
    "    import re\n",
    "    return re.sub(r'(//[^\\\"\\'\\n]+)', '', query_string, re.MULTILINE).replace('\\n', '').strip()\n",
    "\n",
    "def execute_kql_query(query_string):\n",
    "    if not query_string or len(query_string.strip()) == 0:\n",
    "        print('No query supplied')\n",
    "        return None\n",
    "    src_query = clean_kql_query(query_string)\n",
    "    magic_string = f'results_frame << {src_query}'\n",
    "    magic_string = magic_string\n",
    "    ip = get_ipython()\n",
    "    ip.run_line_magic('kql', magic_string)\n",
    "    return results_frame\n",
    "\n",
    "\n",
    "# Query setup for LogAnalytics\n",
    "security_alert_source = 'SecurityAlert'\n",
    "security_alert_project = '''| project TenantId,\n",
    "StartTimeUtc = StartTime,\n",
    "EndTimeUtc = EndTime,\n",
    "ProviderAlertId = VendorOriginalId,\n",
    "SystemAlertId,\n",
    "ProviderName,\n",
    "VendorName,\n",
    "AlertType = AlertName,\n",
    "AlertName,\n",
    "AlertDisplayName = DisplayName,\n",
    "Description,\n",
    "Severity = AlertSeverity,\n",
    "IsIncident,\n",
    "ExtendedProperties,\n",
    "Entities,\n",
    "ConfidenceLevel,\n",
    "ConfidenceScore,\n",
    "ExtendedLinks,\n",
    "WorkspaceSubscriptionId,\n",
    "WorkspaceResourceGroup,\n",
    "TimeGenerated,\n",
    "ResourceId,\n",
    "SourceComputerId '''\n",
    "\n",
    "# Process Creation 4688\n",
    "proc_create_eventsource = 'SecurityEvent | where EventID == 4688'\n",
    "process_create_project = '''| project TenantId,\n",
    "Account,\n",
    "EventID,\n",
    "TimeGenerated,\n",
    "Computer,\n",
    "SubjectUserSid,\n",
    "SubjectUserName,\n",
    "SubjectDomainName,\n",
    "SubjectLogonId,\n",
    "NewProcessId,\n",
    "NewProcessName,\n",
    "TokenElevationType,\n",
    "ProcessId,\n",
    "CommandLine,\n",
    "ParentProcessName,\n",
    "TargetLogonId,\n",
    "SourceComputerId\n",
    "| extend TimeCreatedUtc=TimeGenerated '''\n",
    "\n",
    "# Account Logon 4624 (also works for 4625)\n",
    "account_logon_eventsource = 'SecurityEvent | where EventID == 4624'\n",
    "account_logon_project = '''| project TenantId,\n",
    "Account,\n",
    "EventID,\n",
    "TimeGenerated,\n",
    "SourceComputerId,\n",
    "Computer,\n",
    "SubjectUserName,\n",
    "SubjectDomainName,\n",
    "SubjectUserSid,\n",
    "TargetUserName,\n",
    "TargetDomainName,\n",
    "TargetUserSid,\n",
    "TargetLogonId,\n",
    "LogonProcessName,\n",
    "LogonType,\n",
    "AuthenticationPackageName,\n",
    "Status,\n",
    "IpAddress,\n",
    "WorkstationName\n",
    "| extend TimeCreatedUtc=TimeGenerated '''\n",
    "\n",
    "toggle_code()"
   ]
  },
  {
   "cell_type": "markdown",
   "metadata": {},
   "source": [
    "<a id='enterworkspace'></a>[Contents](#toc)\n",
    "### Enter or Confirm Workspace ID"
   ]
  },
  {
   "cell_type": "code",
   "execution_count": 5,
   "metadata": {
    "scrolled": true
   },
   "outputs": [
    {
     "data": {
      "application/vnd.jupyter.widget-view+json": {
       "model_id": "4463c40d680a4a83adb427134f418a45",
       "version_major": 2,
       "version_minor": 0
      },
      "text/plain": [
       "HTML(value=\"To find your workspace ID go to \\n<a href='https://ms.portal.azure.com/#blade/HubsExtension/Resour…"
      ]
     },
     "metadata": {},
     "output_type": "display_data"
    },
    {
     "data": {
      "application/vnd.jupyter.widget-view+json": {
       "model_id": "c387ac7add494bfb8984fc35e1618e1f",
       "version_major": 2,
       "version_minor": 0
      },
      "text/plain": [
       "HBox(children=(Text(value='', description='Azure Security Insights Workspace ID:', layout=Layout(width='50%'),…"
      ]
     },
     "metadata": {},
     "output_type": "display_data"
    }
   ],
   "source": [
    "import os\n",
    "from ipywidgets import widgets, Select, Layout, interactive, Label\n",
    "def text_input_widget(description, defaultvalue):\n",
    "    return widgets.Text(value=defaultvalue, description=description, layout = Layout(width='50%'),\n",
    "                        style = {'description_width': 'initial'})\n",
    "\n",
    "help_str = '''To find your workspace ID go to \n",
    "<a href='https://ms.portal.azure.com/#blade/HubsExtension/Resources/resourceType/Microsoft.OperationalInsights%2Fworkspaces'>\n",
    "Azure Operational Insights portal</a>.\n",
    " Click on your log analytics workspace and copy the workspace ID from the Properties blade.'''\n",
    "WORKSPACEID = os.environ.get('WORKSPACEID')\n",
    "if WORKSPACEID == None or len(WORKSPACEID) == 0:\n",
    "    display(widgets.HTML(value=help_str))\n",
    "    \n",
    "wstext = text_input_widget('Azure Security Insights Workspace ID:', WORKSPACEID)\n",
    "save_button = widgets.Button(description='Set', layout = Layout(width='10%', disabled=False),\n",
    "                             style = {'description_width': 'initial'})\n",
    "check_save = widgets.Checkbox(value=True, description='Save as environment var', disabled=False)\n",
    "\n",
    "def on_save_button_clicked(b):\n",
    "    if check_save.value:\n",
    "        os.environ['WORKSPACEID'] = wstext.value\n",
    "\n",
    "save_button.on_click(on_save_button_clicked)  \n",
    "hbox = widgets.HBox([wstext, save_button, check_save])\n",
    "display(hbox)"
   ]
  },
  {
   "cell_type": "code",
   "execution_count": 7,
   "metadata": {
    "tags": [
     "remove"
    ]
   },
   "outputs": [
    {
     "data": {
      "application/vnd.jupyter.widget-view+json": {
       "model_id": "afe6909072424ee682c8c672200b463a",
       "version_major": 2,
       "version_minor": 0
      },
      "text/plain": [
       "interactive(children=(Select(description='Select workspace :', layout=Layout(height='100px', width='50%'), opt…"
      ]
     },
     "metadata": {},
     "output_type": "display_data"
    }
   ],
   "source": [
    "# Internal Version to choose from multiple demon workspaces\n",
    "from ipywidgets import widgets, Select, Layout, interactive\n",
    "available_workspaces = {'Contoso77':'802d39e1-9d70-404d-832c-2de5e2478eda', \n",
    "                        'MSTICLinux':'06dc719f-5dad-47e9-b5af-07d84a0bda4e',\n",
    "                        'ASIHuntOMSWorkspaceV4': '52b1ab41-869e-4138-9e40-2a4457f09bf0',\n",
    "                        'ASIHuntOMSWorkspaceV5': '4ca7b24a-6e8f-4540-a8ce-1a80c2948c37',\n",
    "                        'Rome ILDC - Detection E2E Tests Stage': '3eb61071-5dcd-4db3-94fa-0091a69b7359'}\n",
    "\n",
    "alertId = ''\n",
    "def select_workspace(x=''):\n",
    "    global la_workspace\n",
    "    la_workspace = available_workspaces[x]\n",
    "     \n",
    "selected_workspace = widgets.Select(options=available_workspaces.keys(), \n",
    "                              description='Select workspace :',\n",
    "                              layout=Layout(width='50%', height='100px'),\n",
    "                              style = {'description_width': 'initial'})\n",
    "interactive(select_workspace, x=selected_workspace)\n"
   ]
  },
  {
   "cell_type": "markdown",
   "metadata": {},
   "source": [
    "### Authenticate to Log Analytics"
   ]
  },
  {
   "cell_type": "code",
   "execution_count": 8,
   "metadata": {},
   "outputs": [
    {
     "data": {
      "text/html": [
       "<!DOCTYPE html>\n",
       "                    <html><body><script>\n",
       "\n",
       "                        // close authentication window\n",
       "                        if (kql_MagicUserCodeAuthWindow && kql_MagicUserCodeAuthWindow.opener != null && !kql_MagicUserCodeAuthWindow.closed) {\n",
       "                            kql_MagicUserCodeAuthWindow.close()\n",
       "                        }\n",
       "                        // TODO: make sure, you clear the right cell. BTW, not sure it is a must to do any clearing\n",
       "\n",
       "                        // clear output cell\n",
       "                        Jupyter.notebook.clear_output(Jupyter.notebook.get_selected_index())\n",
       "\n",
       "                        // TODO: if in run all mode, move to last cell, otherwise move to next cell\n",
       "                        // move to next cell\n",
       "\n",
       "                    </script></body></html>"
      ],
      "text/plain": [
       "<IPython.core.display.HTML object>"
      ]
     },
     "metadata": {},
     "output_type": "display_data"
    },
    {
     "data": {
      "text/html": [
       "<!DOCTYPE html>\n",
       "            <html><body>\n",
       "\n",
       "            <button onclick=\"this.style.visibility='visible';kql_MagicLaunchWindowFunction('Kqlmagic_temp_files/_52b1ab41-869e-4138-9e40-2a4457f09bf0_at_loganalytics_schema.html','fullscreen=no,directories=no,location=no,menubar=no,resizable=yes,scrollbars=yes,status=no,titlebar=no,toolbar=no,','_52b1ab41_869e_4138_9e40_2a4457f09bf0_at_loganalytics_schema','')\">popup schema 52b1ab41-869e-4138-9e40-2a4457f09bf0@loganalytics</button>\n",
       "\n",
       "            <script>\n",
       "\n",
       "            function kql_MagicLaunchWindowFunction(file_path, window_params, window_name, notebooks_host) {\n",
       "                var url;\n",
       "                if (file_path.startsWith('http')) {\n",
       "                    url = file_path;\n",
       "                } else {\n",
       "                    var base_url = '';\n",
       "\n",
       "                    // check if azure notebook\n",
       "                    var azure_host = (notebooks_host == null || notebooks_host.length == 0) ? 'https://notebooks.azure.com' : notebooks_host;\n",
       "                    var start = azure_host.search('//');\n",
       "                    var azure_host_suffix = '.' + azure_host.substring(start+2);\n",
       "\n",
       "                    var loc = String(window.location);\n",
       "                    var end = loc.search(azure_host_suffix);\n",
       "                    start = loc.search('//');\n",
       "                    if (start > 0 && end > 0) {\n",
       "                        var parts = loc.substring(start+2, end).split('-');\n",
       "                        if (parts.length == 2) {\n",
       "                            var library = parts[0];\n",
       "                            var user = parts[1];\n",
       "                            base_url = azure_host + '/api/user/' +user+ '/library/' +library+ '/html/';\n",
       "                        }\n",
       "                    }\n",
       "\n",
       "                    // check if local jupyter lab\n",
       "                    if (base_url.length == 0) {\n",
       "                        var configDataScipt  = document.getElementById('jupyter-config-data');\n",
       "                        if (configDataScipt != null) {\n",
       "                            var jupyterConfigData = JSON.parse(configDataScipt.textContent);\n",
       "                            if (jupyterConfigData['appName'] == 'JupyterLab' && jupyterConfigData['serverRoot'] != null &&  jupyterConfigData['treeUrl'] != null) {\n",
       "                                var basePath = 'E:\\src\\asi-jupyter\\miscnotebooks' + '/';\n",
       "                                if (basePath.startsWith(jupyterConfigData['serverRoot'])) {\n",
       "                                    base_url = '/files/' + basePath.substring(jupyterConfigData['serverRoot'].length+1);\n",
       "                                }\n",
       "                            } \n",
       "                        }\n",
       "                    }\n",
       "\n",
       "                    // assume local jupyter notebook\n",
       "                    if (base_url.length == 0) {\n",
       "\n",
       "                        var parts = loc.split('/');\n",
       "                        parts.pop();\n",
       "                        base_url = parts.join('/') + '/';\n",
       "                    }\n",
       "                    url = base_url + file_path;\n",
       "                }\n",
       "\n",
       "                window.focus();\n",
       "                var w = screen.width / 2;\n",
       "                var h = screen.height / 2;\n",
       "                params = 'width='+w+',height='+h;\n",
       "                kql_Magic__52b1ab41_869e_4138_9e40_2a4457f09bf0_at_loganalytics_schema = window.open(url, window_name, window_params + params);\n",
       "            }\n",
       "            </script>\n",
       "\n",
       "            </body></html>"
      ],
      "text/plain": [
       "<IPython.core.display.HTML object>"
      ]
     },
     "metadata": {},
     "output_type": "display_data"
    }
   ],
   "source": [
    "# KqlMagic\n",
    "%reload_ext Kqlmagic\n",
    "%config Kqlmagic.auto_dataframe=True\n",
    "%kql loganalytics://code().workspace(la_workspace)\n",
    "\n",
    "# Alternative syntax if you are using an AAD AppID instead of user/device authentication\n",
    "#%kql loganalytics://tenant(aad_tenant).workspace(la_workspace).clientid(reader_client_id).clientsecret(reader_client_secret)"
   ]
  },
  {
   "cell_type": "markdown",
   "metadata": {
    "tags": [
     "todo"
    ]
   },
   "source": [
    "<a id='getalertslist'></a>[Contents](#toc)\n",
    "# Get Alerts List\n",
    "\n",
    "**Note**: this is a placeholder section. We need something a bit more intelligent and flexible but that possibly belongs in another notebook. The purpose here is simply to get a list of subscriptions and alerts to test out the rest of the notebook."
   ]
  },
  {
   "cell_type": "code",
   "execution_count": 9,
   "metadata": {},
   "outputs": [],
   "source": [
    "get_alerts_count_tmplt = '''\n",
    "{table}\n",
    "{query_project}\n",
    "| where TimeGenerated >= datetime({start})\n",
    "| where TimeGenerated <= datetime({end})\n",
    "| summarize alertCount=count(), firstAlert=min(StartTimeUtc), lastAlert=max(StartTimeUtc) by AlertName\n",
    "| order by alertCount desc\n",
    "'''.format(table = security_alert_source, query_project=security_alert_project, start = '{start}', end = '{end}')\n",
    "\n",
    "\n",
    "get_alerts_tmplt ='''\n",
    "{table}\n",
    "{query_project}\n",
    "| where TimeGenerated >= datetime({start})\n",
    "| where TimeGenerated > datetime({end})\n",
    "| extend extendedProps = parse_json(ExtendedProperties) \n",
    "| extend CompromisedEntity = tostring(extendedProps['Compromised Host'])\n",
    "| project-away extendedProps\n",
    "'''.format(table = security_alert_source, query_project=security_alert_project, start = '{start}', end = '{end}' )\n",
    "\n",
    "\n"
   ]
  },
  {
   "cell_type": "code",
   "execution_count": 3,
   "metadata": {
    "scrolled": true
   },
   "outputs": [
    {
     "data": {
      "application/vnd.jupyter.widget-view+json": {
       "model_id": "f25958f213dd487e9f83e246dea4b8aa",
       "version_major": 2,
       "version_minor": 0
      },
      "text/plain": [
       "HTML(value='<h4>Set query time boundaries</h4>')"
      ]
     },
     "metadata": {},
     "output_type": "display_data"
    },
    {
     "data": {
      "application/vnd.jupyter.widget-view+json": {
       "model_id": "567c3379ff40439daffbb7f6aac1c313",
       "version_major": 2,
       "version_minor": 0
      },
      "text/plain": [
       "HBox(children=(DatePicker(value=datetime.date(2019, 1, 17), description='Origin Date'), Text(value='01:23:11.0…"
      ]
     },
     "metadata": {},
     "output_type": "display_data"
    },
    {
     "data": {
      "application/vnd.jupyter.widget-view+json": {
       "model_id": "f9e1e4c1a645449a9b123c17b1b68e00",
       "version_major": 2,
       "version_minor": 0
      },
      "text/plain": [
       "VBox(children=(IntRangeSlider(value=(-60, 10), description='Time Range (min):', layout=Layout(width='80%'), mi…"
      ]
     },
     "metadata": {},
     "output_type": "display_data"
    }
   ],
   "source": [
    "from datetime import datetime, timedelta\n",
    "class QueryTime:\n",
    "    _label_style = {'description_width': 'initial'}\n",
    "    \n",
    "    def __init__(self, origin_time : datetime = None, before=60, after=10, max_before=600, max_after=100):\n",
    "        # default to now\n",
    "        self.origin_time = datetime.utcnow() if origin_time is None else origin_time\n",
    "        \n",
    "        # Calculate default time offsets from origin\n",
    "        self._queryStart = self.origin_time - timedelta(0, before * 60)\n",
    "        self._queryEnd = self.origin_time + timedelta(0, after * 60)\n",
    "        \n",
    "        # Create widgets\n",
    "        self._w_origin_dt = widgets.DatePicker(description='Origin Date', disabled=False, value = self.origin_time.date())\n",
    "        self._w_origin_tm = widgets.Text(description='Time (24hr)', disabled=False, value = str(self.origin_time.time()))\n",
    "        \n",
    "        self._w_tm_range = widgets.IntRangeSlider(value=[-before, after], min=-max_before, max=max_after, step=1, \n",
    "                                                  description='Time Range (min):', disabled=False, \n",
    "                                                  continuous_update=True, orientation='horizontal',\n",
    "                                                  readout=True, readout_format='d', layout=Layout(width='80%'),\n",
    "                                                  style=self._label_style)\n",
    "        \n",
    "        self._w_startTime_txt = widgets.Text(value=self._queryStart.isoformat(sep=' '),\n",
    "                                             description='Query start time (UTC):',\n",
    "                                             layout = Layout(width='50%'), style = self._label_style)\n",
    "        self._w_endTime_txt = widgets.Text(value=self._queryStart.isoformat(sep=' '),\n",
    "                                           description='Query end time (UTC) :  ',\n",
    "                                           layout = Layout(width='50%'), style = self._label_style)\n",
    "    \n",
    "        self._w_tm_range.observe(self._time_range_change, names='value')\n",
    "        self._w_origin_dt.observe(self._update_origin, names='value')\n",
    "        self._w_origin_tm.observe(self._update_origin, names='value')\n",
    "        \n",
    "    def display(self):\n",
    "        display(widgets.HTML('<h4>Set query time boundaries</h4>'))\n",
    "        display(widgets.HBox([self._w_origin_dt, self._w_origin_tm]))\n",
    "        display(widgets.VBox([self._w_tm_range, self._w_startTime_txt, self._w_endTime_txt]))\n",
    "\n",
    "    def _update_origin(self, change):\n",
    "        try:\n",
    "            tm_value = datetime.strptime(self._w_origin_tm.value, '%H:%M:%S.%f').time()\n",
    "            self.origin_time = datetime.combine(self._w_origin_dt.value, tm_value)\n",
    "            self._time_range_change(change=None)\n",
    "        except:\n",
    "            pass\n",
    "\n",
    "    def _time_range_change(self, change):\n",
    "        self._queryStart = self.origin_time + timedelta(0, self._w_tm_range.value[0] * 60)\n",
    "        self._queryEnd = self.origin_time + timedelta(0, self._w_tm_range.value[1] * 60)\n",
    "        self._w_startTime_txt.value = self._queryStart.isoformat(sep=' ')\n",
    "        self._w_endTime_txt.value = self._queryEnd.isoformat(sep=' ')\n",
    "    \n",
    "    @property\n",
    "    def start(self):\n",
    "        return self._queryStart\n",
    "    \n",
    "    @property\n",
    "    def end(self):\n",
    "        return self._queryEnd\n",
    "\n",
    "qt = QueryTime()\n",
    "qt.display()\n"
   ]
  },
  {
   "cell_type": "code",
   "execution_count": 12,
   "metadata": {
    "scrolled": true
   },
   "outputs": [
    {
     "data": {
      "text/html": [
       "<div>\n",
       "<style scoped>\n",
       "    .dataframe tbody tr th:only-of-type {\n",
       "        vertical-align: middle;\n",
       "    }\n",
       "\n",
       "    .dataframe tbody tr th {\n",
       "        vertical-align: top;\n",
       "    }\n",
       "\n",
       "    .dataframe thead th {\n",
       "        text-align: right;\n",
       "    }\n",
       "</style>\n",
       "<table border=\"1\" class=\"dataframe\">\n",
       "  <thead>\n",
       "    <tr style=\"text-align: right;\">\n",
       "      <th></th>\n",
       "      <th>AlertName</th>\n",
       "      <th>alertCount</th>\n",
       "      <th>firstAlert</th>\n",
       "      <th>lastAlert</th>\n",
       "    </tr>\n",
       "  </thead>\n",
       "  <tbody>\n",
       "    <tr>\n",
       "      <th>0</th>\n",
       "      <td>Potential reverse shell detected</td>\n",
       "      <td>5</td>\n",
       "      <td>2018-12-17 20:15:09</td>\n",
       "      <td>2018-12-18 00:15:07</td>\n",
       "    </tr>\n",
       "    <tr>\n",
       "      <th>1</th>\n",
       "      <td>Screenshot taken on host</td>\n",
       "      <td>5</td>\n",
       "      <td>2018-12-17 20:15:14</td>\n",
       "      <td>2018-12-18 00:15:09</td>\n",
       "    </tr>\n",
       "    <tr>\n",
       "      <th>2</th>\n",
       "      <td>Detected file download from a known malicious source</td>\n",
       "      <td>5</td>\n",
       "      <td>2018-12-17 20:15:08</td>\n",
       "      <td>2018-12-18 00:15:06</td>\n",
       "    </tr>\n",
       "    <tr>\n",
       "      <th>3</th>\n",
       "      <td>Detected Persistence Attempt</td>\n",
       "      <td>5</td>\n",
       "      <td>2018-12-17 20:15:03</td>\n",
       "      <td>2018-12-18 00:15:02</td>\n",
       "    </tr>\n",
       "    <tr>\n",
       "      <th>4</th>\n",
       "      <td>New SSH key added</td>\n",
       "      <td>5</td>\n",
       "      <td>2018-12-17 20:15:03</td>\n",
       "      <td>2018-12-18 00:15:02</td>\n",
       "    </tr>\n",
       "    <tr>\n",
       "      <th>5</th>\n",
       "      <td>An history file has been cleared</td>\n",
       "      <td>5</td>\n",
       "      <td>2018-12-17 20:15:04</td>\n",
       "      <td>2018-12-18 00:15:02</td>\n",
       "    </tr>\n",
       "    <tr>\n",
       "      <th>6</th>\n",
       "      <td>Behavior similar to common Linux bots detected</td>\n",
       "      <td>5</td>\n",
       "      <td>2018-12-17 20:15:04</td>\n",
       "      <td>2018-12-18 00:15:03</td>\n",
       "    </tr>\n",
       "    <tr>\n",
       "      <th>7</th>\n",
       "      <td>Manipulation of host firewall detected</td>\n",
       "      <td>5</td>\n",
       "      <td>2018-12-17 20:15:06</td>\n",
       "      <td>2018-12-18 00:15:04</td>\n",
       "    </tr>\n",
       "    <tr>\n",
       "      <th>8</th>\n",
       "      <td>Suspicious Download Then Run Activity</td>\n",
       "      <td>5</td>\n",
       "      <td>2018-12-17 20:15:06</td>\n",
       "      <td>2018-12-18 00:15:05</td>\n",
       "    </tr>\n",
       "    <tr>\n",
       "      <th>9</th>\n",
       "      <td>Behavior similar to Fairware ransomware detected</td>\n",
       "      <td>5</td>\n",
       "      <td>2018-12-17 20:15:06</td>\n",
       "      <td>2018-12-18 00:15:05</td>\n",
       "    </tr>\n",
       "    <tr>\n",
       "      <th>10</th>\n",
       "      <td>Possible credential access tool detected</td>\n",
       "      <td>5</td>\n",
       "      <td>2018-12-17 20:15:07</td>\n",
       "      <td>2018-12-18 00:15:05</td>\n",
       "    </tr>\n",
       "    <tr>\n",
       "      <th>11</th>\n",
       "      <td>Potential overriding of common files</td>\n",
       "      <td>5</td>\n",
       "      <td>2018-12-17 20:15:08</td>\n",
       "      <td>2018-12-18 00:15:06</td>\n",
       "    </tr>\n",
       "    <tr>\n",
       "      <th>12</th>\n",
       "      <td>Azure Security Center test alert (not a threat)</td>\n",
       "      <td>5</td>\n",
       "      <td>2018-12-17 20:15:14</td>\n",
       "      <td>2018-12-17 23:15:10</td>\n",
       "    </tr>\n",
       "    <tr>\n",
       "      <th>13</th>\n",
       "      <td>Suspicious Powershell Activity Detected</td>\n",
       "      <td>4</td>\n",
       "      <td>2018-12-17 21:15:03</td>\n",
       "      <td>2018-12-17 21:15:03</td>\n",
       "    </tr>\n",
       "    <tr>\n",
       "      <th>14</th>\n",
       "      <td>Ransomware indicators detected</td>\n",
       "      <td>2</td>\n",
       "      <td>2018-12-17 20:15:14</td>\n",
       "      <td>2018-12-17 21:15:21</td>\n",
       "    </tr>\n",
       "    <tr>\n",
       "      <th>15</th>\n",
       "      <td>Sample Alert Rule</td>\n",
       "      <td>2</td>\n",
       "      <td>2018-12-17 18:48:24</td>\n",
       "      <td>2018-12-17 20:48:24</td>\n",
       "    </tr>\n",
       "    <tr>\n",
       "      <th>16</th>\n",
       "      <td>Executable found running from a suspicious location</td>\n",
       "      <td>2</td>\n",
       "      <td>2018-12-17 21:15:19</td>\n",
       "      <td>2018-12-17 21:15:19</td>\n",
       "    </tr>\n",
       "    <tr>\n",
       "      <th>17</th>\n",
       "      <td>Suspicious process executed</td>\n",
       "      <td>2</td>\n",
       "      <td>2018-12-17 21:15:19</td>\n",
       "      <td>2018-12-17 21:15:20</td>\n",
       "    </tr>\n",
       "    <tr>\n",
       "      <th>18</th>\n",
       "      <td>Privileged Container Detected</td>\n",
       "      <td>1</td>\n",
       "      <td>2018-12-17 20:15:09</td>\n",
       "      <td>2018-12-17 20:15:09</td>\n",
       "    </tr>\n",
       "    <tr>\n",
       "      <th>19</th>\n",
       "      <td>Privileged command run in container</td>\n",
       "      <td>1</td>\n",
       "      <td>2018-12-17 20:15:09</td>\n",
       "      <td>2018-12-17 20:15:09</td>\n",
       "    </tr>\n",
       "    <tr>\n",
       "      <th>20</th>\n",
       "      <td>Script extension mismatch detected</td>\n",
       "      <td>1</td>\n",
       "      <td>2018-12-17 20:15:11</td>\n",
       "      <td>2018-12-17 20:15:11</td>\n",
       "    </tr>\n",
       "    <tr>\n",
       "      <th>21</th>\n",
       "      <td>Suspicious PHP execution detected</td>\n",
       "      <td>1</td>\n",
       "      <td>2018-12-17 20:15:11</td>\n",
       "      <td>2018-12-17 20:15:11</td>\n",
       "    </tr>\n",
       "    <tr>\n",
       "      <th>22</th>\n",
       "      <td>Detected anomalous mix of upper and lower case characters in command-line</td>\n",
       "      <td>1</td>\n",
       "      <td>2018-12-17 20:15:14</td>\n",
       "      <td>2018-12-17 20:15:14</td>\n",
       "    </tr>\n",
       "    <tr>\n",
       "      <th>23</th>\n",
       "      <td>Detected suspicious DNS resolution</td>\n",
       "      <td>1</td>\n",
       "      <td>2018-12-17 20:15:14</td>\n",
       "      <td>2018-12-17 20:15:14</td>\n",
       "    </tr>\n",
       "    <tr>\n",
       "      <th>24</th>\n",
       "      <td>Detected suspicious use of the nohup command</td>\n",
       "      <td>1</td>\n",
       "      <td>2018-12-17 20:15:13</td>\n",
       "      <td>2018-12-17 20:15:13</td>\n",
       "    </tr>\n",
       "    <tr>\n",
       "      <th>25</th>\n",
       "      <td>Suspicious compilation detected</td>\n",
       "      <td>1</td>\n",
       "      <td>2018-12-17 20:15:11</td>\n",
       "      <td>2018-12-17 20:15:11</td>\n",
       "    </tr>\n",
       "    <tr>\n",
       "      <th>26</th>\n",
       "      <td>Detected suspicious file download</td>\n",
       "      <td>1</td>\n",
       "      <td>2018-12-17 20:15:12</td>\n",
       "      <td>2018-12-17 20:15:12</td>\n",
       "    </tr>\n",
       "    <tr>\n",
       "      <th>27</th>\n",
       "      <td>Possible suspicious scheduling tasks access detected</td>\n",
       "      <td>1</td>\n",
       "      <td>2018-12-17 20:15:02</td>\n",
       "      <td>2018-12-17 20:15:02</td>\n",
       "    </tr>\n",
       "    <tr>\n",
       "      <th>28</th>\n",
       "      <td>Suspicious binary detected</td>\n",
       "      <td>1</td>\n",
       "      <td>2018-12-17 20:15:03</td>\n",
       "      <td>2018-12-17 20:15:03</td>\n",
       "    </tr>\n",
       "    <tr>\n",
       "      <th>29</th>\n",
       "      <td>Exposed Docker daemon detected</td>\n",
       "      <td>1</td>\n",
       "      <td>2018-12-17 20:15:06</td>\n",
       "      <td>2018-12-17 20:15:06</td>\n",
       "    </tr>\n",
       "    <tr>\n",
       "      <th>30</th>\n",
       "      <td>Hidden file execution detected</td>\n",
       "      <td>1</td>\n",
       "      <td>2018-12-17 20:15:06</td>\n",
       "      <td>2018-12-17 20:15:06</td>\n",
       "    </tr>\n",
       "    <tr>\n",
       "      <th>31</th>\n",
       "      <td>Possible attack tool detected</td>\n",
       "      <td>1</td>\n",
       "      <td>2018-12-17 20:15:06</td>\n",
       "      <td>2018-12-17 20:15:06</td>\n",
       "    </tr>\n",
       "    <tr>\n",
       "      <th>32</th>\n",
       "      <td>Process associated with digital currency mining detected</td>\n",
       "      <td>1</td>\n",
       "      <td>2018-12-17 20:15:05</td>\n",
       "      <td>2018-12-17 20:15:05</td>\n",
       "    </tr>\n",
       "    <tr>\n",
       "      <th>33</th>\n",
       "      <td>Local host reconnaissance detected</td>\n",
       "      <td>1</td>\n",
       "      <td>2018-12-17 20:15:07</td>\n",
       "      <td>2018-12-17 20:15:07</td>\n",
       "    </tr>\n",
       "    <tr>\n",
       "      <th>34</th>\n",
       "      <td>Suspicious Account Creation Detected</td>\n",
       "      <td>1</td>\n",
       "      <td>2018-12-17 21:15:00</td>\n",
       "      <td>2018-12-17 21:15:00</td>\n",
       "    </tr>\n",
       "    <tr>\n",
       "      <th>35</th>\n",
       "      <td>Potential attempt to bypass AppLocker detected</td>\n",
       "      <td>1</td>\n",
       "      <td>2018-12-17 21:15:01</td>\n",
       "      <td>2018-12-17 21:15:01</td>\n",
       "    </tr>\n",
       "    <tr>\n",
       "      <th>36</th>\n",
       "      <td>Detected decoding of an executable using built-in certutil.exe tool</td>\n",
       "      <td>1</td>\n",
       "      <td>2018-12-17 21:15:02</td>\n",
       "      <td>2018-12-17 21:15:02</td>\n",
       "    </tr>\n",
       "    <tr>\n",
       "      <th>37</th>\n",
       "      <td>Suspiciously named process detected</td>\n",
       "      <td>1</td>\n",
       "      <td>2018-12-17 21:15:01</td>\n",
       "      <td>2018-12-17 21:15:01</td>\n",
       "    </tr>\n",
       "    <tr>\n",
       "      <th>38</th>\n",
       "      <td>Detected suspicious commandline used to start all executables in a directory</td>\n",
       "      <td>1</td>\n",
       "      <td>2018-12-17 21:15:20</td>\n",
       "      <td>2018-12-17 21:15:20</td>\n",
       "    </tr>\n",
       "    <tr>\n",
       "      <th>39</th>\n",
       "      <td>High risk software detected</td>\n",
       "      <td>1</td>\n",
       "      <td>2018-12-17 21:15:21</td>\n",
       "      <td>2018-12-17 21:15:21</td>\n",
       "    </tr>\n",
       "    <tr>\n",
       "      <th>40</th>\n",
       "      <td>Suspicious Volume Shadow Copy Activity</td>\n",
       "      <td>1</td>\n",
       "      <td>2018-12-17 21:15:20</td>\n",
       "      <td>2018-12-17 21:15:20</td>\n",
       "    </tr>\n",
       "    <tr>\n",
       "      <th>41</th>\n",
       "      <td>Detected suspicious use of Pcalua.exe to launch executable code</td>\n",
       "      <td>1</td>\n",
       "      <td>2018-12-17 21:15:21</td>\n",
       "      <td>2018-12-17 21:15:21</td>\n",
       "    </tr>\n",
       "    <tr>\n",
       "      <th>42</th>\n",
       "      <td>Detected suspicious named pipe communications</td>\n",
       "      <td>1</td>\n",
       "      <td>2018-12-17 21:15:04</td>\n",
       "      <td>2018-12-17 21:15:04</td>\n",
       "    </tr>\n",
       "    <tr>\n",
       "      <th>43</th>\n",
       "      <td>Detected potentially suspicious use of Telegram tool</td>\n",
       "      <td>1</td>\n",
       "      <td>2018-12-17 21:15:20</td>\n",
       "      <td>2018-12-17 21:15:20</td>\n",
       "    </tr>\n",
       "    <tr>\n",
       "      <th>44</th>\n",
       "      <td>Possible backdoor detected</td>\n",
       "      <td>1</td>\n",
       "      <td>2018-12-17 20:15:07</td>\n",
       "      <td>2018-12-17 20:15:07</td>\n",
       "    </tr>\n",
       "    <tr>\n",
       "      <th>45</th>\n",
       "      <td>Suspicious powershell cmdlets executed</td>\n",
       "      <td>1</td>\n",
       "      <td>2018-12-17 21:15:03</td>\n",
       "      <td>2018-12-17 21:15:03</td>\n",
       "    </tr>\n",
       "    <tr>\n",
       "      <th>46</th>\n",
       "      <td>Detected suspicious document credentials</td>\n",
       "      <td>1</td>\n",
       "      <td>2018-12-17 21:15:02</td>\n",
       "      <td>2018-12-17 21:15:02</td>\n",
       "    </tr>\n",
       "    <tr>\n",
       "      <th>47</th>\n",
       "      <td>Detected suspicious credentials in commandline</td>\n",
       "      <td>1</td>\n",
       "      <td>2018-12-17 21:15:02</td>\n",
       "      <td>2018-12-17 21:15:02</td>\n",
       "    </tr>\n",
       "    <tr>\n",
       "      <th>48</th>\n",
       "      <td>Detected encoded executable in command line data</td>\n",
       "      <td>1</td>\n",
       "      <td>2018-12-17 21:15:02</td>\n",
       "      <td>2018-12-17 21:15:02</td>\n",
       "    </tr>\n",
       "    <tr>\n",
       "      <th>49</th>\n",
       "      <td>Detected suspicious commandline arguments</td>\n",
       "      <td>1</td>\n",
       "      <td>2018-12-17 21:15:02</td>\n",
       "      <td>2018-12-17 21:15:02</td>\n",
       "    </tr>\n",
       "    <tr>\n",
       "      <th>50</th>\n",
       "      <td>Digital currency mining related behavior detected</td>\n",
       "      <td>1</td>\n",
       "      <td>2018-12-17 21:15:01</td>\n",
       "      <td>2018-12-17 21:15:01</td>\n",
       "    </tr>\n",
       "    <tr>\n",
       "      <th>51</th>\n",
       "      <td>Suspicious WindowPosition registry value detected</td>\n",
       "      <td>1</td>\n",
       "      <td>2018-12-17 21:15:04</td>\n",
       "      <td>2018-12-17 21:15:04</td>\n",
       "    </tr>\n",
       "    <tr>\n",
       "      <th>52</th>\n",
       "      <td>Suspicious system process executed</td>\n",
       "      <td>1</td>\n",
       "      <td>2018-12-17 21:15:19</td>\n",
       "      <td>2018-12-17 21:15:19</td>\n",
       "    </tr>\n",
       "    <tr>\n",
       "      <th>53</th>\n",
       "      <td>Detected obfuscated command line.</td>\n",
       "      <td>1</td>\n",
       "      <td>2018-12-17 21:15:03</td>\n",
       "      <td>2018-12-17 21:15:03</td>\n",
       "    </tr>\n",
       "    <tr>\n",
       "      <th>54</th>\n",
       "      <td>Container with a miner image detected</td>\n",
       "      <td>1</td>\n",
       "      <td>2018-12-17 20:15:07</td>\n",
       "      <td>2018-12-17 20:15:07</td>\n",
       "    </tr>\n",
       "    <tr>\n",
       "      <th>55</th>\n",
       "      <td>Detected possible local reconnaissance activity</td>\n",
       "      <td>1</td>\n",
       "      <td>2018-12-17 21:15:20</td>\n",
       "      <td>2018-12-17 21:15:20</td>\n",
       "    </tr>\n",
       "    <tr>\n",
       "      <th>56</th>\n",
       "      <td>Detected suspicious use of the useradd command</td>\n",
       "      <td>1</td>\n",
       "      <td>2018-12-17 20:15:13</td>\n",
       "      <td>2018-12-17 20:15:13</td>\n",
       "    </tr>\n",
       "    <tr>\n",
       "      <th>57</th>\n",
       "      <td>Sticky keys attack detected</td>\n",
       "      <td>1</td>\n",
       "      <td>2018-12-17 21:15:20</td>\n",
       "      <td>2018-12-17 21:15:20</td>\n",
       "    </tr>\n",
       "    <tr>\n",
       "      <th>58</th>\n",
       "      <td>Detected suspicious new firewall rule</td>\n",
       "      <td>1</td>\n",
       "      <td>2018-12-17 21:15:20</td>\n",
       "      <td>2018-12-17 21:15:20</td>\n",
       "    </tr>\n",
       "    <tr>\n",
       "      <th>59</th>\n",
       "      <td>Suspected Kerberos Golden Ticket attack parameters observed</td>\n",
       "      <td>1</td>\n",
       "      <td>2018-12-17 21:15:20</td>\n",
       "      <td>2018-12-17 21:15:20</td>\n",
       "    </tr>\n",
       "    <tr>\n",
       "      <th>60</th>\n",
       "      <td>Detected possible execution of keygen executable</td>\n",
       "      <td>1</td>\n",
       "      <td>2018-12-17 21:15:21</td>\n",
       "      <td>2018-12-17 21:15:21</td>\n",
       "    </tr>\n",
       "    <tr>\n",
       "      <th>61</th>\n",
       "      <td>Detected suspicious use of Cacls to lower the security state of the system.</td>\n",
       "      <td>1</td>\n",
       "      <td>2018-12-17 21:15:21</td>\n",
       "      <td>2018-12-17 21:15:21</td>\n",
       "    </tr>\n",
       "    <tr>\n",
       "      <th>62</th>\n",
       "      <td>Random process name detected</td>\n",
       "      <td>1</td>\n",
       "      <td>2018-12-17 21:15:20</td>\n",
       "      <td>2018-12-17 21:15:20</td>\n",
       "    </tr>\n",
       "    <tr>\n",
       "      <th>63</th>\n",
       "      <td>Detected change to a registry key that can be abused to bypass UAC</td>\n",
       "      <td>1</td>\n",
       "      <td>2018-12-17 21:15:20</td>\n",
       "      <td>2018-12-17 21:15:20</td>\n",
       "    </tr>\n",
       "    <tr>\n",
       "      <th>64</th>\n",
       "      <td>Detected possible execution of malware dropper</td>\n",
       "      <td>1</td>\n",
       "      <td>2018-12-17 21:15:21</td>\n",
       "      <td>2018-12-17 21:15:21</td>\n",
       "    </tr>\n",
       "    <tr>\n",
       "      <th>65</th>\n",
       "      <td>Possible credential dumping detected</td>\n",
       "      <td>1</td>\n",
       "      <td>2018-12-17 21:15:21</td>\n",
       "      <td>2018-12-17 21:15:21</td>\n",
       "    </tr>\n",
       "    <tr>\n",
       "      <th>66</th>\n",
       "      <td>Suspicious double extension file executed</td>\n",
       "      <td>1</td>\n",
       "      <td>2018-12-17 21:15:20</td>\n",
       "      <td>2018-12-17 21:15:20</td>\n",
       "    </tr>\n",
       "    <tr>\n",
       "      <th>67</th>\n",
       "      <td>Suspicious download using Certutil detected</td>\n",
       "      <td>1</td>\n",
       "      <td>2018-12-17 21:15:21</td>\n",
       "      <td>2018-12-17 21:15:21</td>\n",
       "    </tr>\n",
       "    <tr>\n",
       "      <th>68</th>\n",
       "      <td>Suspicious SVCHOST process executed</td>\n",
       "      <td>1</td>\n",
       "      <td>2018-12-17 21:15:21</td>\n",
       "      <td>2018-12-17 21:15:21</td>\n",
       "    </tr>\n",
       "    <tr>\n",
       "      <th>69</th>\n",
       "      <td>Detected actions indicative of disabling and deleting IIS log files.</td>\n",
       "      <td>1</td>\n",
       "      <td>2018-12-17 21:15:20</td>\n",
       "      <td>2018-12-17 21:15:20</td>\n",
       "    </tr>\n",
       "    <tr>\n",
       "      <th>70</th>\n",
       "      <td>Detected suspicious Set-ExecutionPolicy and WinRM changes</td>\n",
       "      <td>1</td>\n",
       "      <td>2018-12-17 21:15:20</td>\n",
       "      <td>2018-12-17 21:15:20</td>\n",
       "    </tr>\n",
       "    <tr>\n",
       "      <th>71</th>\n",
       "      <td>Detected suspicious use of FTP -s Switch</td>\n",
       "      <td>1</td>\n",
       "      <td>2018-12-17 21:15:20</td>\n",
       "      <td>2018-12-17 21:15:20</td>\n",
       "    </tr>\n",
       "    <tr>\n",
       "      <th>72</th>\n",
       "      <td>Detected suspicious file creation</td>\n",
       "      <td>1</td>\n",
       "      <td>2018-12-17 21:15:21</td>\n",
       "      <td>2018-12-17 21:15:21</td>\n",
       "    </tr>\n",
       "    <tr>\n",
       "      <th>73</th>\n",
       "      <td>Anomalous account creation detected</td>\n",
       "      <td>1</td>\n",
       "      <td>2018-12-17 21:15:00</td>\n",
       "      <td>2018-12-17 21:15:00</td>\n",
       "    </tr>\n",
       "  </tbody>\n",
       "</table>\n",
       "</div>"
      ],
      "text/plain": [
       "                                                                       AlertName  \\\n",
       "0                                               Potential reverse shell detected   \n",
       "1                                                       Screenshot taken on host   \n",
       "2                           Detected file download from a known malicious source   \n",
       "3                                                   Detected Persistence Attempt   \n",
       "4                                                              New SSH key added   \n",
       "5                                               An history file has been cleared   \n",
       "6                                 Behavior similar to common Linux bots detected   \n",
       "7                                         Manipulation of host firewall detected   \n",
       "8                                          Suspicious Download Then Run Activity   \n",
       "9                               Behavior similar to Fairware ransomware detected   \n",
       "10                                      Possible credential access tool detected   \n",
       "11                                          Potential overriding of common files   \n",
       "12                               Azure Security Center test alert (not a threat)   \n",
       "13                                       Suspicious Powershell Activity Detected   \n",
       "14                                                Ransomware indicators detected   \n",
       "15                                                             Sample Alert Rule   \n",
       "16                           Executable found running from a suspicious location   \n",
       "17                                                   Suspicious process executed   \n",
       "18                                                 Privileged Container Detected   \n",
       "19                                           Privileged command run in container   \n",
       "20                                            Script extension mismatch detected   \n",
       "21                                             Suspicious PHP execution detected   \n",
       "22     Detected anomalous mix of upper and lower case characters in command-line   \n",
       "23                                            Detected suspicious DNS resolution   \n",
       "24                                  Detected suspicious use of the nohup command   \n",
       "25                                               Suspicious compilation detected   \n",
       "26                                             Detected suspicious file download   \n",
       "27                          Possible suspicious scheduling tasks access detected   \n",
       "28                                                    Suspicious binary detected   \n",
       "29                                                Exposed Docker daemon detected   \n",
       "30                                                Hidden file execution detected   \n",
       "31                                                 Possible attack tool detected   \n",
       "32                      Process associated with digital currency mining detected   \n",
       "33                                            Local host reconnaissance detected   \n",
       "34                                          Suspicious Account Creation Detected   \n",
       "35                                Potential attempt to bypass AppLocker detected   \n",
       "36           Detected decoding of an executable using built-in certutil.exe tool   \n",
       "37                                           Suspiciously named process detected   \n",
       "38  Detected suspicious commandline used to start all executables in a directory   \n",
       "39                                                   High risk software detected   \n",
       "40                                        Suspicious Volume Shadow Copy Activity   \n",
       "41               Detected suspicious use of Pcalua.exe to launch executable code   \n",
       "42                                 Detected suspicious named pipe communications   \n",
       "43                          Detected potentially suspicious use of Telegram tool   \n",
       "44                                                    Possible backdoor detected   \n",
       "45                                        Suspicious powershell cmdlets executed   \n",
       "46                                      Detected suspicious document credentials   \n",
       "47                                Detected suspicious credentials in commandline   \n",
       "48                              Detected encoded executable in command line data   \n",
       "49                                     Detected suspicious commandline arguments   \n",
       "50                             Digital currency mining related behavior detected   \n",
       "51                             Suspicious WindowPosition registry value detected   \n",
       "52                                            Suspicious system process executed   \n",
       "53                                             Detected obfuscated command line.   \n",
       "54                                         Container with a miner image detected   \n",
       "55                               Detected possible local reconnaissance activity   \n",
       "56                                Detected suspicious use of the useradd command   \n",
       "57                                                   Sticky keys attack detected   \n",
       "58                                         Detected suspicious new firewall rule   \n",
       "59                   Suspected Kerberos Golden Ticket attack parameters observed   \n",
       "60                              Detected possible execution of keygen executable   \n",
       "61   Detected suspicious use of Cacls to lower the security state of the system.   \n",
       "62                                                  Random process name detected   \n",
       "63            Detected change to a registry key that can be abused to bypass UAC   \n",
       "64                                Detected possible execution of malware dropper   \n",
       "65                                          Possible credential dumping detected   \n",
       "66                                     Suspicious double extension file executed   \n",
       "67                                   Suspicious download using Certutil detected   \n",
       "68                                           Suspicious SVCHOST process executed   \n",
       "69          Detected actions indicative of disabling and deleting IIS log files.   \n",
       "70                     Detected suspicious Set-ExecutionPolicy and WinRM changes   \n",
       "71                                      Detected suspicious use of FTP -s Switch   \n",
       "72                                             Detected suspicious file creation   \n",
       "73                                           Anomalous account creation detected   \n",
       "\n",
       "    alertCount          firstAlert           lastAlert  \n",
       "0            5 2018-12-17 20:15:09 2018-12-18 00:15:07  \n",
       "1            5 2018-12-17 20:15:14 2018-12-18 00:15:09  \n",
       "2            5 2018-12-17 20:15:08 2018-12-18 00:15:06  \n",
       "3            5 2018-12-17 20:15:03 2018-12-18 00:15:02  \n",
       "4            5 2018-12-17 20:15:03 2018-12-18 00:15:02  \n",
       "5            5 2018-12-17 20:15:04 2018-12-18 00:15:02  \n",
       "6            5 2018-12-17 20:15:04 2018-12-18 00:15:03  \n",
       "7            5 2018-12-17 20:15:06 2018-12-18 00:15:04  \n",
       "8            5 2018-12-17 20:15:06 2018-12-18 00:15:05  \n",
       "9            5 2018-12-17 20:15:06 2018-12-18 00:15:05  \n",
       "10           5 2018-12-17 20:15:07 2018-12-18 00:15:05  \n",
       "11           5 2018-12-17 20:15:08 2018-12-18 00:15:06  \n",
       "12           5 2018-12-17 20:15:14 2018-12-17 23:15:10  \n",
       "13           4 2018-12-17 21:15:03 2018-12-17 21:15:03  \n",
       "14           2 2018-12-17 20:15:14 2018-12-17 21:15:21  \n",
       "15           2 2018-12-17 18:48:24 2018-12-17 20:48:24  \n",
       "16           2 2018-12-17 21:15:19 2018-12-17 21:15:19  \n",
       "17           2 2018-12-17 21:15:19 2018-12-17 21:15:20  \n",
       "18           1 2018-12-17 20:15:09 2018-12-17 20:15:09  \n",
       "19           1 2018-12-17 20:15:09 2018-12-17 20:15:09  \n",
       "20           1 2018-12-17 20:15:11 2018-12-17 20:15:11  \n",
       "21           1 2018-12-17 20:15:11 2018-12-17 20:15:11  \n",
       "22           1 2018-12-17 20:15:14 2018-12-17 20:15:14  \n",
       "23           1 2018-12-17 20:15:14 2018-12-17 20:15:14  \n",
       "24           1 2018-12-17 20:15:13 2018-12-17 20:15:13  \n",
       "25           1 2018-12-17 20:15:11 2018-12-17 20:15:11  \n",
       "26           1 2018-12-17 20:15:12 2018-12-17 20:15:12  \n",
       "27           1 2018-12-17 20:15:02 2018-12-17 20:15:02  \n",
       "28           1 2018-12-17 20:15:03 2018-12-17 20:15:03  \n",
       "29           1 2018-12-17 20:15:06 2018-12-17 20:15:06  \n",
       "30           1 2018-12-17 20:15:06 2018-12-17 20:15:06  \n",
       "31           1 2018-12-17 20:15:06 2018-12-17 20:15:06  \n",
       "32           1 2018-12-17 20:15:05 2018-12-17 20:15:05  \n",
       "33           1 2018-12-17 20:15:07 2018-12-17 20:15:07  \n",
       "34           1 2018-12-17 21:15:00 2018-12-17 21:15:00  \n",
       "35           1 2018-12-17 21:15:01 2018-12-17 21:15:01  \n",
       "36           1 2018-12-17 21:15:02 2018-12-17 21:15:02  \n",
       "37           1 2018-12-17 21:15:01 2018-12-17 21:15:01  \n",
       "38           1 2018-12-17 21:15:20 2018-12-17 21:15:20  \n",
       "39           1 2018-12-17 21:15:21 2018-12-17 21:15:21  \n",
       "40           1 2018-12-17 21:15:20 2018-12-17 21:15:20  \n",
       "41           1 2018-12-17 21:15:21 2018-12-17 21:15:21  \n",
       "42           1 2018-12-17 21:15:04 2018-12-17 21:15:04  \n",
       "43           1 2018-12-17 21:15:20 2018-12-17 21:15:20  \n",
       "44           1 2018-12-17 20:15:07 2018-12-17 20:15:07  \n",
       "45           1 2018-12-17 21:15:03 2018-12-17 21:15:03  \n",
       "46           1 2018-12-17 21:15:02 2018-12-17 21:15:02  \n",
       "47           1 2018-12-17 21:15:02 2018-12-17 21:15:02  \n",
       "48           1 2018-12-17 21:15:02 2018-12-17 21:15:02  \n",
       "49           1 2018-12-17 21:15:02 2018-12-17 21:15:02  \n",
       "50           1 2018-12-17 21:15:01 2018-12-17 21:15:01  \n",
       "51           1 2018-12-17 21:15:04 2018-12-17 21:15:04  \n",
       "52           1 2018-12-17 21:15:19 2018-12-17 21:15:19  \n",
       "53           1 2018-12-17 21:15:03 2018-12-17 21:15:03  \n",
       "54           1 2018-12-17 20:15:07 2018-12-17 20:15:07  \n",
       "55           1 2018-12-17 21:15:20 2018-12-17 21:15:20  \n",
       "56           1 2018-12-17 20:15:13 2018-12-17 20:15:13  \n",
       "57           1 2018-12-17 21:15:20 2018-12-17 21:15:20  \n",
       "58           1 2018-12-17 21:15:20 2018-12-17 21:15:20  \n",
       "59           1 2018-12-17 21:15:20 2018-12-17 21:15:20  \n",
       "60           1 2018-12-17 21:15:21 2018-12-17 21:15:21  \n",
       "61           1 2018-12-17 21:15:21 2018-12-17 21:15:21  \n",
       "62           1 2018-12-17 21:15:20 2018-12-17 21:15:20  \n",
       "63           1 2018-12-17 21:15:20 2018-12-17 21:15:20  \n",
       "64           1 2018-12-17 21:15:21 2018-12-17 21:15:21  \n",
       "65           1 2018-12-17 21:15:21 2018-12-17 21:15:21  \n",
       "66           1 2018-12-17 21:15:20 2018-12-17 21:15:20  \n",
       "67           1 2018-12-17 21:15:21 2018-12-17 21:15:21  \n",
       "68           1 2018-12-17 21:15:21 2018-12-17 21:15:21  \n",
       "69           1 2018-12-17 21:15:20 2018-12-17 21:15:20  \n",
       "70           1 2018-12-17 21:15:20 2018-12-17 21:15:20  \n",
       "71           1 2018-12-17 21:15:20 2018-12-17 21:15:20  \n",
       "72           1 2018-12-17 21:15:21 2018-12-17 21:15:21  \n",
       "73           1 2018-12-17 21:15:00 2018-12-17 21:15:00  "
      ]
     },
     "metadata": {},
     "output_type": "display_data"
    }
   ],
   "source": [
    "get_alerts_count_query = get_alerts_count_tmplt.format(start = qt.start, end = qt.end)\n",
    "get_alerts_query = get_alerts_tmplt.format(start = qt.start, end = qt.end)\n",
    "\n",
    "alert_counts = execute_kql_query(get_alerts_count_query)\n",
    "last_alerts = execute_kql_query(get_alerts_query)\n",
    "display(alert_counts)"
   ]
  },
  {
   "cell_type": "markdown",
   "metadata": {},
   "source": [
    "<a id='selectalert'></a>[Contents](#toc)\n",
    "# Choose Alert to Investigate\n",
    "Choose from list of retrieved alerts or paste the alert Id here [EnterAlertId](#enteralertid)"
   ]
  },
  {
   "cell_type": "code",
   "execution_count": 14,
   "metadata": {},
   "outputs": [],
   "source": [
    "from IPython.core.display import HTML\n",
    "\n",
    "# Fetch and alert\n",
    "def fetch_alert(alertproviderId, local_cache=None):\n",
    "    \n",
    "    if local_cache is not None:\n",
    "        alerts = local_cache[local_cache['ProviderAlertId'] == alertproviderId]\n",
    "    else:\n",
    "        # Get alert\n",
    "        getAlertQuery = f'{get_alerts_query} | where ProviderAlertId == \\'{alertproviderId}\\''\n",
    "        alerts = execute_kql_query(getAlertQuery)\n",
    "        \n",
    "    if alerts.shape[0] > 0:\n",
    "        investigatedAlert = pd.Series(alerts.iloc[0])\n",
    "        if isinstance(investigatedAlert['ExtendedProperties'], str):\n",
    "            investigatedAlert['ExtendedProperties'] = json.loads((investigatedAlert['ExtendedProperties']))\n",
    "        if isinstance(investigatedAlert['Entities'], str):\n",
    "            investigatedAlert['Entities'] = json.loads((investigatedAlert['Entities']))\n",
    "        return investigatedAlert\n",
    "    \n",
    "def display_alert(investigatedAlert=None):\n",
    "    if investigatedAlert is not None:\n",
    "        # Display raw properties\n",
    "        display(pd.DataFrame(investigatedAlert))\n",
    "        if 'ExtendedProperties' in investigatedAlert:\n",
    "            display(HTML('<b>ExtendedProperties:<b>'))\n",
    "            display(pd.io.json.json_normalize(investigatedAlert['ExtendedProperties']).T)\n",
    "            \n",
    "        if 'Entities' in investigatedAlert:\n",
    "            display(HTML('<b>Entities:</b>'))\n",
    "            for e in investigatedAlert['Entities']:\n",
    "                display(widgets.Label(value='    {}'.format(e)))\n",
    "        "
   ]
  },
  {
   "cell_type": "markdown",
   "metadata": {},
   "source": [
    "## Select alert from list"
   ]
  },
  {
   "cell_type": "code",
   "execution_count": 16,
   "metadata": {
    "scrolled": false
   },
   "outputs": [
    {
     "data": {
      "application/vnd.jupyter.widget-view+json": {
       "model_id": "855bf3906b4b4fbfb3aa91c4b7a60d1d",
       "version_major": 2,
       "version_minor": 0
      },
      "text/plain": [
       "Text(value='', description='Filter alerts by title:', style=DescriptionStyle(description_width='initial'))"
      ]
     },
     "metadata": {},
     "output_type": "display_data"
    },
    {
     "data": {
      "application/vnd.jupyter.widget-view+json": {
       "model_id": "3918dd74bac84510b8d76493eba04a6c",
       "version_major": 2,
       "version_minor": 0
      },
      "text/plain": [
       "interactive(children=(Select(description='Select alert :', layout=Layout(height='200px', width='80%'), options…"
      ]
     },
     "metadata": {},
     "output_type": "display_data"
    }
   ],
   "source": [
    "# Select and view alert\n",
    "import re\n",
    "import json\n",
    "from ipywidgets import interactive, Layout\n",
    "\n",
    "\n",
    "items = last_alerts[['StartTimeUtc', 'AlertName', 'ProviderAlertId']].sort_values('StartTimeUtc')\\\n",
    ".apply(lambda x: '{time}  {alert} [id:{id}]'.format(time=x.StartTimeUtc, alert=x.AlertName, id=x.ProviderAlertId),\n",
    "       axis=1 ).values.tolist()\n",
    "\n",
    "alertid_regex= r'\\[id:(?P<alert_id>[\\da-fA-F]{8}-(?:[\\da-fA-F]{4}-){3}[\\da-fA-F]{12})\\]$'\n",
    "alertId = ''\n",
    "def view_alert(x=''):\n",
    "    global investigatedAlert\n",
    "    global alertId\n",
    "    if x is None:\n",
    "        return\n",
    "    m = re.search(alertid_regex, x)\n",
    "    if m is not None:\n",
    "        alertId = m.groupdict()['alert_id']\n",
    "        display(HTML('<h5>Alert: {id}</h5>'.format(id=alertId)))\n",
    "        investigatedAlert = fetch_alert(alertId, local_cache=last_alerts)\n",
    "        display_alert(investigatedAlert)\n",
    "    \n",
    " \n",
    "selected_alert = widgets.Select(options=items, \n",
    "                              description='Select alert :',\n",
    "                              layout=Layout(width='80%', height='200px'),\n",
    "                              style = {'description_width': 'initial'})\n",
    "\n",
    "\n",
    "filter_alerts = widgets.Text(value='', description='Filter alerts by title:', \n",
    "                             style = {'description_width': 'initial'} )\n",
    "def update_options(change):\n",
    "    if change is not None and 'new' in change:\n",
    "        selected_alert.options = [ i for i in items if change['new'] in i]\n",
    "    \n",
    "filter_alerts.observe(update_options, names='value')\n",
    "display(filter_alerts)\n",
    "interactive(view_alert, x=selected_alert)"
   ]
  },
  {
   "cell_type": "markdown",
   "metadata": {},
   "source": [
    "<a id='enteralertid'></a>[Contents](#toc)\n",
    "### Or paste in an alert ID and fetch it\n",
    "**Skip this section if you selected from the above list**"
   ]
  },
  {
   "cell_type": "code",
   "execution_count": 17,
   "metadata": {},
   "outputs": [
    {
     "data": {
      "application/vnd.jupyter.widget-view+json": {
       "model_id": "470ac782bf7a45148fae887f31c43343",
       "version_major": 2,
       "version_minor": 0
      },
      "text/plain": [
       "Text(value='91e8cae4-647c-4d3c-ac07-eea594c1b56b', description='ProviderAlertId for alert :', layout=Layout(wi…"
      ]
     },
     "metadata": {},
     "output_type": "display_data"
    },
    {
     "data": {
      "application/vnd.jupyter.widget-view+json": {
       "model_id": "ce70c58bf3b14535bd87a3010af0f01e",
       "version_major": 2,
       "version_minor": 0
      },
      "text/plain": [
       "Button(description='Get alert..', style=ButtonStyle())"
      ]
     },
     "metadata": {},
     "output_type": "display_data"
    }
   ],
   "source": [
    "# Allow alert to be selected\n",
    "# Allow subscription to be selected\n",
    "targetAlertW = widgets.Text(\n",
    "    value=alertId,\n",
    "    placeholder='ProviderAlertId',\n",
    "    description='ProviderAlertId for alert :',\n",
    "    layout = Layout(width='50%'), style = {'description_width': 'initial'})\n",
    "\n",
    "display(targetAlertW)\n",
    "\n",
    "def click_get_alert(b):\n",
    "    global investigatedAlert\n",
    "    global alertId\n",
    "    alertId = targetAlertW.value\n",
    "    if not alertId or not alertId.strip():\n",
    "        print('Error: AlertID was not entered')\n",
    "    print('AlertId:', alertId, '\\n')\n",
    "    investigatedAlert = fetch_alert(alertId)\n",
    "    \n",
    "fetch_button = widgets.Button(description=\"Get alert..\")\n",
    "fetch_button.on_click(click_get_alert)\n",
    "display(fetch_button);"
   ]
  },
  {
   "cell_type": "markdown",
   "metadata": {},
   "source": [
    "<a id='extractalertproperties'></a>[Contents](#toc)\n",
    "## Extract properties and entities from Alert"
   ]
  },
  {
   "cell_type": "code",
   "execution_count": 18,
   "metadata": {
    "tags": [
     "replaced"
    ]
   },
   "outputs": [
    {
     "name": "stdout",
     "output_type": "stream",
     "text": [
      "done\n"
     ]
    }
   ],
   "source": [
    "# Get properties from alert entities\n",
    "\n",
    "def get_entity_property(entityType, entity_property, entities=None, entity=None):\n",
    "    if entity and entity_property in entity:\n",
    "        return entity[entity_property]\n",
    "    if entities is not None:\n",
    "        if isinstance(entities, list):\n",
    "            for test_entity in [e for e in entities if e['Type'] == 'entityType']:\n",
    "                if len(test_entity) > 0 and entity_property in test_entity and is_not_empty(test_entity[entity_property]):\n",
    "                    return test_entity[entity_property]\n",
    "        elif isinstance(entities, dict):\n",
    "            for entity_id, test_entity in entities.items():\n",
    "                if test_entity['Type'] == entityType:\n",
    "                    if len(test_entity) > 0 and entity_property in test_entity and is_not_empty(test_entity[entity_property]):\n",
    "                        return test_entity[entity_property]\n",
    "\n",
    "def is_not_empty(testObject):\n",
    "    if testObject:\n",
    "        if isinstance(testObject, str):\n",
    "            if testObject.strip():\n",
    "                #testObject is not None AND myString is not empty or blank\n",
    "                return True\n",
    "            else:\n",
    "                return False\n",
    "        elif testObject:\n",
    "            return True\n",
    "        \n",
    "    #testObject is None OR testObject is empty or blank\n",
    "    return False\n",
    "\n",
    "def get_file_for_process(process, files):\n",
    "    if 'ImageFile' in process:\n",
    "        file = process['ImageFile']\n",
    "        if '$ref' in process['ImageFile']:\n",
    "            fileId = process['ImageFile']['$ref']\n",
    "            pfiles = [f for f in files if fileId == f['$id']]\n",
    "            return pfiles[0] if len(pfiles) > 0 else None\n",
    "        else:\n",
    "            if(type(process['ImageFile']) == list):\n",
    "                return process['ImageFile'][0]\n",
    "            return process['ImageFile']\n",
    "    else:\n",
    "        return 'unknown'\n",
    "    \n",
    "def get_process_and_parent(entities):\n",
    "    processes = [t for t in entities if t['Type'] == 'process']\n",
    "    if not processes:\n",
    "        return (None, None)\n",
    "    files = [t for t in entities if t['Type'] == 'file']\n",
    "    \n",
    "    if len(processes) == 0:\n",
    "        return\n",
    "    if len(processes) == 1:\n",
    "        childprocess = processes[0]\n",
    "        childprocess['ImageFile'] = get_file_for_process(childprocess, files)\n",
    "        return (childprocess, None)\n",
    "    if len(processes) > 1:\n",
    "        for process in processes:\n",
    "            if('ParentProcess' in process and '$ref' in process['ParentProcess']):\n",
    "                childprocess = process\n",
    "                childprocess['ImageFile'] = get_file_for_process(process, files)\n",
    "                ppid = process['ParentProcess']['$ref']\n",
    "                parentprocesses = [p for p in processes if ppid == p['$id']]\n",
    "                if len(parentprocesses) > 0:\n",
    "                    parentprocess = parentprocesses[0]\n",
    "                    parentprocess['ImageFile'] = get_file_for_process(parentprocess, files)                 \n",
    "                return (childprocess, parentprocess)          \n",
    "\n",
    "\n",
    "\n",
    "def get_alert_ids(alert=investigatedAlert):\n",
    "    id_properties = ['AzSubscriptionId', 'AzResourceId', \n",
    "                                       'WorkspaceId', 'AgentId', \n",
    "                                       'TenantId', 'SourceComputerId', 'ResourceId',\n",
    "                                        'WorkspaceSubscriptionId', 'WorkspaceResourceGroup']\n",
    "    ids = dict()\n",
    "    for id_property in id_properties:\n",
    "        if id_property in investigatedAlert:\n",
    "            ids[id_property] = investigatedAlert[id_property]\n",
    "    return ids\n",
    "\n",
    "\n",
    "def alert_in_workspace(alert=investigatedAlert):\n",
    "    ids = get_alert_ids(alert)\n",
    "    return ('WorkSpaceId' in ids and 'AgentId' in ids)\n",
    "\n",
    "def alert_in_log_analytics(alert=investigatedAlert):\n",
    "    ids = get_alert_ids(alert)\n",
    "    return ('TenantId' in ids and 'SourceComputerId' in ids)\n",
    "\n",
    "def alert_in_azure_sub(alert=investigatedAlert):\n",
    "    ids = get_alert_ids(alert)\n",
    "    return ('AzSubscriptionId' in ids and 'AzResourceId' in ids)\n",
    "\n",
    "def kql_subscription_filter(alert=investigatedAlert, operator='=='):\n",
    "    ids = get_alert_ids(alert)\n",
    "    if alert_in_log_analytics(alert):\n",
    "        return 'TenantId {} \\'{}\\''.format(operator, ids['TenantId'])\n",
    "    elif alert_is_in_azure_sub(alert):\n",
    "        return 'AzureResourceSubscriptionId {} \\'{}\\''.format(operator, ids['AzSubscriptionId'])\n",
    "    else:\n",
    "        return 'WorkspaceId {} \\'{}\\''.format(operator, ids['WorkspaceId'])\n",
    "    \n",
    "def kql_host_filter(alert=investigatedAlert, operator='=='):\n",
    "    ids = get_alert_ids(alert)\n",
    "    if alert_in_log_analytics(alert):\n",
    "        return 'SourceComputerId {} \\'{}\\''.format(operator, ids['SourceComputerId'])\n",
    "    elif alert_is_in_azure_sub(alert):\n",
    "        return 'AzureResourceId {} \\'{}\\''.format(operator, ids['AzResourceId'])\n",
    "    else:\n",
    "        return 'AgentId {} \\'{}\\''.format(operator, ids['AgentId'])\n",
    "    \n",
    "def escape_windows_path(str_path):\n",
    "    if is_not_empty(str_path):\n",
    "        return str_path.replace('\\\\', '\\\\\\\\')\n",
    "    \n",
    "def unescape_windows_path(str_path):\n",
    "    if is_not_empty(str_path):\n",
    "        return str_path.replace('\\\\\\\\', '\\\\')\n",
    "\n",
    "def get_alert_entities(alert=investigatedAlert, entity_type='host'):\n",
    "    return [p for p in alert.extracted_entities.values() if p['Type'] == entity_type]\n",
    "\n",
    "def get_alert_process(alert=investigatedAlert):\n",
    "    procs = get_alert_entities(alert, 'process')\n",
    "    if procs is None or len(procs) == 0:\n",
    "        return None\n",
    "    if len(procs) == 1:\n",
    "        return procs[0]\n",
    "    else:\n",
    "        # find the first process that has a parent process property\n",
    "        proc = [p for p in procs if 'ParentProcess' in p]\n",
    "        if len(proc) > 0:\n",
    "            return proc[0]\n",
    "\n",
    "def get_process_name(process, separator='\\\\'):\n",
    "    if process != None and 'ImageFile' in process:\n",
    "        if 'Directory' in process['ImageFile']:\n",
    "            if '/' in process['ImageFile']['Directory']:\n",
    "                separator = '/'\n",
    "            return process['ImageFile']['Directory'] + separator + process['ImageFile']['Name']\n",
    "        else:\n",
    "            return process['ImageFile']['Name']\n",
    "        \n",
    "def get_alert_process_name(alert=investigatedAlert):\n",
    "    process = get_alert_process(alert)\n",
    "    if ('os_family' in alert and alert['os_family'] == 'Linux'\n",
    "        or '/' in process['ImageFile']['Directory']):\n",
    "        return get_process_name(process, '/')\n",
    "    else:\n",
    "        return get_process_name(process, '\\\\')\n",
    "\n",
    "\n",
    "def get_alert_account_name(alert=investigatedAlert):\n",
    "    accts = get_alert_entities(alert, 'account')\n",
    "    if len(accts) > 0:\n",
    "        acct = accts[0]\n",
    "        if 'Name' in acct:\n",
    "            name = acct['Name']\n",
    "        if 'NTDomain' in acct:\n",
    "            return '{}\\\\{}'.format(acct['NTDomain'], name)\n",
    "        else:\n",
    "            return name\n",
    "    \n",
    "# We can try to extract extended properties but it's difficult to rely on the name \n",
    "# of things we might need.\n",
    "ext_properties = investigatedAlert['ExtendedProperties']\n",
    "if 'account logon id' in ext_properties:\n",
    "    accountLogonId = ext_properties['account logon id']\n",
    "elif 'Account Session Id' in ext_properties:\n",
    "    accountLogonId = ext_properties['Account Session Id']\n",
    "\n",
    "if 'Compromised Host' in ext_properties:\n",
    "    hostname = ext_properties['Compromised Host']\n",
    "\n",
    "if 'Suspicious Process' in ext_properties:\n",
    "    processPath = ext_properties['Suspicious Process']\n",
    "\n",
    "if 'User Name' in ext_properties:\n",
    "    accountName = ext_properties['User Name']\n",
    "\n",
    "# Better to rely on entities for most things\n",
    "alertEntities = investigatedAlert['Entities']\n",
    "\n",
    "# HostentityType, entity_property\n",
    "hostname = get_entity_property(entities=alertEntities, entityType='host', entity_property='HostName')\n",
    "hostdomain = get_entity_property(entities=alertEntities, entityType='host', entity_property='DnsDomain')\n",
    "if is_not_empty(hostdomain):\n",
    "    computer = hostname + '.' + hostdomain\n",
    "else:\n",
    "    computer = hostname\n",
    "\n",
    "# get some other properties\n",
    "ip = get_entity_property(entities=alertEntities, entityType='ip', entity_property='Address')\n",
    "dnsdom = get_entity_property(entities=alertEntities, entityType='dns', entity_property='DomainName')\n",
    "iploc = get_entity_property(entities=alertEntities, entityType='ip', entity_property='Location')\n",
    "hostip = get_entity_property(entities=alertEntities, entityType='dns', entity_property='HostIpAddress')\n",
    "if not is_not_empty(accountLogonId):\n",
    "    accountLogonId = get_entity_property(entities=alertEntities, entityType='account', entity_property='LogonId')\n",
    "\n",
    "all_alert_entities = dict()\n",
    "# add entities to dictionary to remove dups\n",
    "for e in alertEntities:\n",
    "    all_alert_entities[e['$id']] = e\n",
    "    \n",
    "\n",
    "# work out which path separator to use from OSFamily\n",
    "path_separator = '\\\\'\n",
    "os_family = 'Windows'\n",
    "for os_entity in [e for e in all_alert_entities.values() if 'OSFamily' in e]:\n",
    "    if os_entity['OSFamily'] == 'Linux':\n",
    "        print\n",
    "        os_family='Linux'\n",
    "        path_separator = '/'\n",
    "        break;\n",
    "\n",
    "# Drop any items that might have been added from previous run of this\n",
    "if 'path_separator' not in investigatedAlert.index:\n",
    "    investigatedAlert['path_separator'] = path_separator\n",
    "if 'os_family' not in investigatedAlert.index:\n",
    "    investigatedAlert['os_family'] = os_family\n",
    "\n",
    "\n",
    "process, parentprocess = get_process_and_parent(alertEntities)\n",
    "if process != None:\n",
    "    processId = get_entity_property(entity=process, entityType='process', entity_property='ProcessId')\n",
    "    # if processId is not defined in the entity, see if it in the extended propertiers\n",
    "    if not processId:\n",
    "        for pid_property in ['Process Id', 'Suspicious Process Id']:\n",
    "            if pid_property in ext_properties:\n",
    "                process['ProcessId'] = ext_properties[pid_property]\n",
    "                break\n",
    "    # we get better fidelity entities for process and parent from get_process_and_parent\n",
    "    # so overwrite this\n",
    "    all_alert_entities[process['$id']] = process\n",
    "    \n",
    "if parentprocess != None:\n",
    "    # we get better fidelity entities for process and parent from get_process_and_parent\n",
    "    # so overwrite this\n",
    "    all_alert_entities[parentprocess['$id']] = parentprocess\n",
    "\n",
    "if 'extracted_entities' not in investigatedAlert.index:\n",
    "    investigatedAlert['extracted_entities'] = all_alert_entities\n",
    "\n",
    "print('done')"
   ]
  },
  {
   "cell_type": "code",
   "execution_count": 39,
   "metadata": {
    "scrolled": true
   },
   "outputs": [],
   "source": [
    "# For some alerts we may not have the parent process. So try to get this if needed\n",
    "if process is not None and parentprocess is None:\n",
    "    # try to retrieve this from the logs\n",
    "    sourceProcessId = process['ProcessId']\n",
    "    sourceProcessName = escape_windows_path(get_process_name(process))\n",
    "    startTime = investigatedAlert['StartTimeUtc']\n",
    "    \n",
    "    query = '''let start = datetime({start});\n",
    "    let end = datetime({end});\n",
    "    let sourceProcessId = \\'{sourceProcessId}\\';\n",
    "    let sourceProcess = \n",
    "    materialize(\n",
    "        {event_source}\n",
    "        {project_statement}\n",
    "        | where {subscription_filter}\n",
    "        | where {host_filter}\n",
    "        | where TimeGenerated >= start - time(10m)\n",
    "        | where TimeGenerated <= end\n",
    "        | where NewProcessId == sourceProcessId\n",
    "        | where NewProcessName =~ \\'{processName}\\'\n",
    "        | extend NodeRole = 'source', Level = 0);\n",
    "    let sourceTimeCreatedUtc = toscalar(sourceProcess | project TimeCreatedUtc | top 1 by TimeCreatedUtc desc nulls last);\n",
    "    let sourceLogonId = toscalar(sourceProcess | top 1 by TimeCreatedUtc desc nulls last | project SubjectLogonId);\n",
    "    let sourceParentProcessId = toscalar(sourceProcess | top 1 by TimeCreatedUtc desc nulls last | project ProcessId);\n",
    "    sourceProcess\n",
    "    | union(\n",
    "        {event_source}\n",
    "        {project_statement}\n",
    "        | where {subscription_filter}\n",
    "        | where {host_filter}\n",
    "        | where TimeGenerated >= start - time(24h)\n",
    "        | where TimeGenerated <= end\n",
    "        | where TimeGenerated <= sourceTimeCreatedUtc\n",
    "        | where SubjectLogonId == sourceLogonId\n",
    "        | where NewProcessId == sourceParentProcessId\n",
    "        | extend NodeRole = 'parent', Level = 1\n",
    "        | top 1 by TimeCreatedUtc desc nulls last)\n",
    "    '''.format(event_source = proc_create_eventsource,\n",
    "            project_statement = proc_create_project,\n",
    "            subscription_filter = kql_subscription_filter(investigatedAlert),\n",
    "            host_filter = kql_host_filter(investigatedAlert),\n",
    "            start = startTime,\n",
    "            end = startTime,\n",
    "            sourceProcessId = sourceProcessId,\n",
    "            processName = sourceProcessName)\n",
    "    \n",
    "    process_results = execute_kql_query(query)\n",
    "    \n",
    " "
   ]
  },
  {
   "cell_type": "markdown",
   "metadata": {},
   "source": [
    "<a id='entitygraph'></a>[Contents](#toc)\n",
    "## Entity Graph"
   ]
  },
  {
   "cell_type": "code",
   "execution_count": 19,
   "metadata": {
    "scrolled": true
   },
   "outputs": [],
   "source": [
    "# Build the Networkx graph\n",
    "alertentity_graph = nx.Graph(id='AlertGraph')\n",
    "\n",
    "def get_name_and_description(entity):\n",
    "    e_name = None\n",
    "    e_description = None\n",
    "    \n",
    "    if(entity['Type'] == 'host'):\n",
    "        if 'DnsDomain' in entity and is_not_empty(entity['DnsDomain']):\n",
    "            e_name = '{}.{}'.format(entity['HostName'], entity['DnsDomain'])\n",
    "        elif 'NTDomain' in entity and is_not_empty(entity['NTDomain']):\n",
    "            e_name = '{}/{}'.format(entity['NTDomain'], entity['HostName'])                                 \n",
    "        else:\n",
    "            e_name = entity['HostName']\n",
    "        e_name = '{}: {}'.format(entity['Type'], e_name)\n",
    "        if 'IsDomainJoined' in entity:\n",
    "            domain_joined = entity['IsDomainJoined']\n",
    "        else:\n",
    "            domain_joined = 'false'\n",
    "        if 'OSFamily' in entity:\n",
    "            os_family = entity['OSFamily']\n",
    "        else:\n",
    "            os_family = OS_family\n",
    "        e_description = '{}\\n({}, Domain-joined: {})'.format(e_name, os_family, domain_joined)\n",
    "    \n",
    "    elif entity['Type'] == 'account':\n",
    "        e_name = (entity['NTDomain'] + '\\\\' if 'NTDomain' in entity else '') +  entity['Name']\n",
    "        e_name = '{}: {}'.format(entity['Type'], e_name)\n",
    "        if 'IsDomainJoined' in entity:\n",
    "            domain_joined = entity['IsDomainJoined']\n",
    "        else:\n",
    "            domain_joined = 'false'\n",
    "        if 'LogonId' in entity:\n",
    "            e_description = '{}\\n(LogonId: {}, Domain-joined: {})'.format(e_name, entity['LogonId'], domain_joined)\n",
    "        else:\n",
    "            e_description = '{}\\n(Domain-joined: {})'.format(e_name, domain_joined)\n",
    "    \n",
    "    elif entity['Type'] == 'host-logon-session':\n",
    "        #{'$id': '3', 'SessionId': '0xa5c864ce9', 'StartTimeUtc': '2018-10-29T16:30:56.0008063Z', 'EndTimeUtc': '2018-10-29T16:30:56.0008063Z',\n",
    "        #'Type': 'host-logon-session', 'Host': {'$ref': '1'}, 'Account': {'$ref': '2'}}\n",
    "        e_name = 'host-logon-session'\n",
    "        e_description = 'Logon session {}\\n(Start time: {})'.format(entity['SessionId'], entity['StartTimeUtc'])\n",
    "        \n",
    "    elif entity['Type'] == 'process':\n",
    "        if 'ImageFile' in entity and 'Directory' in entity['ImageFile']:\n",
    "            path = entity['ImageFile']['Directory'] + path_separator + entity['ImageFile']['Name']\n",
    "        else:\n",
    "            path = 'unknown'\n",
    "        e_name =  path + ' [' + entity['ProcessId'] +  ']'\n",
    "        e_name = '{}: {}'.format(entity['Type'], e_name)\n",
    "        e_description = '{}\\n(cmdline: \\'{}\\')'.format(e_name, entity['CommandLine'])\n",
    "        \n",
    "    elif entity['Type'] == 'file':\n",
    "        e_name = entity['Directory'] + path_separator + entity['Name']\n",
    "        e_name = '{}: {}'.format(entity['Type'], e_name) \n",
    "        e_description = e_name  \n",
    "    \n",
    "    elif entity['Type'] == 'ip':\n",
    "        e_name = entity['Address']\n",
    "        e_name = '{}: {}'.format(entity['Type'], e_name)\n",
    "        if 'Location' in entity:\n",
    "            e_description = '{}\\nc={}, st={}, city={}'.format(\n",
    "                e_name,\n",
    "                entity['Location']['CountryCode'],\n",
    "                entity['Location']['State'],\n",
    "                entity['Location']['City'])\n",
    "        else:\n",
    "            e_description = e_name \n",
    "    \n",
    "    elif entity['Type'] == 'dns':\n",
    "        e_name = entity['DomainName']\n",
    "        e_name = '{}: {}'.format(entity['Type'], e_name) \n",
    "        e_description = e_name \n",
    "    \n",
    "    else:\n",
    "        # Any other type of entity\n",
    "        if 'Name' in entity:\n",
    "            e_name = entity['Name']\n",
    "            e_name = '{}: {}'.format(entity['Type'], e_name)\n",
    "        else:\n",
    "            e_name = entity['Type']\n",
    "            \n",
    "        # Rather nasty expression to join all other items in the dictionary into a string\n",
    "        e_properties = ', '.join({'{}:{}'.format(k,v) for (k,v) in entity.items() if (k != 'Type') and (k != 'Name')})\n",
    "        e_description = '{}\\n{})'.format(e_name, e_properties)\n",
    "    \n",
    "    return e_name, e_description\n",
    "\n",
    "\n",
    "alertentity_graph.add_node(investigatedAlert['AlertType'], \n",
    "                           name=investigatedAlert['AlertType'], \n",
    "                           time=str(investigatedAlert['StartTimeUtc']),\n",
    "                           description='Alert: ' + investigatedAlert['AlertDisplayName'],\n",
    "                           color='red',\n",
    "                           node_type='alert'#,\n",
    "                           #source=investigatedAlert.to_dict()\n",
    "                          )\n",
    "\n",
    "path_separator = investigatedAlert['path_separator']\n",
    "OS_family = investigatedAlert['os_family']\n",
    "\n",
    "# Cycle through entities\n",
    "for e in all_alert_entities.values():\n",
    "    (name, description) = get_name_and_description(e)\n",
    "    \n",
    "    alertentity_graph.add_node(name, entitytype=e['Type'], name=name, description=description, color='green', node_type='entity', source=e)\n",
    "\n",
    "    alertentity_graph.add_edge(investigatedAlert['AlertType'], name)\n",
    "    \n",
    "    if e['Type'] == 'host':\n",
    "        continue\n",
    "        \n",
    "    # if this entity has a child object that has a $ref property\n",
    "    for prop, value in [(p,v) for (p,v) in e.items() if isinstance(v, dict)]:\n",
    "        # Handle references\n",
    "        if '$ref' in value:\n",
    "            id = value['$ref']\n",
    "        elif '$id' in value and value['$id'] in all_alert_entities:\n",
    "             id = value['$id']\n",
    "        else:\n",
    "            continue\n",
    "        \n",
    "        if all_alert_entities[id]['Type'] == 'host':\n",
    "            continue\n",
    "            \n",
    "        if id in all_alert_entities:\n",
    "            (relatedEntity, desc) = get_name_and_description(all_alert_entities[id])\n",
    "            if not alertentity_graph.has_edge(relatedEntity, name):\n",
    "                if alertentity_graph.has_edge(investigatedAlert['AlertType'], relatedEntity):\n",
    "                    alertentity_graph.remove_edge(investigatedAlert['AlertType'], relatedEntity)\n",
    "                alertentity_graph.add_edge(name, relatedEntity, description=prop, color='green', weight=1, line_type='SHORT_DASH')"
   ]
  },
  {
   "cell_type": "markdown",
   "metadata": {},
   "source": [
    "### Plot using Networkx/Matplotlib"
   ]
  },
  {
   "cell_type": "code",
   "execution_count": 20,
   "metadata": {
    "scrolled": true
   },
   "outputs": [
    {
     "data": {
      "application/javascript": [
       "/* Put everything inside the global mpl namespace */\n",
       "window.mpl = {};\n",
       "\n",
       "\n",
       "mpl.get_websocket_type = function() {\n",
       "    if (typeof(WebSocket) !== 'undefined') {\n",
       "        return WebSocket;\n",
       "    } else if (typeof(MozWebSocket) !== 'undefined') {\n",
       "        return MozWebSocket;\n",
       "    } else {\n",
       "        alert('Your browser does not have WebSocket support.' +\n",
       "              'Please try Chrome, Safari or Firefox ≥ 6. ' +\n",
       "              'Firefox 4 and 5 are also supported but you ' +\n",
       "              'have to enable WebSockets in about:config.');\n",
       "    };\n",
       "}\n",
       "\n",
       "mpl.figure = function(figure_id, websocket, ondownload, parent_element) {\n",
       "    this.id = figure_id;\n",
       "\n",
       "    this.ws = websocket;\n",
       "\n",
       "    this.supports_binary = (this.ws.binaryType != undefined);\n",
       "\n",
       "    if (!this.supports_binary) {\n",
       "        var warnings = document.getElementById(\"mpl-warnings\");\n",
       "        if (warnings) {\n",
       "            warnings.style.display = 'block';\n",
       "            warnings.textContent = (\n",
       "                \"This browser does not support binary websocket messages. \" +\n",
       "                    \"Performance may be slow.\");\n",
       "        }\n",
       "    }\n",
       "\n",
       "    this.imageObj = new Image();\n",
       "\n",
       "    this.context = undefined;\n",
       "    this.message = undefined;\n",
       "    this.canvas = undefined;\n",
       "    this.rubberband_canvas = undefined;\n",
       "    this.rubberband_context = undefined;\n",
       "    this.format_dropdown = undefined;\n",
       "\n",
       "    this.image_mode = 'full';\n",
       "\n",
       "    this.root = $('<div/>');\n",
       "    this._root_extra_style(this.root)\n",
       "    this.root.attr('style', 'display: inline-block');\n",
       "\n",
       "    $(parent_element).append(this.root);\n",
       "\n",
       "    this._init_header(this);\n",
       "    this._init_canvas(this);\n",
       "    this._init_toolbar(this);\n",
       "\n",
       "    var fig = this;\n",
       "\n",
       "    this.waiting = false;\n",
       "\n",
       "    this.ws.onopen =  function () {\n",
       "            fig.send_message(\"supports_binary\", {value: fig.supports_binary});\n",
       "            fig.send_message(\"send_image_mode\", {});\n",
       "            if (mpl.ratio != 1) {\n",
       "                fig.send_message(\"set_dpi_ratio\", {'dpi_ratio': mpl.ratio});\n",
       "            }\n",
       "            fig.send_message(\"refresh\", {});\n",
       "        }\n",
       "\n",
       "    this.imageObj.onload = function() {\n",
       "            if (fig.image_mode == 'full') {\n",
       "                // Full images could contain transparency (where diff images\n",
       "                // almost always do), so we need to clear the canvas so that\n",
       "                // there is no ghosting.\n",
       "                fig.context.clearRect(0, 0, fig.canvas.width, fig.canvas.height);\n",
       "            }\n",
       "            fig.context.drawImage(fig.imageObj, 0, 0);\n",
       "        };\n",
       "\n",
       "    this.imageObj.onunload = function() {\n",
       "        fig.ws.close();\n",
       "    }\n",
       "\n",
       "    this.ws.onmessage = this._make_on_message_function(this);\n",
       "\n",
       "    this.ondownload = ondownload;\n",
       "}\n",
       "\n",
       "mpl.figure.prototype._init_header = function() {\n",
       "    var titlebar = $(\n",
       "        '<div class=\"ui-dialog-titlebar ui-widget-header ui-corner-all ' +\n",
       "        'ui-helper-clearfix\"/>');\n",
       "    var titletext = $(\n",
       "        '<div class=\"ui-dialog-title\" style=\"width: 100%; ' +\n",
       "        'text-align: center; padding: 3px;\"/>');\n",
       "    titlebar.append(titletext)\n",
       "    this.root.append(titlebar);\n",
       "    this.header = titletext[0];\n",
       "}\n",
       "\n",
       "\n",
       "\n",
       "mpl.figure.prototype._canvas_extra_style = function(canvas_div) {\n",
       "\n",
       "}\n",
       "\n",
       "\n",
       "mpl.figure.prototype._root_extra_style = function(canvas_div) {\n",
       "\n",
       "}\n",
       "\n",
       "mpl.figure.prototype._init_canvas = function() {\n",
       "    var fig = this;\n",
       "\n",
       "    var canvas_div = $('<div/>');\n",
       "\n",
       "    canvas_div.attr('style', 'position: relative; clear: both; outline: 0');\n",
       "\n",
       "    function canvas_keyboard_event(event) {\n",
       "        return fig.key_event(event, event['data']);\n",
       "    }\n",
       "\n",
       "    canvas_div.keydown('key_press', canvas_keyboard_event);\n",
       "    canvas_div.keyup('key_release', canvas_keyboard_event);\n",
       "    this.canvas_div = canvas_div\n",
       "    this._canvas_extra_style(canvas_div)\n",
       "    this.root.append(canvas_div);\n",
       "\n",
       "    var canvas = $('<canvas/>');\n",
       "    canvas.addClass('mpl-canvas');\n",
       "    canvas.attr('style', \"left: 0; top: 0; z-index: 0; outline: 0\")\n",
       "\n",
       "    this.canvas = canvas[0];\n",
       "    this.context = canvas[0].getContext(\"2d\");\n",
       "\n",
       "    var backingStore = this.context.backingStorePixelRatio ||\n",
       "\tthis.context.webkitBackingStorePixelRatio ||\n",
       "\tthis.context.mozBackingStorePixelRatio ||\n",
       "\tthis.context.msBackingStorePixelRatio ||\n",
       "\tthis.context.oBackingStorePixelRatio ||\n",
       "\tthis.context.backingStorePixelRatio || 1;\n",
       "\n",
       "    mpl.ratio = (window.devicePixelRatio || 1) / backingStore;\n",
       "\n",
       "    var rubberband = $('<canvas/>');\n",
       "    rubberband.attr('style', \"position: absolute; left: 0; top: 0; z-index: 1;\")\n",
       "\n",
       "    var pass_mouse_events = true;\n",
       "\n",
       "    canvas_div.resizable({\n",
       "        start: function(event, ui) {\n",
       "            pass_mouse_events = false;\n",
       "        },\n",
       "        resize: function(event, ui) {\n",
       "            fig.request_resize(ui.size.width, ui.size.height);\n",
       "        },\n",
       "        stop: function(event, ui) {\n",
       "            pass_mouse_events = true;\n",
       "            fig.request_resize(ui.size.width, ui.size.height);\n",
       "        },\n",
       "    });\n",
       "\n",
       "    function mouse_event_fn(event) {\n",
       "        if (pass_mouse_events)\n",
       "            return fig.mouse_event(event, event['data']);\n",
       "    }\n",
       "\n",
       "    rubberband.mousedown('button_press', mouse_event_fn);\n",
       "    rubberband.mouseup('button_release', mouse_event_fn);\n",
       "    // Throttle sequential mouse events to 1 every 20ms.\n",
       "    rubberband.mousemove('motion_notify', mouse_event_fn);\n",
       "\n",
       "    rubberband.mouseenter('figure_enter', mouse_event_fn);\n",
       "    rubberband.mouseleave('figure_leave', mouse_event_fn);\n",
       "\n",
       "    canvas_div.on(\"wheel\", function (event) {\n",
       "        event = event.originalEvent;\n",
       "        event['data'] = 'scroll'\n",
       "        if (event.deltaY < 0) {\n",
       "            event.step = 1;\n",
       "        } else {\n",
       "            event.step = -1;\n",
       "        }\n",
       "        mouse_event_fn(event);\n",
       "    });\n",
       "\n",
       "    canvas_div.append(canvas);\n",
       "    canvas_div.append(rubberband);\n",
       "\n",
       "    this.rubberband = rubberband;\n",
       "    this.rubberband_canvas = rubberband[0];\n",
       "    this.rubberband_context = rubberband[0].getContext(\"2d\");\n",
       "    this.rubberband_context.strokeStyle = \"#000000\";\n",
       "\n",
       "    this._resize_canvas = function(width, height) {\n",
       "        // Keep the size of the canvas, canvas container, and rubber band\n",
       "        // canvas in synch.\n",
       "        canvas_div.css('width', width)\n",
       "        canvas_div.css('height', height)\n",
       "\n",
       "        canvas.attr('width', width * mpl.ratio);\n",
       "        canvas.attr('height', height * mpl.ratio);\n",
       "        canvas.attr('style', 'width: ' + width + 'px; height: ' + height + 'px;');\n",
       "\n",
       "        rubberband.attr('width', width);\n",
       "        rubberband.attr('height', height);\n",
       "    }\n",
       "\n",
       "    // Set the figure to an initial 600x600px, this will subsequently be updated\n",
       "    // upon first draw.\n",
       "    this._resize_canvas(600, 600);\n",
       "\n",
       "    // Disable right mouse context menu.\n",
       "    $(this.rubberband_canvas).bind(\"contextmenu\",function(e){\n",
       "        return false;\n",
       "    });\n",
       "\n",
       "    function set_focus () {\n",
       "        canvas.focus();\n",
       "        canvas_div.focus();\n",
       "    }\n",
       "\n",
       "    window.setTimeout(set_focus, 100);\n",
       "}\n",
       "\n",
       "mpl.figure.prototype._init_toolbar = function() {\n",
       "    var fig = this;\n",
       "\n",
       "    var nav_element = $('<div/>')\n",
       "    nav_element.attr('style', 'width: 100%');\n",
       "    this.root.append(nav_element);\n",
       "\n",
       "    // Define a callback function for later on.\n",
       "    function toolbar_event(event) {\n",
       "        return fig.toolbar_button_onclick(event['data']);\n",
       "    }\n",
       "    function toolbar_mouse_event(event) {\n",
       "        return fig.toolbar_button_onmouseover(event['data']);\n",
       "    }\n",
       "\n",
       "    for(var toolbar_ind in mpl.toolbar_items) {\n",
       "        var name = mpl.toolbar_items[toolbar_ind][0];\n",
       "        var tooltip = mpl.toolbar_items[toolbar_ind][1];\n",
       "        var image = mpl.toolbar_items[toolbar_ind][2];\n",
       "        var method_name = mpl.toolbar_items[toolbar_ind][3];\n",
       "\n",
       "        if (!name) {\n",
       "            // put a spacer in here.\n",
       "            continue;\n",
       "        }\n",
       "        var button = $('<button/>');\n",
       "        button.addClass('ui-button ui-widget ui-state-default ui-corner-all ' +\n",
       "                        'ui-button-icon-only');\n",
       "        button.attr('role', 'button');\n",
       "        button.attr('aria-disabled', 'false');\n",
       "        button.click(method_name, toolbar_event);\n",
       "        button.mouseover(tooltip, toolbar_mouse_event);\n",
       "\n",
       "        var icon_img = $('<span/>');\n",
       "        icon_img.addClass('ui-button-icon-primary ui-icon');\n",
       "        icon_img.addClass(image);\n",
       "        icon_img.addClass('ui-corner-all');\n",
       "\n",
       "        var tooltip_span = $('<span/>');\n",
       "        tooltip_span.addClass('ui-button-text');\n",
       "        tooltip_span.html(tooltip);\n",
       "\n",
       "        button.append(icon_img);\n",
       "        button.append(tooltip_span);\n",
       "\n",
       "        nav_element.append(button);\n",
       "    }\n",
       "\n",
       "    var fmt_picker_span = $('<span/>');\n",
       "\n",
       "    var fmt_picker = $('<select/>');\n",
       "    fmt_picker.addClass('mpl-toolbar-option ui-widget ui-widget-content');\n",
       "    fmt_picker_span.append(fmt_picker);\n",
       "    nav_element.append(fmt_picker_span);\n",
       "    this.format_dropdown = fmt_picker[0];\n",
       "\n",
       "    for (var ind in mpl.extensions) {\n",
       "        var fmt = mpl.extensions[ind];\n",
       "        var option = $(\n",
       "            '<option/>', {selected: fmt === mpl.default_extension}).html(fmt);\n",
       "        fmt_picker.append(option)\n",
       "    }\n",
       "\n",
       "    // Add hover states to the ui-buttons\n",
       "    $( \".ui-button\" ).hover(\n",
       "        function() { $(this).addClass(\"ui-state-hover\");},\n",
       "        function() { $(this).removeClass(\"ui-state-hover\");}\n",
       "    );\n",
       "\n",
       "    var status_bar = $('<span class=\"mpl-message\"/>');\n",
       "    nav_element.append(status_bar);\n",
       "    this.message = status_bar[0];\n",
       "}\n",
       "\n",
       "mpl.figure.prototype.request_resize = function(x_pixels, y_pixels) {\n",
       "    // Request matplotlib to resize the figure. Matplotlib will then trigger a resize in the client,\n",
       "    // which will in turn request a refresh of the image.\n",
       "    this.send_message('resize', {'width': x_pixels, 'height': y_pixels});\n",
       "}\n",
       "\n",
       "mpl.figure.prototype.send_message = function(type, properties) {\n",
       "    properties['type'] = type;\n",
       "    properties['figure_id'] = this.id;\n",
       "    this.ws.send(JSON.stringify(properties));\n",
       "}\n",
       "\n",
       "mpl.figure.prototype.send_draw_message = function() {\n",
       "    if (!this.waiting) {\n",
       "        this.waiting = true;\n",
       "        this.ws.send(JSON.stringify({type: \"draw\", figure_id: this.id}));\n",
       "    }\n",
       "}\n",
       "\n",
       "\n",
       "mpl.figure.prototype.handle_save = function(fig, msg) {\n",
       "    var format_dropdown = fig.format_dropdown;\n",
       "    var format = format_dropdown.options[format_dropdown.selectedIndex].value;\n",
       "    fig.ondownload(fig, format);\n",
       "}\n",
       "\n",
       "\n",
       "mpl.figure.prototype.handle_resize = function(fig, msg) {\n",
       "    var size = msg['size'];\n",
       "    if (size[0] != fig.canvas.width || size[1] != fig.canvas.height) {\n",
       "        fig._resize_canvas(size[0], size[1]);\n",
       "        fig.send_message(\"refresh\", {});\n",
       "    };\n",
       "}\n",
       "\n",
       "mpl.figure.prototype.handle_rubberband = function(fig, msg) {\n",
       "    var x0 = msg['x0'] / mpl.ratio;\n",
       "    var y0 = (fig.canvas.height - msg['y0']) / mpl.ratio;\n",
       "    var x1 = msg['x1'] / mpl.ratio;\n",
       "    var y1 = (fig.canvas.height - msg['y1']) / mpl.ratio;\n",
       "    x0 = Math.floor(x0) + 0.5;\n",
       "    y0 = Math.floor(y0) + 0.5;\n",
       "    x1 = Math.floor(x1) + 0.5;\n",
       "    y1 = Math.floor(y1) + 0.5;\n",
       "    var min_x = Math.min(x0, x1);\n",
       "    var min_y = Math.min(y0, y1);\n",
       "    var width = Math.abs(x1 - x0);\n",
       "    var height = Math.abs(y1 - y0);\n",
       "\n",
       "    fig.rubberband_context.clearRect(\n",
       "        0, 0, fig.canvas.width, fig.canvas.height);\n",
       "\n",
       "    fig.rubberband_context.strokeRect(min_x, min_y, width, height);\n",
       "}\n",
       "\n",
       "mpl.figure.prototype.handle_figure_label = function(fig, msg) {\n",
       "    // Updates the figure title.\n",
       "    fig.header.textContent = msg['label'];\n",
       "}\n",
       "\n",
       "mpl.figure.prototype.handle_cursor = function(fig, msg) {\n",
       "    var cursor = msg['cursor'];\n",
       "    switch(cursor)\n",
       "    {\n",
       "    case 0:\n",
       "        cursor = 'pointer';\n",
       "        break;\n",
       "    case 1:\n",
       "        cursor = 'default';\n",
       "        break;\n",
       "    case 2:\n",
       "        cursor = 'crosshair';\n",
       "        break;\n",
       "    case 3:\n",
       "        cursor = 'move';\n",
       "        break;\n",
       "    }\n",
       "    fig.rubberband_canvas.style.cursor = cursor;\n",
       "}\n",
       "\n",
       "mpl.figure.prototype.handle_message = function(fig, msg) {\n",
       "    fig.message.textContent = msg['message'];\n",
       "}\n",
       "\n",
       "mpl.figure.prototype.handle_draw = function(fig, msg) {\n",
       "    // Request the server to send over a new figure.\n",
       "    fig.send_draw_message();\n",
       "}\n",
       "\n",
       "mpl.figure.prototype.handle_image_mode = function(fig, msg) {\n",
       "    fig.image_mode = msg['mode'];\n",
       "}\n",
       "\n",
       "mpl.figure.prototype.updated_canvas_event = function() {\n",
       "    // Called whenever the canvas gets updated.\n",
       "    this.send_message(\"ack\", {});\n",
       "}\n",
       "\n",
       "// A function to construct a web socket function for onmessage handling.\n",
       "// Called in the figure constructor.\n",
       "mpl.figure.prototype._make_on_message_function = function(fig) {\n",
       "    return function socket_on_message(evt) {\n",
       "        if (evt.data instanceof Blob) {\n",
       "            /* FIXME: We get \"Resource interpreted as Image but\n",
       "             * transferred with MIME type text/plain:\" errors on\n",
       "             * Chrome.  But how to set the MIME type?  It doesn't seem\n",
       "             * to be part of the websocket stream */\n",
       "            evt.data.type = \"image/png\";\n",
       "\n",
       "            /* Free the memory for the previous frames */\n",
       "            if (fig.imageObj.src) {\n",
       "                (window.URL || window.webkitURL).revokeObjectURL(\n",
       "                    fig.imageObj.src);\n",
       "            }\n",
       "\n",
       "            fig.imageObj.src = (window.URL || window.webkitURL).createObjectURL(\n",
       "                evt.data);\n",
       "            fig.updated_canvas_event();\n",
       "            fig.waiting = false;\n",
       "            return;\n",
       "        }\n",
       "        else if (typeof evt.data === 'string' && evt.data.slice(0, 21) == \"data:image/png;base64\") {\n",
       "            fig.imageObj.src = evt.data;\n",
       "            fig.updated_canvas_event();\n",
       "            fig.waiting = false;\n",
       "            return;\n",
       "        }\n",
       "\n",
       "        var msg = JSON.parse(evt.data);\n",
       "        var msg_type = msg['type'];\n",
       "\n",
       "        // Call the  \"handle_{type}\" callback, which takes\n",
       "        // the figure and JSON message as its only arguments.\n",
       "        try {\n",
       "            var callback = fig[\"handle_\" + msg_type];\n",
       "        } catch (e) {\n",
       "            console.log(\"No handler for the '\" + msg_type + \"' message type: \", msg);\n",
       "            return;\n",
       "        }\n",
       "\n",
       "        if (callback) {\n",
       "            try {\n",
       "                // console.log(\"Handling '\" + msg_type + \"' message: \", msg);\n",
       "                callback(fig, msg);\n",
       "            } catch (e) {\n",
       "                console.log(\"Exception inside the 'handler_\" + msg_type + \"' callback:\", e, e.stack, msg);\n",
       "            }\n",
       "        }\n",
       "    };\n",
       "}\n",
       "\n",
       "// from http://stackoverflow.com/questions/1114465/getting-mouse-location-in-canvas\n",
       "mpl.findpos = function(e) {\n",
       "    //this section is from http://www.quirksmode.org/js/events_properties.html\n",
       "    var targ;\n",
       "    if (!e)\n",
       "        e = window.event;\n",
       "    if (e.target)\n",
       "        targ = e.target;\n",
       "    else if (e.srcElement)\n",
       "        targ = e.srcElement;\n",
       "    if (targ.nodeType == 3) // defeat Safari bug\n",
       "        targ = targ.parentNode;\n",
       "\n",
       "    // jQuery normalizes the pageX and pageY\n",
       "    // pageX,Y are the mouse positions relative to the document\n",
       "    // offset() returns the position of the element relative to the document\n",
       "    var x = e.pageX - $(targ).offset().left;\n",
       "    var y = e.pageY - $(targ).offset().top;\n",
       "\n",
       "    return {\"x\": x, \"y\": y};\n",
       "};\n",
       "\n",
       "/*\n",
       " * return a copy of an object with only non-object keys\n",
       " * we need this to avoid circular references\n",
       " * http://stackoverflow.com/a/24161582/3208463\n",
       " */\n",
       "function simpleKeys (original) {\n",
       "  return Object.keys(original).reduce(function (obj, key) {\n",
       "    if (typeof original[key] !== 'object')\n",
       "        obj[key] = original[key]\n",
       "    return obj;\n",
       "  }, {});\n",
       "}\n",
       "\n",
       "mpl.figure.prototype.mouse_event = function(event, name) {\n",
       "    var canvas_pos = mpl.findpos(event)\n",
       "\n",
       "    if (name === 'button_press')\n",
       "    {\n",
       "        this.canvas.focus();\n",
       "        this.canvas_div.focus();\n",
       "    }\n",
       "\n",
       "    var x = canvas_pos.x * mpl.ratio;\n",
       "    var y = canvas_pos.y * mpl.ratio;\n",
       "\n",
       "    this.send_message(name, {x: x, y: y, button: event.button,\n",
       "                             step: event.step,\n",
       "                             guiEvent: simpleKeys(event)});\n",
       "\n",
       "    /* This prevents the web browser from automatically changing to\n",
       "     * the text insertion cursor when the button is pressed.  We want\n",
       "     * to control all of the cursor setting manually through the\n",
       "     * 'cursor' event from matplotlib */\n",
       "    event.preventDefault();\n",
       "    return false;\n",
       "}\n",
       "\n",
       "mpl.figure.prototype._key_event_extra = function(event, name) {\n",
       "    // Handle any extra behaviour associated with a key event\n",
       "}\n",
       "\n",
       "mpl.figure.prototype.key_event = function(event, name) {\n",
       "\n",
       "    // Prevent repeat events\n",
       "    if (name == 'key_press')\n",
       "    {\n",
       "        if (event.which === this._key)\n",
       "            return;\n",
       "        else\n",
       "            this._key = event.which;\n",
       "    }\n",
       "    if (name == 'key_release')\n",
       "        this._key = null;\n",
       "\n",
       "    var value = '';\n",
       "    if (event.ctrlKey && event.which != 17)\n",
       "        value += \"ctrl+\";\n",
       "    if (event.altKey && event.which != 18)\n",
       "        value += \"alt+\";\n",
       "    if (event.shiftKey && event.which != 16)\n",
       "        value += \"shift+\";\n",
       "\n",
       "    value += 'k';\n",
       "    value += event.which.toString();\n",
       "\n",
       "    this._key_event_extra(event, name);\n",
       "\n",
       "    this.send_message(name, {key: value,\n",
       "                             guiEvent: simpleKeys(event)});\n",
       "    return false;\n",
       "}\n",
       "\n",
       "mpl.figure.prototype.toolbar_button_onclick = function(name) {\n",
       "    if (name == 'download') {\n",
       "        this.handle_save(this, null);\n",
       "    } else {\n",
       "        this.send_message(\"toolbar_button\", {name: name});\n",
       "    }\n",
       "};\n",
       "\n",
       "mpl.figure.prototype.toolbar_button_onmouseover = function(tooltip) {\n",
       "    this.message.textContent = tooltip;\n",
       "};\n",
       "mpl.toolbar_items = [[\"Home\", \"Reset original view\", \"fa fa-home icon-home\", \"home\"], [\"Back\", \"Back to previous view\", \"fa fa-arrow-left icon-arrow-left\", \"back\"], [\"Forward\", \"Forward to next view\", \"fa fa-arrow-right icon-arrow-right\", \"forward\"], [\"\", \"\", \"\", \"\"], [\"Pan\", \"Pan axes with left mouse, zoom with right\", \"fa fa-arrows icon-move\", \"pan\"], [\"Zoom\", \"Zoom to rectangle\", \"fa fa-square-o icon-check-empty\", \"zoom\"], [\"\", \"\", \"\", \"\"], [\"Download\", \"Download plot\", \"fa fa-floppy-o icon-save\", \"download\"]];\n",
       "\n",
       "mpl.extensions = [\"eps\", \"jpeg\", \"pdf\", \"png\", \"ps\", \"raw\", \"svg\", \"tif\"];\n",
       "\n",
       "mpl.default_extension = \"png\";var comm_websocket_adapter = function(comm) {\n",
       "    // Create a \"websocket\"-like object which calls the given IPython comm\n",
       "    // object with the appropriate methods. Currently this is a non binary\n",
       "    // socket, so there is still some room for performance tuning.\n",
       "    var ws = {};\n",
       "\n",
       "    ws.close = function() {\n",
       "        comm.close()\n",
       "    };\n",
       "    ws.send = function(m) {\n",
       "        //console.log('sending', m);\n",
       "        comm.send(m);\n",
       "    };\n",
       "    // Register the callback with on_msg.\n",
       "    comm.on_msg(function(msg) {\n",
       "        //console.log('receiving', msg['content']['data'], msg);\n",
       "        // Pass the mpl event to the overridden (by mpl) onmessage function.\n",
       "        ws.onmessage(msg['content']['data'])\n",
       "    });\n",
       "    return ws;\n",
       "}\n",
       "\n",
       "mpl.mpl_figure_comm = function(comm, msg) {\n",
       "    // This is the function which gets called when the mpl process\n",
       "    // starts-up an IPython Comm through the \"matplotlib\" channel.\n",
       "\n",
       "    var id = msg.content.data.id;\n",
       "    // Get hold of the div created by the display call when the Comm\n",
       "    // socket was opened in Python.\n",
       "    var element = $(\"#\" + id);\n",
       "    var ws_proxy = comm_websocket_adapter(comm)\n",
       "\n",
       "    function ondownload(figure, format) {\n",
       "        window.open(figure.imageObj.src);\n",
       "    }\n",
       "\n",
       "    var fig = new mpl.figure(id, ws_proxy,\n",
       "                           ondownload,\n",
       "                           element.get(0));\n",
       "\n",
       "    // Call onopen now - mpl needs it, as it is assuming we've passed it a real\n",
       "    // web socket which is closed, not our websocket->open comm proxy.\n",
       "    ws_proxy.onopen();\n",
       "\n",
       "    fig.parent_element = element.get(0);\n",
       "    fig.cell_info = mpl.find_output_cell(\"<div id='\" + id + \"'></div>\");\n",
       "    if (!fig.cell_info) {\n",
       "        console.error(\"Failed to find cell for figure\", id, fig);\n",
       "        return;\n",
       "    }\n",
       "\n",
       "    var output_index = fig.cell_info[2]\n",
       "    var cell = fig.cell_info[0];\n",
       "\n",
       "};\n",
       "\n",
       "mpl.figure.prototype.handle_close = function(fig, msg) {\n",
       "    var width = fig.canvas.width/mpl.ratio\n",
       "    fig.root.unbind('remove')\n",
       "\n",
       "    // Update the output cell to use the data from the current canvas.\n",
       "    fig.push_to_output();\n",
       "    var dataURL = fig.canvas.toDataURL();\n",
       "    // Re-enable the keyboard manager in IPython - without this line, in FF,\n",
       "    // the notebook keyboard shortcuts fail.\n",
       "    IPython.keyboard_manager.enable()\n",
       "    $(fig.parent_element).html('<img src=\"' + dataURL + '\" width=\"' + width + '\">');\n",
       "    fig.close_ws(fig, msg);\n",
       "}\n",
       "\n",
       "mpl.figure.prototype.close_ws = function(fig, msg){\n",
       "    fig.send_message('closing', msg);\n",
       "    // fig.ws.close()\n",
       "}\n",
       "\n",
       "mpl.figure.prototype.push_to_output = function(remove_interactive) {\n",
       "    // Turn the data on the canvas into data in the output cell.\n",
       "    var width = this.canvas.width/mpl.ratio\n",
       "    var dataURL = this.canvas.toDataURL();\n",
       "    this.cell_info[1]['text/html'] = '<img src=\"' + dataURL + '\" width=\"' + width + '\">';\n",
       "}\n",
       "\n",
       "mpl.figure.prototype.updated_canvas_event = function() {\n",
       "    // Tell IPython that the notebook contents must change.\n",
       "    IPython.notebook.set_dirty(true);\n",
       "    this.send_message(\"ack\", {});\n",
       "    var fig = this;\n",
       "    // Wait a second, then push the new image to the DOM so\n",
       "    // that it is saved nicely (might be nice to debounce this).\n",
       "    setTimeout(function () { fig.push_to_output() }, 1000);\n",
       "}\n",
       "\n",
       "mpl.figure.prototype._init_toolbar = function() {\n",
       "    var fig = this;\n",
       "\n",
       "    var nav_element = $('<div/>')\n",
       "    nav_element.attr('style', 'width: 100%');\n",
       "    this.root.append(nav_element);\n",
       "\n",
       "    // Define a callback function for later on.\n",
       "    function toolbar_event(event) {\n",
       "        return fig.toolbar_button_onclick(event['data']);\n",
       "    }\n",
       "    function toolbar_mouse_event(event) {\n",
       "        return fig.toolbar_button_onmouseover(event['data']);\n",
       "    }\n",
       "\n",
       "    for(var toolbar_ind in mpl.toolbar_items){\n",
       "        var name = mpl.toolbar_items[toolbar_ind][0];\n",
       "        var tooltip = mpl.toolbar_items[toolbar_ind][1];\n",
       "        var image = mpl.toolbar_items[toolbar_ind][2];\n",
       "        var method_name = mpl.toolbar_items[toolbar_ind][3];\n",
       "\n",
       "        if (!name) { continue; };\n",
       "\n",
       "        var button = $('<button class=\"btn btn-default\" href=\"#\" title=\"' + name + '\"><i class=\"fa ' + image + ' fa-lg\"></i></button>');\n",
       "        button.click(method_name, toolbar_event);\n",
       "        button.mouseover(tooltip, toolbar_mouse_event);\n",
       "        nav_element.append(button);\n",
       "    }\n",
       "\n",
       "    // Add the status bar.\n",
       "    var status_bar = $('<span class=\"mpl-message\" style=\"text-align:right; float: right;\"/>');\n",
       "    nav_element.append(status_bar);\n",
       "    this.message = status_bar[0];\n",
       "\n",
       "    // Add the close button to the window.\n",
       "    var buttongrp = $('<div class=\"btn-group inline pull-right\"></div>');\n",
       "    var button = $('<button class=\"btn btn-mini btn-primary\" href=\"#\" title=\"Stop Interaction\"><i class=\"fa fa-power-off icon-remove icon-large\"></i></button>');\n",
       "    button.click(function (evt) { fig.handle_close(fig, {}); } );\n",
       "    button.mouseover('Stop Interaction', toolbar_mouse_event);\n",
       "    buttongrp.append(button);\n",
       "    var titlebar = this.root.find($('.ui-dialog-titlebar'));\n",
       "    titlebar.prepend(buttongrp);\n",
       "}\n",
       "\n",
       "mpl.figure.prototype._root_extra_style = function(el){\n",
       "    var fig = this\n",
       "    el.on(\"remove\", function(){\n",
       "\tfig.close_ws(fig, {});\n",
       "    });\n",
       "}\n",
       "\n",
       "mpl.figure.prototype._canvas_extra_style = function(el){\n",
       "    // this is important to make the div 'focusable\n",
       "    el.attr('tabindex', 0)\n",
       "    // reach out to IPython and tell the keyboard manager to turn it's self\n",
       "    // off when our div gets focus\n",
       "\n",
       "    // location in version 3\n",
       "    if (IPython.notebook.keyboard_manager) {\n",
       "        IPython.notebook.keyboard_manager.register_events(el);\n",
       "    }\n",
       "    else {\n",
       "        // location in version 2\n",
       "        IPython.keyboard_manager.register_events(el);\n",
       "    }\n",
       "\n",
       "}\n",
       "\n",
       "mpl.figure.prototype._key_event_extra = function(event, name) {\n",
       "    var manager = IPython.notebook.keyboard_manager;\n",
       "    if (!manager)\n",
       "        manager = IPython.keyboard_manager;\n",
       "\n",
       "    // Check for shift+enter\n",
       "    if (event.shiftKey && event.which == 13) {\n",
       "        this.canvas_div.blur();\n",
       "        event.shiftKey = false;\n",
       "        // Send a \"J\" for go to next cell\n",
       "        event.which = 74;\n",
       "        event.keyCode = 74;\n",
       "        manager.command_mode();\n",
       "        manager.handle_keydown(event);\n",
       "    }\n",
       "}\n",
       "\n",
       "mpl.figure.prototype.handle_save = function(fig, msg) {\n",
       "    fig.ondownload(fig, null);\n",
       "}\n",
       "\n",
       "\n",
       "mpl.find_output_cell = function(html_output) {\n",
       "    // Return the cell and output element which can be found *uniquely* in the notebook.\n",
       "    // Note - this is a bit hacky, but it is done because the \"notebook_saving.Notebook\"\n",
       "    // IPython event is triggered only after the cells have been serialised, which for\n",
       "    // our purposes (turning an active figure into a static one), is too late.\n",
       "    var cells = IPython.notebook.get_cells();\n",
       "    var ncells = cells.length;\n",
       "    for (var i=0; i<ncells; i++) {\n",
       "        var cell = cells[i];\n",
       "        if (cell.cell_type === 'code'){\n",
       "            for (var j=0; j<cell.output_area.outputs.length; j++) {\n",
       "                var data = cell.output_area.outputs[j];\n",
       "                if (data.data) {\n",
       "                    // IPython >= 3 moved mimebundle to data attribute of output\n",
       "                    data = data.data;\n",
       "                }\n",
       "                if (data['text/html'] == html_output) {\n",
       "                    return [cell, data, j];\n",
       "                }\n",
       "            }\n",
       "        }\n",
       "    }\n",
       "}\n",
       "\n",
       "// Register the function which deals with the matplotlib target/channel.\n",
       "// The kernel may be null if the page has been refreshed.\n",
       "if (IPython.notebook.kernel != null) {\n",
       "    IPython.notebook.kernel.comm_manager.register_target('matplotlib', mpl.mpl_figure_comm);\n",
       "}\n"
      ],
      "text/plain": [
       "<IPython.core.display.Javascript object>"
      ]
     },
     "metadata": {},
     "output_type": "display_data"
    },
    {
     "data": {
      "text/html": [
       "<img src=\"data:image/png;base64,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\" width=\"1080\">"
      ],
      "text/plain": [
       "<IPython.core.display.HTML object>"
      ]
     },
     "metadata": {},
     "output_type": "display_data"
    },
    {
     "name": "stderr",
     "output_type": "stream",
     "text": [
      "C:\\Users\\ianhelle\\AppData\\Local\\Continuum\\anaconda3\\lib\\site-packages\\networkx\\drawing\\nx_pylab.py:611: MatplotlibDeprecationWarning:\n",
      "\n",
      "isinstance(..., numbers.Number)\n",
      "\n"
     ]
    }
   ],
   "source": [
    "# Draw the graph using Networkx/Matplotlib\n",
    "%matplotlib notebook\n",
    "%matplotlib notebook\n",
    "# extract nodes with specific setting of the attribute\n",
    "def draw_alert_entity_graph(nx_graph, font_size=12, height=12, width=15, margin=0.3, scale=1, node_dist=3 ):\n",
    "    alert_node = [n for (n,node_type) in \\\n",
    "        nx.get_node_attributes(nx_graph,'node_type').items() if node_type == 'alert']\n",
    "    entity_nodes = [n for (n,node_type) in \\\n",
    "        nx.get_node_attributes(nx_graph,'node_type').items() if node_type == 'entity']\n",
    "\n",
    "\n",
    "    # now draw them in subsets  using the `nodelist` arg\n",
    "    plt.rcParams['figure.figsize'] = (width,height)\n",
    "\n",
    "    plt.margins(x=margin, y=margin)\n",
    "    #pos = nx.spring_layout(nx_graph, fixed=None, scale=scale, k=3, weight='weight')\n",
    "    pos = nx.kamada_kawai_layout(nx_graph, scale=scale, weight='weight')\n",
    "    nx.draw_networkx_nodes(nx_graph, pos, nodelist=alert_node, node_color='red', alpha=0.5, node_shape='o')\n",
    "    nx.draw_networkx_nodes(nx_graph, pos, nodelist=entity_nodes, node_color='green', alpha=0.5, node_shape='s', s=200)#, node_size='500')\n",
    "    nlabels = nx.get_node_attributes(nx_graph, 'description')\n",
    "    nx.relabel_nodes(nx_graph, nlabels)\n",
    "    nx.draw_networkx_labels(nx_graph, pos, nlabels, font_size=font_size)\n",
    "    nx.draw_networkx_edges(nx_graph, pos)\n",
    "    elabels = nx.get_edge_attributes(nx_graph, 'description')\n",
    "    nx.draw_networkx_edge_labels(nx_graph, pos, edge_labels=elabels, font_size=font_size * 2/3, alpha=0.6);\n",
    "    plt.show();\n",
    "\n",
    "draw_alert_entity_graph(alertentity_graph)"
   ]
  },
  {
   "cell_type": "markdown",
   "metadata": {
    "tags": [
     "todo"
    ]
   },
   "source": [
    "<a id='previous_alerts'></a>[Contents](#toc)\n",
    "# Previous Alerts\n",
    "### For entities in the investigated alert"
   ]
  },
  {
   "cell_type": "code",
   "execution_count": 21,
   "metadata": {},
   "outputs": [
    {
     "data": {
      "text/html": [
       "<h3>Set additional days to look back for past alerts (in days)</h3>"
      ],
      "text/plain": [
       "<IPython.core.display.HTML object>"
      ]
     },
     "metadata": {},
     "output_type": "display_data"
    },
    {
     "data": {
      "application/vnd.jupyter.widget-view+json": {
       "model_id": "ae87d370fbae4f49afeab16a68a02fb9",
       "version_major": 2,
       "version_minor": 0
      },
      "text/plain": [
       "IntSlider(value=7, description='Days to search:', layout=Layout(width='50%'), max=40, min=1, style=SliderStyle…"
      ]
     },
     "metadata": {},
     "output_type": "display_data"
    }
   ],
   "source": [
    "# Calculate query time boundaries\n",
    "from datetime import timedelta\n",
    "startTimeUtc = investigatedAlert['StartTimeUtc']\n",
    "queryStartTimeUtc = startTimeUtc - timedelta(0, 60 * 60)\n",
    "queryEndTimeUtc = startTimeUtc + timedelta(0, 10 * 60)\n",
    "\n",
    "historicAlertsDays = widgets.IntSlider(value=7, min=1, max=40, step=1,\n",
    "                                       description='Days to search:',\n",
    "                                       layout = Layout(width='50%'),\n",
    "                                       style = {'description_width': 'initial'})\n",
    "display(HTML('<h3>Set additional days to look back for past alerts (in days)</h3>'))\n",
    "display(historicAlertsDays)"
   ]
  },
  {
   "cell_type": "code",
   "execution_count": 22,
   "metadata": {
    "scrolled": true
   },
   "outputs": [
    {
     "data": {
      "text/html": [
       "<h4>Previous related alerts</h4>"
      ],
      "text/plain": [
       "<IPython.core.display.HTML object>"
      ]
     },
     "metadata": {},
     "output_type": "display_data"
    },
    {
     "data": {
      "text/html": [
       "<b>Found 44 different alert types related to this host ('MSTICALERTSWIN1')</b>"
      ],
      "text/plain": [
       "<IPython.core.display.HTML object>"
      ]
     },
     "metadata": {},
     "output_type": "display_data"
    },
    {
     "data": {
      "text/html": [
       "<p style=\"margin-left: 40px\">Anomalous account creation detected, Count of alerts: 1</p>"
      ],
      "text/plain": [
       "<IPython.core.display.HTML object>"
      ]
     },
     "metadata": {},
     "output_type": "display_data"
    },
    {
     "data": {
      "text/html": [
       "<p style=\"margin-left: 40px\">Azure Security Center test alert (not a threat), Count of alerts: 2</p>"
      ],
      "text/plain": [
       "<IPython.core.display.HTML object>"
      ]
     },
     "metadata": {},
     "output_type": "display_data"
    },
    {
     "data": {
      "text/html": [
       "<p style=\"margin-left: 40px\">Detected actions indicative of disabling and deleting IIS log files., Count of alerts: 1</p>"
      ],
      "text/plain": [
       "<IPython.core.display.HTML object>"
      ]
     },
     "metadata": {},
     "output_type": "display_data"
    },
    {
     "data": {
      "text/html": [
       "<p style=\"margin-left: 40px\">Detected change to a registry key that can be abused to bypass UAC, Count of alerts: 1</p>"
      ],
      "text/plain": [
       "<IPython.core.display.HTML object>"
      ]
     },
     "metadata": {},
     "output_type": "display_data"
    },
    {
     "data": {
      "text/html": [
       "<p style=\"margin-left: 40px\">Detected decoding of an executable using built-in certutil.exe tool, Count of alerts: 1</p>"
      ],
      "text/plain": [
       "<IPython.core.display.HTML object>"
      ]
     },
     "metadata": {},
     "output_type": "display_data"
    },
    {
     "data": {
      "text/html": [
       "<p style=\"margin-left: 40px\">Detected encoded executable in command line data, Count of alerts: 1</p>"
      ],
      "text/plain": [
       "<IPython.core.display.HTML object>"
      ]
     },
     "metadata": {},
     "output_type": "display_data"
    },
    {
     "data": {
      "text/html": [
       "<p style=\"margin-left: 40px\">Detected obfuscated command line., Count of alerts: 2</p>"
      ],
      "text/plain": [
       "<IPython.core.display.HTML object>"
      ]
     },
     "metadata": {},
     "output_type": "display_data"
    },
    {
     "data": {
      "text/html": [
       "<p style=\"margin-left: 40px\">Detected possible execution of keygen executable, Count of alerts: 1</p>"
      ],
      "text/plain": [
       "<IPython.core.display.HTML object>"
      ]
     },
     "metadata": {},
     "output_type": "display_data"
    },
    {
     "data": {
      "text/html": [
       "<p style=\"margin-left: 40px\">Detected possible execution of malware dropper, Count of alerts: 1</p>"
      ],
      "text/plain": [
       "<IPython.core.display.HTML object>"
      ]
     },
     "metadata": {},
     "output_type": "display_data"
    },
    {
     "data": {
      "text/html": [
       "<p style=\"margin-left: 40px\">Detected possible local reconnaissance activity, Count of alerts: 1</p>"
      ],
      "text/plain": [
       "<IPython.core.display.HTML object>"
      ]
     },
     "metadata": {},
     "output_type": "display_data"
    },
    {
     "data": {
      "text/html": [
       "<p style=\"margin-left: 40px\">Detected potentially suspicious use of Telegram tool, Count of alerts: 1</p>"
      ],
      "text/plain": [
       "<IPython.core.display.HTML object>"
      ]
     },
     "metadata": {},
     "output_type": "display_data"
    },
    {
     "data": {
      "text/html": [
       "<p style=\"margin-left: 40px\">Detected suspicious Set-ExecutionPolicy and WinRM changes, Count of alerts: 1</p>"
      ],
      "text/plain": [
       "<IPython.core.display.HTML object>"
      ]
     },
     "metadata": {},
     "output_type": "display_data"
    },
    {
     "data": {
      "text/html": [
       "<p style=\"margin-left: 40px\">Detected suspicious commandline arguments, Count of alerts: 1</p>"
      ],
      "text/plain": [
       "<IPython.core.display.HTML object>"
      ]
     },
     "metadata": {},
     "output_type": "display_data"
    },
    {
     "data": {
      "text/html": [
       "<p style=\"margin-left: 40px\">Detected suspicious commandline used to start all executables in a directory, Count of alerts: 1</p>"
      ],
      "text/plain": [
       "<IPython.core.display.HTML object>"
      ]
     },
     "metadata": {},
     "output_type": "display_data"
    },
    {
     "data": {
      "text/html": [
       "<p style=\"margin-left: 40px\">Detected suspicious credentials in commandline, Count of alerts: 1</p>"
      ],
      "text/plain": [
       "<IPython.core.display.HTML object>"
      ]
     },
     "metadata": {},
     "output_type": "display_data"
    },
    {
     "data": {
      "text/html": [
       "<p style=\"margin-left: 40px\">Detected suspicious document credentials, Count of alerts: 1</p>"
      ],
      "text/plain": [
       "<IPython.core.display.HTML object>"
      ]
     },
     "metadata": {},
     "output_type": "display_data"
    },
    {
     "data": {
      "text/html": [
       "<p style=\"margin-left: 40px\">Detected suspicious execution of VBScript.Encode command, Count of alerts: 1</p>"
      ],
      "text/plain": [
       "<IPython.core.display.HTML object>"
      ]
     },
     "metadata": {},
     "output_type": "display_data"
    },
    {
     "data": {
      "text/html": [
       "<p style=\"margin-left: 40px\">Detected suspicious file creation, Count of alerts: 1</p>"
      ],
      "text/plain": [
       "<IPython.core.display.HTML object>"
      ]
     },
     "metadata": {},
     "output_type": "display_data"
    },
    {
     "data": {
      "text/html": [
       "<p style=\"margin-left: 40px\">Detected suspicious named pipe communications, Count of alerts: 1</p>"
      ],
      "text/plain": [
       "<IPython.core.display.HTML object>"
      ]
     },
     "metadata": {},
     "output_type": "display_data"
    },
    {
     "data": {
      "text/html": [
       "<p style=\"margin-left: 40px\">Detected suspicious new firewall rule, Count of alerts: 1</p>"
      ],
      "text/plain": [
       "<IPython.core.display.HTML object>"
      ]
     },
     "metadata": {},
     "output_type": "display_data"
    },
    {
     "data": {
      "text/html": [
       "<p style=\"margin-left: 40px\">Detected suspicious use of Cacls to lower the security state of the system., Count of alerts: 1</p>"
      ],
      "text/plain": [
       "<IPython.core.display.HTML object>"
      ]
     },
     "metadata": {},
     "output_type": "display_data"
    },
    {
     "data": {
      "text/html": [
       "<p style=\"margin-left: 40px\">Detected suspicious use of FTP -s Switch, Count of alerts: 1</p>"
      ],
      "text/plain": [
       "<IPython.core.display.HTML object>"
      ]
     },
     "metadata": {},
     "output_type": "display_data"
    },
    {
     "data": {
      "text/html": [
       "<p style=\"margin-left: 40px\">Detected suspicious use of Pcalua.exe to launch executable code, Count of alerts: 1</p>"
      ],
      "text/plain": [
       "<IPython.core.display.HTML object>"
      ]
     },
     "metadata": {},
     "output_type": "display_data"
    },
    {
     "data": {
      "text/html": [
       "<p style=\"margin-left: 40px\">Detected the disabling of critical services, Count of alerts: 1</p>"
      ],
      "text/plain": [
       "<IPython.core.display.HTML object>"
      ]
     },
     "metadata": {},
     "output_type": "display_data"
    },
    {
     "data": {
      "text/html": [
       "<p style=\"margin-left: 40px\">Digital currency mining related behavior detected, Count of alerts: 3</p>"
      ],
      "text/plain": [
       "<IPython.core.display.HTML object>"
      ]
     },
     "metadata": {},
     "output_type": "display_data"
    },
    {
     "data": {
      "text/html": [
       "<p style=\"margin-left: 40px\">Executable found running from a suspicious location, Count of alerts: 4</p>"
      ],
      "text/plain": [
       "<IPython.core.display.HTML object>"
      ]
     },
     "metadata": {},
     "output_type": "display_data"
    },
    {
     "data": {
      "text/html": [
       "<p style=\"margin-left: 40px\">High risk software detected, Count of alerts: 1</p>"
      ],
      "text/plain": [
       "<IPython.core.display.HTML object>"
      ]
     },
     "metadata": {},
     "output_type": "display_data"
    },
    {
     "data": {
      "text/html": [
       "<p style=\"margin-left: 40px\">Possible credential dumping detected, Count of alerts: 1</p>"
      ],
      "text/plain": [
       "<IPython.core.display.HTML object>"
      ]
     },
     "metadata": {},
     "output_type": "display_data"
    },
    {
     "data": {
      "text/html": [
       "<p style=\"margin-left: 40px\">Potential attempt to bypass AppLocker detected, Count of alerts: 3</p>"
      ],
      "text/plain": [
       "<IPython.core.display.HTML object>"
      ]
     },
     "metadata": {},
     "output_type": "display_data"
    },
    {
     "data": {
      "text/html": [
       "<p style=\"margin-left: 40px\">Random process name detected, Count of alerts: 1</p>"
      ],
      "text/plain": [
       "<IPython.core.display.HTML object>"
      ]
     },
     "metadata": {},
     "output_type": "display_data"
    },
    {
     "data": {
      "text/html": [
       "<p style=\"margin-left: 40px\">Ransomware indicators detected, Count of alerts: 2</p>"
      ],
      "text/plain": [
       "<IPython.core.display.HTML object>"
      ]
     },
     "metadata": {},
     "output_type": "display_data"
    },
    {
     "data": {
      "text/html": [
       "<p style=\"margin-left: 40px\">Sticky keys attack detected, Count of alerts: 1</p>"
      ],
      "text/plain": [
       "<IPython.core.display.HTML object>"
      ]
     },
     "metadata": {},
     "output_type": "display_data"
    },
    {
     "data": {
      "text/html": [
       "<p style=\"margin-left: 40px\">Suspected Kerberos Golden Ticket attack parameters observed, Count of alerts: 1</p>"
      ],
      "text/plain": [
       "<IPython.core.display.HTML object>"
      ]
     },
     "metadata": {},
     "output_type": "display_data"
    },
    {
     "data": {
      "text/html": [
       "<p style=\"margin-left: 40px\">Suspicious Account Creation Detected, Count of alerts: 3</p>"
      ],
      "text/plain": [
       "<IPython.core.display.HTML object>"
      ]
     },
     "metadata": {},
     "output_type": "display_data"
    },
    {
     "data": {
      "text/html": [
       "<p style=\"margin-left: 40px\">Suspicious Powershell Activity Detected, Count of alerts: 8</p>"
      ],
      "text/plain": [
       "<IPython.core.display.HTML object>"
      ]
     },
     "metadata": {},
     "output_type": "display_data"
    },
    {
     "data": {
      "text/html": [
       "<p style=\"margin-left: 40px\">Suspicious SVCHOST process executed, Count of alerts: 1</p>"
      ],
      "text/plain": [
       "<IPython.core.display.HTML object>"
      ]
     },
     "metadata": {},
     "output_type": "display_data"
    },
    {
     "data": {
      "text/html": [
       "<p style=\"margin-left: 40px\">Suspicious Volume Shadow Copy Activity, Count of alerts: 2</p>"
      ],
      "text/plain": [
       "<IPython.core.display.HTML object>"
      ]
     },
     "metadata": {},
     "output_type": "display_data"
    },
    {
     "data": {
      "text/html": [
       "<p style=\"margin-left: 40px\">Suspicious WindowPosition registry value detected, Count of alerts: 2</p>"
      ],
      "text/plain": [
       "<IPython.core.display.HTML object>"
      ]
     },
     "metadata": {},
     "output_type": "display_data"
    },
    {
     "data": {
      "text/html": [
       "<p style=\"margin-left: 40px\">Suspicious double extension file executed, Count of alerts: 2</p>"
      ],
      "text/plain": [
       "<IPython.core.display.HTML object>"
      ]
     },
     "metadata": {},
     "output_type": "display_data"
    },
    {
     "data": {
      "text/html": [
       "<p style=\"margin-left: 40px\">Suspicious download using Certutil detected, Count of alerts: 1</p>"
      ],
      "text/plain": [
       "<IPython.core.display.HTML object>"
      ]
     },
     "metadata": {},
     "output_type": "display_data"
    },
    {
     "data": {
      "text/html": [
       "<p style=\"margin-left: 40px\">Suspicious powershell cmdlets executed, Count of alerts: 1</p>"
      ],
      "text/plain": [
       "<IPython.core.display.HTML object>"
      ]
     },
     "metadata": {},
     "output_type": "display_data"
    },
    {
     "data": {
      "text/html": [
       "<p style=\"margin-left: 40px\">Suspicious process executed, Count of alerts: 4</p>"
      ],
      "text/plain": [
       "<IPython.core.display.HTML object>"
      ]
     },
     "metadata": {},
     "output_type": "display_data"
    },
    {
     "data": {
      "text/html": [
       "<p style=\"margin-left: 40px\">Suspicious system process executed, Count of alerts: 2</p>"
      ],
      "text/plain": [
       "<IPython.core.display.HTML object>"
      ]
     },
     "metadata": {},
     "output_type": "display_data"
    },
    {
     "data": {
      "text/html": [
       "<p style=\"margin-left: 40px\">Suspiciously named process detected, Count of alerts: 3</p>"
      ],
      "text/plain": [
       "<IPython.core.display.HTML object>"
      ]
     },
     "metadata": {},
     "output_type": "display_data"
    },
    {
     "data": {
      "text/html": [
       "<b>Found 38 different alert types related to this account ('MSTICAlertsWin1\\MSTICAdmin')</b>"
      ],
      "text/plain": [
       "<IPython.core.display.HTML object>"
      ]
     },
     "metadata": {},
     "output_type": "display_data"
    },
    {
     "data": {
      "text/html": [
       "<p style=\"margin-left: 40px\">Azure Security Center test alert (not a threat), Count of alerts: 2</p>"
      ],
      "text/plain": [
       "<IPython.core.display.HTML object>"
      ]
     },
     "metadata": {},
     "output_type": "display_data"
    },
    {
     "data": {
      "text/html": [
       "<p style=\"margin-left: 40px\">Detected actions indicative of disabling and deleting IIS log files., Count of alerts: 1</p>"
      ],
      "text/plain": [
       "<IPython.core.display.HTML object>"
      ]
     },
     "metadata": {},
     "output_type": "display_data"
    },
    {
     "data": {
      "text/html": [
       "<p style=\"margin-left: 40px\">Detected change to a registry key that can be abused to bypass UAC, Count of alerts: 1</p>"
      ],
      "text/plain": [
       "<IPython.core.display.HTML object>"
      ]
     },
     "metadata": {},
     "output_type": "display_data"
    },
    {
     "data": {
      "text/html": [
       "<p style=\"margin-left: 40px\">Detected decoding of an executable using built-in certutil.exe tool, Count of alerts: 1</p>"
      ],
      "text/plain": [
       "<IPython.core.display.HTML object>"
      ]
     },
     "metadata": {},
     "output_type": "display_data"
    },
    {
     "data": {
      "text/html": [
       "<p style=\"margin-left: 40px\">Detected encoded executable in command line data, Count of alerts: 1</p>"
      ],
      "text/plain": [
       "<IPython.core.display.HTML object>"
      ]
     },
     "metadata": {},
     "output_type": "display_data"
    },
    {
     "data": {
      "text/html": [
       "<p style=\"margin-left: 40px\">Detected obfuscated command line., Count of alerts: 2</p>"
      ],
      "text/plain": [
       "<IPython.core.display.HTML object>"
      ]
     },
     "metadata": {},
     "output_type": "display_data"
    },
    {
     "data": {
      "text/html": [
       "<p style=\"margin-left: 40px\">Detected possible execution of keygen executable, Count of alerts: 1</p>"
      ],
      "text/plain": [
       "<IPython.core.display.HTML object>"
      ]
     },
     "metadata": {},
     "output_type": "display_data"
    },
    {
     "data": {
      "text/html": [
       "<p style=\"margin-left: 40px\">Detected possible execution of malware dropper, Count of alerts: 1</p>"
      ],
      "text/plain": [
       "<IPython.core.display.HTML object>"
      ]
     },
     "metadata": {},
     "output_type": "display_data"
    },
    {
     "data": {
      "text/html": [
       "<p style=\"margin-left: 40px\">Detected possible local reconnaissance activity, Count of alerts: 1</p>"
      ],
      "text/plain": [
       "<IPython.core.display.HTML object>"
      ]
     },
     "metadata": {},
     "output_type": "display_data"
    },
    {
     "data": {
      "text/html": [
       "<p style=\"margin-left: 40px\">Detected potentially suspicious use of Telegram tool, Count of alerts: 1</p>"
      ],
      "text/plain": [
       "<IPython.core.display.HTML object>"
      ]
     },
     "metadata": {},
     "output_type": "display_data"
    },
    {
     "data": {
      "text/html": [
       "<p style=\"margin-left: 40px\">Detected suspicious Set-ExecutionPolicy and WinRM changes, Count of alerts: 1</p>"
      ],
      "text/plain": [
       "<IPython.core.display.HTML object>"
      ]
     },
     "metadata": {},
     "output_type": "display_data"
    },
    {
     "data": {
      "text/html": [
       "<p style=\"margin-left: 40px\">Detected suspicious commandline arguments, Count of alerts: 1</p>"
      ],
      "text/plain": [
       "<IPython.core.display.HTML object>"
      ]
     },
     "metadata": {},
     "output_type": "display_data"
    },
    {
     "data": {
      "text/html": [
       "<p style=\"margin-left: 40px\">Detected suspicious commandline used to start all executables in a directory, Count of alerts: 1</p>"
      ],
      "text/plain": [
       "<IPython.core.display.HTML object>"
      ]
     },
     "metadata": {},
     "output_type": "display_data"
    },
    {
     "data": {
      "text/html": [
       "<p style=\"margin-left: 40px\">Detected suspicious credentials in commandline, Count of alerts: 1</p>"
      ],
      "text/plain": [
       "<IPython.core.display.HTML object>"
      ]
     },
     "metadata": {},
     "output_type": "display_data"
    },
    {
     "data": {
      "text/html": [
       "<p style=\"margin-left: 40px\">Detected suspicious document credentials, Count of alerts: 1</p>"
      ],
      "text/plain": [
       "<IPython.core.display.HTML object>"
      ]
     },
     "metadata": {},
     "output_type": "display_data"
    },
    {
     "data": {
      "text/html": [
       "<p style=\"margin-left: 40px\">Detected suspicious execution of VBScript.Encode command, Count of alerts: 1</p>"
      ],
      "text/plain": [
       "<IPython.core.display.HTML object>"
      ]
     },
     "metadata": {},
     "output_type": "display_data"
    },
    {
     "data": {
      "text/html": [
       "<p style=\"margin-left: 40px\">Detected suspicious file creation, Count of alerts: 1</p>"
      ],
      "text/plain": [
       "<IPython.core.display.HTML object>"
      ]
     },
     "metadata": {},
     "output_type": "display_data"
    },
    {
     "data": {
      "text/html": [
       "<p style=\"margin-left: 40px\">Detected suspicious named pipe communications, Count of alerts: 1</p>"
      ],
      "text/plain": [
       "<IPython.core.display.HTML object>"
      ]
     },
     "metadata": {},
     "output_type": "display_data"
    },
    {
     "data": {
      "text/html": [
       "<p style=\"margin-left: 40px\">Detected suspicious new firewall rule, Count of alerts: 1</p>"
      ],
      "text/plain": [
       "<IPython.core.display.HTML object>"
      ]
     },
     "metadata": {},
     "output_type": "display_data"
    },
    {
     "data": {
      "text/html": [
       "<p style=\"margin-left: 40px\">Detected suspicious use of Cacls to lower the security state of the system., Count of alerts: 1</p>"
      ],
      "text/plain": [
       "<IPython.core.display.HTML object>"
      ]
     },
     "metadata": {},
     "output_type": "display_data"
    },
    {
     "data": {
      "text/html": [
       "<p style=\"margin-left: 40px\">Detected suspicious use of FTP -s Switch, Count of alerts: 1</p>"
      ],
      "text/plain": [
       "<IPython.core.display.HTML object>"
      ]
     },
     "metadata": {},
     "output_type": "display_data"
    },
    {
     "data": {
      "text/html": [
       "<p style=\"margin-left: 40px\">Detected suspicious use of Pcalua.exe to launch executable code, Count of alerts: 1</p>"
      ],
      "text/plain": [
       "<IPython.core.display.HTML object>"
      ]
     },
     "metadata": {},
     "output_type": "display_data"
    },
    {
     "data": {
      "text/html": [
       "<p style=\"margin-left: 40px\">Detected the disabling of critical services, Count of alerts: 1</p>"
      ],
      "text/plain": [
       "<IPython.core.display.HTML object>"
      ]
     },
     "metadata": {},
     "output_type": "display_data"
    },
    {
     "data": {
      "text/html": [
       "<p style=\"margin-left: 40px\">Digital currency mining related behavior detected, Count of alerts: 3</p>"
      ],
      "text/plain": [
       "<IPython.core.display.HTML object>"
      ]
     },
     "metadata": {},
     "output_type": "display_data"
    },
    {
     "data": {
      "text/html": [
       "<p style=\"margin-left: 40px\">Executable found running from a suspicious location, Count of alerts: 4</p>"
      ],
      "text/plain": [
       "<IPython.core.display.HTML object>"
      ]
     },
     "metadata": {},
     "output_type": "display_data"
    },
    {
     "data": {
      "text/html": [
       "<p style=\"margin-left: 40px\">High risk software detected, Count of alerts: 1</p>"
      ],
      "text/plain": [
       "<IPython.core.display.HTML object>"
      ]
     },
     "metadata": {},
     "output_type": "display_data"
    },
    {
     "data": {
      "text/html": [
       "<p style=\"margin-left: 40px\">Possible credential dumping detected, Count of alerts: 1</p>"
      ],
      "text/plain": [
       "<IPython.core.display.HTML object>"
      ]
     },
     "metadata": {},
     "output_type": "display_data"
    },
    {
     "data": {
      "text/html": [
       "<p style=\"margin-left: 40px\">Potential attempt to bypass AppLocker detected, Count of alerts: 3</p>"
      ],
      "text/plain": [
       "<IPython.core.display.HTML object>"
      ]
     },
     "metadata": {},
     "output_type": "display_data"
    },
    {
     "data": {
      "text/html": [
       "<p style=\"margin-left: 40px\">Random process name detected, Count of alerts: 1</p>"
      ],
      "text/plain": [
       "<IPython.core.display.HTML object>"
      ]
     },
     "metadata": {},
     "output_type": "display_data"
    },
    {
     "data": {
      "text/html": [
       "<p style=\"margin-left: 40px\">Ransomware indicators detected, Count of alerts: 2</p>"
      ],
      "text/plain": [
       "<IPython.core.display.HTML object>"
      ]
     },
     "metadata": {},
     "output_type": "display_data"
    },
    {
     "data": {
      "text/html": [
       "<p style=\"margin-left: 40px\">Sticky keys attack detected, Count of alerts: 1</p>"
      ],
      "text/plain": [
       "<IPython.core.display.HTML object>"
      ]
     },
     "metadata": {},
     "output_type": "display_data"
    },
    {
     "data": {
      "text/html": [
       "<p style=\"margin-left: 40px\">Suspected Kerberos Golden Ticket attack parameters observed, Count of alerts: 1</p>"
      ],
      "text/plain": [
       "<IPython.core.display.HTML object>"
      ]
     },
     "metadata": {},
     "output_type": "display_data"
    },
    {
     "data": {
      "text/html": [
       "<p style=\"margin-left: 40px\">Suspicious Powershell Activity Detected, Count of alerts: 8</p>"
      ],
      "text/plain": [
       "<IPython.core.display.HTML object>"
      ]
     },
     "metadata": {},
     "output_type": "display_data"
    },
    {
     "data": {
      "text/html": [
       "<p style=\"margin-left: 40px\">Suspicious WindowPosition registry value detected, Count of alerts: 2</p>"
      ],
      "text/plain": [
       "<IPython.core.display.HTML object>"
      ]
     },
     "metadata": {},
     "output_type": "display_data"
    },
    {
     "data": {
      "text/html": [
       "<p style=\"margin-left: 40px\">Suspicious download using Certutil detected, Count of alerts: 1</p>"
      ],
      "text/plain": [
       "<IPython.core.display.HTML object>"
      ]
     },
     "metadata": {},
     "output_type": "display_data"
    },
    {
     "data": {
      "text/html": [
       "<p style=\"margin-left: 40px\">Suspicious powershell cmdlets executed, Count of alerts: 1</p>"
      ],
      "text/plain": [
       "<IPython.core.display.HTML object>"
      ]
     },
     "metadata": {},
     "output_type": "display_data"
    },
    {
     "data": {
      "text/html": [
       "<p style=\"margin-left: 40px\">Suspicious process executed, Count of alerts: 4</p>"
      ],
      "text/plain": [
       "<IPython.core.display.HTML object>"
      ]
     },
     "metadata": {},
     "output_type": "display_data"
    },
    {
     "data": {
      "text/html": [
       "<p style=\"margin-left: 40px\">Suspiciously named process detected, Count of alerts: 3</p>"
      ],
      "text/plain": [
       "<IPython.core.display.HTML object>"
      ]
     },
     "metadata": {},
     "output_type": "display_data"
    },
    {
     "data": {
      "text/html": [
       "<b>Found 2 different alert types related to this process ('c:\\diagnostics\\usertmp\\regsvr32.exe')</b>"
      ],
      "text/plain": [
       "<IPython.core.display.HTML object>"
      ]
     },
     "metadata": {},
     "output_type": "display_data"
    },
    {
     "data": {
      "text/html": [
       "<p style=\"margin-left: 40px\">Executable found running from a suspicious location, Count of alerts: 2</p>"
      ],
      "text/plain": [
       "<IPython.core.display.HTML object>"
      ]
     },
     "metadata": {},
     "output_type": "display_data"
    },
    {
     "data": {
      "text/html": [
       "<p style=\"margin-left: 40px\">Potential attempt to bypass AppLocker detected, Count of alerts: 3</p>"
      ],
      "text/plain": [
       "<IPython.core.display.HTML object>"
      ]
     },
     "metadata": {},
     "output_type": "display_data"
    }
   ],
   "source": [
    "historicalStart = queryStartTimeUtc - timedelta(historicAlertsDays.value)\n",
    "    \n",
    "alertProcessName = get_alert_process_name(investigatedAlert)\n",
    "if investigatedAlert['os_family'] == 'Windows':\n",
    "    qry_alertProcessName = escape_windows_path(alertProcessName)\n",
    "else:\n",
    "    qry_alertProcessName = alertProcessName\n",
    "    \n",
    "alertAccountName = get_alert_account_name(investigatedAlert)\n",
    "if alertAccountName.find('\\\\') != -1:\n",
    "    qry_alertAccountName = escape_windows_path(alertAccountName)\n",
    "else:\n",
    "    qry_alertAccountName = alertAccountName\n",
    "\n",
    "query='''\n",
    "{table_source}\n",
    "{query_project}\n",
    "| where {subscription_filter}\n",
    "| where TimeGenerated >= datetime({start})\n",
    "| where TimeGenerated <= datetime({end})\n",
    "| extend ext_properties=parse_json(ExtendedProperties)\n",
    "| extend accountName = tostring(ext_properties[\"User Name\"])\n",
    "| extend processName = tostring(ext_properties[\"Suspicious Process\"])\n",
    "| where {host_filter} or accountName =~ \\'{alertAccountName}\\' or processName =~ \\'{alertProcessName}\\'\n",
    "| extend host_match = ({host_filter})\n",
    "| extend acct_match = (accountName =~ \\'{alertAccountName}\\')\n",
    "| extend proc_match = (processName =~ \\'{alertProcessName}\\')\n",
    "'''.format(table_source=security_alert_source,\n",
    "           query_project=security_alert_project,\n",
    "           start=historicalStart, \n",
    "           end=queryEndTimeUtc, \n",
    "           subscription_filter = kql_subscription_filter(investigatedAlert),\n",
    "           host_filter = kql_host_filter(investigatedAlert),\n",
    "           alertAccountName = qry_alertAccountName,\n",
    "          alertProcessName = qry_alertProcessName)\n",
    "\n",
    "pastAlerts = execute_kql_query(query)\n",
    "\n",
    "pastAccountAlerts = pastAlerts.query('acct_match == @True')\n",
    "pastProcessAlerts = pastAlerts.query('proc_match == @True')\n",
    "pastHostAlerts = pastAlerts.query('host_match == @True')\n",
    "\n",
    "hostAlertItems = pastHostAlerts[['AlertType', 'StartTimeUtc']].groupby('AlertType').StartTimeUtc.agg('count').to_dict()\n",
    "acctAlertItems = pastAccountAlerts[['AlertType', 'StartTimeUtc']].groupby('AlertType').StartTimeUtc.agg('count').to_dict()\n",
    "procAlertItems = pastProcessAlerts[['AlertType', 'StartTimeUtc']].groupby('AlertType').StartTimeUtc.agg('count').to_dict()\n",
    "\n",
    "alertHostName = get_entity_property('host', 'HostName', entities=investigatedAlert['extracted_entities'])\n",
    "\n",
    "display(HTML('<h4>Previous related alerts</h4>'))\n",
    "def print_related_alerts(alertDict, entityType, entityName):\n",
    "    if len(alertDict) > 0:\n",
    "        display(HTML('<b>Found {} different alert types related to this {} (\\'{}\\')</b>'.format(len(alertDict), \n",
    "                                                                                         entityType, \n",
    "                                                                                         entityName)))\n",
    "        for (k,v) in alertDict.items():\n",
    "            display(HTML('<p style=\"margin-left: 40px\">{}, Count of alerts: {}</p>'.format(k, v)))\n",
    "    else:\n",
    "        display(HTML('No alerts for {} entity \\'{}\\''.format(entityType, entityName)))\n",
    "        \n",
    "print_related_alerts(hostAlertItems, 'host', alertHostName)\n",
    "print_related_alerts(acctAlertItems, 'account', alertAccountName)\n",
    "print_related_alerts(procAlertItems, 'process', alertProcessName)"
   ]
  },
  {
   "cell_type": "code",
   "execution_count": 23,
   "metadata": {},
   "outputs": [
    {
     "data": {
      "application/javascript": [
       "/* Put everything inside the global mpl namespace */\n",
       "window.mpl = {};\n",
       "\n",
       "\n",
       "mpl.get_websocket_type = function() {\n",
       "    if (typeof(WebSocket) !== 'undefined') {\n",
       "        return WebSocket;\n",
       "    } else if (typeof(MozWebSocket) !== 'undefined') {\n",
       "        return MozWebSocket;\n",
       "    } else {\n",
       "        alert('Your browser does not have WebSocket support.' +\n",
       "              'Please try Chrome, Safari or Firefox ≥ 6. ' +\n",
       "              'Firefox 4 and 5 are also supported but you ' +\n",
       "              'have to enable WebSockets in about:config.');\n",
       "    };\n",
       "}\n",
       "\n",
       "mpl.figure = function(figure_id, websocket, ondownload, parent_element) {\n",
       "    this.id = figure_id;\n",
       "\n",
       "    this.ws = websocket;\n",
       "\n",
       "    this.supports_binary = (this.ws.binaryType != undefined);\n",
       "\n",
       "    if (!this.supports_binary) {\n",
       "        var warnings = document.getElementById(\"mpl-warnings\");\n",
       "        if (warnings) {\n",
       "            warnings.style.display = 'block';\n",
       "            warnings.textContent = (\n",
       "                \"This browser does not support binary websocket messages. \" +\n",
       "                    \"Performance may be slow.\");\n",
       "        }\n",
       "    }\n",
       "\n",
       "    this.imageObj = new Image();\n",
       "\n",
       "    this.context = undefined;\n",
       "    this.message = undefined;\n",
       "    this.canvas = undefined;\n",
       "    this.rubberband_canvas = undefined;\n",
       "    this.rubberband_context = undefined;\n",
       "    this.format_dropdown = undefined;\n",
       "\n",
       "    this.image_mode = 'full';\n",
       "\n",
       "    this.root = $('<div/>');\n",
       "    this._root_extra_style(this.root)\n",
       "    this.root.attr('style', 'display: inline-block');\n",
       "\n",
       "    $(parent_element).append(this.root);\n",
       "\n",
       "    this._init_header(this);\n",
       "    this._init_canvas(this);\n",
       "    this._init_toolbar(this);\n",
       "\n",
       "    var fig = this;\n",
       "\n",
       "    this.waiting = false;\n",
       "\n",
       "    this.ws.onopen =  function () {\n",
       "            fig.send_message(\"supports_binary\", {value: fig.supports_binary});\n",
       "            fig.send_message(\"send_image_mode\", {});\n",
       "            if (mpl.ratio != 1) {\n",
       "                fig.send_message(\"set_dpi_ratio\", {'dpi_ratio': mpl.ratio});\n",
       "            }\n",
       "            fig.send_message(\"refresh\", {});\n",
       "        }\n",
       "\n",
       "    this.imageObj.onload = function() {\n",
       "            if (fig.image_mode == 'full') {\n",
       "                // Full images could contain transparency (where diff images\n",
       "                // almost always do), so we need to clear the canvas so that\n",
       "                // there is no ghosting.\n",
       "                fig.context.clearRect(0, 0, fig.canvas.width, fig.canvas.height);\n",
       "            }\n",
       "            fig.context.drawImage(fig.imageObj, 0, 0);\n",
       "        };\n",
       "\n",
       "    this.imageObj.onunload = function() {\n",
       "        fig.ws.close();\n",
       "    }\n",
       "\n",
       "    this.ws.onmessage = this._make_on_message_function(this);\n",
       "\n",
       "    this.ondownload = ondownload;\n",
       "}\n",
       "\n",
       "mpl.figure.prototype._init_header = function() {\n",
       "    var titlebar = $(\n",
       "        '<div class=\"ui-dialog-titlebar ui-widget-header ui-corner-all ' +\n",
       "        'ui-helper-clearfix\"/>');\n",
       "    var titletext = $(\n",
       "        '<div class=\"ui-dialog-title\" style=\"width: 100%; ' +\n",
       "        'text-align: center; padding: 3px;\"/>');\n",
       "    titlebar.append(titletext)\n",
       "    this.root.append(titlebar);\n",
       "    this.header = titletext[0];\n",
       "}\n",
       "\n",
       "\n",
       "\n",
       "mpl.figure.prototype._canvas_extra_style = function(canvas_div) {\n",
       "\n",
       "}\n",
       "\n",
       "\n",
       "mpl.figure.prototype._root_extra_style = function(canvas_div) {\n",
       "\n",
       "}\n",
       "\n",
       "mpl.figure.prototype._init_canvas = function() {\n",
       "    var fig = this;\n",
       "\n",
       "    var canvas_div = $('<div/>');\n",
       "\n",
       "    canvas_div.attr('style', 'position: relative; clear: both; outline: 0');\n",
       "\n",
       "    function canvas_keyboard_event(event) {\n",
       "        return fig.key_event(event, event['data']);\n",
       "    }\n",
       "\n",
       "    canvas_div.keydown('key_press', canvas_keyboard_event);\n",
       "    canvas_div.keyup('key_release', canvas_keyboard_event);\n",
       "    this.canvas_div = canvas_div\n",
       "    this._canvas_extra_style(canvas_div)\n",
       "    this.root.append(canvas_div);\n",
       "\n",
       "    var canvas = $('<canvas/>');\n",
       "    canvas.addClass('mpl-canvas');\n",
       "    canvas.attr('style', \"left: 0; top: 0; z-index: 0; outline: 0\")\n",
       "\n",
       "    this.canvas = canvas[0];\n",
       "    this.context = canvas[0].getContext(\"2d\");\n",
       "\n",
       "    var backingStore = this.context.backingStorePixelRatio ||\n",
       "\tthis.context.webkitBackingStorePixelRatio ||\n",
       "\tthis.context.mozBackingStorePixelRatio ||\n",
       "\tthis.context.msBackingStorePixelRatio ||\n",
       "\tthis.context.oBackingStorePixelRatio ||\n",
       "\tthis.context.backingStorePixelRatio || 1;\n",
       "\n",
       "    mpl.ratio = (window.devicePixelRatio || 1) / backingStore;\n",
       "\n",
       "    var rubberband = $('<canvas/>');\n",
       "    rubberband.attr('style', \"position: absolute; left: 0; top: 0; z-index: 1;\")\n",
       "\n",
       "    var pass_mouse_events = true;\n",
       "\n",
       "    canvas_div.resizable({\n",
       "        start: function(event, ui) {\n",
       "            pass_mouse_events = false;\n",
       "        },\n",
       "        resize: function(event, ui) {\n",
       "            fig.request_resize(ui.size.width, ui.size.height);\n",
       "        },\n",
       "        stop: function(event, ui) {\n",
       "            pass_mouse_events = true;\n",
       "            fig.request_resize(ui.size.width, ui.size.height);\n",
       "        },\n",
       "    });\n",
       "\n",
       "    function mouse_event_fn(event) {\n",
       "        if (pass_mouse_events)\n",
       "            return fig.mouse_event(event, event['data']);\n",
       "    }\n",
       "\n",
       "    rubberband.mousedown('button_press', mouse_event_fn);\n",
       "    rubberband.mouseup('button_release', mouse_event_fn);\n",
       "    // Throttle sequential mouse events to 1 every 20ms.\n",
       "    rubberband.mousemove('motion_notify', mouse_event_fn);\n",
       "\n",
       "    rubberband.mouseenter('figure_enter', mouse_event_fn);\n",
       "    rubberband.mouseleave('figure_leave', mouse_event_fn);\n",
       "\n",
       "    canvas_div.on(\"wheel\", function (event) {\n",
       "        event = event.originalEvent;\n",
       "        event['data'] = 'scroll'\n",
       "        if (event.deltaY < 0) {\n",
       "            event.step = 1;\n",
       "        } else {\n",
       "            event.step = -1;\n",
       "        }\n",
       "        mouse_event_fn(event);\n",
       "    });\n",
       "\n",
       "    canvas_div.append(canvas);\n",
       "    canvas_div.append(rubberband);\n",
       "\n",
       "    this.rubberband = rubberband;\n",
       "    this.rubberband_canvas = rubberband[0];\n",
       "    this.rubberband_context = rubberband[0].getContext(\"2d\");\n",
       "    this.rubberband_context.strokeStyle = \"#000000\";\n",
       "\n",
       "    this._resize_canvas = function(width, height) {\n",
       "        // Keep the size of the canvas, canvas container, and rubber band\n",
       "        // canvas in synch.\n",
       "        canvas_div.css('width', width)\n",
       "        canvas_div.css('height', height)\n",
       "\n",
       "        canvas.attr('width', width * mpl.ratio);\n",
       "        canvas.attr('height', height * mpl.ratio);\n",
       "        canvas.attr('style', 'width: ' + width + 'px; height: ' + height + 'px;');\n",
       "\n",
       "        rubberband.attr('width', width);\n",
       "        rubberband.attr('height', height);\n",
       "    }\n",
       "\n",
       "    // Set the figure to an initial 600x600px, this will subsequently be updated\n",
       "    // upon first draw.\n",
       "    this._resize_canvas(600, 600);\n",
       "\n",
       "    // Disable right mouse context menu.\n",
       "    $(this.rubberband_canvas).bind(\"contextmenu\",function(e){\n",
       "        return false;\n",
       "    });\n",
       "\n",
       "    function set_focus () {\n",
       "        canvas.focus();\n",
       "        canvas_div.focus();\n",
       "    }\n",
       "\n",
       "    window.setTimeout(set_focus, 100);\n",
       "}\n",
       "\n",
       "mpl.figure.prototype._init_toolbar = function() {\n",
       "    var fig = this;\n",
       "\n",
       "    var nav_element = $('<div/>')\n",
       "    nav_element.attr('style', 'width: 100%');\n",
       "    this.root.append(nav_element);\n",
       "\n",
       "    // Define a callback function for later on.\n",
       "    function toolbar_event(event) {\n",
       "        return fig.toolbar_button_onclick(event['data']);\n",
       "    }\n",
       "    function toolbar_mouse_event(event) {\n",
       "        return fig.toolbar_button_onmouseover(event['data']);\n",
       "    }\n",
       "\n",
       "    for(var toolbar_ind in mpl.toolbar_items) {\n",
       "        var name = mpl.toolbar_items[toolbar_ind][0];\n",
       "        var tooltip = mpl.toolbar_items[toolbar_ind][1];\n",
       "        var image = mpl.toolbar_items[toolbar_ind][2];\n",
       "        var method_name = mpl.toolbar_items[toolbar_ind][3];\n",
       "\n",
       "        if (!name) {\n",
       "            // put a spacer in here.\n",
       "            continue;\n",
       "        }\n",
       "        var button = $('<button/>');\n",
       "        button.addClass('ui-button ui-widget ui-state-default ui-corner-all ' +\n",
       "                        'ui-button-icon-only');\n",
       "        button.attr('role', 'button');\n",
       "        button.attr('aria-disabled', 'false');\n",
       "        button.click(method_name, toolbar_event);\n",
       "        button.mouseover(tooltip, toolbar_mouse_event);\n",
       "\n",
       "        var icon_img = $('<span/>');\n",
       "        icon_img.addClass('ui-button-icon-primary ui-icon');\n",
       "        icon_img.addClass(image);\n",
       "        icon_img.addClass('ui-corner-all');\n",
       "\n",
       "        var tooltip_span = $('<span/>');\n",
       "        tooltip_span.addClass('ui-button-text');\n",
       "        tooltip_span.html(tooltip);\n",
       "\n",
       "        button.append(icon_img);\n",
       "        button.append(tooltip_span);\n",
       "\n",
       "        nav_element.append(button);\n",
       "    }\n",
       "\n",
       "    var fmt_picker_span = $('<span/>');\n",
       "\n",
       "    var fmt_picker = $('<select/>');\n",
       "    fmt_picker.addClass('mpl-toolbar-option ui-widget ui-widget-content');\n",
       "    fmt_picker_span.append(fmt_picker);\n",
       "    nav_element.append(fmt_picker_span);\n",
       "    this.format_dropdown = fmt_picker[0];\n",
       "\n",
       "    for (var ind in mpl.extensions) {\n",
       "        var fmt = mpl.extensions[ind];\n",
       "        var option = $(\n",
       "            '<option/>', {selected: fmt === mpl.default_extension}).html(fmt);\n",
       "        fmt_picker.append(option)\n",
       "    }\n",
       "\n",
       "    // Add hover states to the ui-buttons\n",
       "    $( \".ui-button\" ).hover(\n",
       "        function() { $(this).addClass(\"ui-state-hover\");},\n",
       "        function() { $(this).removeClass(\"ui-state-hover\");}\n",
       "    );\n",
       "\n",
       "    var status_bar = $('<span class=\"mpl-message\"/>');\n",
       "    nav_element.append(status_bar);\n",
       "    this.message = status_bar[0];\n",
       "}\n",
       "\n",
       "mpl.figure.prototype.request_resize = function(x_pixels, y_pixels) {\n",
       "    // Request matplotlib to resize the figure. Matplotlib will then trigger a resize in the client,\n",
       "    // which will in turn request a refresh of the image.\n",
       "    this.send_message('resize', {'width': x_pixels, 'height': y_pixels});\n",
       "}\n",
       "\n",
       "mpl.figure.prototype.send_message = function(type, properties) {\n",
       "    properties['type'] = type;\n",
       "    properties['figure_id'] = this.id;\n",
       "    this.ws.send(JSON.stringify(properties));\n",
       "}\n",
       "\n",
       "mpl.figure.prototype.send_draw_message = function() {\n",
       "    if (!this.waiting) {\n",
       "        this.waiting = true;\n",
       "        this.ws.send(JSON.stringify({type: \"draw\", figure_id: this.id}));\n",
       "    }\n",
       "}\n",
       "\n",
       "\n",
       "mpl.figure.prototype.handle_save = function(fig, msg) {\n",
       "    var format_dropdown = fig.format_dropdown;\n",
       "    var format = format_dropdown.options[format_dropdown.selectedIndex].value;\n",
       "    fig.ondownload(fig, format);\n",
       "}\n",
       "\n",
       "\n",
       "mpl.figure.prototype.handle_resize = function(fig, msg) {\n",
       "    var size = msg['size'];\n",
       "    if (size[0] != fig.canvas.width || size[1] != fig.canvas.height) {\n",
       "        fig._resize_canvas(size[0], size[1]);\n",
       "        fig.send_message(\"refresh\", {});\n",
       "    };\n",
       "}\n",
       "\n",
       "mpl.figure.prototype.handle_rubberband = function(fig, msg) {\n",
       "    var x0 = msg['x0'] / mpl.ratio;\n",
       "    var y0 = (fig.canvas.height - msg['y0']) / mpl.ratio;\n",
       "    var x1 = msg['x1'] / mpl.ratio;\n",
       "    var y1 = (fig.canvas.height - msg['y1']) / mpl.ratio;\n",
       "    x0 = Math.floor(x0) + 0.5;\n",
       "    y0 = Math.floor(y0) + 0.5;\n",
       "    x1 = Math.floor(x1) + 0.5;\n",
       "    y1 = Math.floor(y1) + 0.5;\n",
       "    var min_x = Math.min(x0, x1);\n",
       "    var min_y = Math.min(y0, y1);\n",
       "    var width = Math.abs(x1 - x0);\n",
       "    var height = Math.abs(y1 - y0);\n",
       "\n",
       "    fig.rubberband_context.clearRect(\n",
       "        0, 0, fig.canvas.width, fig.canvas.height);\n",
       "\n",
       "    fig.rubberband_context.strokeRect(min_x, min_y, width, height);\n",
       "}\n",
       "\n",
       "mpl.figure.prototype.handle_figure_label = function(fig, msg) {\n",
       "    // Updates the figure title.\n",
       "    fig.header.textContent = msg['label'];\n",
       "}\n",
       "\n",
       "mpl.figure.prototype.handle_cursor = function(fig, msg) {\n",
       "    var cursor = msg['cursor'];\n",
       "    switch(cursor)\n",
       "    {\n",
       "    case 0:\n",
       "        cursor = 'pointer';\n",
       "        break;\n",
       "    case 1:\n",
       "        cursor = 'default';\n",
       "        break;\n",
       "    case 2:\n",
       "        cursor = 'crosshair';\n",
       "        break;\n",
       "    case 3:\n",
       "        cursor = 'move';\n",
       "        break;\n",
       "    }\n",
       "    fig.rubberband_canvas.style.cursor = cursor;\n",
       "}\n",
       "\n",
       "mpl.figure.prototype.handle_message = function(fig, msg) {\n",
       "    fig.message.textContent = msg['message'];\n",
       "}\n",
       "\n",
       "mpl.figure.prototype.handle_draw = function(fig, msg) {\n",
       "    // Request the server to send over a new figure.\n",
       "    fig.send_draw_message();\n",
       "}\n",
       "\n",
       "mpl.figure.prototype.handle_image_mode = function(fig, msg) {\n",
       "    fig.image_mode = msg['mode'];\n",
       "}\n",
       "\n",
       "mpl.figure.prototype.updated_canvas_event = function() {\n",
       "    // Called whenever the canvas gets updated.\n",
       "    this.send_message(\"ack\", {});\n",
       "}\n",
       "\n",
       "// A function to construct a web socket function for onmessage handling.\n",
       "// Called in the figure constructor.\n",
       "mpl.figure.prototype._make_on_message_function = function(fig) {\n",
       "    return function socket_on_message(evt) {\n",
       "        if (evt.data instanceof Blob) {\n",
       "            /* FIXME: We get \"Resource interpreted as Image but\n",
       "             * transferred with MIME type text/plain:\" errors on\n",
       "             * Chrome.  But how to set the MIME type?  It doesn't seem\n",
       "             * to be part of the websocket stream */\n",
       "            evt.data.type = \"image/png\";\n",
       "\n",
       "            /* Free the memory for the previous frames */\n",
       "            if (fig.imageObj.src) {\n",
       "                (window.URL || window.webkitURL).revokeObjectURL(\n",
       "                    fig.imageObj.src);\n",
       "            }\n",
       "\n",
       "            fig.imageObj.src = (window.URL || window.webkitURL).createObjectURL(\n",
       "                evt.data);\n",
       "            fig.updated_canvas_event();\n",
       "            fig.waiting = false;\n",
       "            return;\n",
       "        }\n",
       "        else if (typeof evt.data === 'string' && evt.data.slice(0, 21) == \"data:image/png;base64\") {\n",
       "            fig.imageObj.src = evt.data;\n",
       "            fig.updated_canvas_event();\n",
       "            fig.waiting = false;\n",
       "            return;\n",
       "        }\n",
       "\n",
       "        var msg = JSON.parse(evt.data);\n",
       "        var msg_type = msg['type'];\n",
       "\n",
       "        // Call the  \"handle_{type}\" callback, which takes\n",
       "        // the figure and JSON message as its only arguments.\n",
       "        try {\n",
       "            var callback = fig[\"handle_\" + msg_type];\n",
       "        } catch (e) {\n",
       "            console.log(\"No handler for the '\" + msg_type + \"' message type: \", msg);\n",
       "            return;\n",
       "        }\n",
       "\n",
       "        if (callback) {\n",
       "            try {\n",
       "                // console.log(\"Handling '\" + msg_type + \"' message: \", msg);\n",
       "                callback(fig, msg);\n",
       "            } catch (e) {\n",
       "                console.log(\"Exception inside the 'handler_\" + msg_type + \"' callback:\", e, e.stack, msg);\n",
       "            }\n",
       "        }\n",
       "    };\n",
       "}\n",
       "\n",
       "// from http://stackoverflow.com/questions/1114465/getting-mouse-location-in-canvas\n",
       "mpl.findpos = function(e) {\n",
       "    //this section is from http://www.quirksmode.org/js/events_properties.html\n",
       "    var targ;\n",
       "    if (!e)\n",
       "        e = window.event;\n",
       "    if (e.target)\n",
       "        targ = e.target;\n",
       "    else if (e.srcElement)\n",
       "        targ = e.srcElement;\n",
       "    if (targ.nodeType == 3) // defeat Safari bug\n",
       "        targ = targ.parentNode;\n",
       "\n",
       "    // jQuery normalizes the pageX and pageY\n",
       "    // pageX,Y are the mouse positions relative to the document\n",
       "    // offset() returns the position of the element relative to the document\n",
       "    var x = e.pageX - $(targ).offset().left;\n",
       "    var y = e.pageY - $(targ).offset().top;\n",
       "\n",
       "    return {\"x\": x, \"y\": y};\n",
       "};\n",
       "\n",
       "/*\n",
       " * return a copy of an object with only non-object keys\n",
       " * we need this to avoid circular references\n",
       " * http://stackoverflow.com/a/24161582/3208463\n",
       " */\n",
       "function simpleKeys (original) {\n",
       "  return Object.keys(original).reduce(function (obj, key) {\n",
       "    if (typeof original[key] !== 'object')\n",
       "        obj[key] = original[key]\n",
       "    return obj;\n",
       "  }, {});\n",
       "}\n",
       "\n",
       "mpl.figure.prototype.mouse_event = function(event, name) {\n",
       "    var canvas_pos = mpl.findpos(event)\n",
       "\n",
       "    if (name === 'button_press')\n",
       "    {\n",
       "        this.canvas.focus();\n",
       "        this.canvas_div.focus();\n",
       "    }\n",
       "\n",
       "    var x = canvas_pos.x * mpl.ratio;\n",
       "    var y = canvas_pos.y * mpl.ratio;\n",
       "\n",
       "    this.send_message(name, {x: x, y: y, button: event.button,\n",
       "                             step: event.step,\n",
       "                             guiEvent: simpleKeys(event)});\n",
       "\n",
       "    /* This prevents the web browser from automatically changing to\n",
       "     * the text insertion cursor when the button is pressed.  We want\n",
       "     * to control all of the cursor setting manually through the\n",
       "     * 'cursor' event from matplotlib */\n",
       "    event.preventDefault();\n",
       "    return false;\n",
       "}\n",
       "\n",
       "mpl.figure.prototype._key_event_extra = function(event, name) {\n",
       "    // Handle any extra behaviour associated with a key event\n",
       "}\n",
       "\n",
       "mpl.figure.prototype.key_event = function(event, name) {\n",
       "\n",
       "    // Prevent repeat events\n",
       "    if (name == 'key_press')\n",
       "    {\n",
       "        if (event.which === this._key)\n",
       "            return;\n",
       "        else\n",
       "            this._key = event.which;\n",
       "    }\n",
       "    if (name == 'key_release')\n",
       "        this._key = null;\n",
       "\n",
       "    var value = '';\n",
       "    if (event.ctrlKey && event.which != 17)\n",
       "        value += \"ctrl+\";\n",
       "    if (event.altKey && event.which != 18)\n",
       "        value += \"alt+\";\n",
       "    if (event.shiftKey && event.which != 16)\n",
       "        value += \"shift+\";\n",
       "\n",
       "    value += 'k';\n",
       "    value += event.which.toString();\n",
       "\n",
       "    this._key_event_extra(event, name);\n",
       "\n",
       "    this.send_message(name, {key: value,\n",
       "                             guiEvent: simpleKeys(event)});\n",
       "    return false;\n",
       "}\n",
       "\n",
       "mpl.figure.prototype.toolbar_button_onclick = function(name) {\n",
       "    if (name == 'download') {\n",
       "        this.handle_save(this, null);\n",
       "    } else {\n",
       "        this.send_message(\"toolbar_button\", {name: name});\n",
       "    }\n",
       "};\n",
       "\n",
       "mpl.figure.prototype.toolbar_button_onmouseover = function(tooltip) {\n",
       "    this.message.textContent = tooltip;\n",
       "};\n",
       "mpl.toolbar_items = [[\"Home\", \"Reset original view\", \"fa fa-home icon-home\", \"home\"], [\"Back\", \"Back to previous view\", \"fa fa-arrow-left icon-arrow-left\", \"back\"], [\"Forward\", \"Forward to next view\", \"fa fa-arrow-right icon-arrow-right\", \"forward\"], [\"\", \"\", \"\", \"\"], [\"Pan\", \"Pan axes with left mouse, zoom with right\", \"fa fa-arrows icon-move\", \"pan\"], [\"Zoom\", \"Zoom to rectangle\", \"fa fa-square-o icon-check-empty\", \"zoom\"], [\"\", \"\", \"\", \"\"], [\"Download\", \"Download plot\", \"fa fa-floppy-o icon-save\", \"download\"]];\n",
       "\n",
       "mpl.extensions = [\"eps\", \"jpeg\", \"pdf\", \"png\", \"ps\", \"raw\", \"svg\", \"tif\"];\n",
       "\n",
       "mpl.default_extension = \"png\";var comm_websocket_adapter = function(comm) {\n",
       "    // Create a \"websocket\"-like object which calls the given IPython comm\n",
       "    // object with the appropriate methods. Currently this is a non binary\n",
       "    // socket, so there is still some room for performance tuning.\n",
       "    var ws = {};\n",
       "\n",
       "    ws.close = function() {\n",
       "        comm.close()\n",
       "    };\n",
       "    ws.send = function(m) {\n",
       "        //console.log('sending', m);\n",
       "        comm.send(m);\n",
       "    };\n",
       "    // Register the callback with on_msg.\n",
       "    comm.on_msg(function(msg) {\n",
       "        //console.log('receiving', msg['content']['data'], msg);\n",
       "        // Pass the mpl event to the overridden (by mpl) onmessage function.\n",
       "        ws.onmessage(msg['content']['data'])\n",
       "    });\n",
       "    return ws;\n",
       "}\n",
       "\n",
       "mpl.mpl_figure_comm = function(comm, msg) {\n",
       "    // This is the function which gets called when the mpl process\n",
       "    // starts-up an IPython Comm through the \"matplotlib\" channel.\n",
       "\n",
       "    var id = msg.content.data.id;\n",
       "    // Get hold of the div created by the display call when the Comm\n",
       "    // socket was opened in Python.\n",
       "    var element = $(\"#\" + id);\n",
       "    var ws_proxy = comm_websocket_adapter(comm)\n",
       "\n",
       "    function ondownload(figure, format) {\n",
       "        window.open(figure.imageObj.src);\n",
       "    }\n",
       "\n",
       "    var fig = new mpl.figure(id, ws_proxy,\n",
       "                           ondownload,\n",
       "                           element.get(0));\n",
       "\n",
       "    // Call onopen now - mpl needs it, as it is assuming we've passed it a real\n",
       "    // web socket which is closed, not our websocket->open comm proxy.\n",
       "    ws_proxy.onopen();\n",
       "\n",
       "    fig.parent_element = element.get(0);\n",
       "    fig.cell_info = mpl.find_output_cell(\"<div id='\" + id + \"'></div>\");\n",
       "    if (!fig.cell_info) {\n",
       "        console.error(\"Failed to find cell for figure\", id, fig);\n",
       "        return;\n",
       "    }\n",
       "\n",
       "    var output_index = fig.cell_info[2]\n",
       "    var cell = fig.cell_info[0];\n",
       "\n",
       "};\n",
       "\n",
       "mpl.figure.prototype.handle_close = function(fig, msg) {\n",
       "    var width = fig.canvas.width/mpl.ratio\n",
       "    fig.root.unbind('remove')\n",
       "\n",
       "    // Update the output cell to use the data from the current canvas.\n",
       "    fig.push_to_output();\n",
       "    var dataURL = fig.canvas.toDataURL();\n",
       "    // Re-enable the keyboard manager in IPython - without this line, in FF,\n",
       "    // the notebook keyboard shortcuts fail.\n",
       "    IPython.keyboard_manager.enable()\n",
       "    $(fig.parent_element).html('<img src=\"' + dataURL + '\" width=\"' + width + '\">');\n",
       "    fig.close_ws(fig, msg);\n",
       "}\n",
       "\n",
       "mpl.figure.prototype.close_ws = function(fig, msg){\n",
       "    fig.send_message('closing', msg);\n",
       "    // fig.ws.close()\n",
       "}\n",
       "\n",
       "mpl.figure.prototype.push_to_output = function(remove_interactive) {\n",
       "    // Turn the data on the canvas into data in the output cell.\n",
       "    var width = this.canvas.width/mpl.ratio\n",
       "    var dataURL = this.canvas.toDataURL();\n",
       "    this.cell_info[1]['text/html'] = '<img src=\"' + dataURL + '\" width=\"' + width + '\">';\n",
       "}\n",
       "\n",
       "mpl.figure.prototype.updated_canvas_event = function() {\n",
       "    // Tell IPython that the notebook contents must change.\n",
       "    IPython.notebook.set_dirty(true);\n",
       "    this.send_message(\"ack\", {});\n",
       "    var fig = this;\n",
       "    // Wait a second, then push the new image to the DOM so\n",
       "    // that it is saved nicely (might be nice to debounce this).\n",
       "    setTimeout(function () { fig.push_to_output() }, 1000);\n",
       "}\n",
       "\n",
       "mpl.figure.prototype._init_toolbar = function() {\n",
       "    var fig = this;\n",
       "\n",
       "    var nav_element = $('<div/>')\n",
       "    nav_element.attr('style', 'width: 100%');\n",
       "    this.root.append(nav_element);\n",
       "\n",
       "    // Define a callback function for later on.\n",
       "    function toolbar_event(event) {\n",
       "        return fig.toolbar_button_onclick(event['data']);\n",
       "    }\n",
       "    function toolbar_mouse_event(event) {\n",
       "        return fig.toolbar_button_onmouseover(event['data']);\n",
       "    }\n",
       "\n",
       "    for(var toolbar_ind in mpl.toolbar_items){\n",
       "        var name = mpl.toolbar_items[toolbar_ind][0];\n",
       "        var tooltip = mpl.toolbar_items[toolbar_ind][1];\n",
       "        var image = mpl.toolbar_items[toolbar_ind][2];\n",
       "        var method_name = mpl.toolbar_items[toolbar_ind][3];\n",
       "\n",
       "        if (!name) { continue; };\n",
       "\n",
       "        var button = $('<button class=\"btn btn-default\" href=\"#\" title=\"' + name + '\"><i class=\"fa ' + image + ' fa-lg\"></i></button>');\n",
       "        button.click(method_name, toolbar_event);\n",
       "        button.mouseover(tooltip, toolbar_mouse_event);\n",
       "        nav_element.append(button);\n",
       "    }\n",
       "\n",
       "    // Add the status bar.\n",
       "    var status_bar = $('<span class=\"mpl-message\" style=\"text-align:right; float: right;\"/>');\n",
       "    nav_element.append(status_bar);\n",
       "    this.message = status_bar[0];\n",
       "\n",
       "    // Add the close button to the window.\n",
       "    var buttongrp = $('<div class=\"btn-group inline pull-right\"></div>');\n",
       "    var button = $('<button class=\"btn btn-mini btn-primary\" href=\"#\" title=\"Stop Interaction\"><i class=\"fa fa-power-off icon-remove icon-large\"></i></button>');\n",
       "    button.click(function (evt) { fig.handle_close(fig, {}); } );\n",
       "    button.mouseover('Stop Interaction', toolbar_mouse_event);\n",
       "    buttongrp.append(button);\n",
       "    var titlebar = this.root.find($('.ui-dialog-titlebar'));\n",
       "    titlebar.prepend(buttongrp);\n",
       "}\n",
       "\n",
       "mpl.figure.prototype._root_extra_style = function(el){\n",
       "    var fig = this\n",
       "    el.on(\"remove\", function(){\n",
       "\tfig.close_ws(fig, {});\n",
       "    });\n",
       "}\n",
       "\n",
       "mpl.figure.prototype._canvas_extra_style = function(el){\n",
       "    // this is important to make the div 'focusable\n",
       "    el.attr('tabindex', 0)\n",
       "    // reach out to IPython and tell the keyboard manager to turn it's self\n",
       "    // off when our div gets focus\n",
       "\n",
       "    // location in version 3\n",
       "    if (IPython.notebook.keyboard_manager) {\n",
       "        IPython.notebook.keyboard_manager.register_events(el);\n",
       "    }\n",
       "    else {\n",
       "        // location in version 2\n",
       "        IPython.keyboard_manager.register_events(el);\n",
       "    }\n",
       "\n",
       "}\n",
       "\n",
       "mpl.figure.prototype._key_event_extra = function(event, name) {\n",
       "    var manager = IPython.notebook.keyboard_manager;\n",
       "    if (!manager)\n",
       "        manager = IPython.keyboard_manager;\n",
       "\n",
       "    // Check for shift+enter\n",
       "    if (event.shiftKey && event.which == 13) {\n",
       "        this.canvas_div.blur();\n",
       "        event.shiftKey = false;\n",
       "        // Send a \"J\" for go to next cell\n",
       "        event.which = 74;\n",
       "        event.keyCode = 74;\n",
       "        manager.command_mode();\n",
       "        manager.handle_keydown(event);\n",
       "    }\n",
       "}\n",
       "\n",
       "mpl.figure.prototype.handle_save = function(fig, msg) {\n",
       "    fig.ondownload(fig, null);\n",
       "}\n",
       "\n",
       "\n",
       "mpl.find_output_cell = function(html_output) {\n",
       "    // Return the cell and output element which can be found *uniquely* in the notebook.\n",
       "    // Note - this is a bit hacky, but it is done because the \"notebook_saving.Notebook\"\n",
       "    // IPython event is triggered only after the cells have been serialised, which for\n",
       "    // our purposes (turning an active figure into a static one), is too late.\n",
       "    var cells = IPython.notebook.get_cells();\n",
       "    var ncells = cells.length;\n",
       "    for (var i=0; i<ncells; i++) {\n",
       "        var cell = cells[i];\n",
       "        if (cell.cell_type === 'code'){\n",
       "            for (var j=0; j<cell.output_area.outputs.length; j++) {\n",
       "                var data = cell.output_area.outputs[j];\n",
       "                if (data.data) {\n",
       "                    // IPython >= 3 moved mimebundle to data attribute of output\n",
       "                    data = data.data;\n",
       "                }\n",
       "                if (data['text/html'] == html_output) {\n",
       "                    return [cell, data, j];\n",
       "                }\n",
       "            }\n",
       "        }\n",
       "    }\n",
       "}\n",
       "\n",
       "// Register the function which deals with the matplotlib target/channel.\n",
       "// The kernel may be null if the page has been refreshed.\n",
       "if (IPython.notebook.kernel != null) {\n",
       "    IPython.notebook.kernel.comm_manager.register_target('matplotlib', mpl.mpl_figure_comm);\n",
       "}\n"
      ],
      "text/plain": [
       "<IPython.core.display.Javascript object>"
      ]
     },
     "metadata": {},
     "output_type": "display_data"
    },
    {
     "data": {
      "text/html": [
       "<img src=\"data:image/png;base64,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\" width=\"1440\">"
      ],
      "text/plain": [
       "<IPython.core.display.HTML object>"
      ]
     },
     "metadata": {},
     "output_type": "display_data"
    },
    {
     "name": "stderr",
     "output_type": "stream",
     "text": [
      "C:\\Users\\ianhelle\\AppData\\Local\\Continuum\\anaconda3\\lib\\site-packages\\networkx\\drawing\\nx_pylab.py:611: MatplotlibDeprecationWarning:\n",
      "\n",
      "isinstance(..., numbers.Number)\n",
      "\n"
     ]
    }
   ],
   "source": [
    "%matplotlib notebook\n",
    "%matplotlib notebook\n",
    "\n",
    "# Draw a graph of this (add to entity graph)\n",
    "related_alerts_graph = alertentity_graph.copy()\n",
    "\n",
    "def add_alert_node(nx_graph, alert, index):\n",
    "    nx_graph.add_node(alert['AlertType'] + '(R)', \n",
    "               name=alert['AlertType'], \n",
    "               time=str(alert['StartTimeUtc']),\n",
    "               displayname=alert['AlertDisplayName'],\n",
    "               color='red',\n",
    "               count=0,\n",
    "               node_type='alert')\n",
    "\n",
    "def find_graph_node(nx_graph, node_type, target_name):\n",
    "    node_prefix = '{}: {}'.format(node_type, target_name)\n",
    "    nodes = [n for (n,n_type) in \\\n",
    "        nx.get_node_attributes(nx_graph,'entitytype').items() if n_type == node_type and n.startswith(node_prefix)]\n",
    "    if len(nodes) > 0:\n",
    "        return nodes[0]\n",
    "    \n",
    "def add_alert_graph_edge(nx_graph, source, target):\n",
    "    count_attrs = nx.get_node_attributes(related_alerts_graph, 'count')\n",
    "    target_node = target.AlertType + '(R)'\n",
    "    if target_node in count_attrs:\n",
    "        current_count = count_attrs[target_node]\n",
    "    else:\n",
    "        current_count = 0\n",
    "    current_count += 1\n",
    "    \n",
    "    displayname = nx.get_node_attributes(related_alerts_graph, 'displayname')[target_node]\n",
    "    description = 'Related alert: {}  Count:{}'.format(target.AlertType, current_count)\n",
    "    node_attrs = { target_node : { 'count' : current_count, 'description' : description }}\n",
    "    nx.set_node_attributes(related_alerts_graph, node_attrs)\n",
    "    nx_graph.add_edge(source, target_node, weight=0.7, description='Related Alert')\n",
    "\n",
    "# Create the nodes (summarized alerts of each type)\n",
    "pastAlerts.apply(lambda x: add_alert_node(related_alerts_graph, x, x.name), axis=1)\n",
    "\n",
    "# Find the existing entity and add edges to the related alert node\n",
    "acct_node = find_graph_node(related_alerts_graph, 'account', alertAccountName)\n",
    "proc_node = find_graph_node(related_alerts_graph, 'process', alertProcessName)\n",
    "host_node = find_graph_node(related_alerts_graph, 'host', alertHostName)\n",
    "pastAlerts.query('acct_match == @True').apply(lambda x: add_alert_graph_edge(related_alerts_graph, acct_node, x), axis=1)\n",
    "pastAlerts.query('proc_match == @True').apply(lambda x: add_alert_graph_edge(related_alerts_graph, proc_node, x), axis=1)\n",
    "pastAlerts.query('host_match == @True').apply(lambda x: add_alert_graph_edge(related_alerts_graph, host_node, x), axis=1)\n",
    "\n",
    "draw_alert_entity_graph(related_alerts_graph, font_size=8, height=10, width=20, margin=0.1, scale=5, node_dist=1)"
   ]
  },
  {
   "cell_type": "markdown",
   "metadata": {},
   "source": [
    "<a id='setquerytimeboundaries'></a>[Contents](#toc)\n",
    "# Get time boundaries for subsequent queries"
   ]
  },
  {
   "cell_type": "code",
   "execution_count": 24,
   "metadata": {
    "scrolled": true
   },
   "outputs": [
    {
     "data": {
      "application/vnd.jupyter.widget-view+json": {
       "model_id": "c5996491278f4f20a2633b0a56d40e66",
       "version_major": 2,
       "version_minor": 0
      },
      "text/plain": [
       "HTML(value='<h4>Set query time boundaries</h4>')"
      ]
     },
     "metadata": {},
     "output_type": "display_data"
    },
    {
     "data": {
      "application/vnd.jupyter.widget-view+json": {
       "model_id": "165a76083e7d4c549f04897aaf2bbd19",
       "version_major": 2,
       "version_minor": 0
      },
      "text/plain": [
       "HBox(children=(DatePicker(value=datetime.date(2018, 12, 18), description='Origin Date'), Text(value='05:15:01'…"
      ]
     },
     "metadata": {},
     "output_type": "display_data"
    },
    {
     "data": {
      "application/vnd.jupyter.widget-view+json": {
       "model_id": "fb1e5431392749299cfb5231cd5cd803",
       "version_major": 2,
       "version_minor": 0
      },
      "text/plain": [
       "VBox(children=(IntRangeSlider(value=(-60, 10), description='Time Range (min):', layout=Layout(width='80%'), mi…"
      ]
     },
     "metadata": {},
     "output_type": "display_data"
    }
   ],
   "source": [
    "# Calculate query time boundaries\n",
    "from datetime import timedelta\n",
    "startTimeUtc = investigatedAlert['StartTimeUtc']\n",
    "\n",
    "query_times = QueryTime(origin_time=startTimeUtc)\n",
    "query_times.display()"
   ]
  },
  {
   "cell_type": "code",
   "execution_count": 25,
   "metadata": {},
   "outputs": [],
   "source": [
    "# For Windows and Linux - set the event source strings and mappings (linux only)\n",
    "# for Kusto queries\n",
    "if investigatedAlert['os_family'] == 'Linux':\n",
    "    if _kql_raw_result_.connection.endswith('@loganalytics'):\n",
    "\n",
    "        # Mappings for projecting Linix Auditd logs to Windows equivalents\n",
    "        proc_create_eventsource = 'LinuxAuditLog | where EventID == 14688'\n",
    "        process_create_project = '''| project \n",
    "        TimeGenerated,\n",
    "        EventID,\n",
    "        Computer=node,\n",
    "        SubjectUserName=user,\n",
    "        SubjectUserSid=uid,\n",
    "        SubjectUserName='',\n",
    "        SubjectLogonId=ses,\n",
    "        NewProcessId=pid,\n",
    "        NewProcessName=exe,\n",
    "        ProcessId=ppid,\n",
    "        CommandLine=cmdline,\n",
    "        ParentProcessName=\"\",\n",
    "        audit_user,\n",
    "        auid,\n",
    "        group,\n",
    "        gid,\n",
    "        effective_user,\n",
    "        euid,\n",
    "        effective_group,\n",
    "        egid,\n",
    "        cwd,\n",
    "        success,\n",
    "        name,\n",
    "        TargetLogonId=\"\",\n",
    "        SourceComputerId\n",
    "        | extend TimeCreatedUtc=TimeGenerated'''\n",
    "\n",
    "        # Account logon\n",
    "        account_logon_eventsource = 'LinuxAuditLog | where EventID == 1100 or EventID == 1112'\n",
    "        account_logon_project = '''| project \n",
    "        TimeGenerated,\n",
    "        EventID,\n",
    "        Computer=node,\n",
    "        SubjectUserName=acct,\n",
    "        SubjectDomainName='',\n",
    "        SubjectUserSid=auid,\n",
    "        TargetUserName=user,\n",
    "        TargetDomainName='',\n",
    "        TargetUserSid=uid,\n",
    "        TargetLogonId=ses,\n",
    "        LogonProcessName=exe,\n",
    "        LogonType=0,\n",
    "        AuthPckgName=op,\n",
    "        Status=res,\n",
    "        audit_user,\n",
    "        IpAddress=addr,\n",
    "        WorkstationName=hostname,\n",
    "        SourceComputerId\n",
    "        | extend TimeCreatedUtc=TimeGenerated'''\n",
    "        \n",
    "    else:\n",
    "\n",
    "        # Mappings for projecting Linix Auditd logs to Windows equivalents\n",
    "        proc_create_eventsource = 'LinuxAuditD | where EventID == 14688'\n",
    "        process_create_project = '''| project \n",
    "        TimeCreatedUtc,\n",
    "        AzureResourceId,\n",
    "        AzureResourceSubscriptionId,\n",
    "        WorkspaceId,\n",
    "        WorkspaceSubscriptionId,\n",
    "        WorkspaceResourceGroup,\n",
    "        SystemSource,\n",
    "        SourceTags,\n",
    "        AgentId,\n",
    "        EventID,\n",
    "        Computer=node,\n",
    "        success,\n",
    "        ProcessId=ppid,\n",
    "        NewProcessId=pid,\n",
    "        audit_user,\n",
    "        auid,\n",
    "        SubjectUserName=user,\n",
    "        SubjectUserSid=uid,\n",
    "        group,\n",
    "        gid,\n",
    "        effective_user,\n",
    "        euid,\n",
    "        effective_group,\n",
    "        egid,\n",
    "        SubjectLogonId=ses,\n",
    "        NewProcessName=exe,\n",
    "        CommandLine=cmdline,\n",
    "        cwd,\n",
    "        name'''\n",
    "        TenantId,\n",
    "\n",
    "        # Account logon\n",
    "        account_logon_eventsource = 'LinuxAuditD | where EventID == 1100 or EventID == 1112'\n",
    "        account_logon_project = '''| project \n",
    "        TimeCreatedUtc,\n",
    "        AzureResourceId,\n",
    "        AzureResourceSubscriptionId,\n",
    "        WorkspaceId,\n",
    "        WorkspaceSubscriptionId,\n",
    "        WorkspaceResourceGroup,\n",
    "        SystemSource,\n",
    "        SourceTags,\n",
    "        AgentId,\n",
    "        EventID,\n",
    "        Computer=node,\n",
    "        SubjectUserName=acct,\n",
    "        SubjectDomainName='',\n",
    "        SubjectUserSid=auid,\n",
    "        TargetUserName=user,\n",
    "        TargetDomainName='',\n",
    "        TargetUserSid=uid,\n",
    "        TargetLogonId=ses,\n",
    "        LogonProcessName=exe,\n",
    "        LogonType=0,\n",
    "        AuthPckgName=op,\n",
    "        Status=res,\n",
    "        audit_user,\n",
    "        IpAddress=addr,\n",
    "        WorkstationName=hostname'''\n",
    "\n",
    "        \n"
   ]
  },
  {
   "cell_type": "markdown",
   "metadata": {},
   "source": [
    "<a id='processtree'></a>[Contents](#toc)\n",
    "# Get Process Tree\n",
    "**!!! Note - potentially long running query**"
   ]
  },
  {
   "cell_type": "code",
   "execution_count": 32,
   "metadata": {
    "scrolled": true
   },
   "outputs": [
    {
     "data": {
      "text/html": [
       "<div>\n",
       "<style scoped>\n",
       "    .dataframe tbody tr th:only-of-type {\n",
       "        vertical-align: middle;\n",
       "    }\n",
       "\n",
       "    .dataframe tbody tr th {\n",
       "        vertical-align: top;\n",
       "    }\n",
       "\n",
       "    .dataframe thead th {\n",
       "        text-align: right;\n",
       "    }\n",
       "</style>\n",
       "<table border=\"1\" class=\"dataframe\">\n",
       "  <thead>\n",
       "    <tr style=\"text-align: right;\">\n",
       "      <th></th>\n",
       "      <th>NodeRole</th>\n",
       "      <th>Level</th>\n",
       "      <th>TimeCreatedUtc</th>\n",
       "      <th>NewProcessName</th>\n",
       "      <th>CommandLine</th>\n",
       "      <th>NewProcessId</th>\n",
       "      <th>ProcessId</th>\n",
       "      <th>SubjectLogonId</th>\n",
       "    </tr>\n",
       "  </thead>\n",
       "  <tbody>\n",
       "    <tr>\n",
       "      <th>13</th>\n",
       "      <td>parent</td>\n",
       "      <td>1</td>\n",
       "      <td>2018-12-18 05:15:01.017</td>\n",
       "      <td>C:\\Windows\\System32\\cmd.exe</td>\n",
       "      <td>cmd.exe /c c:\\Diagnostics\\WindowsSimulateDetections.bat c:\\Diagnostics\\UserTmp</td>\n",
       "      <td>0x2af8</td>\n",
       "      <td>0x438</td>\n",
       "      <td>0x3e7</td>\n",
       "    </tr>\n",
       "    <tr>\n",
       "      <th>1</th>\n",
       "      <td>sibling</td>\n",
       "      <td>1</td>\n",
       "      <td>2018-12-18 05:15:01.027</td>\n",
       "      <td>C:\\Windows\\System32\\conhost.exe</td>\n",
       "      <td>\\??\\C:\\Windows\\system32\\conhost.exe 0xffffffff -ForceV1</td>\n",
       "      <td>0x28c4</td>\n",
       "      <td>0x2af8</td>\n",
       "      <td>0x3b7c306</td>\n",
       "    </tr>\n",
       "    <tr>\n",
       "      <th>2</th>\n",
       "      <td>sibling</td>\n",
       "      <td>1</td>\n",
       "      <td>2018-12-18 05:15:01.240</td>\n",
       "      <td>C:\\Windows\\System32\\cmd.exe</td>\n",
       "      <td>cmd  /c echo Any questions about the commands executed here then please contact one of</td>\n",
       "      <td>0x2694</td>\n",
       "      <td>0x2af8</td>\n",
       "      <td>0x3b7c306</td>\n",
       "    </tr>\n",
       "    <tr>\n",
       "      <th>3</th>\n",
       "      <td>sibling</td>\n",
       "      <td>1</td>\n",
       "      <td>2018-12-18 05:15:01.263</td>\n",
       "      <td>C:\\Windows\\System32\\cmd.exe</td>\n",
       "      <td>cmd  /c echo timb@microsoft.com; romead@microsoft.com; ianhelle@microsoft.com; marcook@microsoft.com; dotanp@microsoft.com; liengli@microsoft.com</td>\n",
       "      <td>0x1948</td>\n",
       "      <td>0x2af8</td>\n",
       "      <td>0x3b7c306</td>\n",
       "    </tr>\n",
       "    <tr>\n",
       "      <th>4</th>\n",
       "      <td>sibling</td>\n",
       "      <td>1</td>\n",
       "      <td>2018-12-18 05:15:01.400</td>\n",
       "      <td>C:\\Windows\\System32\\net.exe</td>\n",
       "      <td>net  user adm1nistrator Bob_testing /add</td>\n",
       "      <td>0x1960</td>\n",
       "      <td>0x2af8</td>\n",
       "      <td>0x3b7c306</td>\n",
       "    </tr>\n",
       "    <tr>\n",
       "      <th>5</th>\n",
       "      <td>sibling</td>\n",
       "      <td>1</td>\n",
       "      <td>2018-12-18 05:15:01.467</td>\n",
       "      <td>C:\\Windows\\System32\\net.exe</td>\n",
       "      <td>net  share TestShare=c:\\testshare /Grant:Users,Read</td>\n",
       "      <td>0x29e0</td>\n",
       "      <td>0x2af8</td>\n",
       "      <td>0x3b7c306</td>\n",
       "    </tr>\n",
       "    <tr>\n",
       "      <th>6</th>\n",
       "      <td>sibling</td>\n",
       "      <td>1</td>\n",
       "      <td>2018-12-18 05:15:01.503</td>\n",
       "      <td>C:\\Windows\\System32\\net.exe</td>\n",
       "      <td>net  use q: \\\\MSTICAlertsWin1\\TestShare Bob_testing /User:adm1nistrator</td>\n",
       "      <td>0x13c8</td>\n",
       "      <td>0x2af8</td>\n",
       "      <td>0x3b7c306</td>\n",
       "    </tr>\n",
       "    <tr>\n",
       "      <th>7</th>\n",
       "      <td>sibling</td>\n",
       "      <td>1</td>\n",
       "      <td>2018-12-18 05:15:01.597</td>\n",
       "      <td>C:\\Windows\\System32\\net.exe</td>\n",
       "      <td>net  use q: /delete</td>\n",
       "      <td>0x27a4</td>\n",
       "      <td>0x2af8</td>\n",
       "      <td>0x3b7c306</td>\n",
       "    </tr>\n",
       "    <tr>\n",
       "      <th>8</th>\n",
       "      <td>sibling</td>\n",
       "      <td>1</td>\n",
       "      <td>2018-12-18 05:15:01.613</td>\n",
       "      <td>C:\\Windows\\System32\\net.exe</td>\n",
       "      <td>net  share TestShare /delete</td>\n",
       "      <td>0x163c</td>\n",
       "      <td>0x2af8</td>\n",
       "      <td>0x3b7c306</td>\n",
       "    </tr>\n",
       "    <tr>\n",
       "      <th>9</th>\n",
       "      <td>sibling</td>\n",
       "      <td>1</td>\n",
       "      <td>2018-12-18 05:15:01.637</td>\n",
       "      <td>C:\\Windows\\System32\\net.exe</td>\n",
       "      <td>net  user adm1nistrator /delete</td>\n",
       "      <td>0x26b4</td>\n",
       "      <td>0x2af8</td>\n",
       "      <td>0x3b7c306</td>\n",
       "    </tr>\n",
       "  </tbody>\n",
       "</table>\n",
       "</div>"
      ],
      "text/plain": [
       "   NodeRole  Level          TimeCreatedUtc                   NewProcessName  \\\n",
       "13   parent      1 2018-12-18 05:15:01.017      C:\\Windows\\System32\\cmd.exe   \n",
       "1   sibling      1 2018-12-18 05:15:01.027  C:\\Windows\\System32\\conhost.exe   \n",
       "2   sibling      1 2018-12-18 05:15:01.240      C:\\Windows\\System32\\cmd.exe   \n",
       "3   sibling      1 2018-12-18 05:15:01.263      C:\\Windows\\System32\\cmd.exe   \n",
       "4   sibling      1 2018-12-18 05:15:01.400      C:\\Windows\\System32\\net.exe   \n",
       "5   sibling      1 2018-12-18 05:15:01.467      C:\\Windows\\System32\\net.exe   \n",
       "6   sibling      1 2018-12-18 05:15:01.503      C:\\Windows\\System32\\net.exe   \n",
       "7   sibling      1 2018-12-18 05:15:01.597      C:\\Windows\\System32\\net.exe   \n",
       "8   sibling      1 2018-12-18 05:15:01.613      C:\\Windows\\System32\\net.exe   \n",
       "9   sibling      1 2018-12-18 05:15:01.637      C:\\Windows\\System32\\net.exe   \n",
       "\n",
       "                                                                                                                                          CommandLine  \\\n",
       "13                                                                     cmd.exe /c c:\\Diagnostics\\WindowsSimulateDetections.bat c:\\Diagnostics\\UserTmp   \n",
       "1                                                                                             \\??\\C:\\Windows\\system32\\conhost.exe 0xffffffff -ForceV1   \n",
       "2                                                              cmd  /c echo Any questions about the commands executed here then please contact one of   \n",
       "3   cmd  /c echo timb@microsoft.com; romead@microsoft.com; ianhelle@microsoft.com; marcook@microsoft.com; dotanp@microsoft.com; liengli@microsoft.com   \n",
       "4                                                                                                            net  user adm1nistrator Bob_testing /add   \n",
       "5                                                                                                 net  share TestShare=c:\\testshare /Grant:Users,Read   \n",
       "6                                                                             net  use q: \\\\MSTICAlertsWin1\\TestShare Bob_testing /User:adm1nistrator   \n",
       "7                                                                                                                                 net  use q: /delete   \n",
       "8                                                                                                                        net  share TestShare /delete   \n",
       "9                                                                                                                     net  user adm1nistrator /delete   \n",
       "\n",
       "   NewProcessId ProcessId SubjectLogonId  \n",
       "13       0x2af8     0x438          0x3e7  \n",
       "1        0x28c4    0x2af8      0x3b7c306  \n",
       "2        0x2694    0x2af8      0x3b7c306  \n",
       "3        0x1948    0x2af8      0x3b7c306  \n",
       "4        0x1960    0x2af8      0x3b7c306  \n",
       "5        0x29e0    0x2af8      0x3b7c306  \n",
       "6        0x13c8    0x2af8      0x3b7c306  \n",
       "7        0x27a4    0x2af8      0x3b7c306  \n",
       "8        0x163c    0x2af8      0x3b7c306  \n",
       "9        0x26b4    0x2af8      0x3b7c306  "
      ]
     },
     "execution_count": 32,
     "metadata": {},
     "output_type": "execute_result"
    }
   ],
   "source": [
    "# Query for process tree - gets parent/grandparent, children, grandchildren and siblings (sharing same\n",
    "# parent as alert source event)\n",
    "\n",
    "# These input values need to be set before running the query\n",
    "start = query_times.start\n",
    "end = query_times.end\n",
    "alert_process = get_alert_process(investigatedAlert)\n",
    "sourceProcessId = alert_process['ProcessId']\n",
    "processName=get_process_name(alert_process)\n",
    "sourceLogonId = accountLogonId\n",
    "sourceParentProcessId = parentprocess['ProcessId']\n",
    "system_session_id = '0x3e7'\n",
    "\n",
    "# convert to decimal strings if Linux\n",
    "if investigatedAlert['os_family'] == 'Linux':\n",
    "    sourceProcessId = str(int(sourceProcessId, 16))\n",
    "    sourceLogonId = str(int(sourceLogonId, 16))\n",
    "    sourceParentProcessId = str(int(sourceParentProcessId, 16))\n",
    "    system_session_id = '-1'\n",
    "    sourceProcessName=processName\n",
    "else:\n",
    "    sourceProcessName=escape_windows_path(processName)\n",
    "\n",
    "query = '''\n",
    "let start = datetime({start});\n",
    "let end = datetime({end});\n",
    "let sourceProcessId = \\'{sourceProcessId}\\';\n",
    "let sourceLogonId = \\'{sourceLogonId}\\';\n",
    "let sourceParentProcessId = \\'{sourceParentProcessId}\\';\n",
    "let system_session_id = \\'{system_session_id}\\';\n",
    "let sourceProcess = \n",
    "materialize(\n",
    "    {event_source}\n",
    "    {project_statement}\n",
    "    | where {subscription_filter}\n",
    "    | where {host_filter}\n",
    "    | where TimeGenerated >= start\n",
    "    | where TimeGenerated <= end\n",
    "    | where SubjectLogonId == sourceLogonId\n",
    "    | where NewProcessId == sourceProcessId\n",
    "    | where NewProcessName =~ \\'{processName}\\'\n",
    "    | extend NodeRole = 'source', Level = 0);\n",
    "let sourceTimeCreatedUtc = toscalar(sourceProcess | project TimeCreatedUtc | top 1 by TimeCreatedUtc desc nulls last);\n",
    "let parentProcess = // Parent Process\n",
    "materialize(\n",
    "    {event_source}\n",
    "    {project_statement}\n",
    "    | where {subscription_filter}\n",
    "    | where {host_filter}\n",
    "    | where TimeGenerated >= start - time(1d)\n",
    "    | where TimeGenerated <= end\n",
    "    | where TimeGenerated <= sourceTimeCreatedUtc\n",
    "    | where (SubjectLogonId == sourceLogonId or TargetLogonId == sourceLogonId)\n",
    "    | where NewProcessId == sourceParentProcessId\n",
    "    | extend NodeRole = 'parent', Level = 1\n",
    "    | top 1 by TimeCreatedUtc desc nulls last);\n",
    "let parentLogonId = toscalar(sourceProcess | top 1 by TimeCreatedUtc desc nulls last | project SubjectLogonId);\n",
    "let parentTimeCreated = toscalar(sourceProcess | top 1 by TimeCreatedUtc desc nulls last | project TimeCreatedUtc);\n",
    "let childProcesses = // Child Process\n",
    "materialize(\n",
    "    {event_source}\n",
    "    {project_statement}\n",
    "    | where {subscription_filter}\n",
    "    | where {host_filter}\n",
    "    | where TimeGenerated >= start\n",
    "    | where TimeGenerated <= end\n",
    "    | where SubjectLogonId == sourceLogonId\n",
    "    | where ProcessId == sourceProcessId\n",
    "    | extend NodeRole = 'child', Level = 1);\n",
    "\n",
    "sourceProcess\n",
    "| union (parentProcess)\n",
    "| union (childProcesses)\n",
    "| union\n",
    "(\n",
    "    // GrandParent Process (we ignore this if this is the system logonId)\n",
    "    {event_source}\n",
    "    {project_statement}\n",
    "    | where {subscription_filter}\n",
    "    | where {host_filter}\n",
    "    | where TimeGenerated >= start - time(2d)\n",
    "    | where TimeGenerated <= end\n",
    "    | where TimeGenerated <= parentTimeCreated\n",
    "    | where (SubjectLogonId == parentLogonId or TargetLogonId == parentLogonId)\n",
    "    | extend NodeRole = 'parent', Level = 2 \n",
    "    | join (parentProcess | project ProcessId) on $left.NewProcessId == $right.ProcessId\n",
    ")\n",
    "| union\n",
    "(\n",
    "    // GrandChild Process (we ignore this if this is the system logonId)\n",
    "    {event_source}\n",
    "    {project_statement}\n",
    "    | where {subscription_filter}\n",
    "    | where {host_filter}\n",
    "    | where TimeGenerated >= start\n",
    "    | where TimeGenerated <= end\n",
    "    | where SubjectLogonId == sourceLogonId and SubjectLogonId != system_session_id\n",
    "    | extend NodeRole = 'child', Level = 2 \n",
    "    | join (childProcesses | project NewProcessId) on $left.ProcessId == $right.NewProcessId\n",
    ")\n",
    "| union\n",
    "(\n",
    "    // Sibling Process\n",
    "    {event_source}\n",
    "    {project_statement}\n",
    "    | where {subscription_filter}\n",
    "    | where {host_filter}\n",
    "    | where TimeGenerated >= start\n",
    "    | where TimeGenerated <= end\n",
    "    | where SubjectLogonId == sourceLogonId\n",
    "    | where ProcessId == sourceParentProcessId\n",
    "    | where NewProcessId != sourceProcessId\n",
    "    | extend NodeRole = 'sibling', Level = 1\n",
    ")'''.format(event_source = proc_create_eventsource,\n",
    "            project_statement = process_create_project,\n",
    "            subscription_filter = kql_subscription_filter(investigatedAlert),\n",
    "            host_filter = kql_host_filter(investigatedAlert),\n",
    "            start = start,\n",
    "            end = end,\n",
    "            sourceProcessId = sourceProcessId,\n",
    "            sourceLogonId = sourceLogonId,\n",
    "            sourceParentProcessId = sourceParentProcessId,\n",
    "            processName = sourceProcessName,\n",
    "            system_session_id = system_session_id)\n",
    "\n",
    "if sourceLogonId == system_session_id:\n",
    "    print('WARNING process tree can be inaccurate when navigating the system logon session: ', sourceLogonId)\n",
    "    \n",
    "processTree = execute_kql_query(query)\n",
    "processTree = processTree.drop_duplicates()\n",
    "processTree[['NodeRole', 'Level', 'TimeCreatedUtc', 'NewProcessName', 'CommandLine', 'NewProcessId', 'ProcessId', 'SubjectLogonId']]\\\n",
    "    .sort_values(by=['TimeCreatedUtc']).head(10)"
   ]
  },
  {
   "cell_type": "code",
   "execution_count": 36,
   "metadata": {
    "scrolled": true,
    "tags": [
     "todo"
    ]
   },
   "outputs": [
    {
     "data": {
      "text/html": [
       "<h3>Alert process tree:</h3>"
      ],
      "text/plain": [
       "<IPython.core.display.HTML object>"
      ]
     },
     "metadata": {},
     "output_type": "display_data"
    },
    {
     "data": {
      "text/html": [
       "<p style=\"margin-left: 40px\">[parent:1] 2018-12-18 05:15:01.017000 <b>C:\\Windows\\System32\\cmd.exe</b> [0x2af8]<br>(Cmdline: 'cmd.exe /c c:\\Diagnostics\\WindowsSimulateDetections.bat c:\\Diagnostics\\UserTmp') [Account MSTICAlertsWin1$]</p>"
      ],
      "text/plain": [
       "<IPython.core.display.HTML object>"
      ]
     },
     "metadata": {},
     "output_type": "display_data"
    },
    {
     "data": {
      "text/html": [
       "<p style=\"margin-left: 80px\">[sibling:1] 2018-12-18 05:15:01.027000 <b>C:\\Windows\\System32\\conhost.exe</b> [0x28c4]<br>(Cmdline: '\\??\\C:\\Windows\\system32\\conhost.exe 0xffffffff -ForceV1') [Account MSTICAdmin]</p>"
      ],
      "text/plain": [
       "<IPython.core.display.HTML object>"
      ]
     },
     "metadata": {},
     "output_type": "display_data"
    },
    {
     "data": {
      "text/html": [
       "<p style=\"margin-left: 80px\">[sibling:1] 2018-12-18 05:15:01.240000 <b>C:\\Windows\\System32\\cmd.exe</b> [0x2694]<br>(Cmdline: 'cmd  /c echo Any questions about the commands executed here then please contact one of') [Account MSTICAdmin]</p>"
      ],
      "text/plain": [
       "<IPython.core.display.HTML object>"
      ]
     },
     "metadata": {},
     "output_type": "display_data"
    },
    {
     "data": {
      "text/html": [
       "<p style=\"margin-left: 80px\">[sibling:1] 2018-12-18 05:15:01.263000 <b>C:\\Windows\\System32\\cmd.exe</b> [0x1948]<br>(Cmdline: 'cmd  /c echo timb@microsoft.com; romead@microsoft.com; ianhelle@microsoft.com; marcook@microsoft.com; dotanp@microsoft.com; liengli@microsoft.com') [Account MSTICAdmin]</p>"
      ],
      "text/plain": [
       "<IPython.core.display.HTML object>"
      ]
     },
     "metadata": {},
     "output_type": "display_data"
    },
    {
     "data": {
      "text/html": [
       "<p style=\"margin-left: 80px\">[sibling:1] 2018-12-18 05:15:01.400000 <b>C:\\Windows\\System32\\net.exe</b> [0x1960]<br>(Cmdline: 'net  user adm1nistrator Bob_testing /add') [Account MSTICAdmin]</p>"
      ],
      "text/plain": [
       "<IPython.core.display.HTML object>"
      ]
     },
     "metadata": {},
     "output_type": "display_data"
    },
    {
     "data": {
      "text/html": [
       "<p style=\"margin-left: 80px\">[sibling:1] 2018-12-18 05:15:01.467000 <b>C:\\Windows\\System32\\net.exe</b> [0x29e0]<br>(Cmdline: 'net  share TestShare=c:\\testshare /Grant:Users,Read') [Account MSTICAdmin]</p>"
      ],
      "text/plain": [
       "<IPython.core.display.HTML object>"
      ]
     },
     "metadata": {},
     "output_type": "display_data"
    },
    {
     "data": {
      "text/html": [
       "<p style=\"margin-left: 80px\">[sibling:1] 2018-12-18 05:15:01.503000 <b>C:\\Windows\\System32\\net.exe</b> [0x13c8]<br>(Cmdline: 'net  use q: \\\\MSTICAlertsWin1\\TestShare Bob_testing /User:adm1nistrator') [Account MSTICAdmin]</p>"
      ],
      "text/plain": [
       "<IPython.core.display.HTML object>"
      ]
     },
     "metadata": {},
     "output_type": "display_data"
    },
    {
     "data": {
      "text/html": [
       "<p style=\"margin-left: 80px\">[sibling:1] 2018-12-18 05:15:01.597000 <b>C:\\Windows\\System32\\net.exe</b> [0x27a4]<br>(Cmdline: 'net  use q: /delete') [Account MSTICAdmin]</p>"
      ],
      "text/plain": [
       "<IPython.core.display.HTML object>"
      ]
     },
     "metadata": {},
     "output_type": "display_data"
    },
    {
     "data": {
      "text/html": [
       "<p style=\"margin-left: 80px\">[sibling:1] 2018-12-18 05:15:01.613000 <b>C:\\Windows\\System32\\net.exe</b> [0x163c]<br>(Cmdline: 'net  share TestShare /delete') [Account MSTICAdmin]</p>"
      ],
      "text/plain": [
       "<IPython.core.display.HTML object>"
      ]
     },
     "metadata": {},
     "output_type": "display_data"
    },
    {
     "data": {
      "text/html": [
       "<p style=\"margin-left: 80px\">[sibling:1] 2018-12-18 05:15:01.637000 <b>C:\\Windows\\System32\\net.exe</b> [0x26b4]<br>(Cmdline: 'net  user adm1nistrator /delete') [Account MSTICAdmin]</p>"
      ],
      "text/plain": [
       "<IPython.core.display.HTML object>"
      ]
     },
     "metadata": {},
     "output_type": "display_data"
    },
    {
     "data": {
      "text/html": [
       "<p style=\"margin-left: 80px\"><b>[alert:0] 2018-12-18 05:15:01.670000 C:\\Diagnostics\\UserTmp\\regsvr32.exe</b> [0x6f8]<br>(Cmdline: '.\\regsvr32   /s /n /u /i:http://server/file.sct scrobj.dll') [Account MSTICAdmin]</p>"
      ],
      "text/plain": [
       "<IPython.core.display.HTML object>"
      ]
     },
     "metadata": {},
     "output_type": "display_data"
    },
    {
     "data": {
      "text/html": [
       "<p style=\"margin-left: 80px\">[sibling:1] 2018-12-18 05:15:01.863000 <b>C:\\Diagnostics\\UserTmp\\suchost.exe</b> [0x28dc]<br>(Cmdline: '.\\suchost.exe   -a cryptonight -o bcn -u bond007.01 -p x -t 4') [Account MSTICAdmin]</p>"
      ],
      "text/plain": [
       "<IPython.core.display.HTML object>"
      ]
     },
     "metadata": {},
     "output_type": "display_data"
    },
    {
     "data": {
      "text/html": [
       "<p style=\"margin-left: 80px\">[sibling:1] 2018-12-18 05:15:01.943000 <b>C:\\Diagnostics\\UserTmp\\cmd.exe</b> [0x558]<br>(Cmdline: 'cmd  /c \"echo TVqQAAMAAAAAAAAAAAAAAAAAAAAAAAAAAAA >> delme.b64\"') [Account MSTICAdmin]</p>"
      ],
      "text/plain": [
       "<IPython.core.display.HTML object>"
      ]
     },
     "metadata": {},
     "output_type": "display_data"
    },
    {
     "data": {
      "text/html": [
       "<p style=\"margin-left: 80px\">[sibling:1] 2018-12-18 05:15:47.203000 <b>C:\\Diagnostics\\UserTmp\\cmd.exe</b> [0x2bbc]<br>(Cmdline: 'cmd  /c \"echo AAAAAAAAAAAAAAAAAAAAAAAAAAAAAAAAAA >> delme.b64\"') [Account MSTICAdmin]</p>"
      ],
      "text/plain": [
       "<IPython.core.display.HTML object>"
      ]
     },
     "metadata": {},
     "output_type": "display_data"
    }
   ],
   "source": [
    "# Print out the text view of the process tree\n",
    "import html\n",
    "tree = processTree[['TimeCreatedUtc', 'NodeRole', 'Level', 'NewProcessName', 'CommandLine', 'SubjectUserName', 'NewProcessId', 'ProcessId']]\n",
    "tree = tree.sort_values(by=['TimeCreatedUtc'], ascending=False)\n",
    "def print_process(process_row):\n",
    "    \n",
    "    if process_row.NodeRole == 'parent':\n",
    "        if process_row.Level > 1:\n",
    "            level = 0\n",
    "        else:\n",
    "            level = 1 \n",
    "    elif process_row.NodeRole == 'source':\n",
    "        level = 2\n",
    "    elif process_row.NodeRole == 'child':\n",
    "        level = 3 + process_row.Level\n",
    "    else:\n",
    "        level = 2\n",
    "        \n",
    "    spaces = 20 * level * 2\n",
    "    if process_row.NodeRole == 'source':\n",
    "        line1 = '<b>[alert:{}] {} {}</b> [{}]'.format(\n",
    "            process_row.Level,\n",
    "            process_row.TimeCreatedUtc, process_row.NewProcessName, process_row.NewProcessId)\n",
    "    else:\n",
    "            line1 = '[{}:{}] {} <b>{}</b> [{}]'.format(\n",
    "            process_row.NodeRole,\n",
    "            process_row.Level,\n",
    "            process_row.TimeCreatedUtc, process_row.NewProcessName, process_row.NewProcessId)\n",
    "    line2 = '(Cmdline: \\'{}\\') [Account {}]'.format(\n",
    "        process_row.CommandLine, process_row.SubjectUserName)\n",
    "    \n",
    "    display(HTML('<p style=\"margin-left: {indent}px\">{txt}<br>{txt2}</p>'.format(indent=spaces, txt=line1, txt2=line2)))\n",
    "#     display(HTML('<p style=\"margin-left: {indent}px\">{txt}</p>'.format(indent=spaces, txt=line2)))\n",
    "\n",
    "if accountLogonId == '0x3e7':\n",
    "    display(HTML('<b><i>WARNING process tree can be inaccurate when navigating the system logon session: </i></b>'.\n",
    "                 format(sourceLogonId)))\n",
    "\n",
    "# TODO - print this out using markdown, include role of item\n",
    "display(HTML(\"<h3>Alert process tree:</h3>\"))\n",
    "# tree[tree['NodeRole'] != 'sibling'].sort_values(by=['TimeCreatedUtc']).apply(lambda x: print_process(x), 1);\n",
    "tree.sort_values(by=['TimeCreatedUtc']).apply(lambda x: print_process(x), 1);\n",
    "\n",
    "# # Uncomment this section to view list of siblings\n",
    "# display(HTML('Sibling processes:'))\n",
    "# tree[tree['NodeRole'] == 'sibling'].apply(lambda x: print_process(x), 1);\n",
    "# #if parent.Shape[0] == 0:\n",
    "    "
   ]
  },
  {
   "cell_type": "markdown",
   "metadata": {},
   "source": [
    "<a id='cmdlineiocs'></a>[Contents](#toc)\n",
    "# Check for IOCs in Commandline"
   ]
  },
  {
   "cell_type": "code",
   "execution_count": 37,
   "metadata": {
    "hidden": true
   },
   "outputs": [
    {
     "data": {
      "application/vnd.jupyter.widget-view+json": {
       "model_id": "6c27e0dd97fe4dc082ddf80f628f02df",
       "version_major": 2,
       "version_minor": 0
      },
      "text/plain": [
       "Text(value='.\\\\regsvr32   /s /n /u /i:http://server/file.sct scrobj.dll', description='Commandline or string t…"
      ]
     },
     "metadata": {},
     "output_type": "display_data"
    },
    {
     "data": {
      "text/html": [
       "Defaults to command line of alert process"
      ],
      "text/plain": [
       "<IPython.core.display.HTML object>"
      ]
     },
     "metadata": {},
     "output_type": "display_data"
    }
   ],
   "source": [
    "input_string = process[\"CommandLine\"]\n",
    "targetIoCString = widgets.Text(\n",
    "    value=input_string,\n",
    "    description='Commandline or string to search/decode :',\n",
    "    disabled=False,\n",
    "    layout = Layout(width='50%'),\n",
    "    style = {'description_width': 'initial'}\n",
    ")\n",
    "\n",
    "display(targetIoCString)\n",
    "display(HTML('Defaults to command line of alert process'))"
   ]
  },
  {
   "cell_type": "code",
   "execution_count": 38,
   "metadata": {
    "hidden": true,
    "scrolled": true,
    "tags": [
     "todo"
    ]
   },
   "outputs": [
    {
     "name": "stdout",
     "output_type": "stream",
     "text": [
      "\n",
      "IoCs found in alert process:\n"
     ]
    },
    {
     "data": {
      "text/plain": [
       "{'ipv4': set(),\n",
       " 'ip6': set(),\n",
       " 'dns': {'server'},\n",
       " 'http': {'http://server/file.sct'},\n",
       " 'windows_path': {'.\\\\regsvr32'},\n",
       " 'linux_path': {'//server/file.sct', '/s /n /u /i:http:'}}"
      ]
     },
     "execution_count": 38,
     "metadata": {},
     "output_type": "execute_result"
    }
   ],
   "source": [
    "# IoC Extraction\n",
    "import re\n",
    "def compile_regex(regex):\n",
    "    return re.compile(regex, re.I | re.X | re.M)\n",
    "\n",
    "# Base64 decode\n",
    "base64_regex = '(?P<b64>[A-Za-z0-9+/]{30,}={0,2})'\n",
    "base64_rgxc = compile_regex(base64_regex)\n",
    "\n",
    "# IP Addresses\n",
    "ip4_regex = '(?P<ipaddress>(?:[0-9]{1,3}\\\\.){3}[0-9]{1,3})'\n",
    "ip4_rgxc = compile_regex(ip4_regex)\n",
    "\n",
    "ip6_regex = '(?<![:.\\w])(?:[A-F0-9]{1,4}:){7}[A-F0-9]{1,4}(?![:.\\w])'\n",
    "ip6_rgxc = compile_regex(ip6_regex)\n",
    "\n",
    "# Dns Domains\n",
    "# TODO - This also matches IP addresses\n",
    "dns_regex = '((?=[a-z0-9-]{1,63}\\\\.)[a-z0-9]+(-[a-z0-9]+)*\\\\.){2,}[a-z]{2,63}'\n",
    "dns_rgxc = compile_regex(dns_regex)\n",
    "#dns_regex = '\\\\b((?=[a-z0-9-]{1,63}\\\\.)[a-z0-9]+(-[a-z0-9]+)*\\\\.){2,}[a-z]{2,63}\\\\b'\n",
    "\n",
    "# Http requests\n",
    "http_regex = r'''\n",
    "    (?P<protocol>(https?|ftp|telnet|ldap|file)://)\n",
    "    (?P<userinfo>([a-z0-9-._~!$&\\'()*+,;=:]|%[0-9A-F]{2})*@)?\n",
    "    (?P<host>([a-z0-9-._~!$&\\'()*+,;=]|%[0-9A-F]{2})*)\n",
    "    (:(?P<port>\\d*))?\n",
    "    (/(?P<path>([^?\\# ]|%[0-9A-F]{2})*))?\n",
    "    (\\?(?P<query>([a-z0-9-._~!$&'()*+,;=:/?@]|%[0-9A-F]{2})*))?\n",
    "    (\\#(?P<fragment>([a-z0-9-._~!$&'()*+,;=:/?@]|%[0-9A-F]{2})*))?\\b'''\n",
    "#(/(?P<path>([a-z0-9-._~!$&'()*+,;=:@/]|%[0-9A-F]{2})*))?\n",
    "http_rgxc = compile_regex(http_regex)\n",
    "\n",
    "# File paths\n",
    "# Windows\n",
    "windows_path_regex = r'''\n",
    "    (?P<root>[a-z]:|\\\\\\\\[a-z0-9_.$-]+||[.]+)\n",
    "    (?P<folder>\\\\(?:[^\\/:*?\"\\'<>|\\r\\n]+\\\\)*)\n",
    "    (?P<file>[^\\\\/*?\"\"<>|\\r\\n ]+)'''\n",
    "windows_path_rgxc = compile_regex(windows_path_regex)\n",
    "\n",
    "# simplified - this ignores some legal linux paths avoid matching too much\n",
    "# TODO - also matches URLs!\n",
    "linux_path_regex = '''\n",
    "    (?P<root>/+||[.]+)\n",
    "    (?P<folder>/(?:[^\\\\\\\\/:*?<>|\\\\r\\\\n]+/)*)\n",
    "    (?P<file>[^/\\\\0<>|\\\\r\\\\n ]+)'''\n",
    "linux_path_rgxc = compile_regex(linux_path_regex)\n",
    "\n",
    "content_regexes = {'ipv4': ip4_rgxc, 'ip6': ip6_rgxc, 'dns': dns_rgxc, 'http': http_rgxc, 'windows_path': windows_path_rgxc, 'linux_path': linux_path_rgxc }\n",
    "\n",
    "# base64 decoding\n",
    "import base64\n",
    "def decode_b64_string(input_string):\n",
    "    #print('input:', input_string)\n",
    "    try:\n",
    "        decoded_bytes = base64.b64decode(input_string)\n",
    "        try:\n",
    "            decoded_string = decoded_bytes.decode('utf-8')\n",
    "            #print('utf8:', decoded_string)\n",
    "        except UnicodeDecodeError:\n",
    "            decoded_string = decoded_bytes.decode('utf-16')\n",
    "    except:\n",
    "        decoded_string = input_string\n",
    "    #print('output:', decoded_string)\n",
    "    return decoded_string\n",
    "\n",
    "def analyze_for_iocs(input_string, verbose=False):\n",
    "    decoded_string = input_string\n",
    "    \n",
    "    match_pos=0\n",
    "    b64match = base64_rgxc.search(decoded_string)\n",
    "    if b64match != None:\n",
    "        match_pos = b64match.end()\n",
    "    loop_count = 0\n",
    "    while b64match != None:\n",
    "        # if we matched something, get the string and try to decode it\n",
    "        matched_string = b64match.groupdict()['b64']\n",
    "        part_dec_string = decode_b64_string(matched_string)\n",
    "        if matched_string != part_dec_string:\n",
    "            # if the part decoded string is different to the input, replace the this in the\n",
    "            # original string\n",
    "            decoded_string = decoded_string.replace(b64match.groupdict()['b64'], part_dec_string)\n",
    "            #print('replaced')\n",
    "        #else:\n",
    "            #print('skipped')\n",
    "        # increment the next search start the length of the replaced string\n",
    "        match_pos += len(part_dec_string)\n",
    "        # look for next match\n",
    "        b64match = base64_rgxc.search(decoded_string, match_pos)\n",
    "        #print('Part:', part_dec_string)\n",
    "        #print('Res:', decoded_string)\n",
    "        #print('Pos:', match_pos)\n",
    "        # don't get into too large a loop!\n",
    "        if loop_count > 20:\n",
    "            break\n",
    "        loop_count += 1\n",
    "        \n",
    "    # if we did something in the decoding - print this out\n",
    "    if verbose and input_string != decoded_string:\n",
    "        print('Base64 decoding of input:\\'', input_string, '\\'')\n",
    "        print('After decode:\\'', decoded_string, '\\'')\n",
    "        print('Searching decoded string for IoCs...')\n",
    "\n",
    "    # now process the string for iocs\n",
    "    iocs = {'ipv4': set(), 'ip6' : set(), 'dns' : set(), 'http': set(), 'windows_path': set(), 'linux_path': set()}\n",
    "    \n",
    "    from urllib.parse import unquote\n",
    "    for (ioc_type, rgx) in content_regexes.items():\n",
    "        \n",
    "        search_strings = [decoded_string]\n",
    "        if decoded_string != input_string:\n",
    "            search_strings.append(input_string)\n",
    "\n",
    "        for search_string in search_strings:\n",
    "            match_pos = 0\n",
    "            while True:\n",
    "                rgx_match = rgx.search(search_string, match_pos)\n",
    "\n",
    "                rgx_match = rgx.search(decoded_string, match_pos)\n",
    "                if rgx_match != None:\n",
    "                    iocs[ioc_type].add(rgx_match.group())\n",
    "                    if ioc_type == 'http':\n",
    "                        decoded_url = unquote(rgx_match.group())\n",
    "                        decoded_match = rgx.search(decoded_url)\n",
    "                        if decoded_match != None:\n",
    "                            iocs[ioc_type].add(decoded_match.group())\n",
    "                            iocs['dns'].add(decoded_match.groupdict()['host'])\n",
    "                    match_pos = rgx_match.end()\n",
    "                else:\n",
    "                    break\n",
    "    return iocs\n",
    "\n",
    "found_iocs = analyze_for_iocs(input_string=targetIoCString.value, verbose=True)\n",
    "print('\\nIoCs found in alert process:')\n",
    "found_iocs"
   ]
  },
  {
   "cell_type": "code",
   "execution_count": null,
   "metadata": {
    "hidden": true
   },
   "outputs": [],
   "source": [
    "# Analyze other processes in process tree\n",
    "def show_iocs(row):\n",
    "    iocs = analyze_for_iocs(row.CommandLine, verbose=True)\n",
    "    found_iocs = {ioc_type:ioc_set for (ioc_type, ioc_set) in iocs.items() if len(ioc_set) > 0 }\n",
    "    if len(found_iocs) > 0:\n",
    "        print('[', row.NodeRole, ']', row.TimeCreatedUtc, row.NewProcessName)\n",
    "        for (ioc_type, ioc_list) in found_iocs.items():\n",
    "            print(' ' * 4, ioc_type)\n",
    "            for ioc_item in ioc_list:\n",
    "                print(' ' * 8, ioc_item)\n",
    "            \n",
    "tree[['TimeCreatedUtc', 'NewProcessName','CommandLine', 'NodeRole']].apply(lambda x: show_iocs(x), 1);"
   ]
  },
  {
   "cell_type": "markdown",
   "metadata": {
    "hidden": true
   },
   "source": [
    "<a id='virustotallookup'></a>[Contents](#toc)\n",
    "## Virus Total Lookup"
   ]
  },
  {
   "cell_type": "code",
   "execution_count": null,
   "metadata": {
    "hidden": true
   },
   "outputs": [],
   "source": [
    "# Pull out any URLs to submit to VT\n",
    "def get_iocs(row, ioc_type):\n",
    "    \n",
    "    iocs = analyze_for_iocs(row.CommandLine)\n",
    "    found_iocs = {ioc_class:ioc_set for (ioc_class, ioc_set) in iocs.items() if len(ioc_set) > 0 and ioc_class == ioc_type }\n",
    "    if found_iocs:\n",
    "        return found_iocs\n",
    "            \n",
    "url_iocs = tree[['TimeCreatedUtc', 'NewProcessName','CommandLine', 'NodeRole']].apply(lambda x: get_iocs(x, 'http'), 1)\n",
    "url_iocs = url_iocs.dropna()\n",
    "url_iocs.values"
   ]
  },
  {
   "cell_type": "code",
   "execution_count": null,
   "metadata": {
    "hidden": true
   },
   "outputs": [],
   "source": [
    "import os\n",
    "def text_input_widget(description, defaultvalue):\n",
    "    return widgets.Text(value=defaultvalue, description=description, layout = Layout(width='50%'),\n",
    "    style = {'description_width': 'initial'})\n",
    "\n",
    "VT_API_KEY = os.environ.get('VT_API_KEY')\n",
    "if VT_API_KEY == None or len(VT_API_KEY) == 0:\n",
    "    print('To obtain an API key sign up here https://www.virustotal.com/')\n",
    "vtkey = text_input_widget('Virus Total API key:', VT_API_KEY)\n",
    "display(vtkey)"
   ]
  },
  {
   "cell_type": "code",
   "execution_count": null,
   "metadata": {
    "hidden": true
   },
   "outputs": [],
   "source": [
    "if VT_API_KEY != vtkey.value:\n",
    "    VT_API_KEY = vtkey.value\n",
    "\n",
    "import re\n",
    "\n",
    "def get_vt_url_results(url_item):\n",
    "    import requests\n",
    "    \n",
    "    url = \"https://www.virustotal.com/vtapi/v2/url/report\"\n",
    "    headers = {\"User-Agent\":'VirusTotal',\n",
    "                'Content-Type':'application/json'}\n",
    "    values = {\"resource\": url_item,\n",
    "              \"apikey\": VT_API_KEY}\n",
    "\n",
    "    r = requests.get(url, values, headers=headers)\n",
    "    if r.status_code == 200:\n",
    "        return r.json()\n",
    "    else:\n",
    "        print('Error returned from VirusTotal: \\n', r)\n",
    "\n",
    "# slightly stricter URL regex to exclude '() from host string\n",
    "http_strict_regex = r'''\n",
    "    (?P<protocol>(https?|ftp|telnet|ldap|file)://)\n",
    "    (?P<userinfo>([a-z0-9-._~!$&*+,;=:]|%[0-9A-F]{2})*@)?\n",
    "    (?P<host>([a-z0-9-._~!$&\\*+,;=]|%[0-9A-F]{2})*)\n",
    "    (:(?P<port>\\d*))?\n",
    "    (/(?P<path>([^?\\#| ]|%[0-9A-F]{2})*))?\n",
    "    (\\?(?P<query>([a-z0-9-._~!$&'()*+,;=:/?@]|%[0-9A-F]{2})*))?\n",
    "    (\\#(?P<fragment>([a-z0-9-._~!$&'()*+,;=:/?@]|%[0-9A-F]{2})*))?\\b'''\n",
    "http_strict_rgxc = compile_regex(http_strict_regex)\n",
    "\n",
    "def submit_urls_to_vt(url_iocs):\n",
    "    urls_to_event_map = dict()\n",
    "    http_items_to_lookup = set()\n",
    "    # for each 'http' item in the IoCs pd Series\n",
    "    for k, v in url_iocs.items():\n",
    "        if len(v) > 0:\n",
    "            # get the list of values from the dictionary\n",
    "            items = [vlist for vlist in v.values()]\n",
    "            #\n",
    "            for setitem in items:\n",
    "                for httpstring in setitem:\n",
    "                    match_url = http_strict_rgxc.search(httpstring)\n",
    "                    if match_url == None or match_url.groupdict()['host'] == None:\n",
    "                        continue\n",
    "\n",
    "                    #print(httpstring)\n",
    "                    # build the URL dropping the query string and fragments\n",
    "                    clean_url = match_url.groupdict()['protocol']\n",
    "                    if match_url.groupdict()['userinfo']:\n",
    "                        clean_url += match_url.groupdict()['userinfo']\n",
    "                    clean_url += match_url.groupdict()['host']\n",
    "                    if match_url.groupdict()['port']:\n",
    "                        clean_url += ':' + match_url.groupdict()['port']\n",
    "                    if match_url.groupdict()['path']:\n",
    "                        clean_url += '/' + match_url.groupdict()['path']\n",
    "\n",
    "                    # get rid of some obvious false positives (localhost, local hostnames)\n",
    "                    if httpstring.find('://127.0.0.1') == -1 and match_url.groupdict()['host'].find('.') != -1:\n",
    "                        http_items_to_lookup.add(clean_url)\n",
    "                        if clean_url in urls_to_event_map:\n",
    "                            urls_to_event_map[clean_url].add(k)\n",
    "                        else:\n",
    "                            urls_to_event_map[clean_url] = set([k])\n",
    "\n",
    "    vt_results = dict()\n",
    "    VT_API_KEY ='fbe87704dae3d315967145642dedc8cf3301fa8186fc1358090aea9bb334b755'\n",
    "    df_created = False\n",
    "    #print(list(http_items_to_lookup), type(http_items_to_lookup))\n",
    "    if len(http_items_to_lookup) > 0:\n",
    "        for url in http_items_to_lookup:\n",
    "            result = get_vt_url_results(url)\n",
    "            \n",
    "            if result == None:\n",
    "                continue\n",
    "            if not df_created:\n",
    "                item_results = pd.io.json.json_normalize(result)\n",
    "\n",
    "                df_vtresults = item_results[['resource', 'permalink', 'positives', 'url']]\n",
    "                df_created = True\n",
    "\n",
    "            else:\n",
    "                item_results = pd.io.json.json_normalize(result)\n",
    "                df_vtresults = df_vtresults.append(item_results[['resource', 'permalink', 'positives', 'url']], sort=False)\n",
    "    \n",
    "    return (df_vtresults, urls_to_event_map)\n",
    "\n",
    "\n",
    "# Try submitting any found URLs\n",
    "print('Submitting following items to VirusTotal')\n",
    "for k,v in url_iocs.items():\n",
    "    print(v)\n",
    "\n",
    "# Submit current set to VT\n",
    "(vtresults, url_event_map) = submit_urls_to_vt(url_iocs)\n",
    "\n",
    "print('\\n')\n",
    "print('-' * 100)\n",
    "if vtresults.shape[0] == 0:\n",
    "    print('No results received from VT')\n",
    "elif vtresults.query('positives > 0').shape[0] == 0:\n",
    "    print('No positive results received from VT')\n",
    "else:\n",
    "    print('VirusTotal results: ')\n",
    "    vtresults.query('positives > 0').apply(lambda x: \\\n",
    "        display('Resource: {res}, positives: {pos}, VTLink:  {link}'\\\n",
    "              .format(res=x.resource, pos=x.positives, link=x.permalink)),\\\n",
    "        axis=1)\n",
    "print('-' * 100)"
   ]
  },
  {
   "cell_type": "markdown",
   "metadata": {},
   "source": [
    "<a id='cmdlineonotherhosts'></a>[Contents](#toc)\n",
    "# Alert command line - Occurrence on other hosts in subscription"
   ]
  },
  {
   "cell_type": "code",
   "execution_count": null,
   "metadata": {
    "tags": [
     "todo"
    ]
   },
   "outputs": [],
   "source": [
    "# Get a profile of other processes running in the subscription (current time + 2hrs earlier)\n",
    "commandLine = alert_process['CommandLine']\n",
    "process_binary = processName.split(investigatedAlert['path_separator'])[-1]\n",
    "query = '''\n",
    "{event_source}\n",
    "{project_statement}\n",
    "| where {subscription_filter}\n",
    "| where {host_filter}\n",
    "| where TimeCreatedUtc >= datetime({start}) - time(2h)\n",
    "| where TimeCreatedUtc <= datetime({end})\n",
    "| where NewProcessName endswith \\'{processName}\\'\n",
    "| where CommandLine =~ \\'{commandline}\\'\n",
    "'''.format(event_source = proc_create_eventsource,\n",
    "           project_statement = process_create_project,\n",
    "           subscription_filter = kql_subscription_filter(investigatedAlert),\n",
    "           host_filter = kql_host_filter(investigatedAlert, operator='!='),\n",
    "           start=queryStartTimeUtc, \n",
    "           end=queryEndTimeUtc,\n",
    "           processName = process_binary,\n",
    "           commandline = escape_windows_path(commandLine))\n",
    "\n",
    "proc_match_in_rest_of_sub = execute_kql_query(query)\n"
   ]
  },
  {
   "cell_type": "code",
   "execution_count": null,
   "metadata": {},
   "outputs": [],
   "source": [
    "if proc_match_in_rest_of_sub.shape[0] == 0:\n",
    "    print('No proceses with matching commandline found in on other hosts in subscription in previous 2 hours')\n",
    "else:\n",
    "    hosts = proc_match_in_rest_of_sub['Computer'].drop_duplicates().shape[0]\n",
    "    processes = proc_match_in_rest_of_sub.shape[0]\n",
    "    print('{numprocesses} proceses with matching commandline found on {numhosts} hosts in subscription in previous 2 hours'\\\n",
    "         .format(numprocesses=processes, numhosts=hosts))\n",
    "    print('To examine these execute the dataframe \\'{}\\' in a new cell'.format('proc_match_in_rest_of_sub'))\n",
    "    print(proc_match_in_rest_of_sub[['TimeCreatedUtc','Computer', 'NewProcessName', 'CommandLine']].head())\n",
    "    "
   ]
  },
  {
   "cell_type": "markdown",
   "metadata": {},
   "source": [
    "<a id='process_session'></a>[Contents](#toc)\n",
    "# Process Session"
   ]
  },
  {
   "cell_type": "markdown",
   "metadata": {},
   "source": [
    "<a id='processtimeline'></a>[Contents](#toc)\n",
    "## Process TimeLine"
   ]
  },
  {
   "cell_type": "code",
   "execution_count": null,
   "metadata": {},
   "outputs": [],
   "source": [
    "separator = investigatedAlert['path_separator']\n",
    "if separator == '\\\\':\n",
    "    separator = r'\\\\\\\\'\n",
    "\n",
    "sourceLogonId = accountLogonId\n",
    "\n",
    "# convert to decimal strings if Linux\n",
    "if investigatedAlert['os_family'] == 'Linux':\n",
    "    sourceLogonId = str(int(sourceLogonId, 16))\n",
    "    \n",
    "query = '''\n",
    "{event_source}\n",
    "{project_statement}\n",
    "| where {subscription_filter}\n",
    "| where {host_filter}\n",
    "| where TimeCreatedUtc >= datetime({start})\n",
    "| where TimeCreatedUtc <= datetime({end})\n",
    "| where SubjectLogonId == \\'{accountLogonId}\\'\n",
    "| extend processName = tostring(split(NewProcessName, \\'{separator}\\')[-1])\n",
    "| extend commandlineparts = arraylength(split(CommandLine, ' '))\n",
    "| extend commandlinelen = strlen(CommandLine)\n",
    "'''.format(event_source = proc_create_eventsource,\n",
    "           project_statement = process_create_project,\n",
    "           accountLogonId=sourceLogonId, \n",
    "           start=queryStartTimeUtc, end=queryEndTimeUtc,\n",
    "           subscription_filter = kql_subscription_filter(investigatedAlert),\n",
    "           host_filter = kql_host_filter(investigatedAlert),\n",
    "          separator = separator)\n",
    "\n",
    "processesInlogonSession = execute_kql_query(query)\n"
   ]
  },
  {
   "cell_type": "code",
   "execution_count": null,
   "metadata": {
    "scrolled": true
   },
   "outputs": [],
   "source": [
    "# Check if timestamps have millisecond value.\n",
    "# If not we will synthesize one from PIDs\n",
    "# - This has following limitations:\n",
    "# 1. It uses the PID range for the whole event set (not just the PIDs within a single second boundary)\n",
    "# 2. It ignores PID wrapping - so if P1 has PID 0xFFFF and P2 has PID 0x1 in the same second, P1 will appear after P2 in \n",
    "# the timeline.\n",
    "def pid_to_ms(pid):\n",
    "    \"\"\"Interpolate microsecond value based on PID ordering\"\"\"\n",
    "    if isinstance(pid, str):\n",
    "        if pid.strip().startswith('0x'):\n",
    "            n_pid = int(pid, 16)\n",
    "        else:\n",
    "            n_pid = int(pid)\n",
    "    else:\n",
    "        n_pid = int(pid)\n",
    "    assert isinstance(n_pid, int)\n",
    "    return 1 + ((n_pid - min_pid) * (999998)) / (max_pid - min_pid)\n",
    "\n",
    "use_adjusted_time = False\n",
    "if processesInlogonSession.shape[0] > 2 and processesInlogonSession.at[0, 'TimeCreatedUtc'].microsecond == 0\\\n",
    "    and processesInlogonSession.at[1, 'TimeCreatedUtc'].microsecond == 0:\n",
    "    \n",
    "    max_pid = processesInlogonSession['NewProcessId'].apply(lambda x: int(x,16)).max()\n",
    "    min_pid = processesInlogonSession['NewProcessId'].apply(lambda x: int(x, 16)).min()\n",
    "\n",
    "    usecs = pd.DataFrame(processesInlogonSession.apply(lambda x: pid_to_ms(x.NewProcessId), axis=1), columns=['usec'])\n",
    "    processesInlogonSession['AdjTimeCreatedUtc'] = processesInlogonSession['TimeCreatedUtc'] + pd.to_timedelta(usecs['usec'], 'us')\n",
    "    use_adjusted_time = True\n",
    "\n",
    "if use_adjusted_time:\n",
    "    time_column = 'AdjTimeCreatedUtc'\n",
    "else:\n",
    "    time_column = 'TimeCreatedUtc'\n",
    "if investigatedAlert['os_family'] == 'Linux':\n",
    "    vw = processesInlogonSession[[time_column, 'NewProcessName', 'CommandLine','SubjectUserName', 'SubjectUserSid', 'audit_user', 'effective_group']].sort_values(time_column)\n",
    "else:\n",
    "    vw = processesInlogonSession[[time_column, 'NewProcessName', 'CommandLine','SubjectUserName', 'SubjectUserSid']].sort_values(time_column)\n",
    "vw"
   ]
  },
  {
   "cell_type": "code",
   "execution_count": null,
   "metadata": {},
   "outputs": [],
   "source": [
    "import bokeh\n",
    "\n",
    "from bokeh.plotting import figure\n",
    "from bokeh.io import output_notebook, show, push_notebook\n",
    "from bokeh.models import ColumnDataSource, DateRangeSlider, BoxAnnotation, HoverTool\n",
    "from bokeh.layouts import layout, row, column, Spacer\n",
    "from bokeh.models import DatetimeTickFormatter, LabelSet, Label\n",
    "from bokeh.plotting import figure, show, output_notebook, reset_output\n",
    "\n",
    "def display_timeline(processSession=processesInlogonSession, use_adjusted_time=False):\n",
    "    reset_output()\n",
    "    output_notebook()\n",
    "\n",
    "    def wrap_text(source_string, wrap_len):\n",
    "        if len(source_string) <= wrap_len:\n",
    "            return source_string\n",
    "        out_string = ''\n",
    "        input_parts = source_string.split()\n",
    "        out_line = ''\n",
    "        for part in input_parts:\n",
    "            if len(part) > wrap_len:\n",
    "                if len(out_line) > 0:\n",
    "                    out_string += out_line + '\\n'\n",
    "                    out_line = ''\n",
    "                out_line = part[0:wrap_len] + '...'\n",
    "            else:\n",
    "                if len(out_line) > 0:\n",
    "                    out_line += ' ' + part\n",
    "                else:\n",
    "                    out_line = part\n",
    "                if len(out_line) > wrap_len:\n",
    "                    out_string += out_line + '\\n'\n",
    "                    out_line = ''\n",
    "\n",
    "        return out_string\n",
    "\n",
    "    if use_adjusted_time:\n",
    "        time_column = 'AdjTimeCreatedUtc'\n",
    "    else:\n",
    "        time_column = 'TimeCreatedUtc'\n",
    "        \n",
    "    wrap = lambda x: wrap_text(x, 50)\n",
    "    graph_df = processSession[[time_column,'processName', 'NewProcessName', 'EventID', 'CommandLine']]\\\n",
    "        .assign(Tooltip = lambda x: x.CommandLine.map(wrap))\n",
    "#    graph_df = processSession[['TimeCreatedUtc','processName','EventID', 'CommandLine']].assign(Tooltip = lambda x: x.CommandLine)\n",
    "    graph_df['y_index'] = 1\n",
    "#     if 'PoplProcessCount' not in processSession.index:\n",
    "#         #graph_df['y_index'] = processSession.apply(lambda x: len(x.NewProcessName) % 10, axis=1)\n",
    "#         graph_df['y_index'] = 1\n",
    "#     else:\n",
    "#         max_popl = processSession['PoplProcessCount'].max()\n",
    "#         popl_divisor = max_popl / 10\n",
    "#         graph_df['y_index'] = processSession['PoplProcessCount']\n",
    "\n",
    "    # graph_df.assign(Tooltip = lambda x: x.CommandLine.map(wrap))\n",
    "    source = ColumnDataSource(graph_df)\n",
    "\n",
    "    tools = 'pan, box_zoom, wheel_zoom, reset, undo, redo, save, hover'\n",
    "    hover = HoverTool(\n",
    "            tooltips=[\n",
    "                (\"Process\", \"@NewProcessName\"),\n",
    "                (\"CommandLine\", \"@Tooltip{%50s}\")\n",
    "\n",
    "            ],\n",
    "            formatters={ 'Tooltip': 'printf' }\n",
    "            # display a tooltip whenever the cursor is vertically in line with a glyph\n",
    "            #,mode='vline'\n",
    "        )\n",
    "\n",
    "\n",
    "    p = figure(min_border_left=50, plot_height = 300, plot_width = 1000, \n",
    "               x_axis_label='Event Time', x_axis_type='datetime', x_minor_ticks = 10,\n",
    "               tools=[hover, 'pan', 'xwheel_zoom' ],\n",
    "               title='Event Timeline (hover over item to see details)')\n",
    "    p.yaxis.visible = False\n",
    "    # '%H:%M:%S.%3Nms\n",
    "    tickFormater = DatetimeTickFormatter()\n",
    "    tickFormater.days=['%d %H:%M']\n",
    "    tickFormater.hours=['%H:%M:%S']\n",
    "    tickFormater.minutes=['%H:%M:%S']\n",
    "    tickFormater.seconds=['%H:%M:%S']\n",
    "    tickFormater.milliseconds=['%H:%M:%S.%3N']\n",
    "    p.yaxis\n",
    "    p.xaxis[0].formatter = tickFormater\n",
    "    p.circle(x=time_column, y='y_index', color='navy', alpha=0.5, size=10, source=source)\n",
    "\n",
    "    labels = LabelSet(x=time_column, y='y_index', y_offset=5, text='processName', source=source,\n",
    "                     angle='90deg', text_font_size='8pt')\n",
    "    #p.add_layout(labels)\n",
    "    \n",
    "    x_alertLabel = pd.Timestamp(investigatedAlert['StartTimeUtc'])\n",
    "    alert_label = Label(x=x_alertLabel, y=0, y_offset=10, x_units='data', y_units='data',\n",
    "                 text='< Alert time', render_mode='css',\n",
    "                 border_line_color='red', border_line_alpha=1.0,\n",
    "                 background_fill_color='white', background_fill_alpha=1.0)\n",
    "\n",
    "    p.add_layout(alert_label)\n",
    "    show(p)\n",
    "    print('Alert start time = ', investigatedAlert['StartTimeUtc'])"
   ]
  },
  {
   "cell_type": "code",
   "execution_count": null,
   "metadata": {},
   "outputs": [],
   "source": [
    "display_timeline(processesInlogonSession, use_adjusted_time=use_adjusted_time)"
   ]
  },
  {
   "cell_type": "markdown",
   "metadata": {},
   "source": [
    "Each circle represents one or more processes. They are split into horizontal streams grouped by name similarity.\n",
    "This allows easier navigation when processes have the same start times.\n",
    "Note: ASC truncates times to nearest second so multiple processes appear to have the same start time.\n",
    "    \n",
    "Use the wheel zoom tool (3rd icon down from top right of chart) to zoom into the time line.\n",
    "Use the pan tool (2nd down) to drag timeline.\n",
    "The Tooltips show process name and commandline"
   ]
  },
  {
   "cell_type": "markdown",
   "metadata": {},
   "source": [
    "<a id='processprevalence'></a>[Contents](#toc)\n",
    "## Prevalence of processes in subscription compared with Alert host"
   ]
  },
  {
   "cell_type": "code",
   "execution_count": null,
   "metadata": {
    "hidden": true
   },
   "outputs": [],
   "source": [
    "# Get a sample of 30 hostnames\n",
    "query = '''\n",
    "{event_source}\n",
    "{project_statement}\n",
    "| where {subscription_filter}\n",
    "| where TimeCreatedUtc >= datetime({start})\n",
    "| where TimeCreatedUtc <= datetime({end})\n",
    "| distinct Computer\n",
    "| take 1000\n",
    "'''.format(event_source = proc_create_eventsource,\n",
    "           project_statement = process_create_project,\n",
    "           subscription_filter = kql_subscription_filter(investigatedAlert), \n",
    "           start=queryStartTimeUtc, end=queryEndTimeUtc)\n",
    "\n",
    "results = execute_kql_query(query)\n",
    "sample_hosts_kql = ''\n",
    "\n",
    "if results.shape[0] > 999:\n",
    "    n_hosts = 'more than 1000'\n",
    "else:\n",
    "    n_hosts = str(results.shape[0])\n",
    "    \n",
    "print('Total number of hosts in subscription = {}'.format(n_hosts))\n",
    "\n",
    "sampleSize = widgets.IntSlider(\n",
    "    value=30,\n",
    "    min=1,\n",
    "    max=results.shape[0],\n",
    "    step=1,\n",
    "    description='Sample size of hosts to use:',\n",
    "    layout = Layout(width='50%'),\n",
    "    style = {'description_width': 'initial'})\n",
    "print('Choose the number of hosts to use in the sample')\n",
    "display(sampleSize)"
   ]
  },
  {
   "cell_type": "code",
   "execution_count": null,
   "metadata": {
    "hidden": true,
    "scrolled": true
   },
   "outputs": [],
   "source": [
    "if results.shape[0] > sampleSize.value:\n",
    "    # we want to take a sample of machines and not try to chew through 1000s of hosts' data\n",
    "    sample_hosts = results.sample(n=sampleSize.value)['Computer'].tolist()\n",
    "    sample_host_list = ','.join('\\'{}\\''.format(h) for h in sample_hosts)\n",
    "    sample_hosts_kql = '| where Computer in ({})'.format(sample_host_list)\n",
    "    \n",
    "# Get a profile of other processes running on these hosts in the subscription\n",
    "query = '''\n",
    "{event_source}\n",
    "{project_statement}\n",
    "| where {subscription_filter}\n",
    "| where {host_filter}\n",
    "| where TimeCreatedUtc >= datetime({start})\n",
    "| where TimeCreatedUtc <= datetime({end})\n",
    "{sample_filter}\n",
    "| extend processParts = split(NewProcessName, '\\\\\\\\')\n",
    "| extend processName = tostring(processParts[ -1 ])\n",
    "| extend commandlineparts = arraylength(split(CommandLine, ' '))\n",
    "| extend commandlinelen = strlen(CommandLine)\n",
    "| summarize ProcessCount = count() by processName, NewProcessName, CommandLine, commandlineparts\n",
    "'''.format(event_source = proc_create_eventsource,\n",
    "           project_statement = process_create_project,\n",
    "           subscription_filter = kql_subscription_filter(investigatedAlert),\n",
    "           host_filter = kql_host_filter(investigatedAlert, operator='!='), \n",
    "           start=queryStartTimeUtc, end=queryEndTimeUtc,\n",
    "           sample_filter = sample_hosts_kql)\n",
    "\n",
    "results = execute_kql_query(query)"
   ]
  },
  {
   "cell_type": "code",
   "execution_count": null,
   "metadata": {
    "hidden": true
   },
   "outputs": [],
   "source": [
    "sub_processes = results\n",
    "loc_processes = processesInlogonSession\n",
    "merged_prevalence = pd.merge(loc_processes, sub_processes, how='left', on=['NewProcessName', 'CommandLine'])\n",
    "\n",
    "unique_loc_processes = merged_prevalence[merged_prevalence['ProcessCount'].isnull()][['NewProcessName','CommandLine']].drop_duplicates()\n",
    "loc_processes_distinct = loc_processes[['NewProcessName','CommandLine']].drop_duplicates()\n",
    "\n",
    "\n",
    "non_unique_loc_processes = merged_prevalence[merged_prevalence['ProcessCount'].notnull()][['NewProcessName','CommandLine']].drop_duplicates()\n",
    "\n",
    "print('Comparing process name and commandline with other hosts:')\n",
    "print('-'*30)\n",
    "print('Number of distinct process/commandlines on this host:', len(loc_processes_distinct.index))\n",
    "print('Number of distinct process/commandlines only seen on this host: ', len(unique_loc_processes.index))\n",
    "print('Number of distinct process/commandlines also seen on other hosts: ', len(non_unique_loc_processes.index))"
   ]
  },
  {
   "cell_type": "code",
   "execution_count": null,
   "metadata": {
    "hidden": true,
    "scrolled": true
   },
   "outputs": [],
   "source": [
    "#cmdline_parts = processTree.apply(lambda c: len(c.CommandLine.split(), axis=1)\n",
    "#merged_prevalence = pd.merge(processTree, results, how='left', on=['NewProcessName', 'commandlineparts'])\n",
    "# loc_processes.assign(commandlineparts = len(loc_processes['CommandLine'].str.split()))\n",
    "# calculate cmdline parts for this machine's processes\n",
    "loc_processes['commandlineparts'] = loc_processes.apply(lambda c: len(c.CommandLine.split()), axis=1)\n",
    "\n",
    "loc_processes_distinct_fuzzy = loc_processes[['NewProcessName','commandlineparts']].drop_duplicates()\n",
    "\n",
    "\n",
    "sub_processes_distinct_fuzzy = sub_processes[['ProcessCount','NewProcessName','commandlineparts']].drop_duplicates()\n",
    "\n",
    "# merge and extract counts\n",
    "merged_prevalence_fuzzy = pd.merge(loc_processes, sub_processes_distinct_fuzzy, how='left', on=['NewProcessName', 'commandlineparts'])\n",
    "unique_loc_processes_fuzzy = merged_prevalence_fuzzy[merged_prevalence_fuzzy['ProcessCount'].isnull()][['NewProcessName','commandlineparts']].drop_duplicates()\n",
    "non_unique_loc_processes_fuzzy = merged_prevalence_fuzzy[merged_prevalence_fuzzy['ProcessCount'].notnull()][['NewProcessName','commandlineparts']].drop_duplicates()\n",
    "\n",
    "unique_procs = pd.merge(loc_processes, unique_loc_processes_fuzzy, how='inner', on=['NewProcessName', 'commandlineparts'])\n",
    "\n",
    "if 'PoplProcessCount' in processesInlogonSession.index or 'PoplCommandLineParts' in processesInlogonSession.index:\n",
    "    processesInlogonSession.drop(labels=['PoplProcessCount', 'PoplCommandLineParts'], axis=1)\n",
    "    \n",
    "processesInlogonSession['PoplProcessCount'] = merged_prevalence_fuzzy['ProcessCount']\n",
    "processesInlogonSession['PoplCommandLineParts'] = merged_prevalence_fuzzy['commandlineparts']\n",
    "processesInlogonSession = processesInlogonSession.fillna(value={'PoplProcessCount':0, 'PoplCommandLineParts':0})\n",
    "\n",
    "print('Comparing process name and commandline token count with other hosts:')\n",
    "print('-'*30)\n",
    "print('Number of distinct process/commandline parts on this host: ', len(loc_processes_distinct_fuzzy.index))\n",
    "print('Number of process commandlines only seen on this host (fuzzy match): ', len(unique_loc_processes_fuzzy.index))\n",
    "print('Number of process commandlines also seen on other hosts (fuzzy match): ', len(non_unique_loc_processes_fuzzy.index))\n",
    "\n",
    "alert_process = get_alert_process_name(investigatedAlert)\n",
    "alert_commandline = get_alert_process(investigatedAlert)['CommandLine']\n",
    "cmdline_parts = len(alert_commandline.split())\n",
    "matched_alert_procs = sub_processes_distinct_fuzzy.query('NewProcessName == @alert_process and commandlineparts == @cmdline_parts')\n",
    "if matched_alert_procs.shape[0] > 0:\n",
    "    n_procs = sub_processes_distinct_fuzzy.query('NewProcessName == @alert_process and commandlineparts == 4').sum()['ProcessCount']\n",
    "    print('\\nFound {} processes on other hosts that match the pattern of the alert process'.format(n_procs))\n",
    "    print(matched_alert_procs)\n",
    "else:\n",
    "    print('\\nFound no processes on other hosts that match the pattern of the alert process')\n",
    "    \n",
    "print('\\n\\n{} processes in this session with no matching pattern on other hosts'.format(unique_procs.shape[0]))\n",
    "print('-'*30)\n",
    "\n",
    "print('Run the next cell to view these')\n",
    "sub_percentile = 0\n",
    "cmdline_filter_threshold = 0\n",
    "procname_filter_threshold = 0"
   ]
  },
  {
   "cell_type": "code",
   "execution_count": null,
   "metadata": {
    "hidden": true
   },
   "outputs": [],
   "source": [
    "# Unique process patterns on this host\n",
    "unique_procs[['TimeCreatedUtc','SubjectUserName', 'NewProcessName', 'CommandLine']]"
   ]
  },
  {
   "cell_type": "markdown",
   "metadata": {
    "hidden": true
   },
   "source": [
    "<a id='sessioncomparison'></a>[Contents](#toc)\n",
    "## Comparison of Alert logon session processes with previous sessions on host"
   ]
  },
  {
   "cell_type": "code",
   "execution_count": null,
   "metadata": {
    "hidden": true,
    "scrolled": false
   },
   "outputs": [],
   "source": [
    "processesInAlertSession = processesInlogonSession\n",
    "\n",
    "# Get 24 hours of logon sessions for this account to see if there are patterns/regularity\n",
    "targetAccount = processesInlogonSession.at[0, 'SubjectUserName']\n",
    "targetDomain = ''\n",
    "if 'SubjectDomainName' in processesInlogonSession.columns:\n",
    "    targetDomain = processesInlogonSession.at[0, 'SubjectDomainName']\n",
    "\n",
    "query = '''\n",
    "{event_source}\n",
    "{project_statement}\n",
    "| where {subscription_filter}\n",
    "| where {host_filter}\n",
    "| where TimeCreatedUtc >= datetime({end}) - time(1d)\n",
    "| where TimeCreatedUtc <= datetime({end})\n",
    "'''.format(event_source = account_logon_eventsource,\n",
    "           project_statement = account_logon_project, start=queryStartTimeUtc, end=queryEndTimeUtc,\n",
    "           subscription_filter = kql_subscription_filter(investigatedAlert),\n",
    "           host_filter = kql_host_filter(investigatedAlert))\n",
    "\n",
    "getPreviousLogons = execute_kql_query(query)\n",
    "#display(getPreviousLogons)\n",
    "%matplotlib notebook\n",
    "%matplotlib notebook\n",
    "prevLogonsSummary = getPreviousLogons[['TargetUserName', 'LogonType', 'EventID']].groupby(\n",
    "    [ 'LogonType', 'TargetUserName']).count().unstack()\n",
    "prevLogonsSummary.plot.bar(stacked=True, figsize=(5,5))\n",
    "prevLogonsSummary.fillna(0)"
   ]
  },
  {
   "cell_type": "markdown",
   "metadata": {},
   "source": [
    "### Visual Comparison of processes in each session\n",
    "These visualizations are not meant to be interpreted directly - they simply give visual similarity/difference cues between the different sessions. Repeating similar patterns likely mean that the session is schedule or scripted and runs the same selection of processes.\n",
    "\n",
    "Note System session visualization will not be meaningful since multiple \"sessions\" are combined"
   ]
  },
  {
   "cell_type": "code",
   "execution_count": null,
   "metadata": {
    "hidden": true,
    "scrolled": false
   },
   "outputs": [],
   "source": [
    "# Get logon Sessions for last 24 hours - max of 30 (30 randomly sampled from larger number\n",
    "if getPreviousLogons.shape[0] > 30:\n",
    "    logonIds_24hrs = getPreviousLogons.sample(n=30)['TargetLogonId'].tolist()\n",
    "else:\n",
    "    logonIds_24hrs = getPreviousLogons['TargetLogonId'].tolist()\n",
    "\n",
    "if len(logonIds_24hrs) > 0:\n",
    "        \n",
    "    logonId_set = str(logonIds_24hrs).replace('[', '').replace(']','')\n",
    "\n",
    "    query = '''\n",
    "    {event_source}\n",
    "    {project_statement}\n",
    "    | where {subscription_filter}\n",
    "    | where {host_filter} \n",
    "    | where TimeCreatedUtc >= datetime({start}) - time(1d)\n",
    "    | where TimeCreatedUtc <= datetime({end})\n",
    "    | where SubjectLogonId in ({accountLogonId})\n",
    "    | extend processName = tostring(split(NewProcessName, '\\\\\\\\')[-1])\n",
    "    '''.format(event_source = proc_create_eventsource,\n",
    "           project_statement = process_create_project,\n",
    "               accountLogonId=logonId_set, start=queryStartTimeUtc, end=queryEndTimeUtc,\n",
    "               subscription_filter = kql_subscription_filter(investigatedAlert),\n",
    "               host_filter = kql_host_filter(investigatedAlert))\n",
    "\n",
    "\n",
    "    processesInlogonSession_24hrs = execute_kql_query(query)\n",
    "    have_sessions = True\n",
    "else:\n",
    "    processesInlogonSession_24hrs = None\n",
    "    have_sessions = False\n",
    "    print('No previous logon sessions found')\n",
    "    \n",
    "\n",
    "# Process starts at 1 second sampling\n",
    "def plot_session(session, title='', subplot=False, axes=None, row=0, column=0):\n",
    "    first_event = session['TimeCreatedUtc'].min()\n",
    "    r = session.copy()\n",
    "    r['processNameLen'] = r.apply(lambda x: len(x.NewProcessName) % 10, axis=1)\n",
    "    r['timeIndex'] = r.apply(lambda x: (first_event - x.TimeCreatedUtc).components.seconds % 20 , axis=1)\n",
    "\n",
    "    if (not subplot):\n",
    "        r.plot.hexbin(x='timeIndex', y='processNameLen', gridsize=10, vmin=0, title=title, ax=axes)\n",
    "    else:\n",
    "        r.plot.hexbin(x='timeIndex', y='processNameLen', gridsize=10, vmin=0, ax=axes[row, column], title=title)\n",
    "\n",
    "# Plot the alert session\n",
    "m_fig, m_axes = plt.subplots(nrows=1, ncols=1, figsize=(7,3))\n",
    "title = 'Alert session {}'.format(processesInlogonSession['SubjectUserName'].iat[0])\n",
    "plot_session(processesInlogonSession, title, subplot=False, axes=m_axes, row=0, column=0)\n",
    "\n",
    "# Plot other sessions\n",
    "if have_sessions and int(processesInlogonSession_24hrs.groupby(['SubjectLogonId']).size().count()) > 1:\n",
    "    session_groups = processesInlogonSession_24hrs.groupby(['SubjectLogonId'])\n",
    "\n",
    "    # extract the sizes of each group so that we can group them by size\n",
    "    size_frame = session_groups.size().to_frame('size')\n",
    "\n",
    "    # set up the plots\n",
    "    num_plots = int(session_groups.size().count())\n",
    "    \n",
    "    fig, axes = plt.subplots(nrows=int(1 + num_plots/2), ncols=2, figsize=(15, num_plots * 2), sharex='col', sharey='row')\n",
    "    fig.subplots_adjust(hspace=0.4)\n",
    "    count_plot = 0\n",
    "\n",
    "    for x in size_frame.sort_values('size', ascending=False).index:\n",
    "        events = session_groups.get_group(x)\n",
    "    #for session, events in processesInlogonSession_24hrs.groupby(['SubjectLogonId']):\n",
    "        row = int(count_plot / 2)\n",
    "        col = count_plot % 2\n",
    "\n",
    "        subplot_title = '{} {} {}'.format(str(events['TimeCreatedUtc'].sort_values().iat[0]), str(events['SubjectUserName'].iat[0]), x)\n",
    "        plot_session(events, title=subplot_title, subplot=True, axes=axes, row=row, column=col)\n",
    "        count_plot += 1\n",
    "else:\n",
    "    print('Low number of distinct logon ids - comparison not valid')"
   ]
  },
  {
   "cell_type": "markdown",
   "metadata": {
    "hidden": true,
    "tags": [
     "todo"
    ]
   },
   "source": [
    "<a id='logonaccount'></a>[Contents](#toc)\n",
    "# Logon Account"
   ]
  },
  {
   "cell_type": "code",
   "execution_count": null,
   "metadata": {
    "hidden": true
   },
   "outputs": [],
   "source": [
    "# Logon session for alert account\n",
    "getLogonSessionQuery = '''\n",
    "{event_source}\n",
    "{project_statement}\n",
    "| where {subscription_filter}\n",
    "| where {host_filter}\n",
    "| where TimeCreatedUtc >= datetime({start}) - time(5d)\n",
    "| where TimeCreatedUtc <= datetime({end})\n",
    "| where TargetLogonId == \\'{accountLogonId}\\'\n",
    "'''.format(event_source = account_logon_eventsource,\n",
    "           project_statement = account_logon_project,\n",
    "           accountLogonId=sourceLogonId, start=queryStartTimeUtc, end=queryEndTimeUtc, \n",
    "          subscription_filter = kql_subscription_filter(investigatedAlert),\n",
    "          host_filter = kql_host_filter(investigatedAlert))\n",
    "\n",
    "getLogonSession = execute_kql_query(getLogonSessionQuery)\n"
   ]
  },
  {
   "cell_type": "markdown",
   "metadata": {
    "hidden": true
   },
   "source": [
    "<a id='basiclogon'></a>[Contents](#toc)\n",
    "## Basic Account Logon Information"
   ]
  },
  {
   "cell_type": "code",
   "execution_count": null,
   "metadata": {
    "hidden": true
   },
   "outputs": [],
   "source": [
    "windows_sid = { 'S-1-0-0': 'Null SID','S-1-5-18': 'LOCAL_SYSTEM', 'S-1-5-19': 'LOCAL_SERVICE', 'S-1-5-20': 'NETWORK_SERVICE'}\n",
    "administrator_sid = '500'\n",
    "guest_sid = '501'\n",
    "domOrMachine_sid = 'S-1-5-21'\n",
    "\n",
    "def print_sid_info(sid):\n",
    "    if sid in windows_sid:\n",
    "        print('SID {} is {}'.format(sid, windows_sid[sid]))\n",
    "    elif sid.endswith(administrator_sid):\n",
    "        print('SID {} is administrator'.format(sid))\n",
    "    elif sid.endswith(guest_sid):\n",
    "        print('SID {} is guest'.format(sid))\n",
    "        \n",
    "    if sid.startswith(domOrMachine_sid):\n",
    "        print('SID {} is local machine or domain account'.format(sid))\n",
    "        \n",
    "if getLogonSession.shape[0] > 0:\n",
    "    accountSid = getLogonSession.at[0, 'TargetUserSid']\n",
    "    accountSid = getLogonSession.at[0, 'TargetUserSid']\n",
    "    logon_type_map = { 2: 'Interactive', 3: 'Network', 4: 'Batch', 5: 'Service', 7: 'Unlock', 8: 'NetworkCleartext', \n",
    "    9: 'NewCredentials', 10: 'RemoteInteractive', 11: 'CachedInteractive' } \n",
    "\n",
    "    print('### Account Logon')\n",
    "    print('Account logon for {domain}/{name} occured at {l_time}.'.format(\n",
    "        name=getLogonSession.at[0, 'TargetUserName'], \n",
    "        domain=getLogonSession.at[0, 'TargetDomainName'], \n",
    "        l_time=getLogonSession.at[0, 'TimeCreatedUtc']))\n",
    "\n",
    "    if investigatedAlert['os_family'] == 'Windows':\n",
    "        logon_type = getLogonSession.at[0, 'LogonType']\n",
    "        print('Logon type: {l_type} ({l_type_desc})'.format(\n",
    "            l_type=logon_type, \n",
    "            l_type_desc=logon_type_map[logon_type]))\n",
    "    else:\n",
    "        print('Audit user: ', getLogonSession.at[0, 'audit_user'])\n",
    "\n",
    "    print('Target Account logon id \\'{}\\''.format(getLogonSession.at[0, 'TargetLogonId']))\n",
    "    if getLogonSession.at[0, 'TargetLogonId'] == '0x3e7' or getLogonSession.at[0, 'TargetLogonId'] == '-1':\n",
    "        print('    System logon session')\n",
    "\n",
    "    print('\\nSubject (source) account - {domain}/{name}'.format(\n",
    "        name=getLogonSession.at[0, 'SubjectUserName'], \n",
    "        domain=getLogonSession.at[0, 'SubjectDomainName']))\n",
    "    print('Subject Account logon id \\'{}\\''.format(getLogonSession.at[0, 'SubjectLogonId']))\n",
    "    if getLogonSession.at[0, 'SubjectLogonId'] == '0x3e7' or getLogonSession.at[0, 'SubjectLogonId'] == '-1':\n",
    "        print('    System logon session')\n",
    "        \n",
    "    print('Logon process: ', getLogonSession.at[0, 'LogonProcessName'])\n",
    "    print('Authentication: ', getLogonSession.at[0, 'AuthPckgName'])\n",
    "    print('Source IpAddress: ', getLogonSession.at[0, 'IpAddress'])\n",
    "    print('Source Host: ', getLogonSession.at[0, 'WorkstationName'])\n",
    "    print('Status: ', getLogonSession.at[0, 'Status'])\n",
    "\n",
    "else:\n",
    "    print('Could not find logon session for this alert account')\n"
   ]
  },
  {
   "cell_type": "code",
   "execution_count": null,
   "metadata": {
    "hidden": true
   },
   "outputs": [],
   "source": [
    "# Get 24 hours of logon sessions for this account to see if there are patterns/regularity\n",
    "\n",
    "targetAccount = processesInlogonSession.at[0, 'SubjectUserName']\n",
    "targetDomain = ''\n",
    "if 'SubjectDomainName' in processesInlogonSession.columns:\n",
    "    targetDomain = processesInlogonSession.at[0, 'SubjectDomainName']\n",
    "\n",
    "query = '''\n",
    "{event_source}\n",
    "{project_statement}\n",
    "| where {subscription_filter}\n",
    "| where {host_filter} \n",
    "| where TimeCreatedUtc >= datetime({end}) - time(1d)\n",
    "| where TimeCreatedUtc <= datetime({end})\n",
    "| where TargetUserName == \\'{targetUserName}\\'\n",
    "| where isempty(TargetDomainName) or TargetDomainName == \\'{targetDomain}\\'\n",
    "'''.format(event_source = account_logon_eventsource,\n",
    "           project_statement = account_logon_project,\n",
    "           targetUserName=targetAccount, targetDomain=targetDomain, start=queryStartTimeUtc, end=queryEndTimeUtc, \n",
    "          subscription_filter = kql_subscription_filter(investigatedAlert),\n",
    "          host_filter = kql_host_filter(investigatedAlert))\n",
    "\n",
    "getPreviousLogons = execute_kql_query(query)\n",
    "\n",
    "\n",
    "print('Total logon sessions recorded for this account = ', getPreviousLogons.shape[0])"
   ]
  },
  {
   "cell_type": "markdown",
   "metadata": {
    "hidden": true
   },
   "source": [
    "<a id='recentlogonpattern'></a>[Contents](#toc)\n",
    "## Time distribution of recent logons - scheduled or interactive pattern?"
   ]
  },
  {
   "cell_type": "code",
   "execution_count": null,
   "metadata": {
    "hidden": true,
    "scrolled": false
   },
   "outputs": [],
   "source": [
    "df = getPreviousLogons\n",
    "if df.shape[0] > 0:\n",
    "\n",
    "    df['LogonHour'] = df.apply(lambda x: x.TimeCreatedUtc.hour, axis=1)\n",
    "    df['LogonMinute'] = df.apply(lambda x: x.TimeCreatedUtc.minute, axis=1)\n",
    "    df['LogonSecond'] = df.apply(lambda x: int(x.TimeCreatedUtc.minute * 60 + (x.TimeCreatedUtc.second / 10)), axis=1)\n",
    "\n",
    "    fig, axes = plt.subplots(nrows=2, ncols=1, figsize=(10,10))\n",
    "\n",
    "    df.groupby(['LogonMinute']).aggregate({'LogonType' : 'count'}).plot.bar(#by='LogonMinute',    bins=60, \n",
    "        label='Seconds past hour', title='Per Hour Time Distribution of Logons', ax=axes[0])\n",
    "    df.groupby(['LogonHour']).aggregate({'LogonType' : 'count'}).plot.bar(\n",
    "        label='Logon Count Hour', title='Daily Time Distribution of Logons', ax=axes[1])\n",
    "\n",
    "    total_logons = getPreviousLogons.shape[1]\n",
    "    df.groupby(['LogonSecond'], as_index=False)['LogonType'].count()\n",
    "\n",
    "    hour_count = df.groupby(['LogonHour']).aggregate({'LogonType' : 'count'}).shape[0]\n",
    "    if hour_count < 12:\n",
    "        print('Low number of hours in data ({} distinct hours) - analysis may be faulty'.format(hour_count))\n",
    "\n",
    "    # Look for logons with a distinct timestamp\n",
    "    num_of_isolated_logons = df.groupby(['LogonSecond']).filter(lambda x: (x['LogonType'].count() == 1)).shape[0]\n",
    "    print('Logons in previous 24 hours: ', getPreviousLogons.shape[0])\n",
    "    if num_of_isolated_logons == 0:\n",
    "        print('Multiple logons occurred at same times in each hour - likely scheduled')\n",
    "    else:\n",
    "        print(num_of_isolated_logons, ' occurred at unique times - may indicate manually triggered')\n",
    "\n",
    "    print('Logon patterns:')"
   ]
  },
  {
   "cell_type": "markdown",
   "metadata": {
    "hidden": true
   },
   "source": [
    "<a id='logonfailures'></a>[Contents](#toc)\n",
    "## Logon Failures"
   ]
  },
  {
   "cell_type": "code",
   "execution_count": null,
   "metadata": {
    "hidden": true,
    "scrolled": true
   },
   "outputs": [],
   "source": [
    "failed_logon_query = '''\n",
    "{event_source}\n",
    "{project_statement}\n",
    "| where {subscription_filter}\n",
    "| where {host_filter}\n",
    "| where TimeCreatedUtc >= datetime({start}) - time(3d)\n",
    "| where TimeCreatedUtc <= datetime({end})\n",
    "| where EventID == 4625 or Status == \\'failed\\'\n",
    "'''.format(event_source = account_logon_eventsource,\n",
    "           project_statement = account_logon_project,\n",
    "           start=queryStartTimeUtc, end=queryEndTimeUtc, \n",
    "           subscription_filter = kql_subscription_filter(investigatedAlert),\n",
    "           host_filter = kql_host_filter(investigatedAlert))\n",
    "\n",
    "failedLogons = execute_kql_query(query)\n",
    "if failedLogons.shape[0] == 0:\n",
    "    display(HTML('No logon failures recorded for this host in past 3 days'))\n",
    "else:\n",
    "    display(failedLogons)"
   ]
  },
  {
   "cell_type": "markdown",
   "metadata": {
    "hidden": true
   },
   "source": [
    "<a id='appendices'></a>[Contents](#toc)\n",
    "# Appendices"
   ]
  },
  {
   "cell_type": "markdown",
   "metadata": {
    "heading_collapsed": true,
    "tags": [
     "todo"
    ]
   },
   "source": [
    "## Saving Data to Excel\n",
    "```\n",
    "writer = pd.ExcelWriter('myWorksheet.xlsx')\n",
    "my_data_frame.to_excel(writer,'Sheet1')\n",
    "writer.save()\n",
    "```"
   ]
  }
 ],
 "metadata": {
  "celltoolbar": "Tags",
  "hide_input": false,
  "kernelspec": {
   "display_name": "Python 3",
   "language": "python",
   "name": "python3"
  },
  "language_info": {
   "codemirror_mode": {
    "name": "ipython",
    "version": 3
   },
   "file_extension": ".py",
   "mimetype": "text/x-python",
   "name": "python",
   "nbconvert_exporter": "python",
   "pygments_lexer": "ipython3",
   "version": "3.7.1"
  },
  "toc": {
   "base_numbering": 1,
   "nav_menu": {
    "height": "318.996px",
    "width": "320.994px"
   },
   "number_sections": false,
   "sideBar": true,
   "skip_h1_title": false,
   "title_cell": "Table of Contents",
   "title_sidebar": "Contents",
   "toc_cell": false,
   "toc_position": {
    "height": "calc(100% - 180px)",
    "left": "10px",
    "top": "150px",
    "width": "165px"
   },
   "toc_section_display": true,
   "toc_window_display": true
  },
  "varInspector": {
   "cols": {
    "lenName": 16,
    "lenType": 16,
    "lenVar": 40
   },
   "kernels_config": {
    "python": {
     "delete_cmd_postfix": "",
     "delete_cmd_prefix": "del ",
     "library": "var_list.py",
     "varRefreshCmd": "print(var_dic_list())"
    },
    "r": {
     "delete_cmd_postfix": ") ",
     "delete_cmd_prefix": "rm(",
     "library": "var_list.r",
     "varRefreshCmd": "cat(var_dic_list()) "
    }
   },
   "position": {
    "height": "406.188px",
    "left": "1468.39px",
    "right": "20px",
    "top": "120px",
    "width": "537.563px"
   },
   "types_to_exclude": [
    "module",
    "function",
    "builtin_function_or_method",
    "instance",
    "_Feature"
   ],
   "window_display": false
  }
 },
 "nbformat": 4,
 "nbformat_minor": 2
}
