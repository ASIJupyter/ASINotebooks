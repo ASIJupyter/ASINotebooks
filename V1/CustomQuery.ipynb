{
  "cells": [
    {
      "metadata": {
        "collapsed": true,
        "trusted": false
      },
      "cell_type": "markdown",
      "source": "# ASI Hunting - SecurityEvent Template"
    },
    {
      "metadata": {},
      "cell_type": "markdown",
      "source": "We would like to guide you though your threat hunting efforts:\n    1. Prepare the shell;\n    2. Enter values;\n    3. Execute queries;\n    4. Analyze data.\n"
    },
    {
      "metadata": {},
      "cell_type": "markdown",
      "source": "## 0. Retrieve Log Analytics Information"
    },
    {
      "metadata": {
        "trusted": true
      },
      "cell_type": "code",
      "source": "import ipywidgets as widgets\nfrom IPython.display import display\nfrom IPython.display import HTML\n\nfrom utils import config_reader as mod\nworkspaceId = mod.config_reader.read_config_values(\"../config.json\")[3]\ntenantId = mod.config_reader.read_config_values(\"../config.json\")[0]\n\n######################################################################\nyour_workspace_Name = mod.config_reader.read_config_values(\"../config.json\")[4]\nprint(\"Your Log Analytic Workspace: \" + your_workspace_Name)\n######################################################################",
      "execution_count": null,
      "outputs": []
    },
    {
      "metadata": {},
      "cell_type": "markdown",
      "source": "## 1. Install KQL Magic for Log Analytics"
    },
    {
      "metadata": {
        "trusted": true,
        "scrolled": true
      },
      "cell_type": "code",
      "source": "# run once unless upgrade\n!pip install Kqlmagic --no-cache-dir --upgrade",
      "execution_count": null,
      "outputs": []
    },
    {
      "metadata": {
        "trusted": true,
        "scrolled": true
      },
      "cell_type": "code",
      "source": "%reload_ext Kqlmagic",
      "execution_count": null,
      "outputs": []
    },
    {
      "metadata": {},
      "cell_type": "markdown",
      "source": "If you need any help for kql magic     --> %kql --help \"help\" -popup_window\nIf you need any help for Log Analytics --> %kql --help \"LogAnalytics\""
    },
    {
      "metadata": {},
      "cell_type": "markdown",
      "source": "## 2. Log into Log Analytics"
    },
    {
      "metadata": {
        "trusted": true
      },
      "cell_type": "code",
      "source": "%kql loganalytics://code;workspace=workspaceId;tenant=tenantId;alias=\"asidb\" -!se",
      "execution_count": null,
      "outputs": []
    },
    {
      "metadata": {
        "trusted": true,
        "scrolled": true
      },
      "cell_type": "code",
      "source": "dbSchema = %kql --schema \"asidb@loganalytics\"\ntables = list(dbSchema.keys())\nselectedTable = widgets.Dropdown(options=tables, value=tables[0],description='Data Table:')\ndisplay(selectedTable)",
      "execution_count": null,
      "outputs": []
    },
    {
      "metadata": {},
      "cell_type": "markdown",
      "source": "## 3. Data Analysis"
    },
    {
      "metadata": {
        "trusted": true,
        "scrolled": true
      },
      "cell_type": "code",
      "source": "# Load queries from GitHub\nimport requests\nimport json\nurl = \"https://raw.githubusercontent.com/ASIJupyter/ASINotebooks/master/queries/Azure%20Network%20Analytics.json\"\nresponse = requests.get(url)\nresJson = json.loads(response.text)\nif response != None:\n    try:\n        print(resJson[\"query\"])\n    except:\n        print(type(\"type: \" + response.text))",
      "execution_count": null,
      "outputs": []
    },
    {
      "metadata": {
        "trusted": true
      },
      "cell_type": "code",
      "source": "# run the query\n%kql -query=resJson[\"query\"]\nif len(_kql_raw_result_) > 0:\n    df = _kql_raw_result_.to_dataframe()\nelse:\n    df = None\n    print('no data')",
      "execution_count": null,
      "outputs": []
    },
    {
      "metadata": {
        "trusted": true
      },
      "cell_type": "code",
      "source": "import pandas\nnewdf = df.assign(ipList=df.ipArray.apply(lambda x: ', '.join(map(lambda y: str(y).strip('[]').strip('\\''), x))))\nnewdf = newdf.drop('ipArray', axis=1)",
      "execution_count": null,
      "outputs": []
    },
    {
      "metadata": {
        "trusted": true
      },
      "cell_type": "code",
      "source": "newdf",
      "execution_count": null,
      "outputs": []
    },
    {
      "metadata": {
        "trusted": true
      },
      "cell_type": "code",
      "source": "newdf.to_csv('ipdata')",
      "execution_count": null,
      "outputs": []
    },
    {
      "metadata": {
        "trusted": true
      },
      "cell_type": "code",
      "source": "",
      "execution_count": null,
      "outputs": []
    }
  ],
  "metadata": {
    "kernelspec": {
      "name": "python36",
      "display_name": "Python 3.6",
      "language": "python"
    },
    "language_info": {
      "mimetype": "text/x-python",
      "nbconvert_exporter": "python",
      "name": "python",
      "pygments_lexer": "ipython3",
      "version": "3.6.6",
      "file_extension": ".py",
      "codemirror_mode": {
        "version": 3,
        "name": "ipython"
      }
    }
  },
  "nbformat": 4,
  "nbformat_minor": 2
}