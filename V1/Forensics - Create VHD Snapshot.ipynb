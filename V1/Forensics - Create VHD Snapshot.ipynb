{
  "cells": [
    {
      "metadata": {},
      "cell_type": "markdown",
      "source": "# Forensics - Create VHD Snapshot\n\n__Notebook Version:__ 1.0<br>\n__Python Version:__ Python 3.6 (including Python 3.6 - AzureML)<br>\n__Required Packages:__ Azure 4.0.0<br>\n__OS Supported:__<br>\n    -  Linux\n    -  Windows\n__Platforms Supported:__<br>\n    -  Azure Notebooks Free Compute\n    -  Azure Notebooks DSVM\n__Data Source Required:__<br>\n    -  no\n    \n### Description\nThe notebook provides sample code to create Azure IaaS virtual machine snapshots for managed disks.\n\n<font color=red>When you switch between Azure Notebooks Free Compute and Data Science Virtual Machine (DSVM), you may need to select Python version: please select Python 3.6 for Free Compute, and Python 3.6 - AzureML for DSVM.</font>"
    },
    {
      "metadata": {},
      "cell_type": "markdown",
      "source": "## Prerequisite check"
    },
    {
      "metadata": {
        "trusted": true
      },
      "cell_type": "code",
      "source": "# only run once, current version 0.1.2\n!pip install --upgrade Sentinel-Utilities",
      "execution_count": null,
      "outputs": []
    },
    {
      "metadata": {
        "trusted": true
      },
      "cell_type": "code",
      "source": "import SentinelUtils\n# checking Python version\ncheck = SentinelUtils.version_management.ModuleVersionCheck()\npy_check = check.validate_python('3.6.0')\nif py_check.requirement_met == False:\n    print('Please select Python 3.6 or Python 3.6 - AzureML at the upper right corner')\nelse:\n    print('Please continue')",
      "execution_count": null,
      "outputs": []
    },
    {
      "metadata": {
        "trusted": true
      },
      "cell_type": "code",
      "source": "# checking required packages\nmods_check = check.validate_installed_modules(['Azure>=4.0.0'])\nfor mod_info in mods_check:\n    if mod_info.requirement_met == False:\n        print('Please install {} {} at the following cell.'.format(mod_info.name, mod_info.required_version))",
      "execution_count": null,
      "outputs": []
    },
    {
      "metadata": {
        "trusted": true
      },
      "cell_type": "code",
      "source": "# Please install required packages based on the check at last cell\n#!pip install azure",
      "execution_count": null,
      "outputs": []
    },
    {
      "metadata": {},
      "cell_type": "markdown",
      "source": "## Table of Contents\n\n1. Retrieve Azure Resource Information\n2. Authentication to Azure Resource Management \n3. Create Snapshot and Generate SAS URL"
    },
    {
      "metadata": {},
      "cell_type": "markdown",
      "source": "## 1. Retrieve Azure Resource Information"
    },
    {
      "metadata": {
        "trusted": true
      },
      "cell_type": "code",
      "source": "path = %env PATH\ndsvm = False\nif '/dsvm/' in path:\n    dsvm = True\n\n# information from config.json\nif dsvm == False:\n    # Run this if you are using Free Compute\n    tenant_id = SentinelUtils.config_reader.ConfigReader.read_config_values(\"config.json\")[0]\n    subscription_id = SentinelUtils.config_reader.ConfigReader.read_config_values(\"config.json\")[1]\n    resource_group = SentinelUtils.config_reader.ConfigReader.read_config_values(\"config.json\")[2]\nelse:\n    # Run this if you are using DSVM.  You need to copy the values from config.json, if the file has no value, then you need to go to Log Analytics Portal to get the information.\n    tenant_id = input('tenant_id:')\n    subscription_id = input('subscription_id:')\n    resource_group = input('resource_group:')",
      "execution_count": null,
      "outputs": []
    },
    {
      "metadata": {},
      "cell_type": "markdown",
      "source": "## 2. Authentication to Azure Resource Management"
    },
    {
      "metadata": {
        "trusted": true
      },
      "cell_type": "code",
      "source": "from azure.common.credentials import ServicePrincipalCredentials\nfrom azure.mgmt.resource import ResourceManagementClient\nfrom azure.mgmt.compute import ComputeManagementClient\nfrom azure.mgmt.network import NetworkManagementClient\nfrom azure.mgmt.compute.models import DiskCreateOption",
      "execution_count": null,
      "outputs": []
    },
    {
      "metadata": {},
      "cell_type": "markdown",
      "source": "1. Select Authentication Methods<br>\nIf multi-factors authentication is enabled for your tenant, you must use Service Principal to authentication to Azure resource management.  Otherwise, you may choose either Service Principal or User ID/Password."
    },
    {
      "metadata": {
        "trusted": true
      },
      "cell_type": "code",
      "source": "import ipywidgets as widgets\nfrom IPython.display import display\nauth_method = ['Service Principal', 'User ID/Password']\nselected_auth = widgets.Dropdown(options=auth_method, value=auth_method[0],description='Auth Method:')\ndisplay(selected_auth)",
      "execution_count": null,
      "outputs": []
    },
    {
      "metadata": {},
      "cell_type": "markdown",
      "source": "2. Authentication"
    },
    {
      "metadata": {
        "trusted": true
      },
      "cell_type": "code",
      "source": "if selected_auth.value == 'Service Principal':\n    credentials = ServicePrincipalCredentials(\n        client_id=input('client_id:'), \n        secret=input('secret:'), \n        tenant=tenant_id)\nelse:\n    from azure.common.credentials import UserPassCredentials\n    import getpass\n    uid = input('User ID:')\n    pwd = getpass.getpass()\n    credentials = UserPassCredentials(uid, pwd)\n    \nclient = ResourceManagementClient(credentials, subscription_id)",
      "execution_count": null,
      "outputs": []
    },
    {
      "metadata": {},
      "cell_type": "markdown",
      "source": "## 3. Create Snapshot and Generate SAS URL"
    },
    {
      "metadata": {},
      "cell_type": "markdown",
      "source": "1. Initialization"
    },
    {
      "metadata": {
        "trusted": true
      },
      "cell_type": "code",
      "source": "resource_group_client = ResourceManagementClient(credentials, subscription_id)\ncompute_client = ComputeManagementClient(credentials, subscription_id)\nnetwork_client = NetworkManagementClient(credentials, subscription_id)",
      "execution_count": null,
      "outputs": []
    },
    {
      "metadata": {
        "trusted": true
      },
      "cell_type": "code",
      "source": "# User input\nvm_name = input('vm_name:')\nvm_location = input('vm_location:')\nsnapshot_name = input('Name to use for the new snapshot:')",
      "execution_count": null,
      "outputs": []
    },
    {
      "metadata": {},
      "cell_type": "markdown",
      "source": "2. Get a Managed Disk"
    },
    {
      "metadata": {
        "trusted": true
      },
      "cell_type": "code",
      "source": "def get_vm_disk_names(compute_client):\n    vm = compute_client.virtual_machines.get(resource_group, vm_name, expand='instanceView')\n    \n    if vm is not None and vm.instance_view is not None:\n        return [d.name for d in vm.instance_view.disks]\n    else:\n        return []",
      "execution_count": null,
      "outputs": []
    },
    {
      "metadata": {
        "trusted": true
      },
      "cell_type": "code",
      "source": "import ipywidgets as widgets\nfrom IPython.display import display\ndisks = get_vm_disk_names(compute_client)\n#tables = list(dbSchema.keys())\nselected_disk = widgets.Dropdown(options=disks, value=disks[0],description='Disk:')\ndisplay(selected_disk)",
      "execution_count": null,
      "outputs": []
    },
    {
      "metadata": {
        "trusted": true
      },
      "cell_type": "code",
      "source": "managed_disk = compute_client.disks.get(resource_group, selected_disk)",
      "execution_count": null,
      "outputs": []
    },
    {
      "metadata": {
        "trusted": true
      },
      "cell_type": "markdown",
      "source": "3. Create Snapshot"
    },
    {
      "metadata": {
        "trusted": true
      },
      "cell_type": "code",
      "source": "async_snapshot_creation = compute_client.snapshots.create_or_update(\n        resource_group,\n        snapshot_name,\n        {\n            'location': managed_disk.location,\n            'creation_data': {\n                'create_option': 'Copy',\n                'source_uri': managed_disk.id\n            }\n        }\n    )",
      "execution_count": null,
      "outputs": []
    },
    {
      "metadata": {
        "trusted": true
      },
      "cell_type": "code",
      "source": "snapshot = async_snapshot_creation.result()",
      "execution_count": null,
      "outputs": []
    },
    {
      "metadata": {},
      "cell_type": "markdown",
      "source": "4. Generate SAS URL for the snapshot"
    },
    {
      "metadata": {
        "trusted": true
      },
      "cell_type": "code",
      "source": "async_snapshot_export = compute_client.snapshots.grant_access(\n    resource_group,\n    snapshot_name,\n    'read',\n    360000)",
      "execution_count": null,
      "outputs": []
    },
    {
      "metadata": {
        "trusted": true
      },
      "cell_type": "code",
      "source": "result = async_snapshot_export.result()",
      "execution_count": null,
      "outputs": []
    },
    {
      "metadata": {
        "trusted": true
      },
      "cell_type": "code",
      "source": "# Snapshot SAS URL:\nresult.access_sas",
      "execution_count": null,
      "outputs": []
    },
    {
      "metadata": {
        "trusted": true
      },
      "cell_type": "code",
      "source": "",
      "execution_count": null,
      "outputs": []
    }
  ],
  "metadata": {
    "kernelspec": {
      "name": "python3-azureml",
      "display_name": "Python 3.6 - AzureML",
      "language": "python"
    },
    "language_info": {
      "pygments_lexer": "ipython3",
      "name": "python",
      "file_extension": ".py",
      "codemirror_mode": {
        "name": "ipython",
        "version": 3
      },
      "nbconvert_exporter": "python",
      "mimetype": "text/x-python",
      "version": "3.6.7"
    }
  },
  "nbformat": 4,
  "nbformat_minor": 1
}