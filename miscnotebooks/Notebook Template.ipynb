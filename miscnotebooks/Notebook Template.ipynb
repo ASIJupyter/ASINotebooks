{
 "cells": [
  {
   "cell_type": "markdown",
   "metadata": {},
   "source": [
    "# ASI Notebook Template\n",
    "### Description:"
   ]
  },
  {
   "cell_type": "markdown",
   "metadata": {},
   "source": [
    "# Setup\n",
    "\n",
    "### Install Packages"
   ]
  },
  {
   "cell_type": "markdown",
   "metadata": {},
   "source": [
    "Uncomment anything you need to install (first time uncomment everything). This will install these Python libraries into your environent so only needed once per machine (or install)."
   ]
  },
  {
   "cell_type": "code",
   "execution_count": 17,
   "metadata": {},
   "outputs": [
    {
     "name": "stdout",
     "output_type": "stream",
     "text": [
      "Requirement already up-to-date: Kqlmagic in c:\\users\\ianhelle\\appdata\\local\\continuum\\anaconda3\\lib\\site-packages (0.1.82)\n",
      "Requirement not upgraded as not directly required: prettytable>=0.7.2 in c:\\users\\ianhelle\\appdata\\local\\continuum\\anaconda3\\lib\\site-packages (from Kqlmagic) (0.7.2)\n",
      "Requirement not upgraded as not directly required: Markdown in c:\\users\\ianhelle\\appdata\\local\\continuum\\anaconda3\\lib\\site-packages (from Kqlmagic) (3.0.1)\n",
      "Requirement not upgraded as not directly required: seaborn>=0.9.0 in c:\\users\\ianhelle\\appdata\\local\\continuum\\anaconda3\\lib\\site-packages (from Kqlmagic) (0.9.0)\n",
      "Requirement not upgraded as not directly required: ipython>=7.0.1 in c:\\users\\ianhelle\\appdata\\local\\continuum\\anaconda3\\lib\\site-packages (from Kqlmagic) (7.0.1)\n",
      "Requirement not upgraded as not directly required: requests>=2.19.1 in c:\\users\\ianhelle\\appdata\\local\\continuum\\anaconda3\\lib\\site-packages (from Kqlmagic) (2.19.1)\n",
      "Requirement not upgraded as not directly required: traitlets in c:\\users\\ianhelle\\appdata\\local\\continuum\\anaconda3\\lib\\site-packages (from Kqlmagic) (4.3.2)\n",
      "Requirement not upgraded as not directly required: six>=1.11.0 in c:\\users\\ianhelle\\appdata\\local\\continuum\\anaconda3\\lib\\site-packages (from Kqlmagic) (1.11.0)\n",
      "Requirement not upgraded as not directly required: Pygments>=2.2.0 in c:\\users\\ianhelle\\appdata\\local\\continuum\\anaconda3\\lib\\site-packages (from Kqlmagic) (2.2.0)\n",
      "Requirement not upgraded as not directly required: pandas>=0.23.4 in c:\\users\\ianhelle\\appdata\\local\\continuum\\anaconda3\\lib\\site-packages (from Kqlmagic) (0.23.4)\n",
      "Requirement not upgraded as not directly required: python-dateutil>=2.7.3 in c:\\users\\ianhelle\\appdata\\local\\continuum\\anaconda3\\lib\\site-packages (from Kqlmagic) (2.7.3)\n",
      "Requirement not upgraded as not directly required: adal>=1.1.0 in c:\\users\\ianhelle\\appdata\\local\\continuum\\anaconda3\\lib\\site-packages (from Kqlmagic) (1.1.0)\n",
      "Requirement not upgraded as not directly required: matplotlib in c:\\users\\ianhelle\\appdata\\local\\continuum\\anaconda3\\lib\\site-packages (from Kqlmagic) (3.0.0)\n",
      "Requirement not upgraded as not directly required: psutil in c:\\users\\ianhelle\\appdata\\local\\continuum\\anaconda3\\lib\\site-packages (from Kqlmagic) (5.4.7)\n",
      "Requirement not upgraded as not directly required: beautifulsoup4 in c:\\users\\ianhelle\\appdata\\local\\continuum\\anaconda3\\lib\\site-packages (from Kqlmagic) (4.6.0)\n",
      "Requirement not upgraded as not directly required: setuptools>=40.4.3 in c:\\users\\ianhelle\\appdata\\local\\continuum\\anaconda3\\lib\\site-packages (from Kqlmagic) (40.4.3)\n",
      "Requirement not upgraded as not directly required: plotly>=3.3.0 in c:\\users\\ianhelle\\appdata\\local\\continuum\\anaconda3\\lib\\site-packages (from Kqlmagic) (3.3.0)\n",
      "Requirement not upgraded as not directly required: scipy>=0.14.0 in c:\\users\\ianhelle\\appdata\\local\\continuum\\anaconda3\\lib\\site-packages (from seaborn>=0.9.0->Kqlmagic) (1.1.0)\n",
      "Requirement not upgraded as not directly required: numpy>=1.9.3 in c:\\users\\ianhelle\\appdata\\local\\continuum\\anaconda3\\lib\\site-packages (from seaborn>=0.9.0->Kqlmagic) (1.14.3)\n",
      "Requirement not upgraded as not directly required: simplegeneric>0.8 in c:\\users\\ianhelle\\appdata\\local\\continuum\\anaconda3\\lib\\site-packages (from ipython>=7.0.1->Kqlmagic) (0.8.1)\n",
      "Requirement not upgraded as not directly required: backcall in c:\\users\\ianhelle\\appdata\\local\\continuum\\anaconda3\\lib\\site-packages (from ipython>=7.0.1->Kqlmagic) (0.1.0)\n",
      "Requirement not upgraded as not directly required: jedi>=0.10 in c:\\users\\ianhelle\\appdata\\local\\continuum\\anaconda3\\lib\\site-packages (from ipython>=7.0.1->Kqlmagic) (0.12.0)\n",
      "Requirement not upgraded as not directly required: decorator in c:\\users\\ianhelle\\appdata\\local\\continuum\\anaconda3\\lib\\site-packages (from ipython>=7.0.1->Kqlmagic) (4.3.0)\n",
      "Requirement not upgraded as not directly required: pickleshare in c:\\users\\ianhelle\\appdata\\local\\continuum\\anaconda3\\lib\\site-packages (from ipython>=7.0.1->Kqlmagic) (0.7.4)\n",
      "Requirement not upgraded as not directly required: colorama; sys_platform == \"win32\" in c:\\users\\ianhelle\\appdata\\local\\continuum\\anaconda3\\lib\\site-packages (from ipython>=7.0.1->Kqlmagic) (0.3.9)\n",
      "Requirement not upgraded as not directly required: prompt-toolkit<2.1.0,>=2.0.0 in c:\\users\\ianhelle\\appdata\\local\\continuum\\anaconda3\\lib\\site-packages (from ipython>=7.0.1->Kqlmagic) (2.0.6)\n",
      "Requirement not upgraded as not directly required: idna<2.8,>=2.5 in c:\\users\\ianhelle\\appdata\\local\\continuum\\anaconda3\\lib\\site-packages (from requests>=2.19.1->Kqlmagic) (2.6)\n",
      "Requirement not upgraded as not directly required: chardet<3.1.0,>=3.0.2 in c:\\users\\ianhelle\\appdata\\local\\continuum\\anaconda3\\lib\\site-packages (from requests>=2.19.1->Kqlmagic) (3.0.4)\n",
      "Requirement not upgraded as not directly required: urllib3<1.24,>=1.21.1 in c:\\users\\ianhelle\\appdata\\local\\continuum\\anaconda3\\lib\\site-packages (from requests>=2.19.1->Kqlmagic) (1.22)\n",
      "Requirement not upgraded as not directly required: certifi>=2017.4.17 in c:\\users\\ianhelle\\appdata\\local\\continuum\\anaconda3\\lib\\site-packages (from requests>=2.19.1->Kqlmagic) (2018.4.16)\n",
      "Requirement not upgraded as not directly required: ipython_genutils in c:\\users\\ianhelle\\appdata\\local\\continuum\\anaconda3\\lib\\site-packages (from traitlets->Kqlmagic) (0.2.0)\n",
      "Requirement not upgraded as not directly required: pytz>=2011k in c:\\users\\ianhelle\\appdata\\local\\continuum\\anaconda3\\lib\\site-packages (from pandas>=0.23.4->Kqlmagic) (2018.4)\n",
      "Requirement not upgraded as not directly required: cryptography>=1.1.0 in c:\\users\\ianhelle\\appdata\\local\\continuum\\anaconda3\\lib\\site-packages (from adal>=1.1.0->Kqlmagic) (2.2.2)\n",
      "Requirement not upgraded as not directly required: PyJWT>=1.0.0 in c:\\users\\ianhelle\\appdata\\local\\continuum\\anaconda3\\lib\\site-packages (from adal>=1.1.0->Kqlmagic) (1.6.4)\n",
      "Requirement not upgraded as not directly required: pyparsing!=2.0.4,!=2.1.2,!=2.1.6,>=2.0.1 in c:\\users\\ianhelle\\appdata\\local\\continuum\\anaconda3\\lib\\site-packages (from matplotlib->Kqlmagic) (2.2.0)\n",
      "Requirement not upgraded as not directly required: cycler>=0.10 in c:\\users\\ianhelle\\appdata\\local\\continuum\\anaconda3\\lib\\site-packages (from matplotlib->Kqlmagic) (0.10.0)\n",
      "Requirement not upgraded as not directly required: kiwisolver>=1.0.1 in c:\\users\\ianhelle\\appdata\\local\\continuum\\anaconda3\\lib\\site-packages (from matplotlib->Kqlmagic) (1.0.1)\n",
      "Requirement not upgraded as not directly required: nbformat>=4.2 in c:\\users\\ianhelle\\appdata\\local\\continuum\\anaconda3\\lib\\site-packages (from plotly>=3.3.0->Kqlmagic) (4.4.0)\n",
      "Requirement not upgraded as not directly required: retrying>=1.3.3 in c:\\users\\ianhelle\\appdata\\local\\continuum\\anaconda3\\lib\\site-packages (from plotly>=3.3.0->Kqlmagic) (1.3.3)\n",
      "Requirement not upgraded as not directly required: parso>=0.2.0 in c:\\users\\ianhelle\\appdata\\local\\continuum\\anaconda3\\lib\\site-packages (from jedi>=0.10->ipython>=7.0.1->Kqlmagic) (0.2.0)\n",
      "Requirement not upgraded as not directly required: wcwidth in c:\\users\\ianhelle\\appdata\\local\\continuum\\anaconda3\\lib\\site-packages (from prompt-toolkit<2.1.0,>=2.0.0->ipython>=7.0.1->Kqlmagic) (0.1.7)\n",
      "Requirement not upgraded as not directly required: asn1crypto>=0.21.0 in c:\\users\\ianhelle\\appdata\\local\\continuum\\anaconda3\\lib\\site-packages (from cryptography>=1.1.0->adal>=1.1.0->Kqlmagic) (0.24.0)\n",
      "Requirement not upgraded as not directly required: cffi>=1.7 in c:\\users\\ianhelle\\appdata\\local\\continuum\\anaconda3\\lib\\site-packages (from cryptography>=1.1.0->adal>=1.1.0->Kqlmagic) (1.11.5)\n",
      "Requirement not upgraded as not directly required: jsonschema!=2.5.0,>=2.4 in c:\\users\\ianhelle\\appdata\\local\\continuum\\anaconda3\\lib\\site-packages (from nbformat>=4.2->plotly>=3.3.0->Kqlmagic) (2.6.0)\n",
      "Requirement not upgraded as not directly required: jupyter_core in c:\\users\\ianhelle\\appdata\\local\\continuum\\anaconda3\\lib\\site-packages (from nbformat>=4.2->plotly>=3.3.0->Kqlmagic) (4.4.0)\n",
      "Requirement not upgraded as not directly required: pycparser in c:\\users\\ianhelle\\appdata\\local\\continuum\\anaconda3\\lib\\site-packages (from cffi>=1.7->cryptography>=1.1.0->adal>=1.1.0->Kqlmagic) (2.18)\n"
     ]
    },
    {
     "name": "stderr",
     "output_type": "stream",
     "text": [
      "You are using pip version 10.0.1, however version 18.1 is available.\n",
      "You should consider upgrading via the 'python -m pip install --upgrade pip' command.\n"
     ]
    }
   ],
   "source": [
    "# You may needs these - should only need to uncomment and run once\n",
    "# !pip install msgpack\n",
    "!pip install Kqlmagic --no-cache-dir  --upgrade\n",
    "# # May not need this if KqlMagic is installed\n",
    "# !pip install azure.kusto.data --upgrade\n",
    "# !conda install -c conda-forge python-levenshtein -y\n",
    "# !pip install bokeh\n",
    "# !pip install holoviews\n",
    "# !pip install seaborn\n",
    "# !pip install pythonnet"
   ]
  },
  {
   "cell_type": "markdown",
   "metadata": {},
   "source": [
    "### Imports and Magic"
   ]
  },
  {
   "cell_type": "code",
   "execution_count": 18,
   "metadata": {},
   "outputs": [
    {
     "data": {
      "text/html": [
       "\n",
       "    <script>\n",
       "    function code_toggle() {\n",
       "        if ($('div.cell.code_cell.rendered.selected div.input').css('display')!='none'){\n",
       "            $('div.cell.code_cell.rendered.selected div.input').hide();\n",
       "        } else {\n",
       "            $('div.cell.code_cell.rendered.selected div.input').show();\n",
       "        }\n",
       "    }\n",
       "    </script>\n",
       "\n",
       "\n",
       "<form action=\"javascript:code_toggle()\"><input type=\"submit\" id=\"toggleButton\" value=\"Show/Hide Code\"></form>\n"
      ],
      "text/plain": [
       "<IPython.core.display.HTML object>"
      ]
     },
     "metadata": {},
     "output_type": "display_data"
    }
   ],
   "source": [
    "# Javascript control to hide/display code cells.\n",
    "# 'toggle_code()' somewhere in a cell to use this\n",
    "from IPython.core.display import display, HTML\n",
    "toggle_code_str = '''\n",
    "<form action=\"javascript:code_toggle()\"><input type=\"submit\" id=\"toggleButton\" value=\"Show/Hide Code\"></form>\n",
    "'''\n",
    "\n",
    "toggle_code_prepare_str = '''\n",
    "    <script>\n",
    "    function code_toggle() {\n",
    "        if ($('div.cell.code_cell.rendered.selected div.input').css('display')!='none'){\n",
    "            $('div.cell.code_cell.rendered.selected div.input').hide();\n",
    "        } else {\n",
    "            $('div.cell.code_cell.rendered.selected div.input').show();\n",
    "        }\n",
    "    }\n",
    "    </script>\n",
    "\n",
    "'''\n",
    "\n",
    "display(HTML(toggle_code_prepare_str + toggle_code_str))\n",
    "\n",
    "def toggle_code():\n",
    "    display(HTML(toggle_code_str))"
   ]
  },
  {
   "cell_type": "code",
   "execution_count": 19,
   "metadata": {
    "scrolled": true
   },
   "outputs": [
    {
     "data": {
      "text/html": [
       "<html>\n",
       "            <head>\n",
       "            <style>\n",
       "            .kql-magic-banner {\n",
       "                display: flex; \n",
       "                background-color: #d9edf7;\n",
       "            }\n",
       "            .kql-magic-banner > div {\n",
       "                margin: 10px; \n",
       "                padding: 20px; \n",
       "                color: #3a87ad; \n",
       "                font-size: 13px;\n",
       "            }\n",
       "            </style>\n",
       "            </head>\n",
       "            <body>\n",
       "                <div class='kql-magic-banner'>\n",
       "                    <div><img src='data:image/png;base64,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'></div>\n",
       "                    <div>\n",
       "                        <p>Kql Query Language, aka kql, is the query language for advanced analytics on Azure Monitor resources. The current supported data sources are \n",
       "                        Azure Data Explorer (Kusto), Log Analytics and Application Insights. To get more information execute '%kql --help \"kql\"'</p>\n",
       "                        <p>   &bull; kql reference: Click on 'Help' tab > and Select 'kql referece' or execute '%kql --help \"kql\"'<br>\n",
       "                          &bull; Kqlmagic configuarion: execute '%config Kqlmagic'<br>\n",
       "                          &bull; Kqlmagic usage: execute '%kql --usage'<br>\n",
       "                    </div>\n",
       "                </div>\n",
       "            </body>\n",
       "            </html>"
      ],
      "text/plain": [
       "<IPython.core.display.HTML object>"
      ]
     },
     "metadata": {},
     "output_type": "display_data"
    },
    {
     "data": {
      "text/html": [
       "<html>\n",
       "        <head>\n",
       "        \n",
       "        </head>\n",
       "        <body>\n",
       "        <div><p style='padding: 10px; color: #3a87ad; background-color: #d9edf7; border-color: #bce9f1'>Kqlmagic&nbsppackage&nbspis&nbspupdated&nbspfrequently.&nbspRun&nbsp&apos;!pip&nbspinstall&nbspKqlmagic&nbsp--no-cache-dir&nbsp--upgrade&apos;&nbspto&nbspuse&nbspthe&nbsplatest&nbspversion.<br>Kqlmagic&nbspversion:&nbsp0.1.82,&nbspsource:&nbsphttps://github.com/Microsoft/jupyter-Kqlmagic</p></div>\n",
       "        </body>\n",
       "        </html>"
      ],
      "text/plain": [
       "<IPython.core.display.HTML object>"
      ]
     },
     "metadata": {},
     "output_type": "display_data"
    },
    {
     "data": {
      "application/javascript": [
       "try {IPython.notebook.kernel.execute(\"NOTEBOOK_URL = '\" + window.location + \"'\");} catch(err) {;}"
      ],
      "text/plain": [
       "<IPython.core.display.Javascript object>"
      ]
     },
     "metadata": {},
     "output_type": "display_data"
    }
   ],
   "source": [
    "#Imports\n",
    "from azure.kusto.data.request import KustoClient, KustoConnectionStringBuilder\n",
    "from azure.kusto.data.exceptions import KustoServiceError\n",
    "\n",
    "import numpy as np\n",
    "import scipy.linalg as lin\n",
    "import Levenshtein as leven\n",
    "from IPython import get_ipython\n",
    "from IPython.display import display\n",
    "import ipywidgets as widgets\n",
    "from ipywidgets import interactive, Layout, Select, IntSlider\n",
    "\n",
    "import matplotlib.pyplot as plt\n",
    "from sklearn.cluster import KMeans\n",
    "from sklearn.cluster import AffinityPropagation\n",
    "import itertools\n",
    "import networkx as nx\n",
    "\n",
    "import pandas as pd\n",
    "pd.set_option('display.max_rows', 500)\n",
    "pd.set_option('display.max_columns', 50)\n",
    "pd.set_option('display.max_colwidth', 200)\n",
    "\n",
    "# KqlMagic\n",
    "%reload_ext Kqlmagic\n",
    "%config Kqlmagic.auto_dataframe=True"
   ]
  },
  {
   "cell_type": "markdown",
   "metadata": {},
   "source": [
    "### KqlMagic\n",
    "Documentation https://github.com/mbnshtck/jupyter-kql-magic/blob/master/README.rst\n",
    "\n",
    "Quickstart Notebook https://github.com/mbnshtck/jupyter-kql-magic/blob/master/notebooks/QuickStart.ipynb"
   ]
  },
  {
   "cell_type": "code",
   "execution_count": 20,
   "metadata": {},
   "outputs": [],
   "source": [
    "# Kusto utility functions\n",
    "# Allows printing of query with stripped commments and newline chars\n",
    "def print_kql(query):\n",
    "    print(clean_kql_query(query))\n",
    "\n",
    "def clean_kql_query(query_string):\n",
    "    import re\n",
    "    return re.sub(r'(//[^\\\"\\'\\n]+)', '', query_string, re.MULTILINE).replace('\\n', '').strip()\n",
    "\n",
    "def execute_kql_query(query_string):\n",
    "    if not query_string or len(query_string.strip()) == 0:\n",
    "        print('No query supplied')\n",
    "        return None\n",
    "    src_query = clean_kql_query(query_string)\n",
    "    magic_string = f'results_frame << {src_query}'\n",
    "    magic_string = magic_string\n",
    "    ip = get_ipython()\n",
    "    ip.run_line_magic('kql', magic_string)\n",
    "    return results_frame"
   ]
  },
  {
   "cell_type": "code",
   "execution_count": 27,
   "metadata": {},
   "outputs": [
    {
     "data": {
      "application/vnd.jupyter.widget-view+json": {
       "model_id": "81d6bf633d06455995cb372aadbc8e09",
       "version_major": 2,
       "version_minor": 0
      },
      "text/plain": [
       "interactive(children=(Select(description='Select workspace :', layout=Layout(height='100px', width='50%'), opt…"
      ]
     },
     "metadata": {},
     "output_type": "display_data"
    }
   ],
   "source": [
    "# Select a LA workspace id from some demo environments\n",
    "from ipywidgets import widgets, Select, Layout, interactive\n",
    "available_workspaces = {'ASIHuntOMSWorkspaceV4': '52b1ab41-869e-4138-9e40-2a4457f09bf0',\n",
    "                        'ASIHuntOMSWorkspaceV5': '4ca7b24a-6e8f-4540-a8ce-1a80c2948c37',\n",
    "                        'Contoso77':'802d39e1-9d70-404d-832c-2de5e2478eda', \n",
    "                        'MSTICLinux':'06dc719f-5dad-47e9-b5af-07d84a0bda4e',\n",
    "                        'Rome ILDC - Detection E2E Tests Stage': '3eb61071-5dcd-4db3-94fa-0091a69b7359'}\n",
    "\n",
    "alertId = ''\n",
    "def select_workspace(x=''):\n",
    "    global workspace_id\n",
    "    workspace_id = available_workspaces[x]\n",
    "     \n",
    "selected_workspace = widgets.Select(options=available_workspaces.keys(), \n",
    "                              description='Select workspace :',\n",
    "                              layout=Layout(width='50%', height='100px'),\n",
    "                              style = {'description_width': 'initial'})\n",
    "interactive(select_workspace, x=selected_workspace)"
   ]
  },
  {
   "cell_type": "code",
   "execution_count": 34,
   "metadata": {
    "scrolled": false
   },
   "outputs": [],
   "source": [
    "# Kusto authentication\n",
    "#%kql kusto://code().cluster('Ascprodus').database('ProdAlerts')\n",
    "    \n",
    "# Log Analytics authentication\n",
    "%kql loganalytics://code().workspace(workspace_id)"
   ]
  },
  {
   "cell_type": "code",
   "execution_count": 23,
   "metadata": {},
   "outputs": [],
   "source": [
    "#Table and schema mapping to make it consistent with Kusto\n",
    "# Query setup for LogAnalytics\n",
    "security_alert_source = 'SecurityAlert'\n",
    "security_alert_project = '''| project \n",
    "TenantId,\n",
    "StartTimeUtc = StartTime,\n",
    "EndTimeUtc = EndTime,\n",
    "ProviderAlertId = VendorOriginalId,\n",
    "SystemAlertId,\n",
    "ProviderName,\n",
    "VendorName,\n",
    "AlertType = Type,\n",
    "AlertName,\n",
    "AlertDisplayName = DisplayName,\n",
    "Description,\n",
    "Severity = AlertSeverity,\n",
    "IsIncident,\n",
    "ExtendedProperties,\n",
    "Entities,\n",
    "ConfidenceLevel,\n",
    "ConfidenceScore,\n",
    "ExtendedLinks,\n",
    "WorkspaceSubscriptionId,\n",
    "WorkspaceResourceGroup,\n",
    "TimeGenerated,\n",
    "ResourceId,\n",
    "SourceComputerId '''\n",
    "# //CompromisedEntity,\n",
    "\n",
    "proc_create_eventsource = 'SecurityEvent | where EventID == 4688'\n",
    "process_create_project = '''| project \n",
    "TenantId,\n",
    "Account,\n",
    "EventID,\n",
    "TimeGenerated,\n",
    "Computer,\n",
    "SubjectUserSid,\n",
    "SubjectUserName,\n",
    "SubjectDomainName,\n",
    "SubjectLogonId,\n",
    "NewProcessId,\n",
    "NewProcessName,\n",
    "TokenElevationType,\n",
    "ProcessId,\n",
    "CommandLine,\n",
    "ParentProcessName,\n",
    "TargetLogonId,\n",
    "SourceComputerId\n",
    "| extend TimeCreatedUtc=TimeGenerated '''"
   ]
  },
  {
   "cell_type": "markdown",
   "metadata": {},
   "source": [
    "# Alerts"
   ]
  },
  {
   "cell_type": "markdown",
   "metadata": {},
   "source": [
    "### Sample queries to get list of alerts for a specified window"
   ]
  },
  {
   "cell_type": "code",
   "execution_count": 29,
   "metadata": {},
   "outputs": [
    {
     "data": {
      "application/vnd.jupyter.widget-view+json": {
       "model_id": "37678cab800d4b14b99aca2c48c068eb",
       "version_major": 2,
       "version_minor": 0
      },
      "text/plain": [
       "IntSlider(value=4, description='Select time to look back for alerts:', layout=Layout(height='50px', width='60%…"
      ]
     },
     "metadata": {},
     "output_type": "display_data"
    }
   ],
   "source": [
    "get_alerts_count_tmplt = '''\n",
    "{table}\n",
    "| where StartTime > ago({lookback}h) \n",
    "{query_project}\n",
    "| summarize alertCount=count(), firstAlert=min(StartTimeUtc), lastAlert=max(StartTimeUtc) by AlertName\n",
    "| order by alertCount desc\n",
    "'''.format(table = security_alert_source, query_project=security_alert_project, lookback = '{lookback}')\n",
    "\n",
    "\n",
    "get_alerts_tmplt ='''\n",
    "{table}\n",
    "| where StartTime > ago({lookback}h)\n",
    "{query_project}\n",
    "| extend extendedProps = parse_json(ExtendedProperties) \n",
    "| extend CompromisedEntity = tostring(extendedProps['Compromised Host'])\n",
    "| project-away extendedProps\n",
    "'''.format(table = security_alert_source, query_project=security_alert_project, lookback = '{lookback}' )\n",
    "\n",
    "from ipywidgets import interactive, Layout, IntSlider\n",
    "\n",
    "alertLookbackHours = widgets.IntSlider(value=4, min=1, max=240, step=1,\n",
    "    description='Select time to look back for alerts:', layout=Layout(width='60%', height='50px'),style = {'description_width': 'initial'})\n",
    "display(alertLookbackHours)"
   ]
  },
  {
   "cell_type": "code",
   "execution_count": 36,
   "metadata": {},
   "outputs": [
    {
     "data": {
      "text/html": [
       "<div>\n",
       "<style scoped>\n",
       "    .dataframe tbody tr th:only-of-type {\n",
       "        vertical-align: middle;\n",
       "    }\n",
       "\n",
       "    .dataframe tbody tr th {\n",
       "        vertical-align: top;\n",
       "    }\n",
       "\n",
       "    .dataframe thead th {\n",
       "        text-align: right;\n",
       "    }\n",
       "</style>\n",
       "<table border=\"1\" class=\"dataframe\">\n",
       "  <thead>\n",
       "    <tr style=\"text-align: right;\">\n",
       "      <th></th>\n",
       "      <th>AlertName</th>\n",
       "      <th>alertCount</th>\n",
       "      <th>firstAlert</th>\n",
       "      <th>lastAlert</th>\n",
       "    </tr>\n",
       "  </thead>\n",
       "  <tbody>\n",
       "    <tr>\n",
       "      <th>0</th>\n",
       "      <td>Suspicious Account Added</td>\n",
       "      <td>1</td>\n",
       "      <td>2018-12-06 19:18:10</td>\n",
       "      <td>2018-12-06 19:18:10</td>\n",
       "    </tr>\n",
       "    <tr>\n",
       "      <th>1</th>\n",
       "      <td>Alert for Account Not Found</td>\n",
       "      <td>1</td>\n",
       "      <td>2018-12-06 21:17:01</td>\n",
       "      <td>2018-12-06 21:17:01</td>\n",
       "    </tr>\n",
       "  </tbody>\n",
       "</table>\n",
       "</div>"
      ],
      "text/plain": [
       "                     AlertName  alertCount          firstAlert  \\\n",
       "0     Suspicious Account Added           1 2018-12-06 19:18:10   \n",
       "1  Alert for Account Not Found           1 2018-12-06 21:17:01   \n",
       "\n",
       "            lastAlert  \n",
       "0 2018-12-06 19:18:10  \n",
       "1 2018-12-06 21:17:01  "
      ]
     },
     "metadata": {},
     "output_type": "display_data"
    },
    {
     "data": {
      "text/html": [
       "<div>\n",
       "<style scoped>\n",
       "    .dataframe tbody tr th:only-of-type {\n",
       "        vertical-align: middle;\n",
       "    }\n",
       "\n",
       "    .dataframe tbody tr th {\n",
       "        vertical-align: top;\n",
       "    }\n",
       "\n",
       "    .dataframe thead th {\n",
       "        text-align: right;\n",
       "    }\n",
       "</style>\n",
       "<table border=\"1\" class=\"dataframe\">\n",
       "  <thead>\n",
       "    <tr style=\"text-align: right;\">\n",
       "      <th></th>\n",
       "      <th>TenantId</th>\n",
       "      <th>StartTimeUtc</th>\n",
       "      <th>EndTimeUtc</th>\n",
       "      <th>ProviderAlertId</th>\n",
       "      <th>SystemAlertId</th>\n",
       "      <th>ProviderName</th>\n",
       "      <th>VendorName</th>\n",
       "      <th>AlertType</th>\n",
       "      <th>AlertName</th>\n",
       "      <th>AlertDisplayName</th>\n",
       "      <th>Description</th>\n",
       "      <th>Severity</th>\n",
       "      <th>IsIncident</th>\n",
       "      <th>ExtendedProperties</th>\n",
       "      <th>Entities</th>\n",
       "      <th>ConfidenceLevel</th>\n",
       "      <th>ConfidenceScore</th>\n",
       "      <th>ExtendedLinks</th>\n",
       "      <th>WorkspaceSubscriptionId</th>\n",
       "      <th>WorkspaceResourceGroup</th>\n",
       "      <th>TimeGenerated</th>\n",
       "      <th>ResourceId</th>\n",
       "      <th>SourceComputerId</th>\n",
       "      <th>CompromisedEntity</th>\n",
       "    </tr>\n",
       "  </thead>\n",
       "  <tbody>\n",
       "    <tr>\n",
       "      <th>0</th>\n",
       "      <td>802d39e1-9d70-404d-832c-2de5e2478eda</td>\n",
       "      <td>2018-12-06 19:18:10</td>\n",
       "      <td>2018-12-06 20:18:10</td>\n",
       "      <td>a38c4128-e99b-4140-a418-07d6ac6f0346</td>\n",
       "      <td>3ec96585-07ef-4087-8ac7-b7c90b8c1193</td>\n",
       "      <td>CustomAlertRule</td>\n",
       "      <td>Alert Rule</td>\n",
       "      <td>SecurityAlert</td>\n",
       "      <td>Suspicious Account Added</td>\n",
       "      <td>Suspicious Account Added</td>\n",
       "      <td>Account added and removed from group within 24h</td>\n",
       "      <td>Medium</td>\n",
       "      <td>False</td>\n",
       "      <td>{\\r\\n  \"Alert Mode\": \"Aggregated\",\\r\\n  \"Search Query\": \"{\\\"detailBladeInputs\\\":{\\\"id\\\":\\\"/subscriptions/3c1bb38c-82e3-4f8d-a115-a7110ba70d05/resourcegroups/contoso77/providers/microsoft.operation...</td>\n",
       "      <td></td>\n",
       "      <td>Unknown</td>\n",
       "      <td>NaN</td>\n",
       "      <td></td>\n",
       "      <td>3c1bb38c-82e3-4f8d-a115-a7110ba70d05</td>\n",
       "      <td>contoso77</td>\n",
       "      <td>2018-12-06 20:28:14</td>\n",
       "      <td></td>\n",
       "      <td></td>\n",
       "      <td></td>\n",
       "    </tr>\n",
       "    <tr>\n",
       "      <th>1</th>\n",
       "      <td>802d39e1-9d70-404d-832c-2de5e2478eda</td>\n",
       "      <td>2018-12-06 21:17:01</td>\n",
       "      <td>2018-12-06 22:17:01</td>\n",
       "      <td>e8f5218f-7b2f-4a74-9d85-9c2807dc3f7d</td>\n",
       "      <td>5d5a5265-b920-40ea-ac94-a0fd3549b92b</td>\n",
       "      <td>CustomAlertRule</td>\n",
       "      <td>Alert Rule</td>\n",
       "      <td>SecurityAlert</td>\n",
       "      <td>Alert for Account Not Found</td>\n",
       "      <td>Alert for Account Not Found</td>\n",
       "      <td>Alert for Account Not Found</td>\n",
       "      <td>Medium</td>\n",
       "      <td>False</td>\n",
       "      <td>{\\r\\n  \"Alert Mode\": \"Aggregated\",\\r\\n  \"Search Query\": \"{\\\"detailBladeInputs\\\":{\\\"id\\\":\\\"/subscriptions/3c1bb38c-82e3-4f8d-a115-a7110ba70d05/resourcegroups/contoso77/providers/microsoft.operation...</td>\n",
       "      <td></td>\n",
       "      <td>Unknown</td>\n",
       "      <td>NaN</td>\n",
       "      <td></td>\n",
       "      <td>3c1bb38c-82e3-4f8d-a115-a7110ba70d05</td>\n",
       "      <td>contoso77</td>\n",
       "      <td>2018-12-06 22:27:06</td>\n",
       "      <td></td>\n",
       "      <td></td>\n",
       "      <td></td>\n",
       "    </tr>\n",
       "  </tbody>\n",
       "</table>\n",
       "</div>"
      ],
      "text/plain": [
       "                               TenantId        StartTimeUtc  \\\n",
       "0  802d39e1-9d70-404d-832c-2de5e2478eda 2018-12-06 19:18:10   \n",
       "1  802d39e1-9d70-404d-832c-2de5e2478eda 2018-12-06 21:17:01   \n",
       "\n",
       "           EndTimeUtc                       ProviderAlertId  \\\n",
       "0 2018-12-06 20:18:10  a38c4128-e99b-4140-a418-07d6ac6f0346   \n",
       "1 2018-12-06 22:17:01  e8f5218f-7b2f-4a74-9d85-9c2807dc3f7d   \n",
       "\n",
       "                          SystemAlertId     ProviderName  VendorName  \\\n",
       "0  3ec96585-07ef-4087-8ac7-b7c90b8c1193  CustomAlertRule  Alert Rule   \n",
       "1  5d5a5265-b920-40ea-ac94-a0fd3549b92b  CustomAlertRule  Alert Rule   \n",
       "\n",
       "       AlertType                    AlertName             AlertDisplayName  \\\n",
       "0  SecurityAlert     Suspicious Account Added     Suspicious Account Added   \n",
       "1  SecurityAlert  Alert for Account Not Found  Alert for Account Not Found   \n",
       "\n",
       "                                       Description Severity  IsIncident  \\\n",
       "0  Account added and removed from group within 24h   Medium       False   \n",
       "1                      Alert for Account Not Found   Medium       False   \n",
       "\n",
       "                                                                                                                                                                                        ExtendedProperties  \\\n",
       "0  {\\r\\n  \"Alert Mode\": \"Aggregated\",\\r\\n  \"Search Query\": \"{\\\"detailBladeInputs\\\":{\\\"id\\\":\\\"/subscriptions/3c1bb38c-82e3-4f8d-a115-a7110ba70d05/resourcegroups/contoso77/providers/microsoft.operation...   \n",
       "1  {\\r\\n  \"Alert Mode\": \"Aggregated\",\\r\\n  \"Search Query\": \"{\\\"detailBladeInputs\\\":{\\\"id\\\":\\\"/subscriptions/3c1bb38c-82e3-4f8d-a115-a7110ba70d05/resourcegroups/contoso77/providers/microsoft.operation...   \n",
       "\n",
       "  Entities ConfidenceLevel  ConfidenceScore ExtendedLinks  \\\n",
       "0                  Unknown              NaN                 \n",
       "1                  Unknown              NaN                 \n",
       "\n",
       "                WorkspaceSubscriptionId WorkspaceResourceGroup  \\\n",
       "0  3c1bb38c-82e3-4f8d-a115-a7110ba70d05              contoso77   \n",
       "1  3c1bb38c-82e3-4f8d-a115-a7110ba70d05              contoso77   \n",
       "\n",
       "        TimeGenerated ResourceId SourceComputerId CompromisedEntity  \n",
       "0 2018-12-06 20:28:14                                                \n",
       "1 2018-12-06 22:27:06                                                "
      ]
     },
     "metadata": {},
     "output_type": "display_data"
    }
   ],
   "source": [
    "get_alerts_count_query = get_alerts_count_tmplt.format(lookback = alertLookbackHours.value)\n",
    "get_alerts_query = get_alerts_tmplt.format(lookback = alertLookbackHours.value)\n",
    "\n",
    "alert_counts = execute_kql_query(get_alerts_count_query)\n",
    "last_alerts = execute_kql_query(get_alerts_query)\n",
    "display(alert_counts)\n",
    "display(last_alerts)"
   ]
  },
  {
   "cell_type": "code",
   "execution_count": 37,
   "metadata": {},
   "outputs": [
    {
     "data": {
      "application/vnd.jupyter.widget-view+json": {
       "model_id": "2588b9bca18a45319511f77d9824b75a",
       "version_major": 2,
       "version_minor": 0
      },
      "text/plain": [
       "interactive(children=(Select(description='Select alert :', layout=Layout(height='200px', width='50%'), options…"
      ]
     },
     "metadata": {},
     "output_type": "display_data"
    }
   ],
   "source": [
    "# Functions to Fetch and Display alert\n",
    "def fetch_alert(alertproviderId, local_cache=None):\n",
    "    \n",
    "    if local_cache is not None:\n",
    "        alerts = local_cache[local_cache['ProviderAlertId'] == alertproviderId]\n",
    "    else:\n",
    "        # Get alert\n",
    "        getAlertQuery = f'{get_alerts_query} | where ProviderAlertId == \\'{alertproviderId}\\''\n",
    "        alerts = execute_kql_query(getAlertQuery)\n",
    "        \n",
    "    if alerts.shape[0] > 0:\n",
    "        investigatedAlert = pd.Series(alerts.iloc[0])\n",
    "        if isinstance(investigatedAlert['ExtendedProperties'], str):\n",
    "            investigatedAlert['ExtendedProperties'] = json.loads((investigatedAlert['ExtendedProperties']))\n",
    "        if isinstance(investigatedAlert['Entities'], str) and len(investigatedAlert['Entities']) > 0:\n",
    "            investigatedAlert['Entities'] = json.loads((investigatedAlert['Entities']))\n",
    "        return investigatedAlert\n",
    "    \n",
    "def display_alert(investigatedAlert=None):\n",
    "    if investigatedAlert is not None:\n",
    "        # Display raw properties\n",
    "        print(investigatedAlert)\n",
    "        if \"ExtendedProperties\" in investigatedAlert:\n",
    "            print(\"ExtendedProperties:\")\n",
    "            for k,v in investigatedAlert['ExtendedProperties'].items():\n",
    "                print('\\t', k, ': ', v)\n",
    "        if 'Entities' in investigatedAlert:\n",
    "            print(\"Entities:\")\n",
    "            for e in investigatedAlert['Entities']:\n",
    "                print('\\t', e)\n",
    "                \n",
    "# Select and view alert\n",
    "from ipywidgets import interactive, Layout\n",
    " \n",
    "items = last_alerts.sort_values('ProviderAlertId')['ProviderAlertId'].unique().tolist()\n",
    "\n",
    "alertId = ''\n",
    "def view_alert(x=''):\n",
    "    global investigatedAlert\n",
    "    global alertId\n",
    "    alertId = x\n",
    "    print('AlertId:', x, '\\n')\n",
    "    investigatedAlert = fetch_alert(x, local_cache=last_alerts)\n",
    "    display_alert(investigatedAlert)\n",
    "    \n",
    " \n",
    "selected_alert = widgets.Select(options=items, \n",
    "                              description='Select alert :',\n",
    "                              layout=Layout(width='50%', height='200px'),\n",
    "                              style = {'description_width': 'initial'})\n",
    "interactive(view_alert, x=selected_alert)                "
   ]
  },
  {
   "cell_type": "markdown",
   "metadata": {},
   "source": [
    "# Hunting Queries\n",
    "Note: download the queries to a local folder (under your notebooks root folder) and change \n",
    "**hunting_query_root** to point to that folder"
   ]
  },
  {
   "cell_type": "code",
   "execution_count": 42,
   "metadata": {},
   "outputs": [
    {
     "data": {
      "application/vnd.jupyter.widget-view+json": {
       "model_id": "f4eea01277e54ef78e0612cffbda7ad9",
       "version_major": 2,
       "version_minor": 0
      },
      "text/plain": [
       "VBox(children=(HBox(children=(Select(description='Subcategory :', layout=Layout(height='120px', width='30%'), …"
      ]
     },
     "metadata": {},
     "output_type": "display_data"
    }
   ],
   "source": [
    "# Read in  the queries\n",
    "import os\n",
    "from os import path, listdir\n",
    "hunting_query_root = './test/ASI/Hunting Queries'\n",
    "hunting_queries = dict()\n",
    "for folder in listdir(hunting_query_root):\n",
    "    query_sub_cat = dict()\n",
    "    if not path.isdir(path.join(hunting_query_root, folder)):\n",
    "        continue\n",
    "        \n",
    "    q_files = listdir(path.join(hunting_query_root, folder))\n",
    "    for q_file in q_files:\n",
    "        file_path = path.join(hunting_query_root, folder, q_file)\n",
    "        with open(file_path) as f:\n",
    "            query_contents = f.readlines()\n",
    "            query_name = q_file.replace('.txt', '')\n",
    "            query_sub_cat[query_name] = ''.join(query_contents)\n",
    "    hunting_queries[folder] = query_sub_cat\n",
    "\n",
    "# Widgets to display queries by category\n",
    "sub_cats_w = widgets.Select(options=hunting_queries.keys(), \n",
    "                              description='Subcategory :',\n",
    "                              layout=Layout(width='30%', height='120px'),\n",
    "                              style = {'description_width': 'initial'})\n",
    "\n",
    "queries_w = widgets.Select(options = hunting_queries[list(hunting_queries.keys())[0]].keys(),\n",
    "                           description='Query :    ',\n",
    "                           layout=Layout(width='30%', height='120px'),\n",
    "                           style = {'description_width': 'initial'})\n",
    "\n",
    "query_text_w = widgets.Textarea(\n",
    "    value='',\n",
    "    description='Query:',\n",
    "    layout=Layout(width='100%', height='150px', visiblity='hidden'),\n",
    "    disabled=False)\n",
    "\n",
    "def on_cat_value_change(change):\n",
    "    queries_w.options = hunting_queries[change['new']].keys()\n",
    "    queries_w.value = list(hunting_queries[change['new']].keys())[0]\n",
    "\n",
    "def on_query_value_change(change):\n",
    "    if view_qry_check.value:\n",
    "        query_text_w.value = hunting_queries[sub_cats_w.value][queries_w.value]\n",
    "    \n",
    "def on_view_query_value_change(change):\n",
    "    if change.new:\n",
    "        on_query_value_change(None)\n",
    "        query_text_w.layout.visibility = 'visible'\n",
    "    else:\n",
    "        query_text_w.value = ''\n",
    "        query_text_w.layout.visibility = 'hidden'\n",
    "\n",
    "query_text_w.layout.visibility = 'hidden'\n",
    "sub_cats_w.observe(on_cat_value_change, names='value')\n",
    "queries_w.observe(on_query_value_change, names='value')\n",
    "view_qry_check = widgets.Checkbox(description=\"View query..\", value=False)\n",
    "view_qry_check.observe(on_view_query_value_change, names='value')\n",
    "\n",
    "# view_qry_button.on_click(click_exec_hqry)\n",
    "# display(exec_hqry_button);\n",
    "\n",
    "hbox = widgets.HBox([sub_cats_w, queries_w, view_qry_check])\n",
    "vbox = widgets.VBox([hbox, query_text_w])\n",
    "display(vbox)"
   ]
  },
  {
   "cell_type": "code",
   "execution_count": 44,
   "metadata": {},
   "outputs": [
    {
     "data": {
      "application/vnd.jupyter.widget-view+json": {
       "model_id": "3e310c2eeff6431db8714042c31bf051",
       "version_major": 2,
       "version_minor": 0
      },
      "text/plain": [
       "Button(description='Execute query..', style=ButtonStyle())"
      ]
     },
     "metadata": {},
     "output_type": "display_data"
    },
    {
     "name": "stdout",
     "output_type": "stream",
     "text": [
      "Running query...\n"
     ]
    },
    {
     "data": {
      "text/html": [
       "<div>\n",
       "<style scoped>\n",
       "    .dataframe tbody tr th:only-of-type {\n",
       "        vertical-align: middle;\n",
       "    }\n",
       "\n",
       "    .dataframe tbody tr th {\n",
       "        vertical-align: top;\n",
       "    }\n",
       "\n",
       "    .dataframe thead th {\n",
       "        text-align: right;\n",
       "    }\n",
       "</style>\n",
       "<table border=\"1\" class=\"dataframe\">\n",
       "  <thead>\n",
       "    <tr style=\"text-align: right;\">\n",
       "      <th></th>\n",
       "      <th>EventTime</th>\n",
       "      <th>ComputerName</th>\n",
       "      <th>AccountName</th>\n",
       "      <th>AccountDomain</th>\n",
       "      <th>FileName</th>\n",
       "      <th>ProcessCommandLine</th>\n",
       "      <th>InitiatingProcessFileName</th>\n",
       "      <th>InitiatingProcessCommandLine</th>\n",
       "      <th>InitiatingProcessParentFileName</th>\n",
       "    </tr>\n",
       "  </thead>\n",
       "  <tbody>\n",
       "    <tr>\n",
       "      <th>0</th>\n",
       "      <td>2018-12-07 04:33:02.007</td>\n",
       "      <td>DHCPContoso77</td>\n",
       "      <td>DHCPContoso77$</td>\n",
       "      <td>WORKGROUP</td>\n",
       "      <td>cscript.exe</td>\n",
       "      <td>\"C:\\Windows\\system32\\cscript.exe\" /nologo \"MonitorKnowledgeDiscovery.vbs\"</td>\n",
       "      <td>C:\\Program Files\\Microsoft Monitoring Agent\\Agent\\MonitoringHost.exe</td>\n",
       "      <td></td>\n",
       "      <td></td>\n",
       "    </tr>\n",
       "    <tr>\n",
       "      <th>1</th>\n",
       "      <td>2018-12-07 04:33:02.017</td>\n",
       "      <td>DHCPContoso77</td>\n",
       "      <td>DHCPContoso77$</td>\n",
       "      <td>WORKGROUP</td>\n",
       "      <td>conhost.exe</td>\n",
       "      <td>\\??\\C:\\Windows\\system32\\conhost.exe 0xffffffff -ForceV1</td>\n",
       "      <td>C:\\Windows\\System32\\cscript.exe</td>\n",
       "      <td></td>\n",
       "      <td></td>\n",
       "    </tr>\n",
       "    <tr>\n",
       "      <th>2</th>\n",
       "      <td>2018-12-07 04:33:52.007</td>\n",
       "      <td>ContosoAD.Contoso77.lab</td>\n",
       "      <td>ContosoAD$</td>\n",
       "      <td>CONTOSO77</td>\n",
       "      <td>cscript.exe</td>\n",
       "      <td>\"C:\\Windows\\system32\\cscript.exe\" /nologo \"MonitorKnowledgeDiscovery.vbs\"</td>\n",
       "      <td>C:\\Program Files\\Microsoft Monitoring Agent\\Agent\\MonitoringHost.exe</td>\n",
       "      <td></td>\n",
       "      <td></td>\n",
       "    </tr>\n",
       "    <tr>\n",
       "      <th>3</th>\n",
       "      <td>2018-12-07 04:33:52.013</td>\n",
       "      <td>ContosoAD.Contoso77.lab</td>\n",
       "      <td>ContosoAD$</td>\n",
       "      <td>CONTOSO77</td>\n",
       "      <td>conhost.exe</td>\n",
       "      <td>\\??\\C:\\Windows\\system32\\conhost.exe 0xffffffff -ForceV1</td>\n",
       "      <td>C:\\Windows\\System32\\cscript.exe</td>\n",
       "      <td></td>\n",
       "      <td></td>\n",
       "    </tr>\n",
       "    <tr>\n",
       "      <th>4</th>\n",
       "      <td>2018-12-07 04:34:02.003</td>\n",
       "      <td>DHCPContoso77</td>\n",
       "      <td>DHCPContoso77$</td>\n",
       "      <td>WORKGROUP</td>\n",
       "      <td>cscript.exe</td>\n",
       "      <td>\"C:\\Windows\\system32\\cscript.exe\" /nologo \"MonitorKnowledgeDiscovery.vbs\"</td>\n",
       "      <td>C:\\Program Files\\Microsoft Monitoring Agent\\Agent\\MonitoringHost.exe</td>\n",
       "      <td></td>\n",
       "      <td></td>\n",
       "    </tr>\n",
       "  </tbody>\n",
       "</table>\n",
       "</div>"
      ],
      "text/plain": [
       "                EventTime             ComputerName     AccountName  \\\n",
       "0 2018-12-07 04:33:02.007            DHCPContoso77  DHCPContoso77$   \n",
       "1 2018-12-07 04:33:02.017            DHCPContoso77  DHCPContoso77$   \n",
       "2 2018-12-07 04:33:52.007  ContosoAD.Contoso77.lab      ContosoAD$   \n",
       "3 2018-12-07 04:33:52.013  ContosoAD.Contoso77.lab      ContosoAD$   \n",
       "4 2018-12-07 04:34:02.003            DHCPContoso77  DHCPContoso77$   \n",
       "\n",
       "  AccountDomain     FileName  \\\n",
       "0     WORKGROUP  cscript.exe   \n",
       "1     WORKGROUP  conhost.exe   \n",
       "2     CONTOSO77  cscript.exe   \n",
       "3     CONTOSO77  conhost.exe   \n",
       "4     WORKGROUP  cscript.exe   \n",
       "\n",
       "                                                          ProcessCommandLine  \\\n",
       "0  \"C:\\Windows\\system32\\cscript.exe\" /nologo \"MonitorKnowledgeDiscovery.vbs\"   \n",
       "1                    \\??\\C:\\Windows\\system32\\conhost.exe 0xffffffff -ForceV1   \n",
       "2  \"C:\\Windows\\system32\\cscript.exe\" /nologo \"MonitorKnowledgeDiscovery.vbs\"   \n",
       "3                    \\??\\C:\\Windows\\system32\\conhost.exe 0xffffffff -ForceV1   \n",
       "4  \"C:\\Windows\\system32\\cscript.exe\" /nologo \"MonitorKnowledgeDiscovery.vbs\"   \n",
       "\n",
       "                                              InitiatingProcessFileName  \\\n",
       "0  C:\\Program Files\\Microsoft Monitoring Agent\\Agent\\MonitoringHost.exe   \n",
       "1                                       C:\\Windows\\System32\\cscript.exe   \n",
       "2  C:\\Program Files\\Microsoft Monitoring Agent\\Agent\\MonitoringHost.exe   \n",
       "3                                       C:\\Windows\\System32\\cscript.exe   \n",
       "4  C:\\Program Files\\Microsoft Monitoring Agent\\Agent\\MonitoringHost.exe   \n",
       "\n",
       "  InitiatingProcessCommandLine InitiatingProcessParentFileName  \n",
       "0                                                               \n",
       "1                                                               \n",
       "2                                                               \n",
       "3                                                               \n",
       "4                                                               "
      ]
     },
     "metadata": {},
     "output_type": "display_data"
    }
   ],
   "source": [
    "# Execute the hunting query\n",
    "from IPython.display import clear_output\n",
    "\n",
    "def click_exec_hqry(b):\n",
    "    global hunting_qry_results\n",
    "    query_name = queries_w.value\n",
    "    query_cat = sub_cats_w.value\n",
    "    query_text = hunting_queries[query_cat][query_name]\n",
    "    clear_output()\n",
    "    display(exec_hqry_button);\n",
    "    print('Running query...')\n",
    "    hunting_qry_results = execute_kql_query(query_text)\n",
    "    display(hunting_qry_results)\n",
    "   \n",
    "exec_hqry_button = widgets.Button(description=\"Execute query..\")\n",
    "exec_hqry_button.on_click(click_exec_hqry)\n",
    "display(exec_hqry_button);"
   ]
  }
 ],
 "metadata": {
  "hide_input": false,
  "kernelspec": {
   "display_name": "Python 3",
   "language": "python",
   "name": "python3"
  },
  "language_info": {
   "codemirror_mode": {
    "name": "ipython",
    "version": 3
   },
   "file_extension": ".py",
   "mimetype": "text/x-python",
   "name": "python",
   "nbconvert_exporter": "python",
   "pygments_lexer": "ipython3",
   "version": "3.6.5"
  },
  "toc": {
   "base_numbering": 1,
   "nav_menu": {},
   "number_sections": false,
   "sideBar": true,
   "skip_h1_title": false,
   "title_cell": "Table of Contents",
   "title_sidebar": "Contents",
   "toc_cell": false,
   "toc_position": {},
   "toc_section_display": true,
   "toc_window_display": false
  },
  "varInspector": {
   "cols": {
    "lenName": 16,
    "lenType": 16,
    "lenVar": 40
   },
   "kernels_config": {
    "python": {
     "delete_cmd_postfix": "",
     "delete_cmd_prefix": "del ",
     "library": "var_list.py",
     "varRefreshCmd": "print(var_dic_list())"
    },
    "r": {
     "delete_cmd_postfix": ") ",
     "delete_cmd_prefix": "rm(",
     "library": "var_list.r",
     "varRefreshCmd": "cat(var_dic_list()) "
    }
   },
   "types_to_exclude": [
    "module",
    "function",
    "builtin_function_or_method",
    "instance",
    "_Feature"
   ],
   "window_display": false
  }
 },
 "nbformat": 4,
 "nbformat_minor": 2
}
