{
 "cells": [
  {
   "cell_type": "markdown",
   "metadata": {},
   "source": [
    "# Investigation - Office 888 Suspicious Logins\n",
    "### Description:"
   ]
  },
  {
   "cell_type": "markdown",
   "metadata": {},
   "source": [
    "# Setup\n",
    "\n",
    "### Install Packages"
   ]
  },
  {
   "cell_type": "markdown",
   "metadata": {},
   "source": [
    "Uncomment anything you need to install (first time uncomment everything). This will install these Python libraries into your environent so only needed once per machine (or install)."
   ]
  },
  {
   "cell_type": "code",
   "execution_count": null,
   "metadata": {},
   "outputs": [],
   "source": [
    "# You may needs these - should only need to uncomment and run once\n",
    "!pip install --user --upgrade pip\n",
    "!pip install Kqlmagic --no-cache-dir --upgrade\n",
    "!pip install maxminddb-geolite2\n",
    "!pip install folium\n",
    "# # May not need this if KqlMagic is installed\n",
    "#!pip install azure.kusto.data --upgrade"
   ]
  },
  {
   "cell_type": "markdown",
   "metadata": {},
   "source": [
    "### Imports and Magic"
   ]
  },
  {
   "cell_type": "code",
   "execution_count": null,
   "metadata": {},
   "outputs": [],
   "source": [
    "# Javascript control to hide/display code cells.\n",
    "# 'toggle_code()' somewhere in a cell to use this\n",
    "from IPython.core.display import display, HTML\n",
    "toggle_code_str = '''\n",
    "<form action=\"javascript:code_toggle()\"><input type=\"submit\" id=\"toggleButton\" value=\"Show/Hide Code\"></form>\n",
    "'''\n",
    "\n",
    "toggle_code_prepare_str = '''\n",
    "    <script>\n",
    "    function code_toggle() {\n",
    "        if ($('div.cell.code_cell.rendered.selected div.input').css('display')!='none'){\n",
    "            $('div.cell.code_cell.rendered.selected div.input').hide();\n",
    "        } else {\n",
    "            $('div.cell.code_cell.rendered.selected div.input').show();\n",
    "        }\n",
    "    }\n",
    "    </script>\n",
    "\n",
    "'''\n",
    "\n",
    "display(HTML(toggle_code_prepare_str + toggle_code_str))\n",
    "\n",
    "def toggle_code():\n",
    "    display(HTML(toggle_code_str))"
   ]
  },
  {
   "cell_type": "code",
   "execution_count": null,
   "metadata": {
    "scrolled": true
   },
   "outputs": [],
   "source": [
    "#Imports\n",
    "from azure.kusto.data.request import KustoClient, KustoConnectionStringBuilder\n",
    "from azure.kusto.data.exceptions import KustoServiceError\n",
    "\n",
    "from IPython import get_ipython\n",
    "from IPython.display import display\n",
    "from ipywidgets import interactive, Layout, Select, IntSlider, widgets, Button, HBox, VBox\n",
    "from geolite2 import geolite2\n",
    "import folium\n",
    "from folium.plugins import MarkerCluster\n",
    "\n",
    "import pandas as pd\n",
    "pd.set_option('display.max_rows', 500)\n",
    "pd.set_option('display.max_columns', 50)\n",
    "pd.set_option('display.max_colwidth', 200)\n",
    "\n",
    "# KqlMagic\n",
    "%reload_ext Kqlmagic\n",
    "%config Kqlmagic.auto_dataframe=True\n",
    "toggle_code()"
   ]
  },
  {
   "cell_type": "markdown",
   "metadata": {},
   "source": [
    "### KqlMagic\n",
    "Documentation https://github.com/mbnshtck/jupyter-kql-magic/blob/master/README.rst\n",
    "\n",
    "Quickstart Notebook https://github.com/mbnshtck/jupyter-kql-magic/blob/master/notebooks/QuickStart.ipynb"
   ]
  },
  {
   "cell_type": "code",
   "execution_count": null,
   "metadata": {},
   "outputs": [],
   "source": [
    "# Kusto utility functions\n",
    "# Allows printing of query with stripped commments and newline chars\n",
    "def print_kql(query):\n",
    "    print(clean_kql_query(query))\n",
    "\n",
    "def clean_kql_query(query_string):\n",
    "    import re\n",
    "    return re.sub(r'(//[^\\\"\\'\\n]+)', '', query_string, re.MULTILINE).replace('\\n', '').strip()\n",
    "\n",
    "def execute_kql_query(query_string):\n",
    "    if not query_string or len(query_string.strip()) == 0:\n",
    "        print('No query supplied')\n",
    "        return None\n",
    "    src_query = clean_kql_query(query_string)\n",
    "    magic_string = f'results_frame << {src_query}'\n",
    "    magic_string = magic_string\n",
    "    ip = get_ipython()\n",
    "    ip.run_line_magic('kql', magic_string)\n",
    "    return results_frame"
   ]
  },
  {
   "cell_type": "code",
   "execution_count": null,
   "metadata": {},
   "outputs": [],
   "source": [
    "# Select a LA workspace id from some demo environments\n",
    "available_workspaces = {'ASIHuntOMSWorkspaceV4': '52b1ab41-869e-4138-9e40-2a4457f09bf0',\n",
    "                        'ASIHuntOMSWorkspaceV5': '4ca7b24a-6e8f-4540-a8ce-1a80c2948c37',\n",
    "                        'Contoso77':'802d39e1-9d70-404d-832c-2de5e2478eda', \n",
    "                        'MSTICLinux':'06dc719f-5dad-47e9-b5af-07d84a0bda4e',\n",
    "                        'Rome ILDC - Detection E2E Tests Stage': '3eb61071-5dcd-4db3-94fa-0091a69b7359' }\n",
    "\n",
    "alertId = ''\n",
    "def select_workspace(x=''):\n",
    "    global workspace_id\n",
    "    workspace_id = available_workspaces[x]\n",
    "     \n",
    "selected_workspace = widgets.Select(options=available_workspaces.keys(), \n",
    "                              description='Select workspace :',\n",
    "                              layout=Layout(width='50%', height='100px'),\n",
    "                              style = {'description_width': 'initial'})\n",
    "interactive(select_workspace, x=selected_workspace)"
   ]
  },
  {
   "cell_type": "code",
   "execution_count": null,
   "metadata": {
    "scrolled": true
   },
   "outputs": [],
   "source": [
    "# Kusto authentication\n",
    "#%kql kusto://code().cluster('Ascprodus').database('ProdAlerts')\n",
    "    \n",
    "# Log Analytics authentication\n",
    "%kql loganalytics://code().workspace(workspace_id)"
   ]
  },
  {
   "cell_type": "markdown",
   "metadata": {},
   "source": [
    "# Sample office hunting and investigation"
   ]
  },
  {
   "cell_type": "code",
   "execution_count": null,
   "metadata": {},
   "outputs": [],
   "source": [
    "# Look for unusual signins - eg associated with multiple IPs within short timeframe\n",
    "unusual_signin_query = \"\"\"\n",
    "let timeRange=ago(120d);\n",
    "let officeAuthentications = OfficeActivity\n",
    "| where TimeGenerated >= timeRange\n",
    "| where RecordType in (\"AzureActiveDirectoryAccountLogon\", \"AzureActiveDirectoryStsLogon\")\n",
    "| extend UserAgent = extractjson(\"$[0].Value\", ExtendedProperties, typeof(string))\n",
    "| where Operation == \"UserLoggedIn\";\n",
    "let lookupWindow = 1d;\n",
    "let lookupBin = lookupWindow / 2.0; \n",
    "officeAuthentications | project-rename Start=TimeGenerated\n",
    "| extend TimeKey = bin(Start, lookupBin)\n",
    "| join kind = inner (\n",
    "    officeAuthentications\n",
    "    | project-rename End=TimeGenerated\n",
    "    | extend TimeKey = range(bin(End - lookupWindow, lookupBin), bin(End, lookupBin), lookupBin)\n",
    "    | mvexpand TimeKey to typeof(datetime)\n",
    ") on UserAgent, TimeKey\n",
    "| project timeSpan = End - Start, UserId, ClientIP , UserAgent , Start, End\n",
    "| summarize dcount(ClientIP) by  UserAgent\n",
    "| where dcount_ClientIP > 1\n",
    "| join kind=inner (  \n",
    "officeAuthentications\n",
    "| summarize minTime=min(TimeGenerated), maxTime=max(TimeGenerated), dcount(ClientIP) by UserId, UserAgent\n",
    "| project UserId, dcount_ClientIP , timeSpan = maxTime-minTime, UserAgent\n",
    "| project UserId, distinctIPCount=dcount_ClientIP, timeSpan, UserAgent) on UserAgent\n",
    "| project UserAgent, UserId, distinctIPCount\n",
    "\"\"\"\n",
    "\n",
    "unusual_signing_results = execute_kql_query(unusual_signin_query)\n",
    "user_agents = unusual_signing_results.groupby('UserAgent')\n",
    "\n",
    "selected_user_agent = list(user_agents.groups.keys())[0]\n",
    "\n",
    "selected_user_id = user_agents.get_group(selected_user_agent).get('UserId').values[0]\n",
    "\n",
    "def select_user_id(user_id):    \n",
    "    global selected_user_id\n",
    "    selected_user_id = user_id\n",
    "\n",
    "def select_user_agent(user_agent):\n",
    "    global selected_user_agent\n",
    "    selected_user_agent = user_agent\n",
    "\n",
    "    user_id_dropdown.options = user_agents.get_group(user_agent).get('UserId').values\n",
    "    \n",
    "user_agent_dropdown = widgets.Dropdown(options=user_agents.groups.keys())\n",
    "init_user_agent_dropdown = user_agent_dropdown.value\n",
    "user_id_dropdown = widgets.Dropdown(options=user_agents.get_group(init_user_agent_dropdown).get('UserId').values)\n",
    "\n",
    "interactive_user_id = widgets.interactive(select_user_id, user_id=user_id_dropdown)\n",
    "interactive_user_agent = widgets.interactive(select_user_agent, user_agent=user_agent_dropdown)\n",
    "\n",
    "left_box = VBox([user_agent_dropdown])\n",
    "right_box = VBox([user_id_dropdown])\n",
    "HBox([left_box, right_box])"
   ]
  },
  {
   "cell_type": "code",
   "execution_count": null,
   "metadata": {},
   "outputs": [],
   "source": [
    "# the query above returns counts for UA/UserId combinations\n",
    "# So from there it would be good to pick one of the user agents and list all the signins for that UserID/UA\n",
    "user_agent_signin_query = \"\"\"\n",
    "let timeRange=ago(120d);\n",
    "let officeAuthentications =\n",
    "OfficeActivity\n",
    "| where TimeGenerated >= timeRange\n",
    "| where RecordType in (\"AzureActiveDirectoryAccountLogon\", \"AzureActiveDirectoryStsLogon\")\n",
    "| extend UserAgent = extractjson(\"$[0].Value\", ExtendedProperties, typeof(string))\n",
    "| where Operation == \"UserLoggedIn\";\n",
    "officeAuthentications\n",
    "| where UserId == \"{user_id}\" \n",
    "| where UserAgent == \"{user_agent}\"\n",
    "| project TimeGenerated , UserId, Operation , ClientIP , UserAgent \n",
    "\"\"\".format(user_id=selected_user_id, user_agent=selected_user_agent)\n",
    "\n",
    "user_agent_signin_results = execute_kql_query(user_agent_signin_query)\n",
    "display(user_agent_signin_results)"
   ]
  },
  {
   "cell_type": "code",
   "execution_count": null,
   "metadata": {
    "scrolled": true
   },
   "outputs": [],
   "source": [
    "def get_geo(ip_array):\n",
    "    geo_list = []\n",
    "    for ip in ip_array:\n",
    "        geo_match = geo.get(ip)\n",
    "        geo_result = {\n",
    "            'City': geo_match.get('city', {}).get('names', {}).get('en', 'Unknown'), \n",
    "            'Country': geo_match.get('country', {}).get('names', {}).get('en', 'Unknown'),\n",
    "            'Country Code': geo_match.get('country', {}).get('iso_code', 'Unknown'),\n",
    "            'Latitude': geo_match.get('location', {}).get('latitude', 'Unknown'),\n",
    "            'Longitude': geo_match.get('location', {}).get('longitude', 'Unknown'),\n",
    "            'IP': ip\n",
    "        }\n",
    "        geo_list.append(geo_result)\n",
    "    return pd.DataFrame(data=geo_list)\n",
    "\n",
    "geo = geolite2.reader()\n",
    "\n",
    "user_agent_signin_results_geo = user_agent_signin_results.merge(get_geo(user_agent_signin_results['ClientIP'].unique()), left_on='ClientIP', right_on='IP')\n",
    "\n",
    "display(user_agent_signin_results_geo.groupby(['Country', 'ClientIP'])['ClientIP'].agg(['count']))\n",
    "display(user_agent_signin_results_geo.groupby(['Country'])['ClientIP'].count().plot.bar())"
   ]
  },
  {
   "cell_type": "code",
   "execution_count": null,
   "metadata": {},
   "outputs": [],
   "source": [
    "map = folium.Map(zoom_start=7,tiles=None)\n",
    "map.add_tile_layer()\n",
    "\n",
    "marker_cluster = MarkerCluster()\n",
    "\n",
    "for index, row in user_agent_signin_results_geo.iterrows():\n",
    "    marker = folium.Marker(\n",
    "        location = [row['Latitude'], row['Longitude']],\n",
    "        popup=\"{City}, {Country}<br>{IP}<br>{UserId}<br>{UserAgent}\".format(**user_agent_signin_results_geo.loc[index]),\n",
    "        tooltip=\"{City}, {Country}\".format(**user_agent_signin_results_geo.loc[index])\n",
    "    )\n",
    "    marker_cluster.add_child(marker)\n",
    "    \n",
    "map.add_child(marker_cluster)\n",
    "\n",
    "display(map)"
   ]
  }
 ],
 "metadata": {
  "hide_input": false,
  "kernelspec": {
   "display_name": "Python 3",
   "language": "python",
   "name": "python3"
  },
  "language_info": {
   "codemirror_mode": {
    "name": "ipython",
    "version": 3
   },
   "file_extension": ".py",
   "mimetype": "text/x-python",
   "name": "python",
   "nbconvert_exporter": "python",
   "pygments_lexer": "ipython3",
   "version": "3.7.0"
  },
  "toc": {
   "base_numbering": 1,
   "nav_menu": {},
   "number_sections": false,
   "sideBar": true,
   "skip_h1_title": false,
   "title_cell": "Table of Contents",
   "title_sidebar": "Contents",
   "toc_cell": false,
   "toc_position": {},
   "toc_section_display": true,
   "toc_window_display": false
  },
  "varInspector": {
   "cols": {
    "lenName": 16,
    "lenType": 16,
    "lenVar": 40
   },
   "kernels_config": {
    "python": {
     "delete_cmd_postfix": "",
     "delete_cmd_prefix": "del ",
     "library": "var_list.py",
     "varRefreshCmd": "print(var_dic_list())"
    },
    "r": {
     "delete_cmd_postfix": ") ",
     "delete_cmd_prefix": "rm(",
     "library": "var_list.r",
     "varRefreshCmd": "cat(var_dic_list()) "
    }
   },
   "types_to_exclude": [
    "module",
    "function",
    "builtin_function_or_method",
    "instance",
    "_Feature"
   ],
   "window_display": false
  }
 },
 "nbformat": 4,
 "nbformat_minor": 2
}
