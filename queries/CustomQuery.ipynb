{
  "cells": [
    {
      "metadata": {
        "collapsed": true,
        "trusted": false
      },
      "cell_type": "markdown",
      "source": "# ASI Hunting - SecurityEvent Template"
    },
    {
      "metadata": {},
      "cell_type": "markdown",
      "source": "We would like to guide you though your threat hunting efforts:\n    1. Prepare the shell;\n    2. Enter values;\n    3. Execute queries;\n    4. Analyze data.\n"
    },
    {
      "metadata": {},
      "cell_type": "markdown",
      "source": "## 0. Retrieve Log Analytics Information"
    },
    {
      "metadata": {
        "trusted": true
      },
      "cell_type": "code",
      "source": "import ipywidgets as widgets\nfrom IPython.display import display\nfrom IPython.display import HTML\n\nfrom utils import config_reader as mod\nworkspaceId = mod.config_reader.read_config_values(\"../config.json\")[3]\n\n######################################################################\nyour_workspace_Name = mod.config_reader.read_config_values(\"../config.json\")[4]\nprint(\"Your Log Analytic Workspace: \" + your_workspace_Name)\n######################################################################",
      "execution_count": null,
      "outputs": []
    },
    {
      "metadata": {},
      "cell_type": "markdown",
      "source": "## 1. Install KQL Magic for Log Analytics"
    },
    {
      "metadata": {
        "trusted": true,
        "scrolled": true
      },
      "cell_type": "code",
      "source": "# run once unless upgrade\n!pip install Kqlmagic --no-cache-dir --upgrade",
      "execution_count": null,
      "outputs": []
    },
    {
      "metadata": {
        "trusted": true,
        "scrolled": true
      },
      "cell_type": "code",
      "source": "%reload_ext Kqlmagic",
      "execution_count": null,
      "outputs": []
    },
    {
      "metadata": {},
      "cell_type": "markdown",
      "source": "If you need any help for kql magic     --> %kql --help \"help\" -popup_window\nIf you need any help for Log Analytics --> %kql --help \"LogAnalytics\""
    },
    {
      "metadata": {},
      "cell_type": "markdown",
      "source": "## 2. Log into Log Analytics"
    },
    {
      "metadata": {
        "trusted": true
      },
      "cell_type": "code",
      "source": "%kql loganalytics://code;workspace=workspaceId;alias=\"asidb\"",
      "execution_count": null,
      "outputs": []
    },
    {
      "metadata": {},
      "cell_type": "markdown",
      "source": "## 3. Filter Data"
    },
    {
      "metadata": {},
      "cell_type": "markdown",
      "source": "1. Enter How many days looking back"
    },
    {
      "metadata": {
        "trusted": true
      },
      "cell_type": "code",
      "source": "enteredDaysBack = input()",
      "execution_count": null,
      "outputs": []
    },
    {
      "metadata": {},
      "cell_type": "markdown",
      "source": "2. Select one data source that you want to work on"
    },
    {
      "metadata": {
        "trusted": true,
        "scrolled": true
      },
      "cell_type": "code",
      "source": "dbSchema = %kql --schema \"asidb@loganalytics\"\ntables = list(dbSchema.keys())\nselectedTable = widgets.Dropdown(options=tables, value=tables[24],description='Data Table:')\ndisplay(selectedTable)",
      "execution_count": null,
      "outputs": []
    },
    {
      "metadata": {},
      "cell_type": "markdown",
      "source": "3. Select features"
    },
    {
      "metadata": {
        "trusted": true
      },
      "cell_type": "code",
      "source": "columns = list(dbSchema[selectedTable.value])\ncolumns.sort()\nselectedFeatures = widgets.SelectMultiple(options=columns, value=[],description='Data Columns:')\ndisplay(selectedFeatures)",
      "execution_count": null,
      "outputs": []
    },
    {
      "metadata": {
        "trusted": true
      },
      "cell_type": "code",
      "source": "print(selectedFeatures.value)",
      "execution_count": null,
      "outputs": []
    },
    {
      "metadata": {},
      "cell_type": "markdown",
      "source": "4. Pick values for selected features"
    },
    {
      "metadata": {
        "trusted": true
      },
      "cell_type": "code",
      "source": "%kql {selectedTable.value} | where TimeGenerated >= ago({enteredDaysBack}d) | take 100\nif len(_kql_raw_result_) > 0:\n    df = _kql_raw_result_.to_dataframe()\nelse:\n    df = None\n    print('no data')",
      "execution_count": null,
      "outputs": []
    },
    {
      "metadata": {
        "trusted": true
      },
      "cell_type": "code",
      "source": "def select_filter_value(df, column):\n    df.columns = df.columns.str.strip()\n    columnData = df[column].drop_duplicates().sort_values()\n    selectedType = widgets.Dropdown(options=columnData, description=column)\n    display(selectedType)\n    return selectedType.value",
      "execution_count": null,
      "outputs": []
    },
    {
      "metadata": {
        "trusted": true
      },
      "cell_type": "code",
      "source": "selectedPairs = {}\nfor index, column in enumerate(selectedFeatures.value):\n    #print(df[column].drop_duplicates().sort_values())\n    print(selectedFeatures.value[index] + \": \")\n    selectedPairs[selectedFeatures.value[index]] = input()\n    \nwhereClause = \"\"\nfor index, column in enumerate(selectedFeatures.value):\n    whereClause += \" | where \" + selectedFeatures.value[index] + \" contains '\" + selectedPairs[selectedFeatures.value[index]].strip() + \"'\"\n\nprint(whereClause)",
      "execution_count": null,
      "outputs": []
    },
    {
      "metadata": {},
      "cell_type": "markdown",
      "source": "## 4. KQL operations, results are returned in Pandas DataFrame"
    },
    {
      "metadata": {
        "trusted": true
      },
      "cell_type": "code",
      "source": "%kql {selectedTable.value} | where TimeGenerated >= ago({enteredDaysBack}d) {whereClause} | take 100\nif len(_kql_raw_result_) > 0:\n    df = _kql_raw_result_.to_dataframe()\nelse:\n    df = None\n    print('no data')",
      "execution_count": null,
      "outputs": []
    },
    {
      "metadata": {},
      "cell_type": "markdown",
      "source": "## 5. Data Analysis"
    },
    {
      "metadata": {
        "trusted": true
      },
      "cell_type": "code",
      "source": "if df is not None:\n    dfMachine = df.groupby(['AccountType', 'Computer'])['AccountType'].count()\n    dfMachine.plot(kind='bar',x='AccountType')",
      "execution_count": null,
      "outputs": []
    },
    {
      "metadata": {
        "trusted": true
      },
      "cell_type": "code",
      "source": "df",
      "execution_count": null,
      "outputs": []
    },
    {
      "metadata": {
        "trusted": true,
        "scrolled": true
      },
      "cell_type": "code",
      "source": "# Load queries from GitHub\nimport requests\nimport json\n#url = \"https://raw.githubusercontent.com/ASIJupyter/ASINotebooks/master/queries/Anomalous%20Azure%20AD%20apps%20based%20on%20authentication%20location.json\"\nurl = \"https://raw.githubusercontent.com/ASIJupyter/ASINotebooks/master/queries/Uncommon%20processes.json\"\n#url = \"https://raw.githubusercontent.com/ASIJupyter/ASINotebooks/master/queries/Script%20usage%20summary.json\";\nresponse = requests.get(url)\nresJson = json.loads(response.text)\nif response != None:\n    try:\n        print(resJson[\"query\"])\n    except:\n        print(type(\"type: \" + response.text))",
      "execution_count": null,
      "outputs": []
    },
    {
      "metadata": {
        "trusted": true
      },
      "cell_type": "code",
      "source": "#%kql {resJson[\"query\"]}\n\n%kql -query=resJson[\"query\"]",
      "execution_count": null,
      "outputs": []
    },
    {
      "metadata": {
        "trusted": true
      },
      "cell_type": "code",
      "source": "_",
      "execution_count": null,
      "outputs": []
    },
    {
      "metadata": {
        "trusted": true
      },
      "cell_type": "code",
      "source": "print(_kql_raw_result_.parametrized_query)",
      "execution_count": null,
      "outputs": []
    },
    {
      "metadata": {
        "trusted": true
      },
      "cell_type": "code",
      "source": "def constructLAUrl():\n    urlTemplate = \"https://ms.portal.azure.com/?feature.showassettypes=Microsoft_Azure_Security_Insights_SecurityInsightsDashboard#blade/Microsoft_Azure_Security_Insights/MainMenuBlade/8/subscriptionId/{0}/resourceGroup/{1}/workspaceName/{2}\"\n    url = urlTemplate.format(mod.config_reader.read_config_values(\"../config.json\")[1], mod.config_reader.read_config_values(\"../config.json\")[2], mod.config_reader.read_config_values(\"../config.json\")[4])\n\n    s  = '<html><body> '\n    s += '<a href=\"' + url + '\" target=\"_blank\">Back to LA</a>'\n    s += '</body></html>'\n    return s",
      "execution_count": null,
      "outputs": []
    },
    {
      "metadata": {
        "trusted": true
      },
      "cell_type": "code",
      "source": "# Open  browser to LA\nHTML(constructLAUrl())",
      "execution_count": null,
      "outputs": []
    },
    {
      "metadata": {
        "trusted": true
      },
      "cell_type": "code",
      "source": "# output data to csv\ndf.to_csv('mydata.csv')",
      "execution_count": null,
      "outputs": []
    },
    {
      "metadata": {
        "trusted": true
      },
      "cell_type": "code",
      "source": "# call bookmark API to put\nbookmark_id = \"E19A22A1-78FF-473C-89B1-6C2DA3235DA3\"\nimport requests\nimport json\nurl = \"https://resourceprovider.westus2.cloudapp.azure.com/subscriptions/9428a5ff-0f33-4c1d-b811-ed0e96c14d4a/resourceGroups/ian/providers/Microsoft.OperationalInsights/workspaces/test/providers/Microsoft.SecurityInsights/HuntingBookmarks/\" + bookmark_id + \"?api-version=1.0\"\n\nbm = '{\"BookmarkId\": \"' + bookmark_id + '\",\"BookmarkName\": \"bookmark1\",\"Notes\": \"somethig here\",\"Query\": \"SecurityEvent \",\"QueryResult\": \"a record\"}'\nbmJson = json.loads(bm)\n\nprint(bm)\nprint(url)\n#print(type(bmJson))\nresponse = requests.put(url, bmJson)\nprint(response.text)",
      "execution_count": null,
      "outputs": []
    },
    {
      "metadata": {
        "trusted": true
      },
      "cell_type": "code",
      "source": "",
      "execution_count": null,
      "outputs": []
    }
  ],
  "metadata": {
    "kernelspec": {
      "name": "python36",
      "display_name": "Python 3.6",
      "language": "python"
    },
    "language_info": {
      "mimetype": "text/x-python",
      "nbconvert_exporter": "python",
      "name": "python",
      "pygments_lexer": "ipython3",
      "version": "3.6.6",
      "file_extension": ".py",
      "codemirror_mode": {
        "version": 3,
        "name": "ipython"
      }
    }
  },
  "nbformat": 4,
  "nbformat_minor": 2
}