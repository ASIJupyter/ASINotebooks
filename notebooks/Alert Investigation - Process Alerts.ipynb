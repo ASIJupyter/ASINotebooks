{
 "cells": [
  {
   "cell_type": "markdown",
   "metadata": {},
   "source": [
    "# Title: Alert Investigation (Process Alerts)\n",
    "LogAnalytics\n",
    "Version 0.3\n",
    "## Description:\n",
    "Series of modules designed to help get a better understanding of the contents of a process-based alert.\n"
   ]
  },
  {
   "cell_type": "markdown",
   "metadata": {},
   "source": [
    "<a id='toc'></a>\n",
    "## Table of Contents\n",
    "- [Setup and Authenticate](#setup)\n",
    "\n",
    "- [Get Alerts List](#getalertslist)\n",
    "- [Choose an Alert to investigate](#enteralertid)\n",
    "  - [Extract Properties and entities from alert](#extractalertproperties)\n",
    "  - [Entity Graph](#entitygraph)\n",
    "- [Related Alerts](#related_alerts)\n",
    "- [Session Process Tree](#processtree)\n",
    "  - [Process Timeline](#processtimeline)\n",
    "- [Other Process on Host](#process_clustering)\n",
    "- [Check for IOCs in Commandline](#cmdlineiocs)\n",
    "  - [VirusTotal lookup](#virustotallookup)\n",
    "- [Alert command line - Occurrence on other hosts in subscription](#cmdlineonotherhosts)\n",
    "- [Host Logons](#host_logons)\n",
    "  - [Alert Account](#logonaccount)\n",
    "  - [Failed Logons](#failed_logons)\n",
    "- [Appendices](#appendices)\n",
    "  - [Saving data to Excel](#appendices)\n"
   ]
  },
  {
   "cell_type": "markdown",
   "metadata": {},
   "source": [
    "<a id='setup'></a>[Contents](#toc)\n",
    "# Setup\n",
    "\n",
    "1. Make sure that you have installed packages specified in the setup (uncomment the lines to execute)\n",
    "2. There are some manual steps up to selecting the alert ID. After this most of the notebook can be executed sequentially\n",
    "3. Major sections should be executable independently (e.g. Alert Command line and Host Logons can be run skipping Session Process Tree)\n",
    "\n",
    "## Install Packages"
   ]
  },
  {
   "cell_type": "code",
   "execution_count": null,
   "metadata": {},
   "outputs": [],
   "source": [
    "# You may needs these - should only need to uncomment and run once\n",
    "# !pip install msgpack\n",
    "# !pip install Kqlmagic --no-cache-dir  --upgrade\n",
    "\n",
    "# !pip install PyHamcrest\n",
    "# !conda install -c conda-forge python-levenshtein -y\n",
    "# !conda install requests\n",
    "# !conda install attrs\n",
    "# !conda install seaborn\n",
    "# !conda install bokeh\n",
    "# !conda install holoviews\n",
    "\n",
    "# our package\n",
    "#!pip install ../python --upgrade\n"
   ]
  },
  {
   "cell_type": "markdown",
   "metadata": {},
   "source": [
    "### Imports and Magic"
   ]
  },
  {
   "cell_type": "code",
   "execution_count": null,
   "metadata": {
    "scrolled": true
   },
   "outputs": [],
   "source": [
    "# Imports\n",
    "import sys\n",
    "MIN_REQ_PYTHON = (3,6)\n",
    "if sys.version_info < MIN_REQ_PYTHON:\n",
    "    print('Check the Kernel->Change Kernel menu and ensure that Python 3.6')\n",
    "    print('or later is selected as the active kernel.')\n",
    "    sys.exit(\"Python %s.%s or later is required.\\n\" % MIN_REQ_PYTHON)\n",
    "\n",
    "import numpy as np\n",
    "from IPython import get_ipython\n",
    "from IPython.display import display, HTML\n",
    "import ipywidgets as widgets\n",
    "\n",
    "import matplotlib.pyplot as plt\n",
    "import seaborn as sns\n",
    "import networkx as nx\n",
    "\n",
    "import pandas as pd\n",
    "pd.set_option('display.max_rows', 500)\n",
    "pd.set_option('display.max_columns', 50)\n",
    "pd.set_option('display.max_colwidth', 100)\n",
    "\n",
    "import os\n",
    "import sys\n",
    "module_path = os.path.abspath(os.path.join('..'))\n",
    "if module_path not in sys.path:\n",
    "    sys.path.append(module_path)\n",
    "    \n",
    "import msticpy.sectools as sectools\n",
    "import msticpy.asitools as asi\n",
    "import msticpy.asitools.kql as qry\n",
    "import msticpy.asitools.nbdisplay as asidisp\n",
    "\n"
   ]
  },
  {
   "cell_type": "markdown",
   "metadata": {
    "tags": [
     "remove"
    ]
   },
   "source": [
    "### Select a Workspace"
   ]
  },
  {
   "cell_type": "code",
   "execution_count": null,
   "metadata": {
    "scrolled": false,
    "tags": [
     "remove",
     "internal"
    ]
   },
   "outputs": [],
   "source": [
    "available_workspaces = {'Contoso77':'802d39e1-9d70-404d-832c-2de5e2478eda', \n",
    "                        'MSTICLinux':'06dc719f-5dad-47e9-b5af-07d84a0bda4e',\n",
    "                        'ASIHuntOMSWorkspaceV4': '52b1ab41-869e-4138-9e40-2a4457f09bf0',\n",
    "                        'ASIHuntOMSWorkspaceV5': '4ca7b24a-6e8f-4540-a8ce-1a80c2948c37',\n",
    "                        'Rome ILDC - Detection E2E Tests Stage': '3eb61071-5dcd-4db3-94fa-0091a69b7359'}\n",
    "select_ws = asi.SelectString(description='Select workspace :',\n",
    "                             item_dict=available_workspaces)\n",
    "\n",
    "select_ws.display()"
   ]
  },
  {
   "cell_type": "code",
   "execution_count": null,
   "metadata": {
    "tags": [
     "todo"
    ]
   },
   "outputs": [],
   "source": [
    "LA_URL = 'https://ms.portal.azure.com/#blade/HubsExtension/Resources/resourceType/Microsoft.OperationalInsights%2Fworkspaces'\n",
    "help_str=f'To find your workspace Id go to <a href={LA_URL}>Log Analytics</a> and look at the workspace properties.'\n",
    "display(HTML(help_str))\n",
    "\n",
    "ws_id = asi.GetEnvironmentKey(env_var='WORKSPACE_ID',\n",
    "                              prompt='Log Analytics Workspace Id:')\n",
    "ws_id.display()"
   ]
  },
  {
   "cell_type": "markdown",
   "metadata": {},
   "source": [
    "### Authenticate to Log Analytics"
   ]
  },
  {
   "cell_type": "code",
   "execution_count": null,
   "metadata": {
    "tags": [
     "todo"
    ]
   },
   "outputs": [],
   "source": [
    "# TODO - set WS ID from dialog\n",
    "if not select_ws.value and not ws_id.value:\n",
    "    raise ValueError('No workspace selected.')\n",
    "WORKSPACE_ID = select_ws.value\n",
    "\n",
    "asi.kql.load_kql_magic()\n",
    "# Use the following syntax if you are authenticating using an Azure Active Directory\n",
    "# AppId and Secret\n",
    "# %kql loganalytics://tenant(aad_tenant).workspace(WORKSPACE_ID).clientid(reader_client_id).clientsecret(reader_client_secret)\n",
    "\n",
    "%kql loganalytics://code().workspace(WORKSPACE_ID)\n"
   ]
  },
  {
   "cell_type": "markdown",
   "metadata": {
    "tags": [
     "todo"
    ]
   },
   "source": [
    "<a id='getalertslist'></a>[Contents](#toc)\n",
    "# Get Alerts List\n",
    "\n",
    "**Note**: this is a placeholder section. We need something a bit more intelligent and flexible but that possibly belongs in another notebook. The purpose here is simply to get a list of subscriptions and alerts to test out the rest of the notebook."
   ]
  },
  {
   "cell_type": "code",
   "execution_count": null,
   "metadata": {},
   "outputs": [],
   "source": [
    "alert_q_times = asi.QueryTime(units='day', max_before=20, before=5, max_after=1)\n",
    "alert_q_times.display()"
   ]
  },
  {
   "cell_type": "code",
   "execution_count": null,
   "metadata": {
    "scrolled": false
   },
   "outputs": [],
   "source": [
    "alert_counts = qry.list_alerts_counts(provs=[alert_q_times])\n",
    "alert_list = qry.list_alerts(provs=[alert_q_times])\n",
    "print(len(alert_counts), ' distinct alert types')\n",
    "print(len(alert_list), ' distinct alerts')\n",
    "display(HTML('<h2>Top alerts</h2>'))\n",
    "alert_counts.head(20)"
   ]
  },
  {
   "cell_type": "markdown",
   "metadata": {},
   "source": [
    "<a id='enteralertid'></a>[Contents](#toc)\n",
    "# Choose Alert to Investigate\n",
    "(copy ProviderAlertId from list above (or somewhere else) and paste into text box)"
   ]
  },
  {
   "cell_type": "markdown",
   "metadata": {},
   "source": [
    "### Select alert from list"
   ]
  },
  {
   "cell_type": "code",
   "execution_count": null,
   "metadata": {
    "scrolled": true
   },
   "outputs": [],
   "source": [
    "alert_select = asi.AlertSelector(alerts=alert_list, action=asidisp.display_alert)\n",
    "alert_select.display()"
   ]
  },
  {
   "cell_type": "markdown",
   "metadata": {},
   "source": [
    "### Or paste in an alert ID and fetch it\n",
    "**Skip this if you selected from the above list**"
   ]
  },
  {
   "cell_type": "code",
   "execution_count": null,
   "metadata": {
    "scrolled": false
   },
   "outputs": [],
   "source": [
    "# Allow alert to be selected\n",
    "# Allow subscription to be selected\n",
    "get_alert = asi.GetSingleAlert(action=asidisp.display_alert)\n",
    "get_alert.display()"
   ]
  },
  {
   "cell_type": "markdown",
   "metadata": {},
   "source": [
    "<a id='extractalertproperties'></a>[Contents](#toc)\n",
    "## Extract properties and entities from Alert"
   ]
  },
  {
   "cell_type": "code",
   "execution_count": null,
   "metadata": {
    "scrolled": false
   },
   "outputs": [],
   "source": [
    "# Extract entities and properties into a SecurityAlert class\n",
    "if alert_select.selected_alert is None:\n",
    "    sys.exit(\"Please select an alert before executing remaining cells.\")\n",
    "\n",
    "security_alert = asi.SecurityAlert(alert_select.selected_alert)\n",
    "asi.disp.display_alert(security_alert, show_entities=True)"
   ]
  },
  {
   "cell_type": "markdown",
   "metadata": {},
   "source": [
    "<a id='entitygraph'></a>[Contents](#toc)\n",
    "## Entity Graph"
   ]
  },
  {
   "cell_type": "markdown",
   "metadata": {},
   "source": [
    "### Plot using Networkx/Matplotlib"
   ]
  },
  {
   "cell_type": "code",
   "execution_count": null,
   "metadata": {
    "scrolled": false
   },
   "outputs": [],
   "source": [
    "# Draw the graph using Networkx/Matplotlib\n",
    "%matplotlib notebook\n",
    "alertentity_graph = asi.create_alert_graph(security_alert)\n",
    "asidisp.draw_alert_entity_graph(alertentity_graph)"
   ]
  },
  {
   "cell_type": "code",
   "execution_count": null,
   "metadata": {
    "tags": [
     "future"
    ]
   },
   "outputs": [],
   "source": [
    "# from pyvis.network import Network\n",
    "# import math\n",
    "# # import networkx as nx\n",
    "# # G = Network()\n",
    "# # G.from_nx(alertentity_graph)\n",
    "# import holoviews as hv\n",
    "# hv.extension('bokeh')\n",
    "# %opts Graph [width=900 height=900]\n",
    "\n",
    "# %opts Graph [color_index='circle']\n",
    "# %opts Graph (node_size=20 edge_line_width=1)\n",
    "# %opts Graph [tools=['wheel_zoom', 'hover']]\n",
    "# padding = dict(x=(-1.2, 1.2), y=(-1.2, 1.2))\n",
    "\n",
    "# n_nodes = len(alertentity_graph.nodes)\n",
    "# k = 1 / (math.sqrt(n_nodes))\n",
    "\n",
    "# # hv_graph = hv.Graph.from_networkx(nx_graph, nx.layout.spring_layout, k=k).redim.range(**padding)\n",
    "# hv_graph = hv.Graph.from_networkx(alertentity_graph, nx.layout.spring_layout, k=k).redim.range(**padding)\n",
    "# labels = hv.Labels(\n",
    "#         {('x', 'y'): hv_graph.nodes.array([0, 1]), 'text': hv_graph.nodes.data['name']}, ## 'label' can be an array: has to be correct size!\n",
    "#         ['x', 'y'], \n",
    "#         'text').options(fontsize=8, cmap='viridis', yoffset=0.05)\n",
    "# hv_graph*labels"
   ]
  },
  {
   "cell_type": "markdown",
   "metadata": {
    "tags": [
     "todo"
    ]
   },
   "source": [
    "<a id='related_alerts'></a>[Contents](#toc)\n",
    "# Related Alerts\n",
    "### For entities in the investigated alert"
   ]
  },
  {
   "cell_type": "code",
   "execution_count": null,
   "metadata": {},
   "outputs": [],
   "source": [
    "# set the origin time to the time of our alert\n",
    "query_times = asi.QueryTime(units='day', origin_time=security_alert.TimeGenerated, \n",
    "                            max_before=28, max_after=1, before=5)\n",
    "query_times.display()"
   ]
  },
  {
   "cell_type": "code",
   "execution_count": null,
   "metadata": {
    "scrolled": false
   },
   "outputs": [],
   "source": [
    "related_alerts = qry.list_related_alerts(provs=[query_times, security_alert])\n",
    "\n",
    "host_alert_items = related_alerts\\\n",
    "    .query('host_match == @True')[['AlertType', 'StartTimeUtc']]\\\n",
    "    .groupby('AlertType').StartTimeUtc.agg('count').to_dict()\n",
    "acct_alert_items = related_alerts\\\n",
    "    .query('acct_match == @True')[['AlertType', 'StartTimeUtc']]\\\n",
    "    .groupby('AlertType').StartTimeUtc.agg('count').to_dict()\n",
    "proc_alert_items = related_alerts\\\n",
    "    .query('proc_match == @True')[['AlertType', 'StartTimeUtc']]\\\n",
    "    .groupby('AlertType').StartTimeUtc.agg('count').to_dict()\n",
    "\n",
    "def print_related_alerts(alertDict, entityType, entityName):\n",
    "    if len(alertDict) > 0:\n",
    "        print('Found {} different alert types related to this {} (\\'{}\\')'.format(len(alertDict), entityType, entityName))\n",
    "        for (k,v) in alertDict.items():\n",
    "            print('    {}, Count of alerts: {}'.format(k, v))\n",
    "    else:\n",
    "        print('No alerts for {} entity \\'{}\\''.format(entityType, entityName))\n",
    "        \n",
    "print_related_alerts(host_alert_items, 'host', security_alert.hostname)\n",
    "print_related_alerts(acct_alert_items, 'account', \n",
    "                     security_alert.primary_account.qualified_name if security_alert.primary_account\n",
    "                     else None)\n",
    "print_related_alerts(proc_alert_items, 'process', \n",
    "                     security_alert.primary_process.ProcessFilePath if security_alert.primary_process\n",
    "                     else None)"
   ]
  },
  {
   "cell_type": "code",
   "execution_count": null,
   "metadata": {
    "scrolled": false
   },
   "outputs": [],
   "source": [
    "# Draw a graph of this (add to entity graph)\n",
    "%matplotlib notebook\n",
    "%matplotlib notebook\n",
    "\n",
    "print('This can be unreadable with a lot of alerts. Use the matplotlib interactive zoom')\n",
    "print('Control to zoom in to part of the graph')\n",
    "rel_alert_graph = asi.add_related_alerts(related_alerts=related_alerts,\n",
    "                                         alertgraph=alertentity_graph)\n",
    "asidisp.draw_alert_entity_graph(rel_alert_graph)"
   ]
  },
  {
   "cell_type": "markdown",
   "metadata": {},
   "source": [
    "### Browse List of Related Alerts\n",
    "Select an Alert to view details"
   ]
  },
  {
   "cell_type": "code",
   "execution_count": null,
   "metadata": {
    "scrolled": true
   },
   "outputs": [],
   "source": [
    "related_alerts['CompromisedEntity'] = related_alerts['Computer']\n",
    "\n",
    "def disp_full_alert(alert):\n",
    "    global related_alert\n",
    "    related_alert = asi.SecurityAlert(alert)\n",
    "    asidisp.display_alert(related_alert, show_entities=True)\n",
    "\n",
    "print('Selected alert is available as \\'related_alert\\' variable.')\n",
    "rel_alert_select = asi.AlertSelector(alerts=related_alerts, action=disp_full_alert)\n",
    "rel_alert_select.display()\n"
   ]
  },
  {
   "cell_type": "markdown",
   "metadata": {},
   "source": [
    "<a id='processtree'></a>[Contents](#toc)\n",
    "# Get Process Tree"
   ]
  },
  {
   "cell_type": "markdown",
   "metadata": {},
   "source": [
    "## Set time boundaries for query"
   ]
  },
  {
   "cell_type": "code",
   "execution_count": null,
   "metadata": {
    "scrolled": true
   },
   "outputs": [],
   "source": [
    "# set the origin time to the time of our alert\n",
    "query_times = asi.QueryTime(units='minute', origin_time=security_alert.origin_time)\n",
    "query_times.display()"
   ]
  },
  {
   "cell_type": "markdown",
   "metadata": {},
   "source": [
    "**!!! Note - potentially long running query**"
   ]
  },
  {
   "cell_type": "code",
   "execution_count": null,
   "metadata": {
    "scrolled": true
   },
   "outputs": [],
   "source": [
    "if security_alert.primary_process and security_alert.primary_process.ProcessId:\n",
    "    process_tree = qry.get_process_tree(provs=[query_times, security_alert])\n",
    "\n",
    "    # Print out the text view of the process tree\n",
    "    asidisp.display_process_tree(process_tree)\n",
    "else:\n",
    "    print('This alert has no process entity. See later in the notebook to retrieve all processes')\n"
   ]
  },
  {
   "cell_type": "markdown",
   "metadata": {},
   "source": [
    "<a id='processtimeline'></a>[Contents](#toc)\n",
    "## Process TimeLine"
   ]
  },
  {
   "cell_type": "code",
   "execution_count": null,
   "metadata": {
    "scrolled": true
   },
   "outputs": [],
   "source": [
    "# Show timeline of events\n",
    "asidisp.display_timeline(data=process_tree, alert=security_alert, title='Alert Process Session')"
   ]
  },
  {
   "cell_type": "markdown",
   "metadata": {},
   "source": [
    "<a id='process_clustering'></a>[Contents](#toc)\n",
    "# Other Processes on Host - Clustering\n",
    "This section retrieves all processes on the host within the time bounds\n",
    "set earlier.\n",
    "We then process the output to extract a few features that model strings\n",
    "(such as commandline) into numerics scores based on delimiter patters.\n",
    "Finally we run a clustering algorithm on the process list that groups\n",
    "similar (noisy) processes together and leaves unique process patterns\n",
    "as single-member clusters."
   ]
  },
  {
   "cell_type": "code",
   "execution_count": null,
   "metadata": {
    "scrolled": true
   },
   "outputs": [],
   "source": [
    "from msticpy.sectools.eventcluster import dbcluster_events, add_process_features\n",
    "\n",
    "processes_on_host = qry.list_processes(provs=[query_times, security_alert])\n",
    "feature_procs = add_process_features(input_frame=processes_on_host,\n",
    "                                     path_separator=security_alert.path_separator)\n",
    "\n",
    "\n",
    "# you might need to play around with the max_cluster_distance parameter.\n",
    "# decreasing this gives more clusters.\n",
    "(clus_events, _, _) = dbcluster_events(data=feature_procs,\n",
    "                                       cluster_columns=['commandlineTokensFull', \n",
    "                                                        'pathScore', \n",
    "                                                        'isSystemSession'],\n",
    "                                                         max_cluster_distance=0.0001)\n",
    "print('Number of input events:', len(feature_procs))\n",
    "print('Number of clustered events:', len(clus_events))\n",
    "clus_events.sort_values('TimeGenerated')"
   ]
  },
  {
   "cell_type": "code",
   "execution_count": null,
   "metadata": {},
   "outputs": [],
   "source": [
    "# Show timeline of events - all events\n",
    "asidisp.display_timeline(data=processes_on_host, alert=security_alert, title='All Host Processes')"
   ]
  },
  {
   "cell_type": "code",
   "execution_count": null,
   "metadata": {},
   "outputs": [],
   "source": [
    "# Show timeline of events - clustered events\n",
    "asidisp.display_timeline(data=clus_events, alert=security_alert, title='Distinct Host Processes')"
   ]
  },
  {
   "cell_type": "markdown",
   "metadata": {},
   "source": [
    "<a id='cmdlineiocs'></a>[Contents](#toc)\n",
    "# Check for IOCs in Commandline"
   ]
  },
  {
   "cell_type": "code",
   "execution_count": null,
   "metadata": {},
   "outputs": [],
   "source": [
    "process = security_alert.primary_process\n",
    "ioc_extractor = sectools.IoCExtract()\n",
    "\n",
    "if process:\n",
    "    # if nothing is decoded this just returns the input string unchanged\n",
    "    base64_dec_str, _ = sectools.b64.unpack_items(input_string=process[\"CommandLine\"])\n",
    "    if base64_dec_str and '<decoded' in base64_dec_str:\n",
    "        print('Base64 encoded items found.')\n",
    "        print(base64_dec_str)\n",
    "        \n",
    "    # any IoCs in the string?\n",
    "    iocs_found = ioc_extractor.extract(base64_dec_str)\n",
    "    \n",
    "    if iocs_found:\n",
    "        print('\\nPotential IoCs found in alert process:')\n",
    "        display(iocs_found)\n",
    "else:\n",
    "    print('Nothing to process')\n"
   ]
  },
  {
   "cell_type": "code",
   "execution_count": null,
   "metadata": {},
   "outputs": [],
   "source": [
    "ioc_extractor = sectools.IoCExtract()\n",
    "ioc_df = ioc_extractor.extract(data=process_tree, columns=['CommandLine'], os_family=security_alert.os_family)\n",
    "if len(ioc_df):\n",
    "    display(HTML(\"<h3>IoC patterns found in process tree.</h3>\"))\n",
    "    display(ioc_df)"
   ]
  },
  {
   "cell_type": "code",
   "execution_count": null,
   "metadata": {},
   "outputs": [],
   "source": [
    "dec_df = sectools.b64.unpack_items(data=process_tree, column='CommandLine')\n",
    "if len(dec_df) > 0:\n",
    "    display(HTML(\"<h3>Decoded base 64 command lines</h3>\"))\n",
    "    display(HTML(\"Warning - some binary patterns may be decodable as unicode strings\"))\n",
    "    display(dec_df[['original_string', 'decoded_string', 'input_bytes', 'file_hashes']])\n",
    "\n",
    "    ioc_dec_df = ioc_extractor.extract(data=dec_df, columns=['full_decoded_string'])\n",
    "    if len(ioc_dec_df):\n",
    "        display(HTML(\"<h3>IoC patterns found in base 64 decoded data</h3>\"))\n",
    "        display(ioc_dec_df)\n",
    "        ioc_df = ioc_df.append(ioc_dec_df ,ignore_index=True)\n",
    "else:\n",
    "    print(\"No base64 encodings found.\")"
   ]
  },
  {
   "cell_type": "markdown",
   "metadata": {
    "hidden": true
   },
   "source": [
    "<a id='virustotallookup'></a>[Contents](#toc)\n",
    "## Virus Total Lookup"
   ]
  },
  {
   "cell_type": "code",
   "execution_count": null,
   "metadata": {},
   "outputs": [],
   "source": [
    "vt_key = asi.GetEnvironmentKey(env_var='VT_API_KEY',\n",
    "                           help_str='To obtain an API key sign up here https://www.virustotal.com/',\n",
    "                           prompt='Virus Total API key:')\n",
    "vt_key.display()"
   ]
  },
  {
   "cell_type": "code",
   "execution_count": null,
   "metadata": {
    "scrolled": false
   },
   "outputs": [],
   "source": [
    "if vt_key.value:\n",
    "    vt_lookup = sectools.VTLookup(vt_key.value, verbosity=2)\n",
    "\n",
    "    print(f'{len(ioc_df)} items in input frame')\n",
    "    supported_counts = {}\n",
    "    for ioc_type in vt_lookup.supported_ioc_types:\n",
    "        supported_counts[ioc_type] = len(ioc_df[ioc_df['IoCType'] == ioc_type])\n",
    "    print('Items in each category to be submitted to VirusTotal')\n",
    "    print('(Note: items have pre-filtering to remove obvious erroneous '\n",
    "          'data and false positives, such as private IPaddresses)')\n",
    "    print(supported_counts)\n",
    "    print('-' * 80)\n",
    "    vt_results = vt_lookup.lookup_iocs(data=ioc_df, type_col='IoCType', src_col='Observable')\n",
    "    display(vt_results)"
   ]
  },
  {
   "cell_type": "markdown",
   "metadata": {},
   "source": [
    "<a id='cmdlineonotherhosts'></a>[Contents](#toc)\n",
    "# Alert command line - Occurrence on other hosts in workspace"
   ]
  },
  {
   "cell_type": "code",
   "execution_count": null,
   "metadata": {
    "scrolled": true
   },
   "outputs": [],
   "source": [
    "# set the origin time to the time of our alert\n",
    "query_times = asi.QueryTime(units='day', before=5, max_before=20,\n",
    "                            after=1, max_after=10,\n",
    "                            origin_time=security_alert.origin_time)\n",
    "query_times.display()"
   ]
  },
  {
   "cell_type": "code",
   "execution_count": null,
   "metadata": {
    "scrolled": false
   },
   "outputs": [],
   "source": [
    "# Find the query to use\n",
    "qry.list_queries()"
   ]
  },
  {
   "cell_type": "code",
   "execution_count": null,
   "metadata": {
    "scrolled": true
   },
   "outputs": [],
   "source": [
    "# What does the query look like?\n",
    "qry.query_help('list_hosts_matching_commandline')"
   ]
  },
  {
   "cell_type": "code",
   "execution_count": null,
   "metadata": {},
   "outputs": [],
   "source": [
    "# This query needs a commandline parameter which isn't supplied\n",
    "# by default from the the alert \n",
    "# - so extract and escape this from the process\n",
    "commandline = security_alert.primary_process.CommandLine\n",
    "commandline = asi.utility.escape_windows_path(commandline)\n",
    "#commandline = commandline.replace('\\'', '\\\\\\'')\n",
    "proc_match_in_ws = qry.list_hosts_matching_commandline(provs=[query_times, security_alert],\n",
    "                                                                commandline=commandline)\n",
    "\n",
    "# Check the results\n",
    "if proc_match_in_ws is None or len(proc_match_in_ws) == 0:\n",
    "    print('No proceses with matching commandline found in on other hosts in workspace')\n",
    "    print('between', query_times.start, 'and', query_times.end)\n",
    "else:\n",
    "    hosts = proc_match_in_ws['Computer'].drop_duplicates().shape[0]\n",
    "    processes = proc_match_in_ws.shape[0]\n",
    "    print('{numprocesses} proceses with matching commandline found on {numhosts} hosts in workspace'\\\n",
    "         .format(numprocesses=processes, numhosts=hosts))\n",
    "    print('between', query_times.start, 'and', query_times.end)\n",
    "    print('To examine these execute the dataframe \\'{}\\' in a new cell'.format('proc_match_in_ws'))\n",
    "    print(proc_match_in_ws[['TimeCreatedUtc','Computer', 'NewProcessName', 'CommandLine']].head())\n",
    "    "
   ]
  },
  {
   "cell_type": "markdown",
   "metadata": {},
   "source": [
    "<a id='host_logons'></a>[Contents](#toc)\n",
    "# Host Logons"
   ]
  },
  {
   "cell_type": "markdown",
   "metadata": {
    "hidden": true,
    "tags": [
     "todo"
    ]
   },
   "source": [
    "<a id='logonaccount'></a>[Contents](#toc)\n",
    "## Alert Logon Account"
   ]
  },
  {
   "cell_type": "code",
   "execution_count": null,
   "metadata": {
    "scrolled": true
   },
   "outputs": [],
   "source": [
    "# set the origin time to the time of our alert\n",
    "query_times = asi.QueryTime(units='day', origin_time=security_alert.origin_time,\n",
    "                           before=5, after=0, max_before=20, max_after=1)\n",
    "query_times.display()"
   ]
  },
  {
   "cell_type": "code",
   "execution_count": null,
   "metadata": {},
   "outputs": [],
   "source": [
    "if security_alert.primary_account:\n",
    "    logon_event = qry.get_host_logon(provs=[query_times, security_alert])\n",
    "    asidisp.display_logon_data(logon_event, security_alert)\n",
    "else:\n",
    "    print('No account entity in the source alert.')"
   ]
  },
  {
   "cell_type": "code",
   "execution_count": null,
   "metadata": {},
   "outputs": [],
   "source": [
    "host_logons = qry.list_host_logons(provs=[query_times, security_alert])"
   ]
  },
  {
   "cell_type": "code",
   "execution_count": null,
   "metadata": {
    "scrolled": true
   },
   "outputs": [],
   "source": [
    "from msticpy.sectools.eventcluster import dbcluster_events, add_process_features, _string_score\n",
    "\n",
    "if len(host_logons) > 0:\n",
    "    logon_features = host_logons.copy()\n",
    "    logon_features['AccountNum'] = host_logons.apply(lambda x: _string_score(x.Account), axis=1)\n",
    "    logon_features['LogonHour'] = host_logons.apply(lambda x: x.TimeGenerated.hour, axis=1)\n",
    "\n",
    "    # you might need to play around with the max_cluster_distance parameter.\n",
    "    # decreasing this gives more clusters.\n",
    "    (clus_logons, _, _) = dbcluster_events(data=logon_features, time_column='TimeGenerated',\n",
    "                                           cluster_columns=['AccountNum',\n",
    "                                                            'LogonType'],\n",
    "                                                             max_cluster_distance=0.0001)\n",
    "    print('Number of input events:', len(host_logons))\n",
    "    print('Number of clustered events:', len(clus_logons))\n",
    "    print('\\nDistinct host logon patterns:')\n",
    "    clus_logons.sort_values('TimeGenerated')\n",
    "else:\n",
    "    print('No logon events found for host.')"
   ]
  },
  {
   "cell_type": "code",
   "execution_count": null,
   "metadata": {},
   "outputs": [],
   "source": [
    "# Display logon details\n",
    "asidisp.display_logon_data(clus_logons, security_alert)"
   ]
  },
  {
   "cell_type": "code",
   "execution_count": null,
   "metadata": {},
   "outputs": [],
   "source": [
    "# Show timeline of events - all events\n",
    "asidisp.display_timeline(data=host_logons, \n",
    "                         alert=security_alert, \n",
    "                         source_columns=['Account', 'LogonType'],\n",
    "                         title='All Host Logons')"
   ]
  },
  {
   "cell_type": "code",
   "execution_count": null,
   "metadata": {},
   "outputs": [],
   "source": [
    "# Counts of Logon types by Account\n",
    "host_logons[['Account', 'LogonType', 'TimeGenerated']].groupby(['Account','LogonType']).count()"
   ]
  },
  {
   "cell_type": "markdown",
   "metadata": {
    "hidden": true
   },
   "source": [
    "<a id='failed logons'></a>[Contents](#toc)\n",
    "## Failed Logons"
   ]
  },
  {
   "cell_type": "code",
   "execution_count": null,
   "metadata": {
    "hidden": true,
    "scrolled": true
   },
   "outputs": [],
   "source": [
    "failedLogons = qry.list_host_logon_failures(provs=[query_times, security_alert])\n",
    "if failedLogons.shape[0] == 0:\n",
    "    display(print('No logon failures recorded for this host between {security_alert.start} and {security_alert.start}'))\n",
    "\n",
    "failedLogons"
   ]
  },
  {
   "cell_type": "markdown",
   "metadata": {
    "hidden": true
   },
   "source": [
    "<a id='appendices'></a>[Contents](#toc)\n",
    "# Appendices"
   ]
  },
  {
   "cell_type": "markdown",
   "metadata": {},
   "source": [
    "## Available DataFrames"
   ]
  },
  {
   "cell_type": "code",
   "execution_count": null,
   "metadata": {
    "scrolled": true
   },
   "outputs": [],
   "source": [
    "print('List of current DataFrames in Notebook')\n",
    "print('-' * 50)\n",
    "current_vars = list(locals().keys())\n",
    "for var_name in current_vars:\n",
    "    if isinstance(locals()[var_name], pd.DataFrame) and not var_name.startswith('_'):\n",
    "        print(var_name)"
   ]
  },
  {
   "cell_type": "markdown",
   "metadata": {
    "heading_collapsed": true,
    "tags": [
     "todo"
    ]
   },
   "source": [
    "## Saving Data to Excel\n",
    "To save the contents of a pandas DataFrame to an Excel spreadsheet\n",
    "use the following syntax\n",
    "```\n",
    "writer = pd.ExcelWriter('myWorksheet.xlsx')\n",
    "my_data_frame.to_excel(writer,'Sheet1')\n",
    "writer.save()\n",
    "```"
   ]
  }
 ],
 "metadata": {
  "celltoolbar": "Tags",
  "hide_input": false,
  "kernelspec": {
   "display_name": "Python 3",
   "language": "python",
   "name": "python3"
  },
  "language_info": {
   "codemirror_mode": {
    "name": "ipython",
    "version": 3
   },
   "file_extension": ".py",
   "mimetype": "text/x-python",
   "name": "python",
   "nbconvert_exporter": "python",
   "pygments_lexer": "ipython3",
   "version": "3.7.1"
  },
  "toc": {
   "base_numbering": 1,
   "nav_menu": {
    "height": "318.996px",
    "width": "320.994px"
   },
   "number_sections": true,
   "sideBar": true,
   "skip_h1_title": false,
   "title_cell": "Table of Contents",
   "title_sidebar": "Contents",
   "toc_cell": false,
   "toc_position": {
    "height": "calc(100% - 180px)",
    "left": "10px",
    "top": "150px",
    "width": "165px"
   },
   "toc_section_display": true,
   "toc_window_display": true
  },
  "varInspector": {
   "cols": {
    "lenName": 16,
    "lenType": 16,
    "lenVar": 40
   },
   "kernels_config": {
    "python": {
     "delete_cmd_postfix": "",
     "delete_cmd_prefix": "del ",
     "library": "var_list.py",
     "varRefreshCmd": "print(var_dic_list())"
    },
    "r": {
     "delete_cmd_postfix": ") ",
     "delete_cmd_prefix": "rm(",
     "library": "var_list.r",
     "varRefreshCmd": "cat(var_dic_list()) "
    }
   },
   "position": {
    "height": "406.193px",
    "left": "1468.4px",
    "right": "20px",
    "top": "120px",
    "width": "456.572px"
   },
   "types_to_exclude": [
    "module",
    "function",
    "builtin_function_or_method",
    "instance",
    "_Feature"
   ],
   "window_display": false
  }
 },
 "nbformat": 4,
 "nbformat_minor": 2
}
