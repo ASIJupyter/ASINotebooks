{
 "cells": [
  {
   "cell_type": "markdown",
   "metadata": {},
   "source": [
    "# Title: {Title Here}\n",
    "\n",
    "|         |            |\n",
    "|---|:-------------|\n",
    "| Version     | 0.1 |\n",
    "| Author      | {author}      |\n",
    "| Contact | {email}      |\n",
    "| Data tables used | {tablelist here...                                                      }|\n",
    "\n",
    "## Description:\n",
    "{the description}\n"
   ]
  },
  {
   "cell_type": "markdown",
   "metadata": {},
   "source": [
    "<a id='toc'></a>\n",
    "## Contents\n",
    "- [Setup and Authenticate](#setup)\n",
    "\n",
    "- [First Section](#sectionone)\n",
    "- [More Sections](#moresections)\n",
    "- [Appendices](#appendices)\n",
    "  - [Saving data to Excel](#appendices)\n"
   ]
  },
  {
   "cell_type": "markdown",
   "metadata": {},
   "source": [
    "<a id='setup'></a>[Contents](#toc)\n",
    "# Setup\n",
    "\n",
    "If you are running this from an Azure Notebooks instance created by ASI you can ignore the *Install Packages* step.\n",
    "\n",
    "\n",
    "## Install Packages"
   ]
  },
  {
   "cell_type": "code",
   "execution_count": null,
   "metadata": {},
   "outputs": [],
   "source": [
    "# You may needs these - should only need to uncomment and run once\n",
    "# !pip install msgpack\n",
    "# !pip install Kqlmagic --no-cache-dir  --upgrade\n",
    "\n",
    "# !pip install PyHamcrest\n",
    "# !conda install -c conda-forge python-levenshtein -y\n",
    "# !conda install requests\n",
    "# !conda install attrs\n",
    "# !conda install seaborn\n",
    "# !conda install bokeh\n",
    "# !conda install holoviews\n",
    "\n",
    "# our package\n",
    "#!pip install ../python --upgrade\n"
   ]
  },
  {
   "cell_type": "markdown",
   "metadata": {},
   "source": [
    "### Import Python Packages"
   ]
  },
  {
   "cell_type": "code",
   "execution_count": 2,
   "metadata": {
    "scrolled": true
   },
   "outputs": [],
   "source": [
    "# Imports\n",
    "import sys\n",
    "MIN_REQ_PYTHON = (3,6)\n",
    "if sys.version_info < MIN_REQ_PYTHON:\n",
    "    print('Check the Kernel->Change Kernel menu and ensure that Python 3.6')\n",
    "    print('or later is selected as the active kernel.')\n",
    "    sys.exit(\"Python %s.%s or later is required.\\n\" % MIN_REQ_PYTHON)\n",
    "\n",
    "\n",
    "import numpy as np\n",
    "from IPython import get_ipython\n",
    "from IPython.display import display, HTML\n",
    "import ipywidgets as widgets\n",
    "\n",
    "import matplotlib.pyplot as plt\n",
    "import seaborn as sns\n",
    "import networkx as nx\n",
    "sns.set()\n",
    "import pandas as pd\n",
    "pd.set_option('display.max_rows', 500)\n",
    "pd.set_option('display.max_columns', 50)\n",
    "pd.set_option('display.max_colwidth', 100)\n",
    "\n",
    "import os\n",
    "module_path = os.path.abspath(os.path.join('..'))\n",
    "if module_path not in sys.path:\n",
    "    sys.path.append(module_path)\n",
    "   \n",
    "import msticpy.sectools as sectools\n",
    "import msticpy.asitools as asi\n",
    "import msticpy.asitools.kql as qry\n",
    "import msticpy.asitools.nbdisplay as asidisp\n"
   ]
  },
  {
   "cell_type": "markdown",
   "metadata": {
    "tags": [
     "remove"
    ]
   },
   "source": [
    "### Enter or confirm WorkspaceId\n",
    "To find your Workspace Id go to [Log Analytics](#https://ms.portal.azure.com/#blade/HubsExtension/Resources/resourceType/Microsoft.OperationalInsights%2Fworkspaces). Look at the workspace properties to find the ID."
   ]
  },
  {
   "cell_type": "code",
   "execution_count": 23,
   "metadata": {
    "tags": [
     "todo"
    ]
   },
   "outputs": [
    {
     "data": {
      "application/vnd.jupyter.widget-view+json": {
       "model_id": "50810994c8e84439ac1e8751c70ac117",
       "version_major": 2,
       "version_minor": 0
      },
      "text/plain": [
       "HBox(children=(Text(value='802d39e1-9d70-404d-832c-2de5e2478eda', description='Log Analytics Workspace Id:', l…"
      ]
     },
     "metadata": {},
     "output_type": "display_data"
    }
   ],
   "source": [
    "import os\n",
    "from msticpy.asitools.asiconfig import WorkspaceConfig\n",
    "ws_config_file = 'config.json'\n",
    "try:\n",
    "    ws_config = WorkspaceConfig(ws_config_file)\n",
    "    print('Found config file')\n",
    "    for cf_item in ['tenant_id', 'subscription_id', 'resource_group', 'workspace_id', 'workspace_name']:\n",
    "        print(cf_item, ws_config[cf_item])\n",
    "except:\n",
    "    ws_config = None\n",
    "\n",
    "ws_id = asi.GetEnvironmentKey(env_var='WORKSPACE_ID',\n",
    "                              prompt='Log Analytics Workspace Id:')\n",
    "if ws_config:\n",
    "    ws_id.value = ws_config['workspace_id']\n",
    "ws_id.display()"
   ]
  },
  {
   "cell_type": "markdown",
   "metadata": {},
   "source": [
    "### Authenticate to Log Analytics\n",
    "If you are using user/device authentication, run the following cell. \n",
    "- Click the 'Copy code to clipboard and authenticate' button.\n",
    "- This will pop up an Azure Active Directory authentication dialog (in a new tab or browser window). The device code will have been copied to the clipboard. \n",
    "- Select the text box and paste (Ctrl-V/Cmd-V) the copied value. \n",
    "- You should then be redirected to a user authentication page where you should authenticate with a user account that has permission to query your Log Analytics workspace.\n",
    "\n",
    "Use the following syntax if you are authenticating using an Azure Active Directory AppId and Secret:\n",
    "```\n",
    "%kql loganalytics://tenant(aad_tenant).workspace(WORKSPACE_ID).clientid(client_id).clientsecret(client_secret)\n",
    "```\n",
    "instead of\n",
    "```\n",
    "%kql loganalytics://code().workspace(WORKSPACE_ID)\n",
    "```"
   ]
  },
  {
   "cell_type": "code",
   "execution_count": 10,
   "metadata": {
    "tags": [
     "todo"
    ]
   },
   "outputs": [
    {
     "data": {
      "text/html": [
       "<!DOCTYPE html>\n",
       "                    <html><body><script>\n",
       "\n",
       "                        // close authentication window\n",
       "                        if (kql_MagicUserCodeAuthWindow && kql_MagicUserCodeAuthWindow.opener != null && !kql_MagicUserCodeAuthWindow.closed) {\n",
       "                            kql_MagicUserCodeAuthWindow.close()\n",
       "                        }\n",
       "                        // TODO: make sure, you clear the right cell. BTW, not sure it is a must to do any clearing\n",
       "\n",
       "                        // clear output cell\n",
       "                        Jupyter.notebook.clear_output(Jupyter.notebook.get_selected_index())\n",
       "\n",
       "                        // TODO: if in run all mode, move to last cell, otherwise move to next cell\n",
       "                        // move to next cell\n",
       "\n",
       "                    </script></body></html>"
      ],
      "text/plain": [
       "<IPython.core.display.HTML object>"
      ]
     },
     "metadata": {},
     "output_type": "display_data"
    },
    {
     "data": {
      "text/html": [
       "<!DOCTYPE html>\n",
       "            <html><body>\n",
       "\n",
       "            <button onclick=\"this.style.visibility='visible';kql_MagicLaunchWindowFunction('Kqlmagic_temp_files/_802d39e1-9d70-404d-832c-2de5e2478eda_at_loganalytics_schema.html','fullscreen=no,directories=no,location=no,menubar=no,resizable=yes,scrollbars=yes,status=no,titlebar=no,toolbar=no,','_802d39e1_9d70_404d_832c_2de5e2478eda_at_loganalytics_schema','')\">popup schema 802d39e1-9d70-404d-832c-2de5e2478eda@loganalytics</button>\n",
       "\n",
       "            <script>\n",
       "\n",
       "            function kql_MagicLaunchWindowFunction(file_path, window_params, window_name, notebooks_host) {\n",
       "                var url;\n",
       "                if (file_path.startsWith('http')) {\n",
       "                    url = file_path;\n",
       "                } else {\n",
       "                    var base_url = '';\n",
       "\n",
       "                    // check if azure notebook\n",
       "                    var azure_host = (notebooks_host == null || notebooks_host.length == 0) ? 'https://notebooks.azure.com' : notebooks_host;\n",
       "                    var start = azure_host.search('//');\n",
       "                    var azure_host_suffix = '.' + azure_host.substring(start+2);\n",
       "\n",
       "                    var loc = String(window.location);\n",
       "                    var end = loc.search(azure_host_suffix);\n",
       "                    start = loc.search('//');\n",
       "                    if (start > 0 && end > 0) {\n",
       "                        var parts = loc.substring(start+2, end).split('-');\n",
       "                        if (parts.length == 2) {\n",
       "                            var library = parts[0];\n",
       "                            var user = parts[1];\n",
       "                            base_url = azure_host + '/api/user/' +user+ '/library/' +library+ '/html/';\n",
       "                        }\n",
       "                    }\n",
       "\n",
       "                    // check if local jupyter lab\n",
       "                    if (base_url.length == 0) {\n",
       "                        var configDataScipt  = document.getElementById('jupyter-config-data');\n",
       "                        if (configDataScipt != null) {\n",
       "                            var jupyterConfigData = JSON.parse(configDataScipt.textContent);\n",
       "                            if (jupyterConfigData['appName'] == 'JupyterLab' && jupyterConfigData['serverRoot'] != null &&  jupyterConfigData['treeUrl'] != null) {\n",
       "                                var basePath = 'e:\\src\\asi-jupyter\\notebooks' + '/';\n",
       "                                if (basePath.startsWith(jupyterConfigData['serverRoot'])) {\n",
       "                                    base_url = '/files/' + basePath.substring(jupyterConfigData['serverRoot'].length+1);\n",
       "                                }\n",
       "                            } \n",
       "                        }\n",
       "                    }\n",
       "\n",
       "                    // assume local jupyter notebook\n",
       "                    if (base_url.length == 0) {\n",
       "\n",
       "                        var parts = loc.split('/');\n",
       "                        parts.pop();\n",
       "                        base_url = parts.join('/') + '/';\n",
       "                    }\n",
       "                    url = base_url + file_path;\n",
       "                }\n",
       "\n",
       "                window.focus();\n",
       "                var w = screen.width / 2;\n",
       "                var h = screen.height / 2;\n",
       "                params = 'width='+w+',height='+h;\n",
       "                kql_Magic__802d39e1_9d70_404d_832c_2de5e2478eda_at_loganalytics_schema = window.open(url, window_name, window_params + params);\n",
       "            }\n",
       "            </script>\n",
       "\n",
       "            </body></html>"
      ],
      "text/plain": [
       "<IPython.core.display.HTML object>"
      ]
     },
     "metadata": {},
     "output_type": "display_data"
    }
   ],
   "source": [
    "try:\n",
    "    WORKSPACE_ID = select_ws.value\n",
    "except NameError:\n",
    "    try:\n",
    "        WORKSPACE_ID = ws_id.value\n",
    "    except NameError:\n",
    "        WORKSPACE_ID = None\n",
    "    \n",
    "if not WORKSPACE_ID:\n",
    "    raise ValueError('No workspace selected.')\n",
    "\n",
    "asi.kql.load_kql_magic()\n",
    "\n",
    "%kql loganalytics://code().workspace(WORKSPACE_ID)"
   ]
  },
  {
   "cell_type": "markdown",
   "metadata": {
    "tags": [
     "todo"
    ]
   },
   "source": [
    "<a id='sectionone'></a>[Contents](#toc)\n",
    "# Section One\n",
    "\n",
    "Specify a time range to search for X."
   ]
  },
  {
   "cell_type": "code",
   "execution_count": 11,
   "metadata": {
    "scrolled": true
   },
   "outputs": [
    {
     "data": {
      "application/vnd.jupyter.widget-view+json": {
       "model_id": "4102f6fbe81d47adb09bb8e42de2d4ff",
       "version_major": 2,
       "version_minor": 0
      },
      "text/plain": [
       "HTML(value='<h4>Set query time boundaries</h4>')"
      ]
     },
     "metadata": {},
     "output_type": "display_data"
    },
    {
     "data": {
      "application/vnd.jupyter.widget-view+json": {
       "model_id": "4f442cf8e3ae47c6b542f88584c87068",
       "version_major": 2,
       "version_minor": 0
      },
      "text/plain": [
       "HBox(children=(DatePicker(value=datetime.date(2019, 2, 5), description='Origin Date'), Text(value='00:52:43.26…"
      ]
     },
     "metadata": {},
     "output_type": "display_data"
    },
    {
     "data": {
      "application/vnd.jupyter.widget-view+json": {
       "model_id": "33180a7e1e924feebebfde58618d215a",
       "version_major": 2,
       "version_minor": 0
      },
      "text/plain": [
       "VBox(children=(IntRangeSlider(value=(-5, 1), description='Time Range (day):', layout=Layout(width='80%'), max=…"
      ]
     },
     "metadata": {},
     "output_type": "display_data"
    }
   ],
   "source": [
    "query_times = asi.QueryTime(units='day', max_before=20, before=5, max_after=1)\n",
    "query_times.display()"
   ]
  },
  {
   "cell_type": "markdown",
   "metadata": {},
   "source": [
    "Type a query"
   ]
  },
  {
   "cell_type": "code",
   "execution_count": 21,
   "metadata": {},
   "outputs": [
    {
     "data": {
      "text/plain": [
       "'datetime(2019-01-31 00:52:43.268207)'"
      ]
     },
     "execution_count": 21,
     "metadata": {},
     "output_type": "execute_result"
    }
   ],
   "source": [
    "start = f'datetime({query_times.start})'\n",
    "end = f'datetime({query_times.end})'\n",
    "start"
   ]
  },
  {
   "cell_type": "code",
   "execution_count": 22,
   "metadata": {},
   "outputs": [
    {
     "data": {
      "text/html": [
       "<html>\n",
       "        <head>\n",
       "        \n",
       "        </head>\n",
       "        <body>\n",
       "        <div><p style='padding: 10px; color: #3a87ad; background-color: #d9edf7; border-color: #bce9f1'>&nbsp*&nbsp802d39e1-9d70-404d-832c-2de5e2478eda@loganalytics</p></div>\n",
       "        </body>\n",
       "        </html>"
      ],
      "text/plain": [
       "<IPython.core.display.HTML object>"
      ]
     },
     "metadata": {},
     "output_type": "display_data"
    },
    {
     "data": {
      "text/html": [
       "<html>\n",
       "        <head>\n",
       "        \n",
       "        </head>\n",
       "        <body>\n",
       "        <table>\n",
       "    <tr>\n",
       "        <th>TenantId</th>\n",
       "        <th>TimeGenerated</th>\n",
       "        <th>SourceSystem</th>\n",
       "        <th>Account</th>\n",
       "        <th>AccountType</th>\n",
       "        <th>Computer</th>\n",
       "        <th>EventSourceName</th>\n",
       "        <th>Channel</th>\n",
       "        <th>Task</th>\n",
       "        <th>Level</th>\n",
       "        <th>EventData</th>\n",
       "        <th>EventID</th>\n",
       "        <th>Activity</th>\n",
       "        <th>PartitionKey</th>\n",
       "        <th>RowKey</th>\n",
       "        <th>StorageAccount</th>\n",
       "        <th>AzureDeploymentID</th>\n",
       "        <th>AzureTableName</th>\n",
       "        <th>AccessList</th>\n",
       "        <th>AccessMask</th>\n",
       "        <th>AccessReason</th>\n",
       "        <th>AccountDomain</th>\n",
       "        <th>AccountExpires</th>\n",
       "        <th>AccountName</th>\n",
       "        <th>AccountSessionIdentifier</th>\n",
       "        <th>AdditionalInfo</th>\n",
       "        <th>AdditionalInfo2</th>\n",
       "        <th>AllowedToDelegateTo</th>\n",
       "        <th>Attributes</th>\n",
       "        <th>AuditPolicyChanges</th>\n",
       "        <th>AuditsDiscarded</th>\n",
       "        <th>AuthenticationLevel</th>\n",
       "        <th>AuthenticationPackageName</th>\n",
       "        <th>AuthenticationProvider</th>\n",
       "        <th>AuthenticationServer</th>\n",
       "        <th>AuthenticationService</th>\n",
       "        <th>AuthenticationType</th>\n",
       "        <th>CACertificateHash</th>\n",
       "        <th>CalledStationID</th>\n",
       "        <th>CallerProcessId</th>\n",
       "        <th>CallerProcessName</th>\n",
       "        <th>CallingStationID</th>\n",
       "        <th>CAPublicKeyHash</th>\n",
       "        <th>CategoryId</th>\n",
       "        <th>CertificateDatabaseHash</th>\n",
       "        <th>ClassId</th>\n",
       "        <th>ClassName</th>\n",
       "        <th>ClientAddress</th>\n",
       "        <th>ClientIPAddress</th>\n",
       "        <th>ClientName</th>\n",
       "        <th>CommandLine</th>\n",
       "        <th>CompatibleIds</th>\n",
       "        <th>DCDNSName</th>\n",
       "        <th>DeviceDescription</th>\n",
       "        <th>DeviceId</th>\n",
       "        <th>DisplayName</th>\n",
       "        <th>Disposition</th>\n",
       "        <th>DomainBehaviorVersion</th>\n",
       "        <th>DomainName</th>\n",
       "        <th>DomainPolicyChanged</th>\n",
       "        <th>DomainSid</th>\n",
       "        <th>EAPType</th>\n",
       "        <th>ElevatedToken</th>\n",
       "        <th>ErrorCode</th>\n",
       "        <th>ExtendedQuarantineState</th>\n",
       "        <th>FailureReason</th>\n",
       "        <th>FileHash</th>\n",
       "        <th>FilePath</th>\n",
       "        <th>FilePathNoUser</th>\n",
       "        <th>Filter</th>\n",
       "        <th>ForceLogoff</th>\n",
       "        <th>Fqbn</th>\n",
       "        <th>FullyQualifiedSubjectMachineName</th>\n",
       "        <th>FullyQualifiedSubjectUserName</th>\n",
       "        <th>GroupMembership</th>\n",
       "        <th>HandleId</th>\n",
       "        <th>HardwareIds</th>\n",
       "        <th>HomeDirectory</th>\n",
       "        <th>HomePath</th>\n",
       "        <th>ImpersonationLevel</th>\n",
       "        <th>InterfaceUuid</th>\n",
       "        <th>IpAddress</th>\n",
       "        <th>IpPort</th>\n",
       "        <th>KeyLength</th>\n",
       "        <th>LmPackageName</th>\n",
       "        <th>LocationInformation</th>\n",
       "        <th>LockoutDuration</th>\n",
       "        <th>LockoutObservationWindow</th>\n",
       "        <th>LockoutThreshold</th>\n",
       "        <th>LoggingResult</th>\n",
       "        <th>LogonGuid</th>\n",
       "        <th>LogonHours</th>\n",
       "        <th>LogonID</th>\n",
       "        <th>LogonProcessName</th>\n",
       "        <th>LogonType</th>\n",
       "        <th>LogonTypeName</th>\n",
       "        <th>MachineAccountQuota</th>\n",
       "        <th>MachineInventory</th>\n",
       "        <th>MachineLogon</th>\n",
       "        <th>MandatoryLabel</th>\n",
       "        <th>MaxPasswordAge</th>\n",
       "        <th>MemberName</th>\n",
       "        <th>MemberSid</th>\n",
       "        <th>MinPasswordAge</th>\n",
       "        <th>MinPasswordLength</th>\n",
       "        <th>MixedDomainMode</th>\n",
       "        <th>NASIdentifier</th>\n",
       "        <th>NASIPv4Address</th>\n",
       "        <th>NASIPv6Address</th>\n",
       "        <th>NASPort</th>\n",
       "        <th>NASPortType</th>\n",
       "        <th>NetworkPolicyName</th>\n",
       "        <th>NewDate</th>\n",
       "        <th>NewMaxUsers</th>\n",
       "        <th>NewProcessId</th>\n",
       "        <th>NewProcessName</th>\n",
       "        <th>NewRemark</th>\n",
       "        <th>NewShareFlags</th>\n",
       "        <th>NewTime</th>\n",
       "        <th>NewUacValue</th>\n",
       "        <th>NewValue</th>\n",
       "        <th>NewValueType</th>\n",
       "        <th>ObjectName</th>\n",
       "        <th>ObjectServer</th>\n",
       "        <th>ObjectType</th>\n",
       "        <th>ObjectValueName</th>\n",
       "        <th>OemInformation</th>\n",
       "        <th>OldMaxUsers</th>\n",
       "        <th>OldRemark</th>\n",
       "        <th>OldShareFlags</th>\n",
       "        <th>OldUacValue</th>\n",
       "        <th>OldValue</th>\n",
       "        <th>OldValueType</th>\n",
       "        <th>OperationType</th>\n",
       "        <th>PackageName</th>\n",
       "        <th>ParentProcessName</th>\n",
       "        <th>PasswordHistoryLength</th>\n",
       "        <th>PasswordLastSet</th>\n",
       "        <th>PasswordProperties</th>\n",
       "        <th>PreviousDate</th>\n",
       "        <th>PreviousTime</th>\n",
       "        <th>PrimaryGroupId</th>\n",
       "        <th>PrivateKeyUsageCount</th>\n",
       "        <th>PrivilegeList</th>\n",
       "        <th>Process</th>\n",
       "        <th>ProcessId</th>\n",
       "        <th>ProcessName</th>\n",
       "        <th>Properties</th>\n",
       "        <th>ProfilePath</th>\n",
       "        <th>ProtocolSequence</th>\n",
       "        <th>ProxyPolicyName</th>\n",
       "        <th>QuarantineHelpURL</th>\n",
       "        <th>QuarantineSessionID</th>\n",
       "        <th>QuarantineSessionIdentifier</th>\n",
       "        <th>QuarantineState</th>\n",
       "        <th>QuarantineSystemHealthResult</th>\n",
       "        <th>RelativeTargetName</th>\n",
       "        <th>RemoteIpAddress</th>\n",
       "        <th>RemotePort</th>\n",
       "        <th>Requester</th>\n",
       "        <th>RequestId</th>\n",
       "        <th>RestrictedAdminMode</th>\n",
       "        <th>RowsDeleted</th>\n",
       "        <th>SamAccountName</th>\n",
       "        <th>ScriptPath</th>\n",
       "        <th>SecurityDescriptor</th>\n",
       "        <th>ServiceAccount</th>\n",
       "        <th>ServiceFileName</th>\n",
       "        <th>ServiceName</th>\n",
       "        <th>ServiceStartType</th>\n",
       "        <th>ServiceType</th>\n",
       "        <th>SessionName</th>\n",
       "        <th>ShareLocalPath</th>\n",
       "        <th>ShareName</th>\n",
       "        <th>SidHistory</th>\n",
       "        <th>Status</th>\n",
       "        <th>SubjectAccount</th>\n",
       "        <th>SubcategoryGuid</th>\n",
       "        <th>SubcategoryId</th>\n",
       "        <th>Subject</th>\n",
       "        <th>SubjectDomainName</th>\n",
       "        <th>SubjectKeyIdentifier</th>\n",
       "        <th>SubjectLogonId</th>\n",
       "        <th>SubjectMachineName</th>\n",
       "        <th>SubjectMachineSID</th>\n",
       "        <th>SubjectUserName</th>\n",
       "        <th>SubjectUserSid</th>\n",
       "        <th>SubStatus</th>\n",
       "        <th>TableId</th>\n",
       "        <th>TargetAccount</th>\n",
       "        <th>TargetDomainName</th>\n",
       "        <th>TargetInfo</th>\n",
       "        <th>TargetLinkedLogonId</th>\n",
       "        <th>TargetLogonGuid</th>\n",
       "        <th>TargetLogonId</th>\n",
       "        <th>TargetOutboundDomainName</th>\n",
       "        <th>TargetOutboundUserName</th>\n",
       "        <th>TargetServerName</th>\n",
       "        <th>TargetSid</th>\n",
       "        <th>TargetUser</th>\n",
       "        <th>TargetUserName</th>\n",
       "        <th>TargetUserSid</th>\n",
       "        <th>TemplateContent</th>\n",
       "        <th>TemplateDSObjectFQDN</th>\n",
       "        <th>TemplateInternalName</th>\n",
       "        <th>TemplateOID</th>\n",
       "        <th>TemplateSchemaVersion</th>\n",
       "        <th>TemplateVersion</th>\n",
       "        <th>TokenElevationType</th>\n",
       "        <th>TransmittedServices</th>\n",
       "        <th>UserAccountControl</th>\n",
       "        <th>UserParameters</th>\n",
       "        <th>UserPrincipalName</th>\n",
       "        <th>UserWorkstations</th>\n",
       "        <th>VirtualAccount</th>\n",
       "        <th>VendorIds</th>\n",
       "        <th>Workstation</th>\n",
       "        <th>WorkstationName</th>\n",
       "        <th>SourceComputerId</th>\n",
       "        <th>EventOriginId</th>\n",
       "        <th>MG</th>\n",
       "        <th>TimeCollected</th>\n",
       "        <th>ManagementGroupName</th>\n",
       "        <th>DestAddress_CF</th>\n",
       "        <th>DstAddress_CF</th>\n",
       "        <th>Type</th>\n",
       "        <th>_ResourceId</th>\n",
       "    </tr>\n",
       "    <tr>\n",
       "        <td>802d39e1-9d70-404d-832c-2de5e2478eda</td>\n",
       "        <td>2019-02-05 00:40:26.017000+00:00</td>\n",
       "        <td>OpsManager</td>\n",
       "        <td>WORKGROUP\\v-arrikl-03020$</td>\n",
       "        <td>Machine</td>\n",
       "        <td>v-arrikl-03020</td>\n",
       "        <td>Microsoft-Windows-Security-Auditing</td>\n",
       "        <td>Security</td>\n",
       "        <td>13312</td>\n",
       "        <td>8</td>\n",
       "        <td></td>\n",
       "        <td>4688</td>\n",
       "        <td>4688 - A new process has been created.</td>\n",
       "        <td></td>\n",
       "        <td></td>\n",
       "        <td></td>\n",
       "        <td></td>\n",
       "        <td></td>\n",
       "        <td></td>\n",
       "        <td></td>\n",
       "        <td></td>\n",
       "        <td></td>\n",
       "        <td></td>\n",
       "        <td></td>\n",
       "        <td></td>\n",
       "        <td></td>\n",
       "        <td></td>\n",
       "        <td></td>\n",
       "        <td></td>\n",
       "        <td></td>\n",
       "        <td>None</td>\n",
       "        <td>None</td>\n",
       "        <td></td>\n",
       "        <td></td>\n",
       "        <td></td>\n",
       "        <td>None</td>\n",
       "        <td></td>\n",
       "        <td></td>\n",
       "        <td></td>\n",
       "        <td></td>\n",
       "        <td></td>\n",
       "        <td></td>\n",
       "        <td></td>\n",
       "        <td></td>\n",
       "        <td></td>\n",
       "        <td></td>\n",
       "        <td></td>\n",
       "        <td></td>\n",
       "        <td></td>\n",
       "        <td></td>\n",
       "        <td>&quot;C:\\windows\\system32\\cscript.exe&quot; /nologo &quot;MonitorKnowledgeDiscovery.vbs&quot;</td>\n",
       "        <td></td>\n",
       "        <td></td>\n",
       "        <td></td>\n",
       "        <td></td>\n",
       "        <td></td>\n",
       "        <td></td>\n",
       "        <td></td>\n",
       "        <td></td>\n",
       "        <td></td>\n",
       "        <td></td>\n",
       "        <td></td>\n",
       "        <td></td>\n",
       "        <td>None</td>\n",
       "        <td></td>\n",
       "        <td></td>\n",
       "        <td></td>\n",
       "        <td></td>\n",
       "        <td></td>\n",
       "        <td></td>\n",
       "        <td></td>\n",
       "        <td></td>\n",
       "        <td></td>\n",
       "        <td></td>\n",
       "        <td></td>\n",
       "        <td></td>\n",
       "        <td></td>\n",
       "        <td></td>\n",
       "        <td></td>\n",
       "        <td></td>\n",
       "        <td></td>\n",
       "        <td></td>\n",
       "        <td></td>\n",
       "        <td>None</td>\n",
       "        <td></td>\n",
       "        <td></td>\n",
       "        <td></td>\n",
       "        <td></td>\n",
       "        <td></td>\n",
       "        <td></td>\n",
       "        <td></td>\n",
       "        <td></td>\n",
       "        <td></td>\n",
       "        <td></td>\n",
       "        <td>None</td>\n",
       "        <td></td>\n",
       "        <td></td>\n",
       "        <td></td>\n",
       "        <td></td>\n",
       "        <td>S-1-16-16384</td>\n",
       "        <td></td>\n",
       "        <td></td>\n",
       "        <td></td>\n",
       "        <td></td>\n",
       "        <td></td>\n",
       "        <td></td>\n",
       "        <td></td>\n",
       "        <td></td>\n",
       "        <td></td>\n",
       "        <td></td>\n",
       "        <td></td>\n",
       "        <td></td>\n",
       "        <td></td>\n",
       "        <td></td>\n",
       "        <td>0x5a4</td>\n",
       "        <td>C:\\Windows\\System32\\cscript.exe</td>\n",
       "        <td></td>\n",
       "        <td></td>\n",
       "        <td></td>\n",
       "        <td></td>\n",
       "        <td></td>\n",
       "        <td></td>\n",
       "        <td></td>\n",
       "        <td></td>\n",
       "        <td></td>\n",
       "        <td></td>\n",
       "        <td></td>\n",
       "        <td></td>\n",
       "        <td></td>\n",
       "        <td></td>\n",
       "        <td></td>\n",
       "        <td></td>\n",
       "        <td></td>\n",
       "        <td></td>\n",
       "        <td></td>\n",
       "        <td>C:\\Program Files\\Microsoft Monitoring Agent\\Agent\\MonitoringHost.exe</td>\n",
       "        <td></td>\n",
       "        <td></td>\n",
       "        <td></td>\n",
       "        <td></td>\n",
       "        <td></td>\n",
       "        <td></td>\n",
       "        <td></td>\n",
       "        <td></td>\n",
       "        <td>cscript.exe</td>\n",
       "        <td>0x12ec</td>\n",
       "        <td></td>\n",
       "        <td></td>\n",
       "        <td></td>\n",
       "        <td></td>\n",
       "        <td></td>\n",
       "        <td></td>\n",
       "        <td></td>\n",
       "        <td></td>\n",
       "        <td></td>\n",
       "        <td></td>\n",
       "        <td></td>\n",
       "        <td></td>\n",
       "        <td></td>\n",
       "        <td></td>\n",
       "        <td></td>\n",
       "        <td></td>\n",
       "        <td></td>\n",
       "        <td></td>\n",
       "        <td></td>\n",
       "        <td></td>\n",
       "        <td></td>\n",
       "        <td></td>\n",
       "        <td></td>\n",
       "        <td>None</td>\n",
       "        <td></td>\n",
       "        <td></td>\n",
       "        <td></td>\n",
       "        <td></td>\n",
       "        <td></td>\n",
       "        <td></td>\n",
       "        <td>WORKGROUP\\v-arrikl-03020$</td>\n",
       "        <td></td>\n",
       "        <td></td>\n",
       "        <td></td>\n",
       "        <td>WORKGROUP</td>\n",
       "        <td></td>\n",
       "        <td>0x3e7</td>\n",
       "        <td></td>\n",
       "        <td></td>\n",
       "        <td>v-arrikl-03020$</td>\n",
       "        <td>S-1-5-18</td>\n",
       "        <td></td>\n",
       "        <td></td>\n",
       "        <td>-\\-</td>\n",
       "        <td>-</td>\n",
       "        <td></td>\n",
       "        <td></td>\n",
       "        <td></td>\n",
       "        <td>0x0</td>\n",
       "        <td></td>\n",
       "        <td></td>\n",
       "        <td></td>\n",
       "        <td></td>\n",
       "        <td></td>\n",
       "        <td>-</td>\n",
       "        <td>S-1-0-0</td>\n",
       "        <td></td>\n",
       "        <td></td>\n",
       "        <td></td>\n",
       "        <td></td>\n",
       "        <td></td>\n",
       "        <td></td>\n",
       "        <td>%%1936</td>\n",
       "        <td></td>\n",
       "        <td></td>\n",
       "        <td></td>\n",
       "        <td></td>\n",
       "        <td></td>\n",
       "        <td></td>\n",
       "        <td></td>\n",
       "        <td></td>\n",
       "        <td></td>\n",
       "        <td>a52f4370-23ed-4f94-b2a8-888dbbbc6903</td>\n",
       "        <td>e4de9005-c56a-496c-8186-dd7d72c73ae2</td>\n",
       "        <td>00000000-0000-0000-0000-000000000001</td>\n",
       "        <td>2019-02-05 00:40:57.930000+00:00</td>\n",
       "        <td>AOI-802d39e1-9d70-404d-832c-2de5e2478eda</td>\n",
       "        <td></td>\n",
       "        <td></td>\n",
       "        <td>SecurityEvent</td>\n",
       "        <td>/subscriptions/3c1bb38c-82e3-4f8d-a115-a7110ba70d05/resourcegroups/v-arrikl-windowstestrg/providers/microsoft.compute/virtualmachines/v-arrikl-03020</td>\n",
       "    </tr>\n",
       "</table>\n",
       "        </body>\n",
       "        </html>"
      ],
      "text/plain": [
       "<IPython.core.display.HTML object>"
      ]
     },
     "metadata": {},
     "output_type": "display_data"
    },
    {
     "data": {
      "text/html": [
       "<html>\n",
       "        <head>\n",
       "        \n",
       "        </head>\n",
       "        <body>\n",
       "        <div><p style='padding: 10px; color: #3a87ad; background-color: #d9edf7; border-color: #bce9f1'>Done&nbsp(00:00.751):&nbsp1&nbsprecords</p></div>\n",
       "        </body>\n",
       "        </html>"
      ],
      "text/plain": [
       "<IPython.core.display.HTML object>"
      ]
     },
     "metadata": {},
     "output_type": "display_data"
    },
    {
     "data": {
      "text/html": [],
      "text/plain": [
       "[{'TenantId': '802d39e1-9d70-404d-832c-2de5e2478eda', 'TimeGenerated': datetime.datetime(2019, 2, 5, 0, 40, 26, 17000, tzinfo=tzutc()), 'SourceSystem': 'OpsManager', 'Account': 'WORKGROUP\\\\v-arrikl-03020$', 'AccountType': 'Machine', 'Computer': 'v-arrikl-03020', 'EventSourceName': 'Microsoft-Windows-Security-Auditing', 'Channel': 'Security', 'Task': 13312, 'Level': '8', 'EventData': '', 'EventID': 4688, 'Activity': '4688 - A new process has been created.', 'PartitionKey': '', 'RowKey': '', 'StorageAccount': '', 'AzureDeploymentID': '', 'AzureTableName': '', 'AccessList': '', 'AccessMask': '', 'AccessReason': '', 'AccountDomain': '', 'AccountExpires': '', 'AccountName': '', 'AccountSessionIdentifier': '', 'AdditionalInfo': '', 'AdditionalInfo2': '', 'AllowedToDelegateTo': '', 'Attributes': '', 'AuditPolicyChanges': '', 'AuditsDiscarded': None, 'AuthenticationLevel': None, 'AuthenticationPackageName': '', 'AuthenticationProvider': '', 'AuthenticationServer': '', 'AuthenticationService': None, 'AuthenticationType': '', 'CACertificateHash': '', 'CalledStationID': '', 'CallerProcessId': '', 'CallerProcessName': '', 'CallingStationID': '', 'CAPublicKeyHash': '', 'CategoryId': '', 'CertificateDatabaseHash': '', 'ClassId': '', 'ClassName': '', 'ClientAddress': '', 'ClientIPAddress': '', 'ClientName': '', 'CommandLine': '\"C:\\\\windows\\\\system32\\\\cscript.exe\" /nologo \"MonitorKnowledgeDiscovery.vbs\"', 'CompatibleIds': '', 'DCDNSName': '', 'DeviceDescription': '', 'DeviceId': '', 'DisplayName': '', 'Disposition': '', 'DomainBehaviorVersion': '', 'DomainName': '', 'DomainPolicyChanged': '', 'DomainSid': '', 'EAPType': '', 'ElevatedToken': '', 'ErrorCode': None, 'ExtendedQuarantineState': '', 'FailureReason': '', 'FileHash': '', 'FilePath': '', 'FilePathNoUser': '', 'Filter': '', 'ForceLogoff': '', 'Fqbn': '', 'FullyQualifiedSubjectMachineName': '', 'FullyQualifiedSubjectUserName': '', 'GroupMembership': '', 'HandleId': '', 'HardwareIds': '', 'HomeDirectory': '', 'HomePath': '', 'ImpersonationLevel': '', 'InterfaceUuid': '', 'IpAddress': '', 'IpPort': '', 'KeyLength': None, 'LmPackageName': '', 'LocationInformation': '', 'LockoutDuration': '', 'LockoutObservationWindow': '', 'LockoutThreshold': '', 'LoggingResult': '', 'LogonGuid': '', 'LogonHours': '', 'LogonID': '', 'LogonProcessName': '', 'LogonType': None, 'LogonTypeName': '', 'MachineAccountQuota': '', 'MachineInventory': '', 'MachineLogon': '', 'MandatoryLabel': 'S-1-16-16384', 'MaxPasswordAge': '', 'MemberName': '', 'MemberSid': '', 'MinPasswordAge': '', 'MinPasswordLength': '', 'MixedDomainMode': '', 'NASIdentifier': '', 'NASIPv4Address': '', 'NASIPv6Address': '', 'NASPort': '', 'NASPortType': '', 'NetworkPolicyName': '', 'NewDate': '', 'NewMaxUsers': '', 'NewProcessId': '0x5a4', 'NewProcessName': 'C:\\\\Windows\\\\System32\\\\cscript.exe', 'NewRemark': '', 'NewShareFlags': '', 'NewTime': '', 'NewUacValue': '', 'NewValue': '', 'NewValueType': '', 'ObjectName': '', 'ObjectServer': '', 'ObjectType': '', 'ObjectValueName': '', 'OemInformation': '', 'OldMaxUsers': '', 'OldRemark': '', 'OldShareFlags': '', 'OldUacValue': '', 'OldValue': '', 'OldValueType': '', 'OperationType': '', 'PackageName': '', 'ParentProcessName': 'C:\\\\Program Files\\\\Microsoft Monitoring Agent\\\\Agent\\\\MonitoringHost.exe', 'PasswordHistoryLength': '', 'PasswordLastSet': '', 'PasswordProperties': '', 'PreviousDate': '', 'PreviousTime': '', 'PrimaryGroupId': '', 'PrivateKeyUsageCount': '', 'PrivilegeList': '', 'Process': 'cscript.exe', 'ProcessId': '0x12ec', 'ProcessName': '', 'Properties': '', 'ProfilePath': '', 'ProtocolSequence': '', 'ProxyPolicyName': '', 'QuarantineHelpURL': '', 'QuarantineSessionID': '', 'QuarantineSessionIdentifier': '', 'QuarantineState': '', 'QuarantineSystemHealthResult': '', 'RelativeTargetName': '', 'RemoteIpAddress': '', 'RemotePort': '', 'Requester': '', 'RequestId': '', 'RestrictedAdminMode': '', 'RowsDeleted': '', 'SamAccountName': '', 'ScriptPath': '', 'SecurityDescriptor': '', 'ServiceAccount': '', 'ServiceFileName': '', 'ServiceName': '', 'ServiceStartType': None, 'ServiceType': '', 'SessionName': '', 'ShareLocalPath': '', 'ShareName': '', 'SidHistory': '', 'Status': '', 'SubjectAccount': 'WORKGROUP\\\\v-arrikl-03020$', 'SubcategoryGuid': '', 'SubcategoryId': '', 'Subject': '', 'SubjectDomainName': 'WORKGROUP', 'SubjectKeyIdentifier': '', 'SubjectLogonId': '0x3e7', 'SubjectMachineName': '', 'SubjectMachineSID': '', 'SubjectUserName': 'v-arrikl-03020$', 'SubjectUserSid': 'S-1-5-18', 'SubStatus': '', 'TableId': '', 'TargetAccount': '-\\\\-', 'TargetDomainName': '-', 'TargetInfo': '', 'TargetLinkedLogonId': '', 'TargetLogonGuid': '', 'TargetLogonId': '0x0', 'TargetOutboundDomainName': '', 'TargetOutboundUserName': '', 'TargetServerName': '', 'TargetSid': '', 'TargetUser': '', 'TargetUserName': '-', 'TargetUserSid': 'S-1-0-0', 'TemplateContent': '', 'TemplateDSObjectFQDN': '', 'TemplateInternalName': '', 'TemplateOID': '', 'TemplateSchemaVersion': '', 'TemplateVersion': '', 'TokenElevationType': '%%1936', 'TransmittedServices': '', 'UserAccountControl': '', 'UserParameters': '', 'UserPrincipalName': '', 'UserWorkstations': '', 'VirtualAccount': '', 'VendorIds': '', 'Workstation': '', 'WorkstationName': '', 'SourceComputerId': 'a52f4370-23ed-4f94-b2a8-888dbbbc6903', 'EventOriginId': 'e4de9005-c56a-496c-8186-dd7d72c73ae2', 'MG': '00000000-0000-0000-0000-000000000001', 'TimeCollected': datetime.datetime(2019, 2, 5, 0, 40, 57, 930000, tzinfo=tzutc()), 'ManagementGroupName': 'AOI-802d39e1-9d70-404d-832c-2de5e2478eda', 'DestAddress_CF': '', 'DstAddress_CF': '', 'Type': 'SecurityEvent', '_ResourceId': '/subscriptions/3c1bb38c-82e3-4f8d-a115-a7110ba70d05/resourcegroups/v-arrikl-windowstestrg/providers/microsoft.compute/virtualmachines/v-arrikl-03020'}]"
      ]
     },
     "execution_count": 22,
     "metadata": {},
     "output_type": "execute_result"
    }
   ],
   "source": [
    "%kql SecurityEvent | where TimeGenerated >={start} and TimeGenerated <={end} | take 1\n"
   ]
  },
  {
   "cell_type": "code",
   "execution_count": null,
   "metadata": {},
   "outputs": [],
   "source": [
    "# Type some code\n"
   ]
  },
  {
   "cell_type": "markdown",
   "metadata": {},
   "source": [
    "<a id='moresections'></a>[Contents](#toc)\n",
    "# More Sections Here"
   ]
  },
  {
   "cell_type": "markdown",
   "metadata": {
    "hidden": true
   },
   "source": [
    "<a id='appendices'></a>[Contents](#toc)\n",
    "# Appendices"
   ]
  },
  {
   "cell_type": "markdown",
   "metadata": {},
   "source": [
    "## Available DataFrames"
   ]
  },
  {
   "cell_type": "code",
   "execution_count": null,
   "metadata": {
    "scrolled": false
   },
   "outputs": [],
   "source": [
    "print('List of current DataFrames in Notebook')\n",
    "print('-' * 50)\n",
    "current_vars = list(locals().keys())\n",
    "for var_name in current_vars:\n",
    "    if isinstance(locals()[var_name], pd.DataFrame) and not var_name.startswith('_'):\n",
    "        print(var_name)"
   ]
  },
  {
   "cell_type": "markdown",
   "metadata": {},
   "source": [
    "## Saving Data to CSV\n",
    "To save the contents of a pandas DataFrame to an CSV\n",
    "use the following syntax\n",
    "```\n",
    "host_logons.to_csv('host_logons.csv')\n",
    "```"
   ]
  },
  {
   "cell_type": "markdown",
   "metadata": {
    "heading_collapsed": true,
    "tags": [
     "todo"
    ]
   },
   "source": [
    "## Saving Data to Excel\n",
    "To save the contents of a pandas DataFrame to an Excel spreadsheet\n",
    "use the following syntax\n",
    "```\n",
    "writer = pd.ExcelWriter('myWorksheet.xlsx')\n",
    "my_data_frame.to_excel(writer,'Sheet1')\n",
    "writer.save()\n",
    "```"
   ]
  }
 ],
 "metadata": {
  "celltoolbar": "Tags",
  "hide_input": false,
  "kernelspec": {
   "display_name": "Python 3",
   "language": "python",
   "name": "python3"
  },
  "language_info": {
   "codemirror_mode": {
    "name": "ipython",
    "version": 3
   },
   "file_extension": ".py",
   "mimetype": "text/x-python",
   "name": "python",
   "nbconvert_exporter": "python",
   "pygments_lexer": "ipython3",
   "version": "3.6.5"
  },
  "toc": {
   "base_numbering": 1,
   "nav_menu": {
    "height": "318.996px",
    "width": "320.994px"
   },
   "number_sections": true,
   "sideBar": true,
   "skip_h1_title": false,
   "title_cell": "Table of Contents",
   "title_sidebar": "Contents",
   "toc_cell": false,
   "toc_position": {
    "height": "calc(100% - 180px)",
    "left": "10px",
    "top": "150px",
    "width": "165px"
   },
   "toc_section_display": true,
   "toc_window_display": true
  },
  "varInspector": {
   "cols": {
    "lenName": 16,
    "lenType": 16,
    "lenVar": 40
   },
   "kernels_config": {
    "python": {
     "delete_cmd_postfix": "",
     "delete_cmd_prefix": "del ",
     "library": "var_list.py",
     "varRefreshCmd": "print(var_dic_list())"
    },
    "r": {
     "delete_cmd_postfix": ") ",
     "delete_cmd_prefix": "rm(",
     "library": "var_list.r",
     "varRefreshCmd": "cat(var_dic_list()) "
    }
   },
   "position": {
    "height": "406.193px",
    "left": "1468.4px",
    "right": "20px",
    "top": "120px",
    "width": "456.572px"
   },
   "types_to_exclude": [
    "module",
    "function",
    "builtin_function_or_method",
    "instance",
    "_Feature"
   ],
   "window_display": false
  }
 },
 "nbformat": 4,
 "nbformat_minor": 2
}
