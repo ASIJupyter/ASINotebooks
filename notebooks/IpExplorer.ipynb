{
 "cells": [
  {
   "cell_type": "markdown",
   "metadata": {},
   "source": [
    "# Title: IP Address Explorer\n",
    "LogAnalytics\n",
    "\n",
    "## Description:\n",
    "Series of modules designed to help get a better understanding of the contents of a process-based alert.\n"
   ]
  },
  {
   "cell_type": "markdown",
   "metadata": {},
   "source": [
    "<a id='toc'></a>\n",
    "## Table of Contents\n",
    "- [Setup and Authenticate](#setup)\n",
    "\n",
    "- [Get Alerts List](#getalertslist)\n",
    "- [Choose an Alert to investigate](#enteralertid)\n",
    "  - [Extract Properties and entities from alert](#extractalertproperties)\n",
    "  - [Entity Graph](#entitygraph)\n",
    "- [Related Alerts](#related_alerts)\n",
    "- [Session Process Tree](#processtree)\n",
    "  - [Process Timeline](#processtimeline)\n",
    "- [Other Process on Host](#process_clustering)\n",
    "- [Check for IOCs in Commandline](#cmdlineiocs)\n",
    "  - [VirusTotal lookup](#virustotallookup)\n",
    "- [Alert command line - Occurrence on other hosts in subscription](#cmdlineonotherhosts)\n",
    "- [Host Logons](#host_logons)\n",
    "  - [Alert Account](#logonaccount)\n",
    "  - [Failed Logons](#failed_logons)\n",
    "- [Appendices](#appendices)\n",
    "  - [Saving data to Excel](#appendices)\n",
    "  \n",
    "- Linux machine SSH Brute force alert\n",
    "- Network logs - traced to Windows machine\n",
    "- Windows machine\n",
    "  - View logons\n",
    "  - See RDP logon\n",
    "  - Get process session for suspicious logon\n",
    "  - Process tree shows FTP downloading tools\n",
    "  - Lookup domain in TI to confirm"
   ]
  },
  {
   "cell_type": "markdown",
   "metadata": {},
   "source": [
    "### Import Python Packages"
   ]
  },
  {
   "cell_type": "code",
   "execution_count": null,
   "metadata": {
    "scrolled": true
   },
   "outputs": [],
   "source": [
    "# Imports\n",
    "import sys\n",
    "MIN_REQ_PYTHON = (3,6)\n",
    "if sys.version_info < MIN_REQ_PYTHON:\n",
    "    print('Check the Kernel->Change Kernel menu and ensure that Python 3.6')\n",
    "    print('or later is selected as the active kernel.')\n",
    "    sys.exit(\"Python %s.%s or later is required.\\n\" % MIN_REQ_PYTHON)\n",
    "\n",
    "import numpy as np\n",
    "from IPython import get_ipython\n",
    "from IPython.display import display, HTML\n",
    "import ipywidgets as widgets\n",
    "\n",
    "import matplotlib.pyplot as plt\n",
    "import seaborn as sns\n",
    "import networkx as nx\n",
    "\n",
    "import pandas as pd\n",
    "pd.set_option('display.max_rows', 500)\n",
    "pd.set_option('display.max_columns', 50)\n",
    "pd.set_option('display.max_colwidth', 100)\n",
    "\n",
    "import os\n",
    "import sys\n",
    "module_path = os.path.abspath(os.path.join('..'))\n",
    "if module_path not in sys.path:\n",
    "    sys.path.append(module_path)\n",
    "    \n",
    "import msticpy.sectools as sectools\n",
    "import msticpy.asitools as asi\n",
    "import msticpy.asitools.kql as qry\n",
    "import msticpy.asitools.nbdisplay as asidisp\n",
    "\n",
    "WIDGET_DEFAULTS = {'layout': widgets.Layout(width='95%'),\n",
    "                   'style': {'description_width': 'initial'}}\n",
    "HTML('''\n",
    "    <script type=\"text/javascript\">\n",
    "        IPython.notebook.kernel.execute(\"nb_query_string='\".concat(window.location.search).concat(\"'\"));\n",
    "    </script>\n",
    "    ''');"
   ]
  },
  {
   "cell_type": "markdown",
   "metadata": {
    "tags": [
     "remove"
    ]
   },
   "source": [
    "### Enter or confirm WorkspaceId\n",
    "To find your Workspace Id go to [Log Analytics](#https://ms.portal.azure.com/#blade/HubsExtension/Resources/resourceType/Microsoft.OperationalInsights%2Fworkspaces). Look at the workspace properties to find the ID."
   ]
  },
  {
   "cell_type": "code",
   "execution_count": null,
   "metadata": {
    "scrolled": false,
    "tags": [
     "remove",
     "internal"
    ]
   },
   "outputs": [],
   "source": [
    "available_workspaces = {'Contoso77':'802d39e1-9d70-404d-832c-2de5e2478eda', \n",
    "                        'MSTICLinux':'06dc719f-5dad-47e9-b5af-07d84a0bda4e',\n",
    "                        'ASIHuntOMSWorkspaceV4': '52b1ab41-869e-4138-9e40-2a4457f09bf0',\n",
    "                        'ASIHuntOMSWorkspaceV5': '4ca7b24a-6e8f-4540-a8ce-1a80c2948c37',\n",
    "                        'Rome ILDC - Detection E2E Tests Stage': '3eb61071-5dcd-4db3-94fa-0091a69b7359'}\n",
    "select_ws = asi.SelectString(description='Select workspace :',\n",
    "                             item_dict=available_workspaces)\n",
    "\n",
    "select_ws.display()"
   ]
  },
  {
   "cell_type": "code",
   "execution_count": null,
   "metadata": {
    "tags": [
     "todo"
    ]
   },
   "outputs": [],
   "source": [
    "import os\n",
    "from msticpy.asitools.asiconfig import WorkspaceConfig\n",
    "ws_config_file = 'config.json'\n",
    "try:\n",
    "    ws_config = WorkspaceConfig(ws_config_file)\n",
    "    print('Found config file')\n",
    "    for cf_item in ['tenant_id', 'subscription_id', 'resource_group', 'workspace_id', 'workspace_name']:\n",
    "        print(cf_item, ws_config[cf_item])\n",
    "except:\n",
    "    ws_config = None\n",
    "\n",
    "ws_id = asi.GetEnvironmentKey(env_var='WORKSPACE_ID',\n",
    "                              prompt='Log Analytics Workspace Id:')\n",
    "if ws_config:\n",
    "    ws_id.value = ws_config['workspace_id']\n",
    "ws_id.display()"
   ]
  },
  {
   "cell_type": "markdown",
   "metadata": {},
   "source": [
    "### Authenticate to Log Analytics\n",
    "If you are using user/device authentication, run the following cell. \n",
    "- Click the 'Copy code to clipboard and authenticate' button.\n",
    "- This will pop up an Azure Active Directory authentication dialog (in a new tab or browser window). The device code will have been copied to the clipboard. \n",
    "- Select the text box and paste (Ctrl-V/Cmd-V) the copied value. \n",
    "- You should then be redirected to a user authentication page where you should authenticate with a user account that has permission to query your Log Analytics workspace.\n",
    "\n",
    "Use the following syntax if you are authenticating using an Azure Active Directory AppId and Secret:\n",
    "```\n",
    "%kql loganalytics://tenant(aad_tenant).workspace(WORKSPACE_ID).clientid(client_id).clientsecret(client_secret)\n",
    "```\n",
    "instead of\n",
    "```\n",
    "%kql loganalytics://code().workspace(WORKSPACE_ID)\n",
    "```"
   ]
  },
  {
   "cell_type": "code",
   "execution_count": null,
   "metadata": {
    "tags": [
     "todo"
    ]
   },
   "outputs": [],
   "source": [
    "try:\n",
    "    WORKSPACE_ID = select_ws.value\n",
    "except NameError:\n",
    "    try:\n",
    "        WORKSPACE_ID = ws_id.value\n",
    "    except NameError:\n",
    "        WORKSPACE_ID = None\n",
    "    \n",
    "if not WORKSPACE_ID:\n",
    "    raise ValueError('No workspace selected.')\n",
    "\n",
    "asi.kql.load_kql_magic()\n",
    "\n",
    "%kql loganalytics://code().workspace(WORKSPACE_ID)\n"
   ]
  },
  {
   "cell_type": "markdown",
   "metadata": {},
   "source": [
    "<a id='get_ip'></a>[Contents](#toc)\n",
    "# Enter the IP Address or paste an IP entity.\n",
    "Set the query time window"
   ]
  },
  {
   "cell_type": "code",
   "execution_count": null,
   "metadata": {},
   "outputs": [],
   "source": [
    "ip_text = widgets.Text(description='Enter the IP Address to search for:', **WIDGET_DEFAULTS)\n",
    "display(ip_text)"
   ]
  },
  {
   "cell_type": "markdown",
   "metadata": {},
   "source": [
    "# Internal Address Flow"
   ]
  },
  {
   "cell_type": "markdown",
   "metadata": {},
   "source": [
    "## Try to find a host with this address"
   ]
  },
  {
   "cell_type": "code",
   "execution_count": null,
   "metadata": {},
   "outputs": [],
   "source": [
    "aznet_query = '''\n",
    "AzureNetworkAnalytics_CL \n",
    "| where PrivateIPAddresses_s has \\'{address}\\' \n",
    "or PublicIPAddresses_s has \\'{address}\\'\n",
    "| where ResourceType == 'NetworkInterface'\n",
    "| top 1 by TimeGenerated desc\n",
    "| extend Computer = split(VirtualMachine_s, '/')[-1]\n",
    "| project Computer, PrivateIPAddresses = PrivateIPAddresses_s, \n",
    "    PublicIPAddresses = PublicIPAddresses_s\n",
    "'''.format(address=ip_text.value.strip())\n",
    "%kql -query aznet_query\n",
    "az_net_df = _kql_raw_result_.to_dataframe()\n",
    "\n",
    "\n",
    "oms_heartbeat_query = '''\n",
    "Heartbeat\n",
    "| where ComputerIP == \\'{address}\\'\n",
    "| top 1 by TimeGenerated desc nulls last\n",
    "| project Computer, ComputerIP, OSType, OSMajorVersion, OSMinorVersion, ResourceId, RemoteIPCountry, \n",
    "RemoteIPLatitude, RemoteIPLongitude, SourceComputerId\n",
    "'''.format(address=ip_text.value.strip())\n",
    "%kql -query oms_heartbeat_query\n",
    "oms_heartbeat_df = _kql_raw_result_.to_dataframe()\n",
    "\n",
    "if len(oms_heartbeat_df == 1):\n",
    "    host_name = oms_heartbeat_df['Computer'].loc[0]\n",
    "elif len(az_net_df == 1):\n",
    "    host_name = az_net_df['Computer'].loc[0]\n",
    "else:\n",
    "    host_name = 'unknown'\n",
    "    "
   ]
  },
  {
   "cell_type": "code",
   "execution_count": null,
   "metadata": {},
   "outputs": [],
   "source": [
    "# Get the host entity and add this IP and system info to the entities\n",
    "from msticpy.sectools.geoip import GeoLiteLookup\n",
    "iplocation = GeoLiteLookup()\n",
    "\n",
    "try:\n",
    "    if not inv_host_entity:\n",
    "        inv_host_entity = asi.Host()\n",
    "        \n",
    "except NameError:\n",
    "    inv_host_entity = asi.Host()\n",
    "    inv_host_entity.HostName = host_name\n",
    "    \n",
    "src_ip_entity = asi.IpAddress(Address=ip_text.value.strip())\n",
    "iplocation.lookup_ip(ip_entity=src_ip_entity)\n",
    "\n",
    "def convert_to_ip_entities(ip_str):\n",
    "    ip_entities = []\n",
    "    if ip_str:\n",
    "        if ',' in ip_str:\n",
    "            addrs = ip_str.split(',')\n",
    "        elif ' ' in ip_str:\n",
    "            addrs = ip_str.split(' ')\n",
    "        else:\n",
    "            addrs = [ip_str]\n",
    "        for addr in addrs:\n",
    "            ip_entity = asi.IpAddress()\n",
    "            ip_entity.Address = addr.strip()\n",
    "            iplocation.lookup_ip(ip_entity=ip_entity)\n",
    "            ip_entities.append(ip_entity)\n",
    "    return ip_entities\n",
    "\n",
    "# Add this information to our inv_host_entity\n",
    "if len(az_net_df) == 1:\n",
    "    priv_addr_str = az_net_df['PrivateIPAddresses'].loc[0]\n",
    "    inv_host_entity.properties['private_ips'] = convert_to_ip_entities(priv_addr_str)\n",
    "\n",
    "    pub_addr_str = az_net_df['PublicIPAddresses'].loc[0]\n",
    "    inv_host_entity.properties['public_ips'] = convert_to_ip_entities(pub_addr_str)\n",
    "\n",
    "retrieved_address = [ip.Address for ip in inv_host_entity.properties['public_ips']]\n",
    "if len(oms_heartbeat_df) == 1:\n",
    "    if oms_heartbeat_df['ComputerIP'].loc[0]:\n",
    "        oms_address = oms_heartbeat_df['ComputerIP'].loc[0]\n",
    "        if oms_address not in retrieved_address:\n",
    "            ip_entity = asi.IpAddress()\n",
    "            ip_entity.Address = oms_address\n",
    "            iplocation.lookup_ip(ip_entity=ip_entity)\n",
    "            inv_host_entity.properties['public_ips'].append(ip_entity)\n",
    "        \n",
    "    inv_host_entity.OSFamily = oms_heartbeat_df['OSType'].loc[0]\n",
    "    inv_host_entity.AdditionalData['OSMajorVersion'] = oms_heartbeat_df['OSMajorVersion'].loc[0]\n",
    "    inv_host_entity.AdditionalData['OSMinorVersion'] = oms_heartbeat_df['OSMinorVersion'].loc[0]\n",
    "    inv_host_entity.AdditionalData['SourceComputerId'] = oms_heartbeat_df['SourceComputerId'].loc[0]\n",
    "\n",
    "print('Updated Host Entity\\n')\n",
    "print(inv_host_entity)\n",
    "print(src_ip_entity)"
   ]
  },
  {
   "cell_type": "markdown",
   "metadata": {},
   "source": [
    "### Geo-mapping function definition"
   ]
  },
  {
   "cell_type": "code",
   "execution_count": null,
   "metadata": {
    "scrolled": true
   },
   "outputs": [],
   "source": [
    "import folium\n",
    "from folium.plugins import MarkerCluster\n",
    "from numbers import Number\n",
    "import warnings\n",
    "\n",
    "def create_ip_map():\n",
    "    folium_map = folium.Map(zoom_start=7, tiles=None, width='100%', height='100%')\n",
    "    folium_map.add_tile_layer(name='IPEvents')\n",
    "    return folium_map\n",
    "\n",
    "def add_ip_cluster(folium_map, ip_entities, alert=None, **icon_props):\n",
    "    if not folium_map:\n",
    "        folium_map = create_ip_map()\n",
    "    marker_cluster = MarkerCluster()\n",
    "\n",
    "    for ip_entity in ip_entities:\n",
    "        if not (isinstance(ip_entity.Location.Latitude, Number) and\n",
    "                isinstance(ip_entity.Location.Longitude, Number)):\n",
    "            warnings.warn(\"Invalid location information for IP: \" + ip_entity.Address,\n",
    "                          RuntimeWarning)\n",
    "            continue\n",
    "        loc_props = ', '.join([f'{key}={val}' for key, val in \n",
    "                               ip_entity.Location.properties.items() if val])\n",
    "        popup_text = \"{loc_props}<br>{IP}\".format(IP=ip_entity.Address,\n",
    "                                                  loc_props=loc_props)\n",
    "        tooltip_text = '{City}, {CountryName}'.format(**ip_entity.Location.properties)\n",
    "        if alert:\n",
    "            popup_text = f'{popup_text}<br>{alert.AlertName}'\n",
    "        if ip_entity.AdditionalData:\n",
    "            addl_props = ', '.join([f'{key}={val}' for key, val in \n",
    "                                    ip_entity.AdditionalData.items() if val])\n",
    "            popup_text = f'{popup_text}<br>{addl_props}'\n",
    "            tooltip_text = f'{tooltip_text}, {addl_props}'\n",
    "        marker = folium.Marker(\n",
    "            location = [ip_entity.Location.Latitude, ip_entity.Location.Longitude],\n",
    "            popup=popup_text,\n",
    "            tooltip=tooltip_text,\n",
    "            icon=folium.Icon(**icon_props)\n",
    "        )\n",
    "        marker_cluster.add_child(marker)\n",
    "\n",
    "    folium_map.add_child(marker_cluster)\n",
    "    return folium_map\n",
    "\n",
    "ip_loc_map = create_ip_map()\n",
    "icon_props = {'color': 'blue', 'icon': 'crosshairs', 'prefix': 'fa'}\n",
    "ip_loc_map = add_ip_cluster(folium_map=ip_loc_map,\n",
    "                            ip_entities=[src_ip_entity],\n",
    "                            **icon_props)\n",
    "display(HTML('<h3>Location of IP Address in alert</h3>'))\n",
    "display(ip_loc_map)"
   ]
  },
  {
   "cell_type": "markdown",
   "metadata": {},
   "source": [
    "### Reverse Lookup and WhoIs"
   ]
  },
  {
   "cell_type": "code",
   "execution_count": null,
   "metadata": {},
   "outputs": [],
   "source": [
    "# reverse DNS lookup\n",
    "from dns import reversename, resolver\n",
    "from ipwhois import IPWhois\n",
    "for src_ip_entity in alert_ip_entities:\n",
    "    print('IP:', src_ip_entity.Address)\n",
    "    print('-'*50)\n",
    "    \n",
    "    print('Reverse Name Lookup.')\n",
    "    rev_name = reversename.from_address(src_ip_entity.Address)\n",
    "    \n",
    "    print(rev_name)\n",
    "    try:\n",
    "        rev_dns = str(resolver.query(rev_name, 'PTR'))\n",
    "        display(rev_dns)\n",
    "    except:\n",
    "        print('No reverse addr result')\n",
    "        pass\n",
    "\n",
    "    print('\\nWhoIs Lookup.')\n",
    "    whois = IPWhois(src_ip_entity.Address)\n",
    "    whois_result = whois.lookup_whois()\n",
    "    if whois_result:\n",
    "        display(whois_result)\n",
    "    else:\n",
    "        print('No whois result')"
   ]
  },
  {
   "cell_type": "markdown",
   "metadata": {},
   "source": [
    "<a id='check_alert_cd'></a>[Contents](#toc)\n",
    "## Check the IP Address for known C2 addresses"
   ]
  },
  {
   "cell_type": "code",
   "execution_count": null,
   "metadata": {},
   "outputs": [],
   "source": [
    "# Lookup in BYOTI or VT (or IPRep)"
   ]
  },
  {
   "cell_type": "markdown",
   "metadata": {},
   "source": [
    "<a id='comms_to_other_hosts'></a>[Contents](#toc)\n",
    "## Check Communications with Other Hosts"
   ]
  },
  {
   "cell_type": "code",
   "execution_count": null,
   "metadata": {},
   "outputs": [],
   "source": [
    "# Azure Network Analytics Base Query\n",
    "az_net_analytics_query =r'''\n",
    "AzureNetworkAnalytics_CL \n",
    "| where SubType_s == 'FlowLog'\n",
    "| where FlowStartTime_t >= datetime({start})\n",
    "| where FlowEndTime_t <= datetime({end})\n",
    "| project TenantId, TimeGenerated, \n",
    "    FlowStartTime = FlowStartTime_t, \n",
    "    FlowEndTime = FlowEndTime_t, \n",
    "    FlowIntervalEndTime = FlowIntervalEndTime_t, \n",
    "    FlowType = FlowType_s,\n",
    "    ResourceGroup = split(VM_s, '/')[0],\n",
    "    VMName = split(VM_s, '/')[1],\n",
    "    VMIPAddress = VMIP_s, \n",
    "    PublicIPs = extractall(@\"([\\d\\.]+)[|\\d]+\", dynamic([1]), PublicIPs_s),\n",
    "    L4Protocol = L4Protocol_s, \n",
    "    L7Protocol = L7Protocol_s, \n",
    "    DestPort = DestPort_d, \n",
    "    FlowDirection = FlowDirection_s,\n",
    "    AllowedOutFlows = AllowedOutFlows_d, \n",
    "    AllowedInFlows = AllowedInFlows_d,\n",
    "    DeniedInFlows = DeniedInFlows_d, \n",
    "    DeniedOutFlows = DeniedOutFlows_d,\n",
    "    RemoteRegion = AzureRegion_s,\n",
    "    VMRegion = Region_s\n",
    "| where {where_clause}\n",
    "'''\n",
    "\n",
    "ip_q_times = asi.QueryTime(label='Set time bounds for network queries',\n",
    "                           units='hour', max_before=48, before=5, after=1, \n",
    "                           max_after=24)\n",
    "ip_q_times.display()"
   ]
  },
  {
   "cell_type": "markdown",
   "metadata": {},
   "source": [
    "### Query Flows by Host IP Addresses"
   ]
  },
  {
   "cell_type": "code",
   "execution_count": null,
   "metadata": {},
   "outputs": [],
   "source": [
    "all_inv_host_ips = inv_host_entity.private_ips + inv_host_entity.public_ips\n",
    "host_ips = {'\\'{}\\''.format(i.Address) for i in all_inv_host_ips}\n",
    "inv_host_ip_list = ','.join(host_ips)\n",
    "\n",
    "az_ip_where = f'''\n",
    "VMIPAddress in ({inv_host_ip_list}) and \n",
    "(AllowedOutFlows > 0 or AllowedInFlows > 0)'''\n",
    "\n",
    "az_net_query_byip = az_net_analytics_query.format(where_clause=az_ip_where,\n",
    "                                                  start = ip_q_times.start,\n",
    "                                                  end = ip_q_times.end)\n",
    "%kql -query az_net_query_byip\n",
    "az_net_comms_df = _kql_raw_result_.to_dataframe()\n",
    "az_net_comms_df"
   ]
  },
  {
   "cell_type": "markdown",
   "metadata": {},
   "source": [
    "### Query Flows by HostName (preferred)"
   ]
  },
  {
   "cell_type": "code",
   "execution_count": null,
   "metadata": {},
   "outputs": [],
   "source": [
    "# restrict to host and only include allowed flows\n",
    "az_host_where = f'''\n",
    "VMName == tolower(\\'{inv_host_entity.HostName}\\') and \n",
    "(AllowedOutFlows > 0 or AllowedInFlows > 0)\n",
    "'''\n",
    "az_net_query_byhost = az_net_analytics_query.format(where_clause=az_host_where,\n",
    "                                                    start = ip_q_times.start,\n",
    "                                                    end = ip_q_times.end)\n",
    "%kql -query az_net_query_byhost\n",
    "az_net_comms_df = _kql_raw_result_.to_dataframe()\n",
    "az_net_comms_df"
   ]
  },
  {
   "cell_type": "markdown",
   "metadata": {},
   "source": [
    "### Time and Protocol Distribution"
   ]
  },
  {
   "cell_type": "code",
   "execution_count": null,
   "metadata": {},
   "outputs": [],
   "source": [
    "az_net_comms_df['TotalAllowedFlows'] = az_net_comms_df['AllowedOutFlows'] + az_net_comms_df['AllowedInFlows']\n",
    "sns.catplot(x=\"L7Protocol\", y=\"TotalAllowedFlows\", col=\"FlowDirection\", data=az_net_comms_df)\n",
    "sns.relplot(x=\"FlowStartTime\", y=\"TotalAllowedFlows\", col=\"FlowDirection\", kind=\"line\", hue=\"L7Protocol\", data=az_net_comms_df)"
   ]
  },
  {
   "cell_type": "markdown",
   "metadata": {},
   "source": [
    "### Interactive Flow Timeline"
   ]
  },
  {
   "cell_type": "code",
   "execution_count": null,
   "metadata": {
    "scrolled": true
   },
   "outputs": [],
   "source": [
    "az_net_comms_df['ExtIPs'] = az_net_comms_df.apply(lambda x: ', '.join(list(x.PublicIPs)) if\n",
    "                                                  x.PublicIPs else None, axis=1)\n",
    "asidisp.display_timeline(data=az_net_comms_df.query('AllowedOutFlows > 0 or AllowedInFlows > 0'),\n",
    "                         title='Network Flows',\n",
    "                         time_column='FlowStartTime',\n",
    "                         source_columns=['FlowType', 'ExtIPs', 'L7Protocol', 'FlowDirection'],\n",
    "                         height=300)"
   ]
  },
  {
   "cell_type": "markdown",
   "metadata": {},
   "source": [
    "## GeoLocation Mapping"
   ]
  },
  {
   "cell_type": "code",
   "execution_count": null,
   "metadata": {
    "scrolled": false
   },
   "outputs": [],
   "source": [
    "ip_locs_in = set()\n",
    "ip_locs_out = set()\n",
    "for _, row in az_net_comms_df.iterrows():\n",
    "    for ip in row.PublicIPs:\n",
    "        if ip in ip_locs_in or ip in ip_locs_out:\n",
    "            continue\n",
    "        ip_entity = asi.IpAddress(Address=ip)\n",
    "        iplocation.lookup_ip(ip_entity=ip_entity)\n",
    "        if not ip_entity.Location:\n",
    "            continue\n",
    "        ip_entity.AdditionalData['protocol'] = row.L7Protocol\n",
    "        if row.FlowDirection == 'I':\n",
    "            ip_locs_in.add(ip_entity)\n",
    "        else:\n",
    "            ip_locs_out.add(ip_entity)\n",
    "            \n",
    "flow_map = create_ip_map()\n",
    "display(HTML('<h3>External IP Addresses communicating with host</h3>'))\n",
    "display(HTML('Numbered circles indicate multiple items - click to expand'))\n",
    "display(HTML('Location markers: Blue = outbound, Purple = inbound'))\n",
    "\n",
    "\n",
    "icon_props = {'color': 'purple'}\n",
    "flow_map = add_ip_cluster(folium_map=flow_map,\n",
    "                            ip_entities=ip_locs_in,\n",
    "                            **icon_props)\n",
    "icon_props = {'color': 'blue'}\n",
    "flow_map = add_ip_cluster(folium_map=flow_map,\n",
    "                            ip_entities=ip_locs_out,\n",
    "                            **icon_props)\n",
    "display(flow_map)\n"
   ]
  },
  {
   "cell_type": "markdown",
   "metadata": {},
   "source": [
    "### Include Denied Flows - who's trying to get in from where?"
   ]
  },
  {
   "cell_type": "code",
   "execution_count": null,
   "metadata": {},
   "outputs": [],
   "source": [
    "az_host_where = f'''\n",
    "VMName == tolower(\\'{inv_host_entity.HostName}\\')\n",
    "'''\n",
    "az_net_query_byhost = az_net_analytics_query.format(where_clause=az_host_where,\n",
    "                                                    start = ip_q_times.start,\n",
    "                                                    end = ip_q_times.end)\n",
    "\n",
    "%kql -query az_net_query_byhost\n",
    "az_net_comms_block_df = _kql_raw_result_.to_dataframe()\n",
    "az_net_comms_block_df"
   ]
  },
  {
   "cell_type": "code",
   "execution_count": null,
   "metadata": {
    "scrolled": false
   },
   "outputs": [],
   "source": [
    "ip_all = set()\n",
    "ip_locs_in_allow = set()\n",
    "ip_locs_out_allow = set()\n",
    "ip_locs_in_deny = set()\n",
    "ip_locs_out_deny = set()\n",
    "for _, row in az_net_comms_block_df.iterrows():\n",
    "    if not row.PublicIPs:\n",
    "        continue\n",
    "    for ip in row.PublicIPs:\n",
    "        if ip in ip_all:\n",
    "            continue\n",
    "        ip_all.add(ip)\n",
    "        ip_entity = asi.IpAddress(Address=ip)\n",
    "        iplocation.lookup_ip(ip_entity=ip_entity)\n",
    "        if not ip_entity.Location:\n",
    "            warnings.warn(\"No location information for IP: \" + ip,\n",
    "                          RuntimeWarning)\n",
    "            continue\n",
    "        ip_entity.AdditionalData['protocol'] = row.L7Protocol\n",
    "        if row.FlowDirection == 'I':\n",
    "            if row.AllowedInFlows > 0:\n",
    "                ip_locs_in_allow.add(ip_entity)\n",
    "            elif row.DeniedInFlows > 0:\n",
    "                ip_locs_in_deny.add(ip_entity)\n",
    "        else:\n",
    "            if row.AllowedOutFlows > 0:\n",
    "                ip_locs_out_allow.add(ip_entity)\n",
    "            elif row.DeniedOutFlows > 0:\n",
    "                ip_locs_out_deny.add(ip_entity)\n",
    "            \n",
    "flow_map = create_ip_map()\n",
    "display(HTML('<h3>External IP Addresses Blocked and Allowed communicating with host</h3>'))\n",
    "display(HTML('Numbered circles indicate multiple items - click to expand.'))\n",
    "display(HTML('Location markers: Blue = outbound, Purple = inbound, Red = in denied, Cyan = out denied.'))\n",
    "\n",
    "\n",
    "icon_props = {'color': 'purple'}\n",
    "flow_map = add_ip_cluster(folium_map=flow_map,\n",
    "                            ip_entities=ip_locs_in_allow,\n",
    "                            **icon_props)\n",
    "icon_props = {'color': 'blue'}\n",
    "flow_map = add_ip_cluster(folium_map=flow_map,\n",
    "                            ip_entities=ip_locs_out_allow,\n",
    "                            **icon_props)\n",
    "icon_props = {'color': 'red'}\n",
    "flow_map = add_ip_cluster(folium_map=flow_map,\n",
    "                            ip_entities=ip_locs_in_deny,\n",
    "                            **icon_props)\n",
    "icon_props = {'color': 'cyan'}\n",
    "flow_map = add_ip_cluster(folium_map=flow_map,\n",
    "                            ip_entities=ip_locs_out_deny,\n",
    "                            **icon_props)\n",
    "display(flow_map)\n"
   ]
  },
  {
   "cell_type": "markdown",
   "metadata": {},
   "source": [
    "## Flows to/from External IPs that are blocked in other cases"
   ]
  },
  {
   "cell_type": "code",
   "execution_count": null,
   "metadata": {
    "scrolled": false
   },
   "outputs": [],
   "source": [
    "asidemo_query = '''\n",
    "let denied_flows = materialize(AzureNetworkAnalytics_CL \n",
    "| where SubType_s == 'FlowLog'\n",
    "| where TimeGenerated >= ago(1d)\n",
    "| project TenantId, TimeGenerated, \n",
    "    FlowStartTime = FlowStartTime_t, \n",
    "    FlowEndTime = FlowEndTime_t, \n",
    "    FlowIntervalEndTime = FlowIntervalEndTime_t, \n",
    "    FlowType = FlowType_s,\n",
    "    ResourceGroup = split(VM_s, '/')[0],\n",
    "    VMName = tostring(split(VM_s, '/')[1]),\n",
    "    VMIPAddress = VMIP_s,\n",
    "    PublicIPs = extractall(@\"([\\d\\.]+)[|\\d]+\", dynamic([1]), PublicIPs_s),\n",
    "    L4Protocol = L4Protocol_s, \n",
    "    L7Protocol = L7Protocol_s, \n",
    "    DestPort = DestPort_d, \n",
    "    FlowDirection = FlowDirection_s,\n",
    "    AllowedOutFlows = AllowedOutFlows_d, \n",
    "    AllowedInFlows = AllowedInFlows_d,\n",
    "    DeniedInFlows = DeniedInFlows_d, \n",
    "    DeniedOutFlows = DeniedOutFlows_d,\n",
    "    RemoteRegion = AzureRegion_s,\n",
    "    VMRegion = Region_s \n",
    "| where DeniedInFlows > 0 or DeniedOutFlows > 0\n",
    "| mvexpand PublicIPs\n",
    "| extend PublicIP = tostring(PublicIPs)\n",
    "| project-away PublicIPs\n",
    "| summarize denied_in = sum(DeniedInFlows), denied_out = sum(DeniedOutFlows) by FlowDirection, PublicIP, L7Protocol, VMName\n",
    "| project denied_in, denied_out, d_FlowDirection=FlowDirection, PublicIP, d_L7Protocol=L7Protocol, d_VMName=VMName\n",
    ");\n",
    "denied_flows\n",
    "| join (\n",
    "    AzureNetworkAnalytics_CL\n",
    "    | where TimeGenerated >= ago(1d)\n",
    "    | project \n",
    "        ResourceGroup = split(VM_s, '/')[0],\n",
    "        VMName = tostring(split(VM_s, '/')[1]),\n",
    "        VMIPAddress = VMIP_s,\n",
    "        PublicIPs = extractall(@\"([\\d\\.]+)[|\\d]+\", dynamic([1]), PublicIPs_s),\n",
    "        L7Protocol = L7Protocol_s, \n",
    "        DestPort = DestPort_d, \n",
    "        FlowDirection = FlowDirection_s,\n",
    "        AllowedOutFlows = AllowedOutFlows_d, \n",
    "        AllowedInFlows = AllowedInFlows_d\n",
    "    | where AllowedInFlows > 0 or AllowedOutFlows > 0\n",
    "    | mvexpand PublicIPs\n",
    "    | extend PublicIP = tostring(PublicIPs) \n",
    "    | project-away PublicIPs\n",
    "    | project a_FlowDirection=FlowDirection, PublicIP, a_L7Protocol=L7Protocol, a_VMName=VMName, AllowedInFlows, AllowedOutFlows\n",
    ") on PublicIP \n",
    "| summarize allowed_in = sum(AllowedInFlows), allowed_out = sum(AllowedOutFlows) by PublicIP, d_FlowDirection, d_L7Protocol, d_VMName, denied_in, denied_out,a_FlowDirection, a_L7Protocol, a_VMName\n",
    "| summarize a_L7Protocols = count(a_L7Protocol), allowed_in_t = sum(allowed_in), allowed_out_t = sum(allowed_out) by PublicIP, a_VMName\n",
    "'''\n",
    "\n",
    "%kql -query asidemo_query\n",
    "asidemo_df = _kql_raw_result_.to_dataframe()\n",
    "\n",
    "\n",
    "ip_all = set()\n",
    "ip_locs_in_allow = set()\n",
    "ip_locs_out_allow = set()\n",
    "\n",
    "for _, row in asidemo_df.iterrows():\n",
    "    if not row.PublicIP:\n",
    "        continue\n",
    "    ip = row.PublicIP\n",
    "    if ip in ip_all:\n",
    "        continue\n",
    "    ip_all.add(ip)\n",
    "    ip_entity = asi.IpAddress(Address=ip)\n",
    "    iplocation.lookup_ip(ip_entity=ip_entity)\n",
    "    if not ip_entity.Location:\n",
    "        warnings.warn(\"No location information for IP: \" + ip,\n",
    "                      RuntimeWarning)\n",
    "        continue\n",
    "    ip_entity.AdditionalData['protocols'] = row.a_L7Protocols\n",
    "    if row.allowed_in_t > 0:\n",
    "        ip_locs_in_allow.add(ip_entity)\n",
    "    elif row.allowed_out_t > 0:\n",
    "        ip_locs_out_allow.add(ip_entity)\n",
    "            \n",
    "flow_map_asi = create_ip_map()\n",
    "display(HTML('<h3>External IP Addresses Allowed communicating with host</h3>'))\n",
    "display(HTML('Numbered circles indicate multiple items - click to expand.'))\n",
    "display(HTML('Location markers: Red = in, Purple = out.'))\n",
    "\n",
    "\n",
    "icon_props = {'color': 'red'}\n",
    "flow_map_asi = add_ip_cluster(folium_map=flow_map_asi,\n",
    "                            ip_entities=ip_locs_in_allow,\n",
    "                            **icon_props)\n",
    "icon_props = {'color': 'purple'}\n",
    "flow_map_asi = add_ip_cluster(folium_map=flow_map_asi,\n",
    "                            ip_entities=ip_locs_out_allow,\n",
    "                            **icon_props)\n",
    "\n",
    "display(flow_map_asi)\n"
   ]
  },
  {
   "cell_type": "code",
   "execution_count": null,
   "metadata": {},
   "outputs": [],
   "source": [
    "dns_query =r'''\n",
    "DnsEvents\n",
    "| where ClientIP in ({ip_list})\n",
    "'''.format(ip_list=inv_host_ip_list)\n",
    "\n",
    "%kql -query dns_query\n",
    "dns_df = _kql_raw_result_.to_dataframe()\n",
    "dns_df"
   ]
  },
  {
   "cell_type": "code",
   "execution_count": null,
   "metadata": {},
   "outputs": [],
   "source": [
    "dns_query =r'''\n",
    "DnsEvents\n",
    "| where IPAddresses has ('{src_ip}')\n",
    "'''.format(src_ip=ip_text.value.strip())\n",
    "\n",
    "%kql -query dns_query\n",
    "dns_df = _kql_raw_result_.to_dataframe()\n",
    "dns_df"
   ]
  },
  {
   "cell_type": "code",
   "execution_count": null,
   "metadata": {},
   "outputs": [],
   "source": [
    "TBD"
   ]
  },
  {
   "cell_type": "markdown",
   "metadata": {},
   "source": [
    "### Have any other hosts been communicating with this address?"
   ]
  },
  {
   "cell_type": "code",
   "execution_count": null,
   "metadata": {},
   "outputs": [],
   "source": [
    "ip_q_times = asi.QueryTime(units='day', max_before=10, before=3, after=1, max_after=10)\n",
    "ip_q_times.display()"
   ]
  },
  {
   "cell_type": "code",
   "execution_count": null,
   "metadata": {
    "scrolled": true
   },
   "outputs": [],
   "source": [
    "target_ip = ip_text.value.strip()\n",
    "az_ip_where = f'PublicIPs has \\'{target_ip}\\''\n",
    "\n",
    "az_net_query_by_pub_ip = az_net_analytics_query.format(where_clause=az_ip_where,\n",
    "                                                       start = ip_q_times.start,\n",
    "                                                       end = ip_q_times.end)\n",
    "\n",
    "%kql -query az_net_query_by_pub_ip\n",
    "az_net_ext_comms_df = _kql_raw_result_.to_dataframe()\n",
    "az_net_ext_comms_df.groupby(['VMName', 'L7Protocol'])['AllowedOutFlows','AllowedInFlows','DeniedInFlows','DeniedOutFlows'].sum()"
   ]
  },
  {
   "cell_type": "code",
   "execution_count": null,
   "metadata": {},
   "outputs": [],
   "source": [
    "sns.set()\n",
    "from matplotlib import MatplotlibDeprecationWarning\n",
    "warnings.simplefilter(\"ignore\", category=MatplotlibDeprecationWarning)\n",
    "\n",
    "\n",
    "ip_graph = nx.DiGraph(id='IPGraph')\n",
    "_, ip_entities = iplocation.lookup_ip(ip_address=target_ip)\n",
    "if ip_entities:\n",
    "    ip_entity = ip_entities[0]\n",
    "    ip_desc = f'{target_ip}\\n{ip_entity.Location.City}, {ip_entity.Location.CountryName}'\n",
    "else:\n",
    "    ip_desc = 'unknown location'\n",
    "ip_graph.add_node(target_ip, name=target_ip, description=ip_desc, node_type='ip')\n",
    "\n",
    "def add_vm_node(graph, source, row):\n",
    "    vm_desc = f'{row.VMName}\\n{row.ResourceGroup}, {row.VMRegion}'\n",
    "    ip_graph.add_node(row.VMName, name=row.VMName, description=vm_desc,\n",
    "                      node_type='host')\n",
    "    if row.FlowDirection == 'I':\n",
    "        ip_graph.add_edge(target_ip, row.VMName)\n",
    "    else:\n",
    "        ip_graph.add_edge(row.VMName, target_ip)\n",
    "#     print('Adding ', target_ip, row['VMName'])\n",
    "    \n",
    "# Cycle through entities\n",
    "az_net_ext_comms_df.apply(lambda x: add_vm_node(ip_graph, target_ip, x),axis=1)\n",
    "\n",
    "src_node = [n for (n, node_type) in\n",
    "            nx.get_node_attributes(ip_graph, 'node_type').items()\n",
    "            if node_type == 'ip']\n",
    "vm_nodes = [n for (n, node_type) in\n",
    "            nx.get_node_attributes(ip_graph, 'node_type').items()\n",
    "            if node_type == 'host']\n",
    "\n",
    "# now draw them in subsets  using the `nodelist` arg\n",
    "plt.rcParams['figure.figsize'] = (10, 10)\n",
    "plt.margins(x=0.3, y=0.3)\n",
    "plt.title('Internal hosts ')\n",
    "pos = nx.circular_layout(ip_graph)\n",
    "nx.draw_networkx_nodes(ip_graph, pos, nodelist=src_node,\n",
    "                       node_color='red', alpha=0.5, node_shape='o')\n",
    "nx.draw_networkx_nodes(ip_graph, pos, nodelist=vm_nodes,\n",
    "                       node_color='green', alpha=0.5, node_shape='s',\n",
    "                       s=400)\n",
    "nlabels = nx.get_node_attributes(ip_graph, 'description')\n",
    "nx.relabel_nodes(ip_graph, nlabels)\n",
    "nx.draw_networkx_labels(ip_graph, pos, nlabels, font_size=15)\n",
    "nx.draw_networkx_edges(ip_graph, pos, alpha=0.5, arrows=True, arrowsize=20);\n"
   ]
  },
  {
   "cell_type": "code",
   "execution_count": null,
   "metadata": {},
   "outputs": [],
   "source": [
    "# reverse DNS lookup\n",
    "from dns import reversename, resolver\n",
    "rev_name = reversename.from_address(src_ip_entity.Address)\n",
    "\n",
    "print(rev_name)\n",
    "try:\n",
    "    rev_dns = str(resolver.query(rev_name, 'PTR'))\n",
    "    rev_dns\n",
    "except:\n",
    "    print('no reverse addr result')\n",
    "\n",
    "from ipwhois import IPWhois\n",
    "whois = IPWhois(src_ip_entity.Address)\n",
    "\n",
    "whois_result = whois.lookup_whois()\n",
    "whois_result\n"
   ]
  },
  {
   "cell_type": "markdown",
   "metadata": {},
   "source": [
    "<a id='threatintel'></a>[Contents](#toc)\n",
    "# Threat Intel Lookups"
   ]
  },
  {
   "cell_type": "code",
   "execution_count": null,
   "metadata": {},
   "outputs": [],
   "source": [
    "threat_intel_qry = '''\n",
    "'''"
   ]
  },
  {
   "cell_type": "markdown",
   "metadata": {
    "hidden": true
   },
   "source": [
    "<a id='virustotallookup'></a>[Contents](#toc)\n",
    "## Virus Total Lookup"
   ]
  },
  {
   "cell_type": "code",
   "execution_count": null,
   "metadata": {},
   "outputs": [],
   "source": [
    "vt_key = asi.GetEnvironmentKey(env_var='VT_API_KEY',\n",
    "                           help_str='To obtain an API key sign up here https://www.virustotal.com/',\n",
    "                           prompt='Virus Total API key:')\n",
    "vt_key.display()"
   ]
  },
  {
   "cell_type": "code",
   "execution_count": null,
   "metadata": {
    "scrolled": false
   },
   "outputs": [],
   "source": [
    "if vt_key.value:\n",
    "    vt_lookup = sectools.VTLookup(vt_key.value, verbosity=2)\n",
    "\n",
    "    print(f'{len(ioc_df)} items in input frame')\n",
    "    supported_counts = {}\n",
    "    for ioc_type in vt_lookup.supported_ioc_types:\n",
    "        supported_counts[ioc_type] = len(ioc_df[ioc_df['IoCType'] == ioc_type])\n",
    "    print('Items in each category to be submitted to VirusTotal')\n",
    "    print('(Note: items have pre-filtering to remove obvious erroneous '\n",
    "          'data and false positives, such as private IPaddresses)')\n",
    "    print(supported_counts)\n",
    "    print('-' * 80)\n",
    "    vt_results = vt_lookup.lookup_iocs(data=ioc_df, type_col='IoCType', src_col='Observable')\n",
    "    display(vt_results)"
   ]
  },
  {
   "cell_type": "markdown",
   "metadata": {
    "tags": [
     "todo"
    ]
   },
   "source": [
    "<a id='related_alerts'></a>[Contents](#toc)\n",
    "# Related Alerts\n",
    "For a subset of entities in the alert we can search for any alerts that have that entity in common. Currently this query looks for alerts that share the same Host, Account or Process and lists them below. \n",
    "**Notes:**\n",
    "- Some alert types do not include all of these entity types.\n",
    "- The original alert will be included in the \"Related Alerts\" set if it occurs within the query time boundary set below.\n",
    "\n",
    "The query time boundaries default to a longer period than when searching for the alert. You can extend the time boundary searched before or after the alert time. If the widget doesn't support the time boundary that you want you can change the max_before and max_after parameters in the call to QueryTime below to extend the possible time boundaries."
   ]
  },
  {
   "cell_type": "code",
   "execution_count": null,
   "metadata": {},
   "outputs": [],
   "source": [
    "# set the origin time to the time of our alert\n",
    "query_times = asi.QueryTime(units='day', origin_time=security_alert.TimeGenerated, \n",
    "                            max_before=28, max_after=1, before=5)\n",
    "query_times.display()"
   ]
  },
  {
   "cell_type": "code",
   "execution_count": null,
   "metadata": {
    "scrolled": false
   },
   "outputs": [],
   "source": [
    "related_alerts = qry.list_related_alerts(provs=[query_times, security_alert])\n",
    "\n",
    "host_alert_items = related_alerts\\\n",
    "    .query('host_match == @True')[['AlertType', 'StartTimeUtc']]\\\n",
    "    .groupby('AlertType').StartTimeUtc.agg('count').to_dict()\n",
    "acct_alert_items = related_alerts\\\n",
    "    .query('acct_match == @True')[['AlertType', 'StartTimeUtc']]\\\n",
    "    .groupby('AlertType').StartTimeUtc.agg('count').to_dict()\n",
    "proc_alert_items = related_alerts\\\n",
    "    .query('proc_match == @True')[['AlertType', 'StartTimeUtc']]\\\n",
    "    .groupby('AlertType').StartTimeUtc.agg('count').to_dict()\n",
    "\n",
    "def print_related_alerts(alertDict, entityType, entityName):\n",
    "    if len(alertDict) > 0:\n",
    "        print('Found {} different alert types related to this {} (\\'{}\\')'.format(len(alertDict), entityType, entityName))\n",
    "        for (k,v) in alertDict.items():\n",
    "            print('    {}, Count of alerts: {}'.format(k, v))\n",
    "    else:\n",
    "        print('No alerts for {} entity \\'{}\\''.format(entityType, entityName))\n",
    "        \n",
    "print_related_alerts(host_alert_items, 'host', security_alert.hostname)\n",
    "print_related_alerts(acct_alert_items, 'account', \n",
    "                     security_alert.primary_account.qualified_name if security_alert.primary_account\n",
    "                     else None)\n",
    "print_related_alerts(proc_alert_items, 'process', \n",
    "                     security_alert.primary_process.ProcessFilePath if security_alert.primary_process\n",
    "                     else None)"
   ]
  },
  {
   "cell_type": "markdown",
   "metadata": {},
   "source": [
    "### Show these related alerts on a graph\n",
    "This should indicate which entities the other alerts are related to.\n",
    "\n",
    "This can be unreadable with a lot of alerts. Use the matplotlib interactive zoom control to zoom in to part of the graph."
   ]
  },
  {
   "cell_type": "code",
   "execution_count": null,
   "metadata": {
    "scrolled": false
   },
   "outputs": [],
   "source": [
    "# Draw a graph of this (add to entity graph)\n",
    "%matplotlib notebook\n",
    "%matplotlib notebook\n",
    "alertentity_graph = asi.create_alert_graph(security_alert)\n",
    "rel_alert_graph = asi.add_related_alerts(related_alerts=related_alerts,\n",
    "                                         alertgraph=alertentity_graph)\n",
    "asidisp.draw_alert_entity_graph(rel_alert_graph, width=15)"
   ]
  },
  {
   "cell_type": "markdown",
   "metadata": {},
   "source": [
    "### Browse List of Related Alerts\n",
    "Select an Alert to view details. \n",
    "\n",
    "If you want to investigate that alert - copy its *SystemAlertId* property and open a new instance of this notebook to investigate this alert."
   ]
  },
  {
   "cell_type": "code",
   "execution_count": null,
   "metadata": {
    "scrolled": false
   },
   "outputs": [],
   "source": [
    "related_alerts['CompromisedEntity'] = related_alerts['Computer']\n",
    "\n",
    "def disp_full_alert(alert):\n",
    "    global related_alert\n",
    "    related_alert = asi.SecurityAlert(alert)\n",
    "    asidisp.display_alert(related_alert, show_entities=True)\n",
    "\n",
    "print('Selected alert is available as \\'related_alert\\' variable.')\n",
    "rel_alert_select = asi.AlertSelector(alerts=related_alerts, action=disp_full_alert)\n",
    "rel_alert_select.display()\n"
   ]
  },
  {
   "cell_type": "markdown",
   "metadata": {
    "hidden": true
   },
   "source": [
    "<a id='appendices'></a>[Contents](#toc)\n",
    "# Appendices"
   ]
  },
  {
   "cell_type": "markdown",
   "metadata": {},
   "source": [
    "## Available DataFrames"
   ]
  },
  {
   "cell_type": "code",
   "execution_count": null,
   "metadata": {
    "scrolled": true
   },
   "outputs": [],
   "source": [
    "print('List of current DataFrames in Notebook')\n",
    "print('-' * 50)\n",
    "current_vars = list(locals().keys())\n",
    "for var_name in current_vars:\n",
    "    if isinstance(locals()[var_name], pd.DataFrame) and not var_name.startswith('_'):\n",
    "        print(var_name)"
   ]
  },
  {
   "cell_type": "markdown",
   "metadata": {
    "heading_collapsed": true,
    "tags": [
     "todo"
    ]
   },
   "source": [
    "## Saving Data to Excel\n",
    "To save the contents of a pandas DataFrame to an Excel spreadsheet\n",
    "use the following syntax\n",
    "```\n",
    "writer = pd.ExcelWriter('myWorksheet.xlsx')\n",
    "my_data_frame.to_excel(writer,'Sheet1')\n",
    "writer.save()\n",
    "```"
   ]
  }
 ],
 "metadata": {
  "celltoolbar": "Tags",
  "hide_input": false,
  "kernelspec": {
   "display_name": "Python 3",
   "language": "python",
   "name": "python3"
  },
  "language_info": {
   "codemirror_mode": {
    "name": "ipython",
    "version": 3
   },
   "file_extension": ".py",
   "mimetype": "text/x-python",
   "name": "python",
   "nbconvert_exporter": "python",
   "pygments_lexer": "ipython3",
   "version": "3.6.5"
  },
  "toc": {
   "base_numbering": 1,
   "nav_menu": {
    "height": "318.996px",
    "width": "320.994px"
   },
   "number_sections": true,
   "sideBar": true,
   "skip_h1_title": false,
   "title_cell": "Table of Contents",
   "title_sidebar": "Contents",
   "toc_cell": false,
   "toc_position": {
    "height": "calc(100% - 180px)",
    "left": "10px",
    "top": "150px",
    "width": "165px"
   },
   "toc_section_display": true,
   "toc_window_display": true
  },
  "varInspector": {
   "cols": {
    "lenName": 16,
    "lenType": 16,
    "lenVar": 40
   },
   "kernels_config": {
    "python": {
     "delete_cmd_postfix": "",
     "delete_cmd_prefix": "del ",
     "library": "var_list.py",
     "varRefreshCmd": "print(var_dic_list())"
    },
    "r": {
     "delete_cmd_postfix": ") ",
     "delete_cmd_prefix": "rm(",
     "library": "var_list.r",
     "varRefreshCmd": "cat(var_dic_list()) "
    }
   },
   "position": {
    "height": "406.193px",
    "left": "1468.4px",
    "right": "20px",
    "top": "120px",
    "width": "456.572px"
   },
   "types_to_exclude": [
    "module",
    "function",
    "builtin_function_or_method",
    "instance",
    "_Feature"
   ],
   "window_display": false
  }
 },
 "nbformat": 4,
 "nbformat_minor": 2
}
