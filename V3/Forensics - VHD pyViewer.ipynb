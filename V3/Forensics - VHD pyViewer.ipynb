{
  "cells": [
    {
      "metadata": {
        "trusted": true
      },
      "cell_type": "markdown",
      "source": "# Forensics - VHD pyViewer\n\n__Notebook Version:__ 1.0<br>\n__Python Version:__ Python 3.6 (including Python 3.6 - AzureML)<br>\n__Required Packages:__<br>\n__OS Supported:__<br>\n    -  Linux\n__Platforms Supported:__<br>\n    -  Azure Notebooks DSVM\n__Data Source Required:__<br>\n    -  no\n    \n### Description\nThe notebook provides sample code to analyze file system on newly created DSVM using Azure Forensics libraries.\n\n<font color=red>When you switch between Azure Notebooks Free Compute and Data Science Virtual Machine (DSVM), you may need to select Python version: please select Python 3.6 for Free Compute, and Python 3.6 - AzureML for DSVM.</font>"
    },
    {
      "metadata": {},
      "cell_type": "markdown",
      "source": "## Table of Contents\n\n1. Load .NET libraries \n2. Explore VHD \n3. File Management"
    },
    {
      "metadata": {},
      "cell_type": "markdown",
      "source": "## 1. Load .NET libraries"
    },
    {
      "metadata": {
        "trusted": true
      },
      "cell_type": "code",
      "source": "import clr\nclr.AddReference(\"System\")\nclr.AddReference(\"System.Collections\")\nclr.AddReference(\"System.Runtime\")\nclr.AddReference(\"Microsoft.Azure.Storage.Common\")\nclr.AddReference(\"Microsoft.Azure.Storage.Blob\")\nclr.AddReference(\"Microsoft.Azure.KeyVault.Core\")\nclr.AddReference(\"Newtonsoft.Json\")\nclr.AddReference(\"Microsoft.Azure.CIS.DiskLib\")\nclr.AddReference(\"Microsoft.Azure.CIS.DiskLib.Ntfs\")\nclr.AddReference(\"Microsoft.Azure.CIS.DiskLib.Vhd\")\nclr.AddReference(\"Microsoft.Azure.CIS.DiskLib.Vhd.Accessors\")\nclr.AddReference(\"PyHelper\")\n\nimport sys\nimport clr\nimport os\nimport ipywidgets as widgets\nimport System\nfrom System import *\nfrom System.Collections.Generic import *\nfrom Newtonsoft.Json import *\nfrom Microsoft.Azure.CIS.DiskLib import *\nfrom Microsoft.Azure.CIS.DiskLib.Ntfs import *\nfrom Microsoft.Azure.CIS.DiskLib.Vhd import *\nfrom Microsoft.Azure.CIS.DiskLib.Vhd.Accessors import *\nfrom MftExportUtilityLib import *",
      "execution_count": null,
      "outputs": []
    },
    {
      "metadata": {
        "trusted": true
      },
      "cell_type": "code",
      "source": "class MftHelper(object):\n    p1 = 'Partition1'\n    p2 = 'Partition2'\n    p3 = 'Partition3'\n    p4 = 'Partition4'\n    \n    def __init__(self, segment_start, sas_url, partition = None):\n        self.uri = Uri(sas_url)\n        r = Reader(PageBlobReader.Create(self.uri))\n        self.mbr = r.GetMasterBootRecord()\n        self.root = None\n        self.segment = segment_start\n        if partition is not None:\n            if partition == self.p1:\n                part = self.mbr.Partition1\n            elif partition == self.p2:\n                part = self.mbr.Partition2\n            elif partition == self.p3:\n                part = self.mbr.Partition3\n            elif partition == self.p4:\n                part = self.mbr.Partition4            \n            self.scan_partition(part)\n\n    def get_partitions(self):\n        return [{self.p1 : hex(self.mbr.Partition1.PartitionType)},\n                {self.p2 : hex(self.mbr.Partition2.PartitionType)},\n                {self.p3 : hex(self.mbr.Partition3.PartitionType)},\n                {self.p4 : hex(self.mbr.Partition4.PartitionType)}]\n     \n    def scan_partition(self, partition):\n        ntfs_accessor = PageBlobReader.Create(self.uri, partition.LBAFirstSector *512)\n        self.ntfs = NtfsData(ntfs_accessor)\n        \n        i = 0\n        for mft_entry in self.ntfs.Mft:\n            if i < int(self.segment,16): \n                i += 1\n                continue\n            self.root = mft_entry\n            break\n\nclass FileHelper(object):\n    def download_file(file_segment, ntfs):\n        return MftExportUtil.DownloadFile(ntfs, int(file_segment, 16))[0]\n    \n    def display_file(file_path):\n        with open(file_path, 'r', encoding=\"utf8\", errors='ignore') as f:\n            contents = f.read()\n            print(contents)\n\n            \nclass MftViewer(object):\n    def __init__(self, mft_helper):\n        self.root = mft_helper.root\n        \n    def display(self):\n        box_folders = widgets.VBox()\n        box_files = widgets.VBox()\n        box_commander = widgets.HBox()\n        self.update(box_commander, box_folders, box_files)\n        return box_commander\n    \n    def update(self, box_commander, box_folders, box_files):\n        self.load_box(box_folders, 1)\n        self.load_box(box_files, 0)\n        box_commander.children = [box_folders, box_files]\n        \n    def load_box(self, box, mode):\n    #    buttons = []\n        dataTable = []\n        \n        for node in self.root.Children:\n            if mode == 0:\n                if node.IsDirectory: continue\n            else:\n                if not node.IsDirectory: continue\n            if node.FileNameData.Flags == 2: continue\n            \n      #      caption = node.Name\n      #      button = widgets.Button(description=caption, background_color='#d0d0ff')\n      #      buttons.append(button)\n            dataTable.append([node.Name, hex(node.IndexEntry.FileReference.SegmentNumberLowPart), hex(node.IndexEntry.FileReference.SegmentNumberHighPart), hex(node.IndexEntry.FileReference.SequenceNumber)])\n\n        import pandas as pd\n        df = pd.DataFrame(dataTable, columns=[\"Name\", \"SegmentLow\", \"SegmentHigh\", \"SeqNum\"])\n        \n        style = '''<style> .df th { text-align:center; font-size:large; padding-left:10px; padding-right:10px}  tbody tr:nth-child(even) { background-color: #f2f2f2; } td { padding-left: 10px; padding-right: 5px; }</style>'''\n        box.children = tuple([widgets.HTML(style + df.to_html(classes=\"df\"))])",
      "execution_count": null,
      "outputs": []
    },
    {
      "metadata": {},
      "cell_type": "markdown",
      "source": "## 2. Explorer VHD"
    },
    {
      "metadata": {},
      "cell_type": "markdown",
      "source": "1. Input SAS URL and Select Partition"
    },
    {
      "metadata": {
        "trusted": true
      },
      "cell_type": "code",
      "source": "root_segment_low = \"0x5\"\nsas_url = input('SAS Url:')",
      "execution_count": null,
      "outputs": []
    },
    {
      "metadata": {
        "trusted": true
      },
      "cell_type": "code",
      "source": "# select an partition to continue\nimport ipywidgets as widgets\nfrom IPython.display import display\nmft_helper = MftHelper(\"0x5\", sas_url)\npartitions = mft_helper.get_partitions()\nselected_partition = widgets.Dropdown(options=partitions, value=partitions[0],description='Partition:')\ndisplay(selected_partition)",
      "execution_count": null,
      "outputs": []
    },
    {
      "metadata": {},
      "cell_type": "markdown",
      "source": "2. Display Root Level Folders and Files"
    },
    {
      "metadata": {
        "trusted": true
      },
      "cell_type": "code",
      "source": "# Display First level directories\n#sas_url = input('SAS Url:')\nmft_helper = MftHelper(root_segment_low, sas_url, next(iter(selected_partition.value.keys())))\nMftViewer(mft_helper).display()",
      "execution_count": null,
      "outputs": []
    },
    {
      "metadata": {},
      "cell_type": "markdown",
      "source": "3. Randomly Access Directory and File"
    },
    {
      "metadata": {
        "trusted": true
      },
      "cell_type": "code",
      "source": "# Random access to Directory / File, just replace the first parameter with selected SegmentLow\nmft_helper = MftHelper(\"0xd33\", sas_url, next(iter(selected_partition.value.keys())))\nMftViewer(mft_helper).display()",
      "execution_count": null,
      "outputs": []
    },
    {
      "metadata": {},
      "cell_type": "markdown",
      "source": "## 3. File Management"
    },
    {
      "metadata": {
        "trusted": true
      },
      "cell_type": "code",
      "source": "# File download \n# SYSTEM\n#downloaded_file = FileHelper.download_file(\"0x17609\", mft_helper.ntfs)\n# SOFTWARE\ndownloaded_file = FileHelper.download_file(\"0x17609\", mft_helper.ntfs)",
      "execution_count": null,
      "outputs": []
    },
    {
      "metadata": {
        "trusted": true
      },
      "cell_type": "code",
      "source": "FileHelper.display_file(downloaded_file)",
      "execution_count": null,
      "outputs": []
    },
    {
      "metadata": {
        "trusted": true
      },
      "cell_type": "code",
      "source": "",
      "execution_count": null,
      "outputs": []
    }
  ],
  "metadata": {
    "kernelspec": {
      "name": "python3-azureml",
      "display_name": "Python 3.6 - AzureML",
      "language": "python"
    },
    "language_info": {
      "version": "3.6.8",
      "nbconvert_exporter": "python",
      "name": "python",
      "codemirror_mode": {
        "version": 3,
        "name": "ipython"
      },
      "pygments_lexer": "ipython3",
      "mimetype": "text/x-python",
      "file_extension": ".py"
    },
    "celltoolbar": "Tags"
  },
  "nbformat": 4,
  "nbformat_minor": 1
}