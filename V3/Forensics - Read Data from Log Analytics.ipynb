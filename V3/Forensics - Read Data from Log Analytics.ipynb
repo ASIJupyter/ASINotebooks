{
  "cells": [
    {
      "metadata": {
        "collapsed": true
      },
      "cell_type": "markdown",
      "source": "# Forensics - Read Data from Log Analytics\n\n__Notebook Version:__ 1.0<br>\n__Python Version:__ Python 3.6 (including Python 3.6 - AzureML)<br>\n__Required Packages:__ Kqlmagic 0.1.90<br>\n__Platforms Supported:__<br>\n    -  Azure Notebooks Free Compute\n    -  Azure Notebooks DSVM\n__Data Source Required:__<br>\n    -  Log Analytics - SecurityEvent\n    \n### Description\nThe notebook provides you basic knowledge to use load data from Azure Log Analytics.  We will show you how to get Bookmark and AzureNetworkAnalytics data.\n\n<font color=red>When you switch between Azure Notebooks Free Compute and Data Science Virtual Machine (DSVM), you may need to select Python version: please select Python 3.6 for Free Compute, and Python 3.6 - AzureML for DSVM.</font>"
    },
    {
      "metadata": {},
      "cell_type": "markdown",
      "source": "## Prerequisite check"
    },
    {
      "metadata": {
        "trusted": true
      },
      "cell_type": "code",
      "source": "# only run once, current version 0.1.2\n#!pip install --upgrade Sentinel-Utilities",
      "execution_count": null,
      "outputs": []
    },
    {
      "metadata": {
        "trusted": true
      },
      "cell_type": "code",
      "source": "import SentinelUtils\n# checking Python version\ncheck = SentinelUtils.version_management.ModuleVersionCheck()\npy_check = check.validate_python('3.6.0')\nif py_check.requirement_met == False:\n    print('Please select Python 3.6 or Python 3.6 - AzureML at the upper right corner')\nelse:\n    print('Please continue')",
      "execution_count": null,
      "outputs": []
    },
    {
      "metadata": {
        "trusted": true
      },
      "cell_type": "code",
      "source": "# checking required packages\nmods_check = check.validate_installed_modules(['Kqlmagic>=0.1.90'])\nfor mod_info in mods_check:\n    if mod_info.requirement_met == False:\n        print('Please install {} {} at the following cell.'.format(mod_info.name, mod_info.required_version))",
      "execution_count": null,
      "outputs": []
    },
    {
      "metadata": {
        "trusted": true
      },
      "cell_type": "code",
      "source": "# Please install required packages based on the check at last cellp\n#!pip install Kqlmagic --upgrade",
      "execution_count": null,
      "outputs": []
    },
    {
      "metadata": {},
      "cell_type": "markdown",
      "source": "## Table of Contents\n\n1. Retrieve Log Analytics information \n2. Log into Log Analytics\n3. Check Data Availability and Query Data\n4. Retrieve KQL from Azure Sentinel GitHub\n5. Get Azure Sentinel HuntingBookmarks"
    },
    {
      "metadata": {},
      "cell_type": "markdown",
      "source": "## 1. Retrieve Log Analytics Information"
    },
    {
      "metadata": {
        "trusted": true
      },
      "cell_type": "code",
      "source": "# Execute this cell will load parameters from saved %env\nimport os\n# Set to True if you prefer to reset the values\nreset_environment_valiables = False\nenv_dir = %env\n\nif reset_environment_valiables == False and 'TENANT_ID' in env_dir:\n    tenant_id = env_dir['TENANT_ID']\n    print('tenant_id=' + tenant_id)\nelse:\n    tenant_id = input('tenant_id:')\n    os.environ['TENANT_ID'] = tenant_id\n    \nif reset_environment_valiables == False and 'SUBSCRIPTION_ID' in env_dir:\n    subscription_id = env_dir['SUBSCRIPTION_ID']\n    print('subscription_id=' + subscription_id)\nelse:\n    subscription_id = input('subscription_id:')\n    os.environ['SUBSCRIPTION_ID'] = subscription_id\n    \nif reset_environment_valiables == False and 'RESOURCE_GROUP' in env_dir:\n    resource_group = env_dir['RESOURCE_GROUP']\n    print('resource_group=' + resource_group)\nelse:\n    resource_group = input('resource_group:')\n    os.environ['RESOURCE_GROUP'] = resource_group\n    \nif reset_environment_valiables == False and 'WORKSPACE_ID' in env_dir:\n    workspace_id = env_dir['WORKSPACE_ID']\n    print('workspace_id=' + workspace_id)\nelse:\n    workspace_id = input('workspace_id:')\n    os.environ['WORKSPACE_ID'] = workspace_id",
      "execution_count": null,
      "outputs": []
    },
    {
      "metadata": {},
      "cell_type": "markdown",
      "source": "## 2. Log into Log Analytics"
    },
    {
      "metadata": {
        "trusted": true
      },
      "cell_type": "code",
      "source": "# You must run this cell to log into Log Analytics to continue\n# Make sure you have 0.1.90 or above, if not, run Kqlmagic installation again\n%reload_ext Kqlmagic\n%kql loganalytics://code;workspace=workspace_id;tenant=tenant_id;alias=\"SentinelDB\"",
      "execution_count": null,
      "outputs": []
    },
    {
      "metadata": {},
      "cell_type": "markdown",
      "source": "## 3. Check Data Availability and Query Data"
    },
    {
      "metadata": {},
      "cell_type": "markdown",
      "source": "1. Tables with records"
    },
    {
      "metadata": {
        "trusted": true
      },
      "cell_type": "code",
      "source": "%kql search * | summarize count() by Type",
      "execution_count": null,
      "outputs": []
    },
    {
      "metadata": {},
      "cell_type": "markdown",
      "source": "2. Query Security Event"
    },
    {
      "metadata": {
        "trusted": true
      },
      "cell_type": "code",
      "source": "%kql SecurityEvent | take 5 | project Account, Computer\ndf = _kql_raw_result_.to_dataframe()\ndf",
      "execution_count": null,
      "outputs": []
    },
    {
      "metadata": {},
      "cell_type": "markdown",
      "source": "## 4. Retrieve KQL from Azure Sentinel GitHub"
    },
    {
      "metadata": {
        "trusted": true
      },
      "cell_type": "code",
      "source": "# Load query from GitHub\nimport requests\nimport json\nclass GitHubHelper(object):\n    def __init__(self):\n        github_url = \"https://raw.githubusercontent.com/Azure/Azure-Sentinel/master/Hunting%20Queries/DeployedQueries.json\"\n        response = requests.get(github_url)\n        response.encoding = response.apparent_encoding\n        self.queries = json.loads(response.text)\n    \n    def get_queries(self):\n        if self.queries != None:\n            try:\n                return [query['name'] for query in self.queries]\n            except Exception as e:\n                print(e)\n                return None\n\n    def get_query(self, query_name):\n        q = None\n        if self.queries != None:\n            try:\n                entry = [query for query in self.queries if query['name'] == query_name]\n                if entry is not None:\n                    q = entry[0]['query']\n            except Exception as e:\n                print(e)\n            finally:\n                return q",
      "execution_count": null,
      "outputs": []
    },
    {
      "metadata": {
        "trusted": true
      },
      "cell_type": "code",
      "source": "# select a query to continue\ngithub_help = GitHubHelper()\nquery_list = github_help.get_queries()\nimport ipywidgets as widgets\nfrom IPython.display import display\nselected_query = widgets.Dropdown(options=query_list, value=query_list[0],description='query list:')\ndisplay(selected_query)",
      "execution_count": null,
      "outputs": []
    },
    {
      "metadata": {
        "trusted": true
      },
      "cell_type": "code",
      "source": "# Run query\nquery_text = github_help.get_query(selected_query.value)\n%kql {query_text}",
      "execution_count": null,
      "outputs": []
    },
    {
      "metadata": {
        "trusted": true
      },
      "cell_type": "markdown",
      "source": "## 5. Get Azure Sentinel HuntingBookmarks"
    },
    {
      "metadata": {
        "trusted": true
      },
      "cell_type": "code",
      "source": "%kql HuntingBookmark | take 5 \ndf = _kql_raw_result_.to_dataframe()\ndisplay(df)",
      "execution_count": null,
      "outputs": []
    },
    {
      "metadata": {
        "trusted": true
      },
      "cell_type": "markdown",
      "source": "## 6. Set up Network Security Group and Get AzureNetworkAnalytics"
    },
    {
      "metadata": {},
      "cell_type": "markdown",
      "source": "1. How to set up NSG Flow Log <br>\na. When a VM was created, a network security group was created at the same time;<br>\nb. Clicking Networking, you can find vm-nsg link; <br>\nc. Click the link, looking for NSG flow log under Monitoring section at the left menu; <br>\nd. Clicking the link, select the nsg entry, turn on the status, and save the changes."
    },
    {
      "metadata": {
        "trusted": true
      },
      "cell_type": "code",
      "source": "%kql AzureNetworkAnalytics_CL | take  5\ndf = _kql_raw_result_.to_dataframe()\ndisplay(df)",
      "execution_count": null,
      "outputs": []
    },
    {
      "metadata": {
        "trusted": true
      },
      "cell_type": "code",
      "source": "",
      "execution_count": null,
      "outputs": []
    }
  ],
  "metadata": {
    "celltoolbar": "Tags",
    "hide_input": false,
    "kernelspec": {
      "name": "python3-azureml",
      "display_name": "Python 3.6 - AzureML",
      "language": "python"
    },
    "language_info": {
      "version": "3.6.8",
      "nbconvert_exporter": "python",
      "name": "python",
      "codemirror_mode": {
        "version": 3,
        "name": "ipython"
      },
      "pygments_lexer": "ipython3",
      "mimetype": "text/x-python",
      "file_extension": ".py"
    },
    "toc": {
      "base_numbering": 1,
      "nav_menu": {},
      "number_sections": false,
      "sideBar": true,
      "skip_h1_title": false,
      "title_cell": "Table of Contents",
      "title_sidebar": "Contents",
      "toc_cell": false,
      "toc_position": {},
      "toc_section_display": true,
      "toc_window_display": false
    }
  },
  "nbformat": 4,
  "nbformat_minor": 2
}