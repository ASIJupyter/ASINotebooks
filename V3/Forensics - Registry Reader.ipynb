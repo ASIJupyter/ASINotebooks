{
  "cells": [
    {
      "metadata": {},
      "cell_type": "markdown",
      "source": "# Forensics - Registry Reader\n\n__Notebook Version:__ 1.0<br>\n__Python Version:__ Python 3.6 (including Python 3.6 - AzureML)<br>\n__Required Packages:__<br>\n__OS Supported:__<br>\n    -  Linux\n__Platforms Supported:__<br>\n    -  Azure Notebooks DSVM\n__Data Source Required:__<br>\n    -  no\n    \n### Description\nThe notebook provides sample code to parse registry using regipy on https://github.com/chapinb/pythonforensics.\n\n<font color=red>When you switch between Azure Notebooks Free Compute and Data Science Virtual Machine (DSVM), you may need to select Python version: please select Python 3.6 for Free Compute, and Python 3.6 - AzureML for DSVM.</font>"
    },
    {
      "metadata": {},
      "cell_type": "markdown",
      "source": "## Prerequisite check"
    },
    {
      "metadata": {
        "trusted": true
      },
      "cell_type": "code",
      "source": "# Install only once for DSVM\n#!pip install python-registry",
      "execution_count": null,
      "outputs": []
    },
    {
      "metadata": {},
      "cell_type": "markdown",
      "source": "## Table of Contents\n\n1. Initialize a hive \n2. Walking down the hierarchy\n3. Display current key values\n4. Compare Current and LastKnownGood for a key"
    },
    {
      "metadata": {},
      "cell_type": "markdown",
      "source": "## 1. Initialize a hive"
    },
    {
      "metadata": {
        "trusted": true
      },
      "cell_type": "code",
      "source": "# user input i.e.: /home/[[user ID]]/notebooks/downloads/[[Hive]]\nhive_path = input('Hive Path:')",
      "execution_count": null,
      "outputs": []
    },
    {
      "metadata": {
        "trusted": true
      },
      "cell_type": "code",
      "source": "from Registry import Registry\nfrom Registry.RegistryParse import ParseException\nclass RegistryHelper(object):\n    def __init__(self, hive_path):\n        self.hive = Registry.Registry(hive_path)\n        self.root = self.hive.root()\n        self.parent_key = None\n        self.current_key = self.root\n        \n    def get_subkey_name(self, key, subkey_name):\n        if key is not None and key.subkeys_number() != 0: \n            return [x.name() for x in key.subkeys() if x.name() == subkey_name]\n        \n    def get_subkey_name_list(self, key):\n        if key is None:\n            return []\n        elif key is not None and key.subkeys_number() != 0: \n            return [k.name() for k in key.subkeys()]\n    \n    def get_key_by_name(self, parent_key, key_name):\n        if parent_key is None or (parent_key == self.root and key_name is None):\n            return self.root\n        else:\n            keys = [k for k in parent_key.subkeys() if k.name() == key_name]\n            if keys is not None and len(keys) > 0:\n                return next(iter(keys))\n            else:\n                return None\n    \n    def set_keys(self, current_key, selected_key_name):\n        self.parent_key = current_key\n        self.current_key = self.get_key_by_name(self.parent_key, selected_key_name)\n    \n    def display_key_properties(self, key):\n        if key.values_number() != 0:  \n            value_names = {x.name(): x.value() for x in key.values()}\n            print(\"{} - key values:\".format(key.path()))\n            for name, value in value_names.items():\n                print(\"\\t{}: {}\".format(name, value))\n        else:\n            print('No values')\n    \n    def get_current_key_valuetype_and_value(self, value_name):\n        val = self.current_key.value(value_name)\n        return val.value_type_str(), val.value()\n            \n    def compare_current_lastknowngood(self, path):\n        select = self.hive.open('Select')\n        current = self.hive.open(path.format(select.value(\"Current\").value())) \n        lastknown = self.hive.open(path.format(select.value(\"LastKnownGood\").value()))\n        \n        ccs_dict = dict()\n        lkg_dict = dict()\n        key_diff = dict()\n        val_diff = dict()\n        \n        # Collect data from current\n        for sub in current.subkeys():\n            ccs_l = list()\n            for val in sub.subkeys():\n                ccs_l.append(val.name())\n            ccs_dict[sub.name()] = ccs_l\n\n        # Collect data from LKG\n        for sub in lastknown.subkeys():\n            lkg_l = list()\n            for val in sub.subkeys():\n                lkg_l.append(val.name())\n            lkg_dict[sub.name()] = lkg_l\n        \n        # Perform comparison \n        for key in ccs_dict.keys():\n            if key not in lkg_dict.keys():\n                key_diff[key] = ccs_dict[key]\n        \n        return key_diff",
      "execution_count": null,
      "outputs": []
    },
    {
      "metadata": {
        "trusted": true
      },
      "cell_type": "code",
      "source": "# Initialize Helper class\nreg_helper = RegistryHelper(hive_path)",
      "execution_count": null,
      "outputs": []
    },
    {
      "metadata": {},
      "cell_type": "markdown",
      "source": "## 2. Walking down the hierarchy"
    },
    {
      "metadata": {
        "trusted": true,
        "scrolled": true
      },
      "cell_type": "code",
      "source": "# Select a subkey from root\nsubkey_list = reg_helper.get_subkey_name_list(reg_helper.current_key)\nimport ipywidgets as widgets\nfrom IPython.display import display\nif subkey_list is not None and len(subkey_list) > 0:\n    selected_subkey = widgets.Dropdown(options=subkey_list, value=subkey_list[0],description='subkey list:')\n    display(selected_subkey)\nelse:\n    display('No Data')",
      "execution_count": null,
      "outputs": []
    },
    {
      "metadata": {
        "trusted": true
      },
      "cell_type": "code",
      "source": "# reset parent key and current key\nreg_helper.set_keys(reg_helper.current_key, selected_subkey.value)\nif reg_helper.current_key is not None:\n    display('Walking path: {0}'.format(reg_helper.current_key.path()))",
      "execution_count": null,
      "outputs": []
    },
    {
      "metadata": {
        "trusted": true
      },
      "cell_type": "markdown",
      "source": "## 3. Display current key values"
    },
    {
      "metadata": {
        "trusted": true
      },
      "cell_type": "code",
      "source": "reg_helper.display_key_properties(reg_helper.current_key)",
      "execution_count": null,
      "outputs": []
    },
    {
      "metadata": {
        "trusted": true
      },
      "cell_type": "code",
      "source": "val_type, val = reg_helper.get_current_key_valuetype_and_value('AMLIGlobalHeapSize')\nprint(val_type)\nprint(val)",
      "execution_count": null,
      "outputs": []
    },
    {
      "metadata": {},
      "cell_type": "markdown",
      "source": "## 4. Compare Current and LastKnownGood for a key"
    },
    {
      "metadata": {
        "trusted": true
      },
      "cell_type": "code",
      "source": "diff = reg_helper.compare_current_lastknowngood(r'ControlSet{:03d}\\Control')",
      "execution_count": null,
      "outputs": []
    },
    {
      "metadata": {
        "trusted": true
      },
      "cell_type": "code",
      "source": "import pprint\nprint(\"======== Different ========\")\npprint.pprint(diff)",
      "execution_count": null,
      "outputs": []
    },
    {
      "metadata": {
        "trusted": true
      },
      "cell_type": "code",
      "source": "",
      "execution_count": null,
      "outputs": []
    }
  ],
  "metadata": {
    "kernelspec": {
      "name": "python3-azureml",
      "display_name": "Python 3.6 - AzureML",
      "language": "python"
    },
    "language_info": {
      "version": "3.6.8",
      "nbconvert_exporter": "python",
      "name": "python",
      "codemirror_mode": {
        "version": 3,
        "name": "ipython"
      },
      "pygments_lexer": "ipython3",
      "mimetype": "text/x-python",
      "file_extension": ".py"
    },
    "celltoolbar": "Tags"
  },
  "nbformat": 4,
  "nbformat_minor": 1
}